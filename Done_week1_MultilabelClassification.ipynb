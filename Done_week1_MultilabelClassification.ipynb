{
  "nbformat": 4,
  "nbformat_minor": 0,
  "metadata": {
    "kernelspec": {
      "name": "python3",
      "display_name": "Python 3"
    },
    "language_info": {
      "codemirror_mode": {
        "name": "ipython",
        "version": 3
      },
      "file_extension": ".py",
      "mimetype": "text/x-python",
      "name": "python",
      "nbconvert_exporter": "python",
      "pygments_lexer": "ipython3",
      "version": "3.4.3"
    },
    "colab": {
      "name": "week1-MultilabelClassification.ipynb",
      "provenance": [],
      "collapsed_sections": [
        "iAr6VD_deHhA",
        "FluaJ_5KeHhh",
        "F7f-t3OseHh2",
        "ZQG-ykXVeHiZ",
        "NlGq9Ey5eHi7",
        "v3yw8cHgeHjB"
      ],
      "include_colab_link": true
    },
    "accelerator": "GPU"
  },
  "cells": [
    {
      "cell_type": "markdown",
      "metadata": {
        "id": "view-in-github",
        "colab_type": "text"
      },
      "source": [
        "<a href=\"https://colab.research.google.com/github/nowshad7/natural-language-processing/blob/master/Done_week1_MultilabelClassification.ipynb\" target=\"_parent\"><img src=\"https://colab.research.google.com/assets/colab-badge.svg\" alt=\"Open In Colab\"/></a>"
      ]
    },
    {
      "cell_type": "markdown",
      "metadata": {
        "id": "oQqyFhhFeHfu",
        "colab_type": "text"
      },
      "source": [
        "# Predict tags on StackOverflow with linear models"
      ]
    },
    {
      "cell_type": "markdown",
      "metadata": {
        "id": "FmYL46d3eHfw",
        "colab_type": "text"
      },
      "source": [
        "In this assignment you will learn how to predict tags for posts from [StackOverflow](https://stackoverflow.com). To solve this task you will use multilabel classification approach.\n",
        "\n",
        "### Libraries\n",
        "\n",
        "In this task you will need the following libraries:\n",
        "- [Numpy](http://www.numpy.org) — a package for scientific computing.\n",
        "- [Pandas](https://pandas.pydata.org) — a library providing high-performance, easy-to-use data structures and data analysis tools for the Python\n",
        "- [scikit-learn](http://scikit-learn.org/stable/index.html) — a tool for data mining and data analysis.\n",
        "- [NLTK](http://www.nltk.org) — a platform to work with natural language."
      ]
    },
    {
      "cell_type": "markdown",
      "metadata": {
        "id": "LFCiw7MYeHfx",
        "colab_type": "text"
      },
      "source": [
        "### Data\n",
        "\n",
        "The following cell will download all data required for this assignment into the folder `week1/data`."
      ]
    },
    {
      "cell_type": "code",
      "metadata": {
        "id": "pXdHIcAwezDC",
        "colab_type": "code",
        "outputId": "7a51ef4e-ffa9-4659-df1a-16dbcecd59f6",
        "colab": {
          "base_uri": "https://localhost:8080/",
          "height": 204
        }
      },
      "source": [
        "! wget https://raw.githubusercontent.com/hse-aml/natural-language-processing/master/setup_google_colab.py -O setup_google_colab.py\n",
        "import setup_google_colab\n",
        "# please, uncomment the week you're working on\n",
        "setup_google_colab.setup_week1()  \n",
        "# setup_google_colab.setup_week2()\n",
        "# setup_google_colab.setup_week3()\n",
        "# setup_google_colab.setup_week4()\n",
        "# setup_google_colab.setup_project()\n",
        "# setup_google_colab.setup_honor()"
      ],
      "execution_count": 0,
      "outputs": [
        {
          "output_type": "stream",
          "text": [
            "--2020-03-31 19:09:27--  https://raw.githubusercontent.com/hse-aml/natural-language-processing/master/setup_google_colab.py\n",
            "Resolving raw.githubusercontent.com (raw.githubusercontent.com)... 151.101.0.133, 151.101.64.133, 151.101.128.133, ...\n",
            "Connecting to raw.githubusercontent.com (raw.githubusercontent.com)|151.101.0.133|:443... connected.\n",
            "HTTP request sent, awaiting response... 200 OK\n",
            "Length: 1991 (1.9K) [text/plain]\n",
            "Saving to: ‘setup_google_colab.py’\n",
            "\n",
            "\rsetup_google_colab.   0%[                    ]       0  --.-KB/s               \rsetup_google_colab. 100%[===================>]   1.94K  --.-KB/s    in 0s      \n",
            "\n",
            "2020-03-31 19:09:28 (21.0 MB/s) - ‘setup_google_colab.py’ saved [1991/1991]\n",
            "\n"
          ],
          "name": "stdout"
        }
      ]
    },
    {
      "cell_type": "code",
      "metadata": {
        "id": "4EHM3svceHfy",
        "colab_type": "code",
        "outputId": "4c84499f-6ea5-4ae7-b42c-661bc6b17c50",
        "colab": {
          "base_uri": "https://localhost:8080/",
          "height": 85
        }
      },
      "source": [
        "import sys\n",
        "sys.path.append(\"..\")\n",
        "from common.download_utils import download_week1_resources\n",
        "\n",
        "download_week1_resources()"
      ],
      "execution_count": 0,
      "outputs": [
        {
          "output_type": "stream",
          "text": [
            "File data/train.tsv is already downloaded.\n",
            "File data/validation.tsv is already downloaded.\n",
            "File data/test.tsv is already downloaded.\n",
            "File data/text_prepare_tests.tsv is already downloaded.\n"
          ],
          "name": "stdout"
        }
      ]
    },
    {
      "cell_type": "markdown",
      "metadata": {
        "id": "1L6tAiFaeHf3",
        "colab_type": "text"
      },
      "source": [
        "### Grading\n",
        "We will create a grader instance below and use it to collect your answers. Note that these outputs will be stored locally inside grader and will be uploaded to platform only after running submitting function in the last part of this assignment. If you want to make partial submission, you can run that cell any time you want."
      ]
    },
    {
      "cell_type": "code",
      "metadata": {
        "id": "DWqDut2FeHf4",
        "colab_type": "code",
        "colab": {}
      },
      "source": [
        "from grader import Grader"
      ],
      "execution_count": 0,
      "outputs": []
    },
    {
      "cell_type": "code",
      "metadata": {
        "id": "e5bLZlr5eHf8",
        "colab_type": "code",
        "colab": {}
      },
      "source": [
        "grader = Grader()"
      ],
      "execution_count": 0,
      "outputs": []
    },
    {
      "cell_type": "markdown",
      "metadata": {
        "id": "WJhRYYF9eHgA",
        "colab_type": "text"
      },
      "source": [
        "### Text preprocessing"
      ]
    },
    {
      "cell_type": "markdown",
      "metadata": {
        "id": "7bxIF7rBeHgB",
        "colab_type": "text"
      },
      "source": [
        "For this and most of the following assignments you will need to use a list of stop words. It can be downloaded from *nltk*:"
      ]
    },
    {
      "cell_type": "code",
      "metadata": {
        "id": "8EiPM9nDeHgB",
        "colab_type": "code",
        "outputId": "512ef250-5a2f-4fc2-fb4d-9420bffe9709",
        "colab": {
          "base_uri": "https://localhost:8080/",
          "height": 51
        }
      },
      "source": [
        "import nltk\n",
        "nltk.download('stopwords')\n",
        "from nltk.corpus import stopwords"
      ],
      "execution_count": 0,
      "outputs": [
        {
          "output_type": "stream",
          "text": [
            "[nltk_data] Downloading package stopwords to /root/nltk_data...\n",
            "[nltk_data]   Package stopwords is already up-to-date!\n"
          ],
          "name": "stderr"
        }
      ]
    },
    {
      "cell_type": "markdown",
      "metadata": {
        "id": "9cFPqzJEeHgG",
        "colab_type": "text"
      },
      "source": [
        "In this task you will deal with a dataset of post titles from StackOverflow. You are provided a split to 3 sets: *train*, *validation* and *test*. All corpora (except for *test*) contain titles of the posts and corresponding tags (100 tags are available). The *test* set is provided for Coursera's grading and doesn't contain answers. Upload the corpora using *pandas* and look at the data:"
      ]
    },
    {
      "cell_type": "code",
      "metadata": {
        "id": "YGB-0HuIeHgH",
        "colab_type": "code",
        "colab": {}
      },
      "source": [
        "from ast import literal_eval\n",
        "import pandas as pd\n",
        "import numpy as np"
      ],
      "execution_count": 0,
      "outputs": []
    },
    {
      "cell_type": "code",
      "metadata": {
        "id": "NWzikamkeHgN",
        "colab_type": "code",
        "colab": {}
      },
      "source": [
        "def read_data(filename):\n",
        "    data = pd.read_csv(filename, sep='\\t')\n",
        "    data['tags'] = data['tags'].apply(literal_eval)\n",
        "    return data"
      ],
      "execution_count": 0,
      "outputs": []
    },
    {
      "cell_type": "code",
      "metadata": {
        "id": "raFDyNoSeHgS",
        "colab_type": "code",
        "colab": {}
      },
      "source": [
        "train = read_data('data/train.tsv')\n",
        "validation = read_data('data/validation.tsv')\n",
        "test = pd.read_csv('data/test.tsv', sep='\\t')"
      ],
      "execution_count": 0,
      "outputs": []
    },
    {
      "cell_type": "code",
      "metadata": {
        "id": "Lp5eA-i0eHgV",
        "colab_type": "code",
        "outputId": "7a56508f-2a2b-4662-ada0-f019d7665e00",
        "colab": {
          "base_uri": "https://localhost:8080/",
          "height": 204
        }
      },
      "source": [
        "train.head()"
      ],
      "execution_count": 0,
      "outputs": [
        {
          "output_type": "execute_result",
          "data": {
            "text/html": [
              "<div>\n",
              "<style scoped>\n",
              "    .dataframe tbody tr th:only-of-type {\n",
              "        vertical-align: middle;\n",
              "    }\n",
              "\n",
              "    .dataframe tbody tr th {\n",
              "        vertical-align: top;\n",
              "    }\n",
              "\n",
              "    .dataframe thead th {\n",
              "        text-align: right;\n",
              "    }\n",
              "</style>\n",
              "<table border=\"1\" class=\"dataframe\">\n",
              "  <thead>\n",
              "    <tr style=\"text-align: right;\">\n",
              "      <th></th>\n",
              "      <th>title</th>\n",
              "      <th>tags</th>\n",
              "    </tr>\n",
              "  </thead>\n",
              "  <tbody>\n",
              "    <tr>\n",
              "      <th>0</th>\n",
              "      <td>How to draw a stacked dotplot in R?</td>\n",
              "      <td>[r]</td>\n",
              "    </tr>\n",
              "    <tr>\n",
              "      <th>1</th>\n",
              "      <td>mysql select all records where a datetime fiel...</td>\n",
              "      <td>[php, mysql]</td>\n",
              "    </tr>\n",
              "    <tr>\n",
              "      <th>2</th>\n",
              "      <td>How to terminate windows phone 8.1 app</td>\n",
              "      <td>[c#]</td>\n",
              "    </tr>\n",
              "    <tr>\n",
              "      <th>3</th>\n",
              "      <td>get current time in a specific country via jquery</td>\n",
              "      <td>[javascript, jquery]</td>\n",
              "    </tr>\n",
              "    <tr>\n",
              "      <th>4</th>\n",
              "      <td>Configuring Tomcat to Use SSL</td>\n",
              "      <td>[java]</td>\n",
              "    </tr>\n",
              "  </tbody>\n",
              "</table>\n",
              "</div>"
            ],
            "text/plain": [
              "                                               title                  tags\n",
              "0                How to draw a stacked dotplot in R?                   [r]\n",
              "1  mysql select all records where a datetime fiel...          [php, mysql]\n",
              "2             How to terminate windows phone 8.1 app                  [c#]\n",
              "3  get current time in a specific country via jquery  [javascript, jquery]\n",
              "4                      Configuring Tomcat to Use SSL                [java]"
            ]
          },
          "metadata": {
            "tags": []
          },
          "execution_count": 149
        }
      ]
    },
    {
      "cell_type": "markdown",
      "metadata": {
        "id": "tvLbNdsueHgX",
        "colab_type": "text"
      },
      "source": [
        "As you can see, *title* column contains titles of the posts and *tags* column contains the tags. It could be noticed that a number of tags for a post is not fixed and could be as many as necessary."
      ]
    },
    {
      "cell_type": "markdown",
      "metadata": {
        "id": "yOOFN2bQeHgY",
        "colab_type": "text"
      },
      "source": [
        "For a more comfortable usage, initialize *X_train*, *X_val*, *X_test*, *y_train*, *y_val*."
      ]
    },
    {
      "cell_type": "code",
      "metadata": {
        "id": "k6X8UswbeHgY",
        "colab_type": "code",
        "colab": {}
      },
      "source": [
        "X_train, y_train = train['title'].values, train['tags'].values\n",
        "X_val, y_val = validation['title'].values, validation['tags'].values\n",
        "X_test = test['title'].values"
      ],
      "execution_count": 0,
      "outputs": []
    },
    {
      "cell_type": "markdown",
      "metadata": {
        "id": "fQI958YkeHgf",
        "colab_type": "text"
      },
      "source": [
        "One of the most known difficulties when working with natural data is that it's unstructured. For example, if you use it \"as is\" and extract tokens just by splitting the titles by whitespaces, you will see that there are many \"weird\" tokens like *3.5?*, *\"Flip*, etc. To prevent the problems, it's usually useful to prepare the data somehow. In this task you'll write a function, which will be also used in the other assignments. \n",
        "\n",
        "**Task 1 (TextPrepare).** Implement the function *text_prepare* following the instructions. After that, run the function *test_text_prepare* to test it on tiny cases and submit it to Coursera."
      ]
    },
    {
      "cell_type": "code",
      "metadata": {
        "id": "g8pagKm2eHgg",
        "colab_type": "code",
        "colab": {}
      },
      "source": [
        "import re"
      ],
      "execution_count": 0,
      "outputs": []
    },
    {
      "cell_type": "code",
      "metadata": {
        "id": "oeVYbeoKeHgk",
        "colab_type": "code",
        "colab": {}
      },
      "source": [
        "REPLACE_BY_SPACE_RE = re.compile('[/(){}\\[\\]\\|@,;]')\n",
        "BAD_SYMBOLS_RE = re.compile('[^0-9a-z #+_]')\n",
        "STOPWORDS = set(stopwords.words('english'))\n",
        "\n",
        "def text_prepare(text):\n",
        "    \"\"\"\n",
        "        text: a string\n",
        "        \n",
        "        return: modified initial string\n",
        "    \"\"\"\n",
        "    text = text.lower() # lowercase text\n",
        "    text = REPLACE_BY_SPACE_RE.sub(' ', text) # replace REPLACE_BY_SPACE_RE symbols by space in text\n",
        "    text = BAD_SYMBOLS_RE.sub('', text) # delete symbols which are in BAD_SYMBOLS_RE from text\n",
        "    text = ' '.join(word for word in text.split() if word not in STOPWORDS) # delete stopwords from text\n",
        "    return text"
      ],
      "execution_count": 0,
      "outputs": []
    },
    {
      "cell_type": "code",
      "metadata": {
        "id": "PmiuAloneHgo",
        "colab_type": "code",
        "colab": {}
      },
      "source": [
        "def test_text_prepare():\n",
        "    examples = [\"SQL Server - any equivalent of Excel's CHOOSE function?\",\n",
        "                \"How to free c++ memory vector<int> * arr?\"]\n",
        "    answers = [\"sql server equivalent excels choose function\", \n",
        "               \"free c++ memory vectorint arr\"]\n",
        "    for ex, ans in zip(examples, answers):\n",
        "        if text_prepare(ex) != ans:\n",
        "            return \"Wrong answer for the case: '%s'\" % ex\n",
        "    return 'Basic tests are passed.'"
      ],
      "execution_count": 0,
      "outputs": []
    },
    {
      "cell_type": "code",
      "metadata": {
        "id": "Wzlng4UmeHgr",
        "colab_type": "code",
        "outputId": "4eaf9b18-d369-4606-b548-6244d7cbe7df",
        "colab": {
          "base_uri": "https://localhost:8080/",
          "height": 34
        }
      },
      "source": [
        "print(test_text_prepare())"
      ],
      "execution_count": 0,
      "outputs": [
        {
          "output_type": "stream",
          "text": [
            "Basic tests are passed.\n"
          ],
          "name": "stdout"
        }
      ]
    },
    {
      "cell_type": "markdown",
      "metadata": {
        "id": "D4wuz2T5eHgu",
        "colab_type": "text"
      },
      "source": [
        "Run your implementation for questions from file *text_prepare_tests.tsv* to earn the points."
      ]
    },
    {
      "cell_type": "code",
      "metadata": {
        "id": "9frz_U2jeHgu",
        "colab_type": "code",
        "outputId": "7103bdb9-1ba9-48ce-cafb-4f3febe9a383",
        "colab": {
          "base_uri": "https://localhost:8080/",
          "height": 102
        }
      },
      "source": [
        "prepared_questions = []\n",
        "for line in open('data/text_prepare_tests.tsv', encoding='utf-8'):\n",
        "    line = text_prepare(line.strip())\n",
        "    prepared_questions.append(line)\n",
        "text_prepare_results = '\\n'.join(prepared_questions)\n",
        "\n",
        "grader.submit_tag('TextPrepare', text_prepare_results)"
      ],
      "execution_count": 0,
      "outputs": [
        {
          "output_type": "stream",
          "text": [
            "Current answer for task TextPrepare is:\n",
            " sqlite php readonly\n",
            "creating multiple textboxes dynamically\n",
            "self one prefer javascript\n",
            "save php date...\n"
          ],
          "name": "stdout"
        }
      ]
    },
    {
      "cell_type": "markdown",
      "metadata": {
        "id": "ZleVTjupeHgx",
        "colab_type": "text"
      },
      "source": [
        "Now we can preprocess the titles using function *text_prepare* and  making sure that the headers don't have bad symbols:"
      ]
    },
    {
      "cell_type": "code",
      "metadata": {
        "id": "CtqxQdZDeHgx",
        "colab_type": "code",
        "colab": {}
      },
      "source": [
        "X_train = [text_prepare(x) for x in X_train]\n",
        "X_val = [text_prepare(x) for x in X_val]\n",
        "X_test = [text_prepare(x) for x in X_test]"
      ],
      "execution_count": 0,
      "outputs": []
    },
    {
      "cell_type": "code",
      "metadata": {
        "id": "GC0Uvq2_eHg0",
        "colab_type": "code",
        "outputId": "6b61dd78-7d7d-4c30-e00e-a50c3f5dcab7",
        "colab": {
          "base_uri": "https://localhost:8080/",
          "height": 68
        }
      },
      "source": [
        "X_train[:3]"
      ],
      "execution_count": 0,
      "outputs": [
        {
          "output_type": "execute_result",
          "data": {
            "text/plain": [
              "['draw stacked dotplot r',\n",
              " 'mysql select records datetime field less specified value',\n",
              " 'terminate windows phone 81 app']"
            ]
          },
          "metadata": {
            "tags": []
          },
          "execution_count": 157
        }
      ]
    },
    {
      "cell_type": "markdown",
      "metadata": {
        "id": "5AGiJDzIeHg5",
        "colab_type": "text"
      },
      "source": [
        "For each tag and for each word calculate how many times they occur in the train corpus. \n",
        "\n",
        "**Task 2 (WordsTagsCount).** Find 3 most popular tags and 3 most popular words in the train data and submit the results to earn the points."
      ]
    },
    {
      "cell_type": "code",
      "metadata": {
        "id": "dykX6fi1eHg6",
        "colab_type": "code",
        "colab": {}
      },
      "source": [
        "# Dictionary of all tags from train corpus with their counts.\n",
        "tags_counts = {}\n",
        "# Dictionary of all words from train corpus with their counts.\n",
        "words_counts = {}\n",
        "\n",
        "######################################\n",
        "for tags in y_train:\n",
        "  for tag in tags:\n",
        "    if tag not in tags_counts.keys():\n",
        "      tags_counts[tag] = 1\n",
        "    else:\n",
        "      tags_counts[tag] += 1\n",
        "\n",
        "for title in X_train:\n",
        "  for word in title.split():\n",
        "    if word not in words_counts.keys():\n",
        "      words_counts[word] = 1\n",
        "    else:\n",
        "      words_counts[word] += 1\n",
        "\n",
        "######################################"
      ],
      "execution_count": 0,
      "outputs": []
    },
    {
      "cell_type": "markdown",
      "metadata": {
        "id": "TTTn6sMIeHg9",
        "colab_type": "text"
      },
      "source": [
        "We are assuming that *tags_counts* and *words_counts* are dictionaries like `{'some_word_or_tag': frequency}`. After applying the sorting procedure, results will be look like this: `[('most_popular_word_or_tag', frequency), ('less_popular_word_or_tag', frequency), ...]`. The grader gets the results in the following format (two comma-separated strings with line break):\n",
        "\n",
        "    tag1,tag2,tag3\n",
        "    word1,word2,word3\n",
        "\n",
        "Pay attention that in this assignment you should not submit frequencies or some additional information."
      ]
    },
    {
      "cell_type": "code",
      "metadata": {
        "id": "CQEtEGFseHg-",
        "colab_type": "code",
        "outputId": "d53ee58b-2c2a-4d72-8c9e-8e74df32ec48",
        "colab": {
          "base_uri": "https://localhost:8080/",
          "height": 68
        }
      },
      "source": [
        "most_common_tags = sorted(tags_counts.items(), key=lambda x: x[1], reverse=True)[:3]\n",
        "most_common_words = sorted(words_counts.items(), key=lambda x: x[1], reverse=True)[:3]\n",
        "\n",
        "grader.submit_tag('WordsTagsCount', '%s\\n%s' % (','.join(tag for tag, _ in most_common_tags), \n",
        "                                                ','.join(word for word, _ in most_common_words)))"
      ],
      "execution_count": 0,
      "outputs": [
        {
          "output_type": "stream",
          "text": [
            "Current answer for task WordsTagsCount is:\n",
            " javascript,c#,java\n",
            "using,php,java...\n"
          ],
          "name": "stdout"
        }
      ]
    },
    {
      "cell_type": "markdown",
      "metadata": {
        "id": "iAr6VD_deHhA",
        "colab_type": "text"
      },
      "source": [
        "### Transforming text to a vector\n",
        "\n",
        "Machine Learning algorithms work with numeric data and we cannot use the provided text data \"as is\". There are many ways to transform text data to numeric vectors. In this task you will try to use two of them.\n",
        "\n",
        "#### Bag of words\n",
        "\n",
        "One of the well-known approaches is a *bag-of-words* representation. To create this transformation, follow the steps:\n",
        "1. Find *N* most popular words in train corpus and numerate them. Now we have a dictionary of the most popular words.\n",
        "2. For each title in the corpora create a zero vector with the dimension equals to *N*.\n",
        "3. For each text in the corpora iterate over words which are in the dictionary and increase by 1 the corresponding coordinate.\n",
        "\n",
        "Let's try to do it for a toy example. Imagine that we have *N* = 4 and the list of the most popular words is \n",
        "\n",
        "    ['hi', 'you', 'me', 'are']\n",
        "\n",
        "Then we need to numerate them, for example, like this: \n",
        "\n",
        "    {'hi': 0, 'you': 1, 'me': 2, 'are': 3}\n",
        "\n",
        "And we have the text, which we want to transform to the vector:\n",
        "\n",
        "    'hi how are you'\n",
        "\n",
        "For this text we create a corresponding zero vector \n",
        "\n",
        "    [0, 0, 0, 0]\n",
        "    \n",
        "And iterate over all words, and if the word is in the dictionary, we increase the value of the corresponding position in the vector:\n",
        "\n",
        "    'hi':  [1, 0, 0, 0]\n",
        "    'how': [1, 0, 0, 0] # word 'how' is not in our dictionary\n",
        "    'are': [1, 0, 0, 1]\n",
        "    'you': [1, 1, 0, 1]\n",
        "\n",
        "The resulting vector will be \n",
        "\n",
        "    [1, 1, 0, 1]\n",
        "   \n",
        "Implement the described encoding in the function *my_bag_of_words* with the size of the dictionary equals to 5000. To find the most common words use train data. You can test your code using the function *test_my_bag_of_words*."
      ]
    },
    {
      "cell_type": "code",
      "metadata": {
        "id": "Oy6ZnJeoeHhB",
        "colab_type": "code",
        "colab": {}
      },
      "source": [
        "DICT_SIZE = 5000\n",
        "words = sorted(words_counts.items(), key=lambda x: x[1], reverse=True)[:DICT_SIZE]\n",
        "WORDS_TO_INDEX ={ words[i][0] : i for i in range(DICT_SIZE) }\n",
        "INDEX_TO_WORDS ={ i : words[i][0] for i in range(DICT_SIZE) }\n",
        "ALL_WORDS = WORDS_TO_INDEX.keys()\n",
        "\n",
        "def my_bag_of_words(text, words_to_index, dict_size):\n",
        "    \"\"\"\n",
        "        text: a string\n",
        "        dict_size: size of the dictionary\n",
        "        \n",
        "        return a vector which is a bag-of-words representation of 'text'\n",
        "    \"\"\"\n",
        "    result_vector = np.zeros(dict_size)\n",
        "    for word, index in words_to_index.items():\n",
        "      if word in text.split():\n",
        "        result_vector[index] = 1\n",
        "      else:\n",
        "        result_vector[index] = 0\n",
        "    return result_vector"
      ],
      "execution_count": 0,
      "outputs": []
    },
    {
      "cell_type": "code",
      "metadata": {
        "id": "XpPvANzaeHhG",
        "colab_type": "code",
        "colab": {}
      },
      "source": [
        "def test_my_bag_of_words():\n",
        "    words_to_index = {'hi': 0, 'you': 1, 'me': 2, 'are': 3}\n",
        "    examples = ['hi how are you']\n",
        "    answers = [[1, 1, 0, 1]]\n",
        "    for ex, ans in zip(examples, answers):\n",
        "        if (my_bag_of_words(ex, words_to_index, 4) != ans).any():\n",
        "            return \"Wrong answer for the case: '%s'\" % ex\n",
        "    return 'Basic tests are passed.'"
      ],
      "execution_count": 0,
      "outputs": []
    },
    {
      "cell_type": "code",
      "metadata": {
        "id": "CyprCNwyeHhO",
        "colab_type": "code",
        "outputId": "26525b64-214f-4e31-ebc0-69a072033f1a",
        "colab": {
          "base_uri": "https://localhost:8080/",
          "height": 34
        }
      },
      "source": [
        "print(test_my_bag_of_words())"
      ],
      "execution_count": 0,
      "outputs": [
        {
          "output_type": "stream",
          "text": [
            "Basic tests are passed.\n"
          ],
          "name": "stdout"
        }
      ]
    },
    {
      "cell_type": "markdown",
      "metadata": {
        "id": "eB_7KR7SeHhW",
        "colab_type": "text"
      },
      "source": [
        "Now apply the implemented function to all samples (this might take up to a minute):"
      ]
    },
    {
      "cell_type": "code",
      "metadata": {
        "id": "BKdMvA7SeHhX",
        "colab_type": "code",
        "colab": {}
      },
      "source": [
        "from scipy import sparse as sp_sparse"
      ],
      "execution_count": 0,
      "outputs": []
    },
    {
      "cell_type": "code",
      "metadata": {
        "id": "F4fB0MHOeHha",
        "colab_type": "code",
        "outputId": "dadbfa02-1095-436d-bb4e-ed7c950bf194",
        "colab": {
          "base_uri": "https://localhost:8080/",
          "height": 68
        }
      },
      "source": [
        "X_train_mybag = sp_sparse.vstack([sp_sparse.csr_matrix(my_bag_of_words(text, WORDS_TO_INDEX, DICT_SIZE)) for text in X_train])\n",
        "X_val_mybag = sp_sparse.vstack([sp_sparse.csr_matrix(my_bag_of_words(text, WORDS_TO_INDEX, DICT_SIZE)) for text in X_val])\n",
        "X_test_mybag = sp_sparse.vstack([sp_sparse.csr_matrix(my_bag_of_words(text, WORDS_TO_INDEX, DICT_SIZE)) for text in X_test])\n",
        "print('X_train shape ', X_train_mybag.shape)\n",
        "print('X_val shape ', X_val_mybag.shape)\n",
        "print('X_test shape ', X_test_mybag.shape)"
      ],
      "execution_count": 0,
      "outputs": [
        {
          "output_type": "stream",
          "text": [
            "X_train shape  (100000, 5000)\n",
            "X_val shape  (30000, 5000)\n",
            "X_test shape  (20000, 5000)\n"
          ],
          "name": "stdout"
        }
      ]
    },
    {
      "cell_type": "markdown",
      "metadata": {
        "id": "kYNIyn5FeHhd",
        "colab_type": "text"
      },
      "source": [
        "As you might notice, we transform the data to sparse representation, to store the useful information efficiently. There are many [types](https://docs.scipy.org/doc/scipy/reference/sparse.html) of such representations, however sklearn algorithms can work only with [csr](https://docs.scipy.org/doc/scipy/reference/generated/scipy.sparse.csr_matrix.html#scipy.sparse.csr_matrix) matrix, so we will use this one."
      ]
    },
    {
      "cell_type": "markdown",
      "metadata": {
        "id": "Gpz1vem0eHhd",
        "colab_type": "text"
      },
      "source": [
        "**Task 3 (BagOfWords).** For the 11th row in *X_train_mybag* find how many non-zero elements it has. In this task the answer (variable *non_zero_elements_count*) should be an integer number, e.g. 20."
      ]
    },
    {
      "cell_type": "code",
      "metadata": {
        "id": "LpbsqUtieHhe",
        "colab_type": "code",
        "outputId": "dfe0c596-32b2-422f-f899-00c0a97d5854",
        "colab": {
          "base_uri": "https://localhost:8080/",
          "height": 51
        }
      },
      "source": [
        "row = X_train_mybag[10].toarray()[0]\n",
        "non_zero_elements_count = np.count_nonzero(row)\n",
        "\n",
        "grader.submit_tag('BagOfWords', str(non_zero_elements_count))"
      ],
      "execution_count": 0,
      "outputs": [
        {
          "output_type": "stream",
          "text": [
            "Current answer for task BagOfWords is:\n",
            " 7...\n"
          ],
          "name": "stdout"
        }
      ]
    },
    {
      "cell_type": "markdown",
      "metadata": {
        "id": "FluaJ_5KeHhh",
        "colab_type": "text"
      },
      "source": [
        "#### TF-IDF\n",
        "\n",
        "The second approach extends the bag-of-words framework by taking into account total frequencies of words in the corpora. It helps to penalize too frequent words and provide better features space. \n",
        "\n",
        "Implement function *tfidf_features* using class [TfidfVectorizer](http://scikit-learn.org/stable/modules/generated/sklearn.feature_extraction.text.TfidfVectorizer.html) from *scikit-learn*. Use *train* corpus to train a vectorizer. Don't forget to take a look into the arguments that you can pass to it. We suggest that you filter out too rare words (occur less than in 5 titles) and too frequent words (occur more than in 90% of the titles). Also, use bigrams along with unigrams in your vocabulary. "
      ]
    },
    {
      "cell_type": "code",
      "metadata": {
        "id": "w6JiDAmdeHhi",
        "colab_type": "code",
        "colab": {}
      },
      "source": [
        "from sklearn.feature_extraction.text import TfidfVectorizer"
      ],
      "execution_count": 0,
      "outputs": []
    },
    {
      "cell_type": "code",
      "metadata": {
        "id": "Ro123ydpeHhl",
        "colab_type": "code",
        "colab": {}
      },
      "source": [
        "def tfidf_features(X_train, X_val, X_test):\n",
        "    \"\"\"\n",
        "        X_train, X_val, X_test — samples        \n",
        "        return TF-IDF vectorized representation of each sample and vocabulary\n",
        "    \"\"\"\n",
        "    # Create TF-IDF vectorizer with a proper parameters choice\n",
        "    # Fit the vectorizer on the train set\n",
        "    # Transform the train, test, and val sets and return the result\n",
        "    \n",
        "    tfidf_vectorizer = TfidfVectorizer(min_df=5, max_df=0.9, ngram_range=(1, 2), token_pattern= '(\\S+)')\n",
        "\n",
        "    X_train=tfidf_vectorizer.fit_transform(X_train)\n",
        "    X_val=tfidf_vectorizer.transform(X_val)\n",
        "    X_test=tfidf_vectorizer.transform(X_test)\n",
        "    \n",
        "    return X_train, X_val, X_test, tfidf_vectorizer.vocabulary_"
      ],
      "execution_count": 0,
      "outputs": []
    },
    {
      "cell_type": "markdown",
      "metadata": {
        "id": "9n-XmjyseHhp",
        "colab_type": "text"
      },
      "source": [
        "Once you have done text preprocessing, always have a look at the results. Be very careful at this step, because the performance of future models will drastically depend on it. \n",
        "\n",
        "In this case, check whether you have c++ or c# in your vocabulary, as they are obviously important tokens in our tags prediction task:"
      ]
    },
    {
      "cell_type": "code",
      "metadata": {
        "id": "aP5nAww_eHhq",
        "colab_type": "code",
        "colab": {}
      },
      "source": [
        "X_train_tfidf, X_val_tfidf, X_test_tfidf, tfidf_vocab = tfidf_features(X_train, X_val, X_test)\n",
        "tfidf_reversed_vocab = {i:word for word,i in tfidf_vocab.items()}"
      ],
      "execution_count": 0,
      "outputs": []
    },
    {
      "cell_type": "code",
      "metadata": {
        "id": "hTMLDDq1sOkZ",
        "colab_type": "code",
        "outputId": "f9d9497d-d2b9-463e-e6eb-e4722f0c20b7",
        "colab": {
          "base_uri": "https://localhost:8080/",
          "height": 54
        }
      },
      "source": [
        "print(tfidf_reversed_vocab.values())"
      ],
      "execution_count": 0,
      "outputs": [
        {
          "output_type": "stream",
          "text": [
            "dict_values(['draw', 'stacked', 'r', 'mysql', 'select', 'records', 'datetime', 'field', 'less', 'specified', 'value', 'mysql select', 'select records', 'datetime field', 'terminate', 'windows', 'phone', '81', 'app', 'windows phone', 'phone 81', '81 app', 'get', 'current', 'time', 'specific', 'country', 'via', 'jquery', 'get current', 'current time', 'time specific', 'via jquery', 'configuring', 'tomcat', 'use', 'ssl', 'awesome', 'nested', 'set', 'plugin', 'add', 'new', 'children', 'tree', 'various', 'levels', 'add new', 'create', 'map', 'json', 'response', 'ruby', 'rails', '3', 'json response', 'ruby rails', 'rails 3', 'rspec', 'test', 'method', 'called', 'rspec test', 'test method', 'method called', 'springboot', 'lifecycle', 'exception', 'import', 'data', 'excel', 'database', 'using', 'php', 'import data', 'data excel', 'mysql database', 'database using', 'using php', 'obtaining', 'object', 'parameterized', 'type', 'without', 'constructing', 'class', 'ipad', 'selecting', 'text', 'inside', 'input', 'tap', 'selecting text', 'text inside', 'text input', 'jquerys', 'function', 'function object', 'eclipse', 'c++', 'mingw', 'program', 'terminated', 'eclipse c++', 'javascript', 'call', 'one', 'prototype', 'another', 'javascript call', 'call one', 'prototype method', 'method another', 'intersection', 'list', 'sets', 'longer', 'able', 'hide', 'keyboard', 'ios7', 'fetch', 'key', 'swift', 'json swift', 'change', 'pivot', 'header', 'template', '8', 'phone 8', 'connectionstring', 'encryption', 'let', 'ui', 'refresh', 'long', 'running', 'operation', 'long running', 'better', 'way', 'execute', 'file', 'python', 'console', 'output', 'run', 'better way', 'ruby file', 'file using', 'using python', 'python get', 'console output', 'file run', 'run python', 'make', '2', 'thumbnails', 'codeigniter', 'java', 'character', 'vs', 'char', 'memory', 'usage', 'memory usage', 'bootstrap', 'modal', 'close', 'enter', 'press', 'bootstrap modal', 'enter key', 'key press', 'linq', 'query', 'group', 'retrieving', 'percentage', 'linq query', 'query group', 'label', 'issue', 'openerp', 'keep', 'objects', 'view', 'scaling', 'axis', 'attributeerror', 'nonetype', 'attribute', 'split', 'attributeerror nonetype', 'nonetype object', 'object attribute', 'append', 'mat', 'replace', 'onclick', 'jquery replace', 'redirect', 'programme', 'redirect output', 'accesscontrolalloworigin', 'present', 'requested', 'resource', 'error', 'accesscontrolalloworigin header', 'requested resource', 'creating', 'c#', 'cannot', 'implicitly', 'convert', 'string', 'creating json', 'windows 8', '8 c#', 'c# using', 'cannot implicitly', 'implicitly convert', 'convert type', 'type string', 'django', 'modelform', 'django modelform', 'show', 'div', 'slide', 'show hide', 'hide div', 'div slide', 'javascript without', 'without jquery', 'avoid', 'busy', 'laravel', '4', 'returns', 'ajax', 'post', 'laravel 4', 'data ajax', 'ajax post', 'handle', 'jquery ajax', 'year', 'function r', 'retrofit', 'singleton', 'gson', 'using gson', 'cpp', 'mfc', 'copying', 'web', 'reference', 'project', 'web reference', 'new project', 'top', 'five', 'query select', 'insert', 'index', 'insert string', 'string specific', 'apache', 'poi', 'page', 'format', 'worksheet', 'apache poi', 'change page', 'excel worksheet', 'tkinter', 'progress', 'bar', 'python tkinter', 'progress bar', 'store', 'image', 'path', 'store image', 'image path', 'using c#', 'jdbc', 'connection', 'associated', 'managed', 'jdbc connection', 'connection error', 'multiple', 'tables', 'model', 'yii2', 'use multiple', 'multiple tables', 'tables one', 'one model', 'controller', 'names', 'aspnet', 'mvc4', 'aspnet mvc4', 'casting', 'integer', 'array', 'integer array', 'array object', 'object array', 'array java', 'getting', 'uploading', 'getting error', 'error uploading', 'uploading file', 'file php', 'clear', 'methods', 'methods java', 'printing', 'floats', 'number', 'zeros', 'specific number', 'simple', 'c', 'network', 'library', 'simple c', 'c c++', 'usr', 'bin', 'instead', 'local', 'running ruby', 'usr bin', 'usr local', 'bitmap', 'binary', 'operations', 'default', 'mail', 'working', 'entity', 'framework', 'distinct', 'entity framework', 'framework model', 'extjs', 'checked', 'nodes', 'submit', 'get checked', 'lists', 'linq select', 'nested lists', 'element', 'pass', 'values', 'html', 'hide element', 'pass values', 'values javascript', 'javascript html', 'html element', 'element using', 'using javascript', 'javascript jquery', 'information', 'dictionary', 'get information', 'slidetoggle', 'display', 'created', 'opencv', 'android', 'display image', 'instantiating', 'namespace', 'wpf', 'screen', 'resolution', 'screen resolution', 'content', 'static', 'table', 'cell', 'displayed', 'ios', '9', 'table view', 'view cell', 'ios 9', 'best', 'autocomplete', 'suggest', 'algorithm', 'datastructure', 'c++ c', 'backbone', 'modelsave', 'sending', 'put', 'redirects', 'given', 'session', 'chrome', 'session php', 'mvc', 'razor', 'missing', 'collections', 'form', 'mvc 4', '4 razor', 'form post', 'date', 'ddmmyyyy', 'style', 'dynamically', 'linkbutton', 'affecting', 'others', 'change style', 'dynamically created', 'check', 'point', 'line', 'client', 'request', 'fails', 'timeout', 'simultaneously', 'acquire', 'update', 'graph', 'matplotlib', 'data update', 'graph using', 'python matplotlib', 'store value', 'value string', 'string array', 'datatable', 'inner', 'join', 'dynamic', 'columns', 'c# datatable', 'inner join', 'dynamic columns', 'correct', 'adapter', 'pattern', 'objective', 'objective c', 'save', 'folder', 'save image', 'image another', 'another folder', 'folder using', 'using ajax', 'ajax jquery', 'use function', 'ignore', 'rows', 'sorting', 'specific rows', 'dom', 'angular', 'directive', 'dom element', 'angular directive', 'rectangles', 'next', 'parameters', 'url', 'zend', 'parameters url', 'inheritance', 'access', 'problem', 'inner class', 'valueerror', 'match', 'passing', 'sockets', 'passing array', 'array json', 'json objects', 'child', 'deserializing', 'xml', 'child nodes', 'deserializing xml', 'xml object', 'version', 'application', 'executable', 'contains', 'unsupported', 'architecture', 'i386', 'app version', 'architecture i386', 'com', 'array using', 'using com', 'urlopen', 'errno', '10061', 'error errno', 'unique', 'combination', 'bind', 'drop', 'first', 'ddl', 'drop list', 'list using', 'using jquery', 'change first', '31', 'encrypted', 'gem', 'clause', 'fields', 'rails 31', 'hack', 'google', 'maps', 'api', 'generate', 'city', 'state', 'name', 'php mysql', 'google maps', 'maps api', 'city state', 'unknown', 'target', 'property', 'applet', 'mac', 'os', 'run java', 'java applet', 'mac os', 'latitude', 'longitude', 'latitude longitude', 'mouseout', 'listener', 'wordpress', 'google map', 'find', 'row', 'quickly', 'find row', 'iphone', 'command', 'terminal', 'return', 'matrix', 'need', 'transpose', 'attach', 'dataframe', 'parent', 'programmatically', 'd3', 'js', 'tick', 'spacing', 'gets', 'messed', 'month', 'boundary', 'hash', 'object javascript', 'set timeout', 'user', 'fit', 'needs', 'change default', 'user model', 'serializing', 'automatically', 'install', 'firefox', 'navbar', 'auto', 'layout', 'constraints', 'interactive', 'interface', 'builder', 'auto layout', 'interface builder', 'kill', 'process', 'system', 'shell', 'child process', 'process running', 'shell command', 'setting', 'timezone', 'cant', 'recent', 'cant update', 'facebook', 'help', 'dialog', 'event', 'load', 'browsers', 'jquery event', 'event listener', 'image load', 'intellij', 'constant', 'expression', 'required', 'case', 'android java', 'constant expression', 'dropdown', 'based', 'entries', 'dropdown select', 'select based', 'based database', 'wont', 'work', 'machine', 'wont work', 'local machine', 'pyqt', 'display data', 'data mysql', 'database table', 'table using', 'addeventlistener', 'send', 'thread', 'send data', 'data specific', 'focus', 'listviewitem', 'documentgetelementbyid', 'innerhtml', 'ie8', 'working ie8', 'efficient', 'int', 'inverse', 'convert string', 'string int', 'edit', 'txt', 'specific line', 'line txt', 'txt file', 'file c', 'conditionally', 'filter', 'iqueryable', 'generic', 'repository', 'type using', 'using generic', 'generic repository', 'repository pattern', 'get memory', 'rails app', 'invalid', 'indirect', 'trying', 'trying convert', 'c++ java', 'record', 'insert multiple', 'record table', 'table codeigniter', 'sql', 'convert sql', 'sql query', 'query linq', 'password', 'prompt', 'regex', 'needed', 'dynamic string', 'string value', 'play', 'videos', 'website', 'best way', 'reading', 'stdin', 'blocking', 'reading line', 'line line', 'without blocking', 'video', 'old', 'rest', 'rest api', 'comma', 'separated', 'collection', 'spring', 'comma separated', 'separated string', 'string java', 'java collection', 'spring form', 'checking', 'member', 'struct', 'c struct', 'struct array', 'gridview', 'export', 'gridview data', 'export excel', 'tinymce', 'player', 'media', 'splash', 'accepts', 'class use', 'use spring', 'csv', 'stringsplit', 'due', 'blank', 'import csv', 'csv file', 'li', 'ngmodel', 'start', 'blackberry', 'programming', 'searching', 'sdk', 'quick', 'iphone sdk', 'directory', 'c# get', 'directory name', 'column', 'odd', 'even', 'numbers', 'threads', 'odd even', 'even numbers', 'numbers using', 'using 2', 'alternatives', 'projects', 'similar', 'joomla', 'drupal', 'assign', 'variable', 'properties', 'c# dynamic', 'dynamic variable', 'dynamic object', 'get parameters', 'field value', 'value object', 'another object', 'accessing', 'global', 'onclicklistener', 'accessing global', 'global variable', 'variable inside', 'argument', 'uml', 'argument list', 'preg_replace', 'curly', 'brackets', '323', 'bundler', 'could', 'compatible', 'versions', 'rails 323', 'could find', 'exe', 'c# windows', 'windows form', 'junit', 'report', 'task', 'facebooks', 'sms', 'broadcast', 'receiver', 'takes', 'highest', 'priority', 'reboot', 'length', '0', 'bypass', 'clientside', 'validation', 'clientside validation', 'rvm', 'installation', 'ubuntu', 'installation error', 'error ubuntu', 'trigger', 'carousel', 'trigger event', 'bootstrap carousel', 'proxy', 'configuration', 'unable', 'redirecttoaction', 'cant get', 'iterators', 'incompatible', 'destruction', 'dependent', 'constructor', 'constructor call', 'bad', 'input line', 'symfony2', 'forms', 'options', 'use dynamic', 'select options', 'notfoundhttpexception', 'submission', 'handling', 'validation multiple', 'multiple forms', 'triggers', 'oracle', 'mongoose', 'callback', 'access specific', 'specific value', 'well', 'updating', 'models', '5', 'canvas', 'issues', 'html 5', 'comparison', 'variables', 'pointing', 'parse', 'parse json', 'json data', 'data php', 'possible', 'jump', 'top page', 'page form', 'form submit', 'safely', 'destroy', 'window', 'wxpython', 'includes', 'systems', 'php includes', 'managepy', 'runserver', 'managepy runserver', 'saving', 'frames', 'saving multiple', 'multiple data', 'data frames', 'return function', 'compilation', 'found', 'compilation error', 'error type', 'type namespace', 'namespace name', 'could found', 'parsecom', 'libgdx', 'implementation', 'iframe', 'position', 'adding', 'javascript adding', 'adding text', 'text image', 'image using', 'using canvas', 'save value', 'value drop', 'calculate', 'correlation', 'remove', 'ones', 'pandas', 'python pandas', 'optimizations', 'browser', 'perform', 'rendered', 'denied', 'service', 'delegate', 'mail client', 'client using', 'count', 'datagridview', 'values column', 'column datagridview', 'datagridview column', 'scipy', 'build', 'osx', 'mac osx', 'ip', 'address', 'mask', 'textbox', 'ip address', 'vbnet', 'commands', 'java library', 'selected', 'codebehind', 'get selected', 'selected value', 'value text', 'text html', 'html select', 'restrict', 'jqgrid', 'textarea', 'height', 'grid', 'swift 3', 'editor', 'serialization', 'xml serialization', 'extend', 'java class', 'class one', 'exceptions', 'guidelines', 'understand', 'testng', 'suite', 'configure', 'webpage', 'excel data', 'parameter', 'owin', 'host', 'pass parameter', 'saved', 'rake', 'errors', 'loading', 'kind', 'mutex', 'calculation', 'entities', 'linq entities', 'entities query', 'difference', 'cocos2dx', 'lua', 'binding', 'reset', 'angularjs', 'verify', 'box', 'clicked', 'check box', 'structure', 'pointer', 'dll', 'pointer c', 'c dll', 'dll c#', 'pausing', '#', 'milliseconds', 'method set', 'call javascript', 'params', 'requests', 'python requests', 'highlighting', 'visual', 'studio', 'visual studio', 'email', 'component', 'versus', 'phpmailer', 'cakephp', 'include', 'files', 'correctly', 'include header', 'header files', 'development', 'php api', 'uiimageview', 'size', 'programmatically swift', 'n', 'file html', 'seperate', 'gc', 'log', 'vm', 'server', 'log file', 'file java', 'application server', 'fix', 'opened', 'fix error', 'separate', 'commas', 'quotes', 'using ruby', 'serversocket', 'port', 'supposed', 'port number', 'edit data', 'data database', 'database codeigniter', 'codeigniter using', 'using bootstrap', 'matching', 'matching function', 'function call', 'call function', 'function template', 'reopen', 'files python', 'expressions', 'void', 'cannot convert', 'type void', 'main', 'eclipse error', 'error could', 'find load', 'load main', 'main class', 'grouping', 'sort', 'preserving', 'matrix row', 'qt', 'mainwindow', 'resize', 'resized', 'automatically resize', 'dispatcher', 'c# delegate', 'ie', 'web api', 'href', 'submit form', 'form using', 'using href', 'compile', 'single', 'gradle', 'single java', 'java file', 'code', 'thats', 'sensitive', 'object class', 'curl', 'rectangle', 'pygame', 'moves', 'mouse', 'location', 'naming', 'conventions', 'naming conventions', 'wpf window', 'populate', 'second', 'based selected', 'value first', 'wordpress using', 'using method', 'installing', 'gives', 'gives error', 'pass variables', 'reference javascript', 'render', 'view another', 'another controller', 'openxml', 'spreadsheet', 'update value', 'objectivec', 'used', 'words', 'nsstring', 'generics', 'wildcard', 'define', 'vector', 'undefined', 'switch', 'eval', 'using switch', 'switch case', 'generator', 'services', 'php class', 'web services', 'implement', 'animation', 'jpa', 'backend', 'changes', 'asynchronously', 'subdomain', 'creation', 'linux', 'php linux', 'preg_match', 'strings', 'long strings', 'open', 'source', 'computation', 'open source', 'null', 'float', 'return null', 'method error', 'error handling', 'jframe', 'basic', 'shapes', 'regular', 'regular expression', 'detect', 'volume', 'changed', 'horizontal', 'slider', '100', 'width', 'images', 'serial', 'print', 'arduino', 'checkbox', 'create checkbox', 'checkbox list', 'execute php', 'php code', 'wordpress post', 'outofmemory', 'outofmemory exception', 'instance', 'object instance', 'deploy', 'clickonce', 'signing', 'clickonce application', 'application without', '2d', 'clickable', '2d array', 'tkinter canvas', 'created_at', 'shopping', 'cart', 'item', 'added', 'shopping cart', 'compiler', 'declared', 'yet', 'visible', 'java compiler', 'declared class', 'replacement', 'net', 'apps', 'net windows', 'windows store', 'store apps', 'npm', '+', 'mocha', 'watch', 'accurately', 'watching', 'stl', 'stl vector', 'template function', 'prevents', 'strict', 'clock', 'cant set', 'overloading', 'optional', 'method overloading', 'optional parameter', 'tuples', 'statements', 'tuples python', 'tomcat7', 'shows', 'inactive', 'users', 'manager', 'backbonejs', 'elements', 'fired', 'views', 'accessing elements', 'remote', 'notification', 'launch', 'background', 'app background', 'proper', 'completion', 'vim', 'mobile', 'didnt', 'jquery mobile', 'append div', 'div content', 'runtime', 'weird', 'moq', 'object reference', 'reference set', 'set instance', 'instance object', 'object error', 'error using', 'using moq', 'nil', 'check string', 'nil swift', 'combine', 'plot', 'read', 'code java', 'retrieving data', 'data sql', 'sql database', 'database vbnet', 'nomethoderror', 'nilnilclass', 'nomethoderror undefined', 'undefined method', 'method name', 'jbutton', 'actionlistener', 'producing', 'several', 'security', 'catching', 'fullscreen', 'seems', 'keyboard input', 'parallel', 'prime', 'duplicating', 'rows datatable', 'script', 'cli', 'run php', 'php script', 'tuple', 'create tuple', 'c# datagridview', 'tabs', 'handler', 'event handler', 'examples', 'custom', 'soft', 'panel', 'windowsce', '60', 'creating custom', 'exec', 'status', 'realtime', 'lookup', 'twitter', 'followers', 'looking', 'day', 'calendar', 'javascript library', 'three', 'sprite', 'draw text', 'huge', 'leak', 'memory leak', 'regex replace', 'replace function', 'many', 'relationships', 'eloquent', 'many many', 'write', 'encoding', 'utf8', 'string encoding', 'encoding utf8', 'storing', '2dimensional', 'sqlite', 'sqlite database', 'hibernate', 'gwt', 'hibernate +', 'grab', 'svg', 'convert image', 'routing', 'plain', 'typescript', 'angular 2', 'plain javascript', 'standard', 'hangs', 'runs', 'standard input', 'input using', 'textfield', 'listening', 'socket', 'phpfpm', 'assign value', 'value using', 'using linq', 'rotating', 'get object', 'selected rows', 'rows datagridview', 'threaded', 'cpu', 'program using', 'using one', 'systemstring', 'complex', 'complex type', 'must', 'zero', 'testing', 'internationalization', 'rspec testing', '2nd', 'httpwebrequest', 'obj', 'rendering', 'cause', 'di', 'angular controller', 'nginx', 'flask', 'receiving', 'receiving data', 'data html', 'space', 'byte', 'add space', 'byte array', 'boolean', 'detect element', 'element array', 'pip', 'proxy setting', '25', 'module', 'suffix', 'joomla 25', 'module class', 'certain', 'substring', 'certain character', 'md5', 'convert javascript', 'javascript variable', 'md5 hash', 'nsurl', 'incompatible pointer', 'pointer type', 'get first', 'first item', 'decimals', 'php preg_match', 'ffmpeg', 'upto', '32', 'unexpected', 'token', 'connecting', 'unexpected token', 'token error', 'error connecting', 'connecting mysql', 'database php', 'ant', 'failed', 'failed build', 'construct', 'symfony', '14', 'json object', 'symfony 14', 'html content', 'domain', 'currently', 'logged', 'get domain', 'currently logged', 'logged user', 'initialize', 'double', 'xpath', '10', 'codec', 'decode', 'codec cant', 'cant decode', 'decode byte', 'uninitialized', 'static class', 'class type', 'equivalent', 'vb', 'left', 'net equivalent', 'string length', 'use class', 'class variable', 'variable another', 'another class', 'stdout', 'change content', 'content div', 'much', 'slower', 'much slower', 'manually', 'stage', 'e', 'aspnet page', 'dict', 'dict object', 'error django', 'django project', 'returning', 'oracle function', 'function returning', 'returning value', 'enumeration', 'powershell', 'get values', 'resolved', 'cannot resolved', 'resolved field', 'datetime object', 'object string', 'compression', 'utf8 encoding', 'loop', 'use loop', 'function run', 'run script', 'multiple files', 'files using', 'using r', 'way dynamically', 'implement interface', 'interface c#', 'winform', 'timers', 'notify', 'timer', 'raised', 'c# winform', 'parent class', 'maximize', 'screen size', 'echo', 'echo php', 'php inside', 'inside javascript', 'statment', 'convert java', 'c code', 'pdf', 'read pdf', 'pdf file', 'file line', 'line c#', 'major', 'search', 'combo', 'search function', 'function using', 'using textbox', 'combo box', 'classes', 'file system', 'sublime', 'sublime text', 'text 3', 'datagrid', 'button', 'datagrid view', 'button clicked', 'two', 'adding two', 'two strings', 'paste', 'ie10', 'syntax', 'end', 'parse error', 'error syntax', 'syntax error', 'error unexpected', 'unexpected end', 'public', 'get public', 'public ip', 'address using', 'step', 'histograms', 'ggplot2', 'ggplot2 r', 'spring security', 'admin', 'menu', 'whats', 'right', 'connect', 'microsoft', '2007', 'right way', 'java connect', 'microsoft access', 'access 2007', 'boot', 'respond', 'spring boot', 'instanceof', 'method use', 'allow', 'empty', 'body', 'statement', 'foo', 'difference class', 'object python', 'canonical', 'transmit', 'protocol', 'buffers', 'protocol buffers', 'uiwebview', 'identify', 'last', 'message', 'rcp', 'job', 'finished', 'eclipse rcp', 'patch', 'using net', 'windows application', 'extension', 'tostring', 'extension method', 'field name', 'name function', 'upload', 'back', 'contents', 'upload file', 'file get', 'get back', 'contents file', 'nice', 'kendo', 'widget', 'way make', 'custom widget', '2003', 'create excel', 'excel file', 'email address', 'query string', 'string c#', 'relationship', 'icon', 'sizes', 'icon file', 'images c#', 'expected', 'got', 'true', 'expected string', 'default value', 'new rails', 'rails project', 'range', 'control', 'entity data', 'checking null', 'linker', 'compiling', 'simulator', 'symbols', 'linker error', 'error compiling', 'ios 5', 'undefined symbols', 'meta', 'indexphp', 'refreshing', 'prepared', 'constraint', 'within', 'session variable', 'variable within', 'c# need', 'pass object', 'object another', 'class call', 'call methods', 'sqlalchemy', 'detected', 'thread java', 'recursive', 'linq xml', 'handlers', 'overriding', 'event handlers', 'xml using', 'onload', 'faster', 'possible make', 'onload event', 'determine', 'temp', 'please', 'specify', 'zend framework', 'disabling', 'click', 'prevent', 'enabling', 'button one', 'one click', 'prevent multiple', 'duplicate', 'java best', 'way find', 'find first', 'character string', 'fixed', 'table header', 'recommended', 'high', 'traffic', 'dojo', 'switching', 'editable', 'logout', 'authentication', 'jquery javascript', 'javascript using', 'using form', 'groups', '1', 'buffer', 'strategy', 'login', 'javascript date', 'validation function', 'react', 'es6', 'es6 class', 'lines', 'running two', 'two lines', 'python time', 'imshow', 'zoom', 'onsubmit', 'time using', 'ternary', 'operator', 'cannot use', 'ternary operator', 'javalangnoclassdeffounderror', 'org', 'axis2', 'javalangnoclassdeffounderror org', 'org apache', 'class path', 'speech', 'recognition', 'speech recognition', 'c# without', 'without using', 'using windows', 'ckeditor', 'dynamic menu', 'disadvantages', 'making', 'serializable', 'one step', 'check null', 'null value', 'exe file', 'catch', 'divide', '2012', 'error message', 'studio 2012', 'derived', 'file path', 'derived class', 'arraylist', 'array list', 'list javascript', 'non', 'textbox using', 'windows api', 'api c#', 'windows forms', 'forms app', 'calling', 'scope', 'access javascript', 'javascript variables', 'vs2008', 'device', 'windows mobile', 'cant connect', 'argv', 'python list', 'frame', 'dynamically adding', 'rstudio', 'shared', 'cannot open', 'open shared', 'shared object', 'object file', 'file file', 'file directory', 'transaction', 'aborted', 'persist', 'mean', 'decimal', 'decimal string', 'see', 'characters', 'page load', 'load function', 'mathrandom', 'random', 'ints', 'generate random', 'sessions', 'enum', 'add values', 'values c', 'nslog', 'messages', 'leaks', 'exact', 'regexp', 'exact match', 'javascript array', 'using regexp', 'pagination', 'filtering', 'expected error', 'linq expression', 'list view', 'multiple variables', 'migrating', 'article', '3x', 'initializing', 'java multiple', 'multiple line', 'nsarray', 'storing user', 'user input', 'input text', 'text field', 'keys', 'keys dictionary', 'based values', 'causes', '500', '500 error', 'tolist', 'take', 'generates', 'sinatra', 'computer', 'cannot access', 'access local', 'server another', 'another computer', 'quartz', 'returned', '255', 'blocks', 'code blocks', 'controller function', 'function codeigniter', 'yii', 'resizing', 'workspace', 'local html', 'html file', 'rename', 'marshall', 'jaxws', 'jaxb', 'tag', 'link', '3d', 'initialization', 'conversion', '3d array', 'array c', 'thrown', 'violation', 'incorrect', '_post', 'error access', 'access violation', 'table name', '_post array', 'array data', 'font', 'uilabel', 'change font', 'font size', 'concatenate', 'inputs', 'radio', 'hidden', 'hidden field', 'win32', 'c++ win32', 'change value', 'jquery json', 'side', 'empty string', 'server side', 'bit', 'rate', 'avplayer', 'http', 'live', 'audio', 'streaming', 'django creating', 'custom user', 'showing', 'data url', 'url without', 'without showing', 'merging', 'datasets', 'common', 'merging two', '1 column', 'integration', 'website using', 'using facebook', 'facebook login', 'login button', 'container', 'centering', 'fitting', 'content inside', 'angular2', 'whats difference', 'driver', 'java jdbc', 'jdbc driver', 'yaxis', 'intersect', 'xaxis', 'playframework', 'deadlock', 'postgresql', 'merge', 'factory', 'deserialize', 'compare', 'sql datetime', 'datetime c#', 'c# datetime', 'html5', 'drag', 'events', 'fires', 'html5 drag', 'drag drop', 'validate', 'input data', 'download', 'download file', 'file aspnet', 'aspnet web', 'method using', 'using angularjs', 'title', 'multiple html', 'html files', 'recording', 'stream', 'download csv', 'enable', 'area', 'radio button', 'text area', 'controls', 'user control', 'working firefox', 'firefox chrome', 'chrome ie', 'adjusting', 'automatic', 'textboxes', 'javafx', '22', 'referencing', '2010', 'studio 2010', 'jsonnet', 'serialize', 'works', 'fine', 'works fine', 'parsing', 'parsing text', 'text content', 'java get', 'get json', 'sequence', 'gaps', 'use linq', 'linq group', 'posting', 'unchecked', 'checkboxes', 'checked unchecked', 'programatically', 'uiimage', 'uiview', 'winforms', 'add controls', 'another thread', 'free', 'c++ memory', '2013', 'caching', 'older', 'studio 2013', 'js file', 'threejs', 'mesh', 'light', 'loads', 'extern', 'get image', 'image size', 'url javascript', 'uncheck', 'html checkbox', 'swing', 'popup', 'losing', 'java swing', 'popup window', 'losing focus', 'localstorage', 'change event', 'nodejs', 'nodejs error', 'error error', 'error cannot', 'cannot find', 'find module', 'adding new', 'div another', 'another one', 'tell', 'rs', 'marks', 'still', 'vertical', 'tick marks', 'redirection', 'razor view', 'java script', 'script function', 'function without', 'extract', 'image dynamically', 'minus', 'sign', 'regex get', 'site', 'shows blank', 'blank screen', 'ie works', 'parsing json', 'json php', 'jar', 'jsp', 'call method', 'jar file', 'file jsp', 'mysql2', '187', '106', 'mysql2 gem', 'ruby 187', 'applied', 'operands', 'xcode', '7', 'binary operator', 'operator cannot', 'cannot applied', 'applied operands', 'operands type', 'string string', 'string swift', 'swift 2', 'xcode 7', 'randomly', 'variable names', 'apostrophe', 'c# cannot', 'changing', 'css', 'separately', 'changing css', 'dont', 'go', 'beyond', 'application spring', 'login page', 'gmail', 'contacts', 'oauth', 'using zend', 'framework using', 'using oauth', 'windowonload', 'ie7', 'minimum', 'maximum', 'minimum maximum', 'page dynamically', 'owner', 'get user', 'user name', 'hex', 'hex string', 'string byte', 'native', 'fixing', 'private', 'accessor', 'trouble', 'patterns', 'matching multiple', 'ruby regex', 'wicket', 'bean', 'inmemory', 'info', 'could get', 'net object', 'object model', 'javalangoutofmemoryerror', 'heap', 'exception thread', 'thread main', 'javalangoutofmemoryerror java', 'java heap', 'heap space', 'complete', 'updated', 'run function', 'function load', 'tab', 'chat', 'simple php', 'java find', 'read file', 'file user', 'bring', 'human', 'readable', 'multi', 'simple way', 'human readable', 'multi line', 'jquery trigger', 'trigger click', 'vs function', 'nested views', 'declare', 'scripts', 'javalangclasscastexception', 'cast', 'cannot cast', 'combobox', 'dynamically change', 'auto complete', 'copy', 'allocated', 'copy constructor', 'dynamically allocated', 'calling method', 'method object', 'moving', 'scroll', 'writing', 'masked', 'disk', 'png', 'core', 'net core', 'convert object', 'interest', 'postback', 'doesnt', 'javascript function', 'function doesnt', 'doesnt work', 'encrypt', 'html php', 'php javascript', 'iterate', 'lambda', 'iterate list', 'list object', 'lambda expressions', 'equation', 'mvc get', 'get latitude', 'batch', 'calls', 'multiple ajax', 'ajax calls', 'x', 'seconds', 'x seconds', 'give', 'always', 'false', 'always false', 'join query', 'yii framework', 'html data', 'data website', 'wcf', 'enable button', 'input field', 'field empty', 'const', 'lpcwstr', 'const char', 'defined', 'ok', 'unicodeencodeerror', 'grant', 'malformed', 'azure', 'ad', 'azure ad', 'pin', 'smtp', 'gmail smtp', 'pojos', 'request parameter', 'definition', 'call web', 'web service', 'cmd', 'jars', 'relative', 'mode', 'properly', 'safari', 'working properly', 'chrome safari', 'set current', 'time field', 'arrow', 'captcha', 'webbrowser', 'picturebox', 'webbrowser control', 'viewport', 'detect user', 'image inside', 'absolute', 'addresses', 'permitted', 'error creating', 'table mysql', 'limited', 'number records', 'element div', 'nunit', 'private methods', 'javaioioexception', 'gui', 'good', 'java gui', 'linking', 'page within', 'php windows', 'windows server', 'support', 'using java', 'adonet', 'single value', 'value sql', 'swf', 'sandbox', 'string conversion', 'subtract', 'time php', 'keeps', 'pointers', 'serialize object', 'objects c++', 'passing multiple', 'rails controller', 'arrays', 'using arrays', 'groupby', 'partial', 'pandas groupby', 'partial string', 'need create', 'create json', 'read write', 'write java', 'gray', 'overlay', 'uibutton', 'store array', 'array values', 'values single', 'single variable', 'knowing', 'reading csv', 'without knowing', 'sub', 'vectors', 'php server', 'uncaught', 'typeerror', 'uncaught typeerror', 'typeerror cannot', 'cannot read', 'read property', 'iis', 'cant find', 'types', 'incompatible types', 'probability', 'small', 'v', 'big', 'one big', 'big file', 'file http', 'http requests', 'color', 'change color', 'associative', 'associative array', 'array c#', 'c# dictionary', 'action', 'route', 'attributes', 'api call', 'controller action', 'action class', 'smtp connect', 'connect failed', 'http post', 'keeping', 'creating new', 'new array', 'array contents', 'using user', 'user inputs', 'assembly', 'xaml', 'missing using', 'using directive', 'directive assembly', 'assembly reference', 'wpf xaml', 'powerpoint', 'designer', 'vsto', 'mouse events', 'pass value', 'value mysql', 'bound', 'sqldatasource', 'concat', 'result', 'query result', 'result string', 'executing', 'windowprint', 'function page', 'logger', 'variable java', 'clicking', 'hyperlink', 'open file', 'dates', 'comment', 'root', 'svg element', 'whole', 'python file', 'file doesnt', 'read whole', 'whole file', 'get variable', 'via php', 'php send', 'xcode 8', 'debugging', 'use google', 'google chrome', 'remote debugging', 'jquery ui', 'php parse', 'post data', 'scheduled', 'allow user', 'insert html', 'html code', 'code without', 'special', 'replaced', 'special character', 'xls', 'webview', 'showing error', 'null calling', 'apply', 'realm', 'latest', 'inserted', 'get latest', 'categorical', 'features', 'uitableviewcontroller', 'nsdictionary', 'integer value', 'value nsdictionary', 'registration', 'error installing', 'zip', 'giving', 'output python', 'submit button', 'button action', 'mix', 'select jquery', 'working ios', 'break', 'line break', 'activity', 'modules', 'requirejs', 'physical', 'overrides', 'configuration file', '40', 'change windows', 'net 40', 'httpclient', 'work expected', 'alternative', 'webapi', 'track', 'session using', 'keep track', 'xml file', 'pages', 'wordpress plugin', 'speed', 'automapper', 'mapping', 'automapper mapping', 'enum values', 'dbnull', 'invisible', 'ie9', 'bug', 'bootstrap 3', 'joda', 'joda datetime', 'json file', 'param', 'setting default', 'semantic', 'grammar', 'immediately', 'mailbox', 'pythonic', 'pythonic way', 'way handle', 'bool', 'getting cannot', 'elasticsearch', 'times', 'logging', 'custom file', 'magento', 'unit', 'unit testing', 'jackson', 'deserialization', 'jackson json', 'linked', 'remove elements', 'linked list', 'nsuserdefaults', 'starting', 'click link', 'open pdf', 'new window', 'parent window', 'find element', 'parsing using', 'foreach', 'override', 'iterating', 'php foreach', 'array value', 'ifelse', 'change text', 'onclick change', 'thousand', 'separator', 'thousand separator', 'highcharts', 'sparse', 'empty values', 'preview', 'office', 'print preview', 'storyboard', 'button working', 'working inside', 'nonzero', 'check array', 'disappear', 'one image', 'develop', 'groovy', 'pivot table', 'table java', 'java groovy', 'duplicates', 'else', 'remove duplicates', 'online', 'loading image', 'stored', 'procedure', 'firebird', 'pdo', 'call stored', 'stored procedure', 'php pdo', 'localhost', 'pictures', 'gif', 'jpeg', 'allow users', 'datareader', 'locale', 'get substring', 'skip', 'calling class', 'class method', 'method class', 'class name', 'name variable', 'variable string', 'orderby', 'spark', 'direct', 'cygwin', 'possible run', 'php exec', 'performance', 'jsf', 'ids', 'mysql get', 'get data', 'data table', 'swapping', 'linkedlist', 'settimeout', 'fn', 'error parsing', 'http request', 'request header', 'tomcat 7', 'universal', 'serverside', 'accurate', 'collision', 'detection', 'collision detection', 'load google', 'word', 'doc', 'word doc', 'plist', 'devise', 'rails devise', 'jfreechart', 'jpanel', 'generated', 'netbeans', 'c# aspnet', 'way send', 'send xml', 'xml string', 'java sockets', 'level', 'app access', 'instance method', 'method static', 'tkinter window', 'close button', 'letter', 'filter array', 'return value', 'yes', 'always return', 'lazy', 'object creation', 'music', 'ipod', 'touch', 'pc', 'ipad iphone', 'styles', 'attached', 'hover', 'pseudo', 'firebug', 'debugger', 'chrome debugger', 'applicationproperties', 'production', 'google script', 'dealing', 'underlying', 'provider', 'failed open', 'internally', 'without refreshing', 'whole page', 'src', 'image src', 'change model', 'model changes', 'phpini', 'mockito', 'injecting', 'mock', 'null values', 'spring bean', 'textblock', 'margin', 'programmatically set', 'using nodejs', 'php application', 'linqtoentities', 'string datetime', 'way use', 'use custom', 'custom control', 'creator', 'qt creator', 'raphael', 'raphael js', 'unable create', 'alphabetic', 'accent', 'chart', 'every', 'iterations', 'every n', 'logic', 'unrecognized', 'error missing', 'plotting', 'monthly', 'ggplot', 'external', 'add external', 'input value', 'value form', 'remaining', 'days', 'till', 'first day', 'date php', 'node', 'charts', 'graphs', 'something', 'something else', 'declares', 'multiple json', 'wrap', 'relation', 'exist', 'django custom', 'different', 'particular', 'load different', 'account', 'alphabetical', 'order', 'alphabetical order', '30', '30 seconds', 'rdlc', 'rdlc report', 'web application', 'documents', 'whats best', 'way serialize', 'javascript objects', 'objects xml', 'python shell', 'shell script', 'stop', 'page loading', 'wrong', 'main javalangnoclassdeffounderror', 'command prompt', 'sql statement', 'uint32', 'unsigned', 'unsigned int', 'textview', 'im', 'double value', 'invoke', 'private method', 'method child', 'ionic', 'form validation', 'span', 'text span', 'get next', 'error passing', 'passing 2d', 'char array', 'array function', 'threadsafe', 'aspnet mvc', 'controller view', 'view using', 'started', 'stack', 'get started', 'mean stack', 'python script', 'sum', 'passing argument', 'access nested', 'nested elements', 'object using', 'happens', 'waiting', 'd3js', 'sibling', 'insert new', 'self', 'get php', 'get variables', 'triggered', 'event triggered', 'socket programming', 'aurelia', 'datatables', 'external js', 'import error', 'dependency', 'injection', 'inject', 'dependency injection', 'transactions', 'multiple threads', 'opengl', 'alpha', 'function parameters', 'migrate', 'existing', 'cms', 'like', 'neither', 'encoding problem', 'queries', 'database connection', 'smooth', 'uitextview', 'bottom', 'auto scroll', 'scroll bottom', 'mongodb', 'get class', 'name without', 'instance class', 'class php', 'passportjs', 'username', 'username password', 'selection', 'drop menu', 'tests', 'idea', '13', 'play framework', 'framework 2', 'unit tests', 'intellij idea', 'recursively', 'python split', 'exceptions java', 'modify', 'want', 'pdfs', 'create multiple', 'loop using', 'phpunit', 'coverage', 'corrupted', 'segmentation', 'fault', '11', 'code coverage', 'segmentation fault', 'hashmap', 'using string', 'hashmap java', 'jstl', 'entry', 'index variable', 'foreach loop', 'mysql_query', 'mysql_fetch_array', 'get result', 'chart using', 'modal popup', 'click button', 'download image', 'image format', 'cluster', 'numpy', '2d numpy', 'numpy array', 'ninject', 'identity', 'datagridview data', 'data another', 'datagridview vbnet', 'defer', 'reader', 'installed', 'easiest', 'consumer', 'webservice', 'whats easiest', 'easiest way', 'font color', 'excel java', 'selected text', 'text color', 'traversal', 'iterative', 'get enum', 'values list', 'list string', 'java 8', 'templates', 'polymorphism', 'c++ templates', 'immediate', 'mvc3', 'async', 'handled', 'async task', 'modal form', 'linq sql', 'java variable', 'python program', 'program run', 'python c', 'stop thread', 'fatal', 'nonobject', 'fatal error', 'error call', 'call member', 'member function', 'php file', 'jtextfield', 'something like', 'assertion', 'opencv python', 'python error', 'assertion failed', 'display one', 'one div', 'calculate time', 'time difference', 'strings javascript', 'set background', 'background color', 'share', 'file remote', 'network share', 'id', 'rails3', 'jquery autocomplete', 'passing values', 'values dynamically', 'created textboxes', 'jdk', 'android studio', 'studio gradle', 'fragment', 'activemq', 'stops', 'queue', 'mysqlsock', 'recognize', 'mamp', 'mysql using', 'circular', 'references', 'warnings', 'caused', 'forward', 'declarations', 'digits', 'places', 'sum digits', 'even odd', 'function inside', 'inside another', 'another function', 'infinite', 'getter', 'setter', 'infinite loop', 'getter setter', 'uitableview', 'past', 'uitableview scroll', 'relational', 'procedures', 'insert update', 'stored procedures', 'angular js', 'practice', 'libraries', 'css files', 'initialise', 'class object', 'object name', 'servlet', 'href link', 'parse csv', 'row number', '__getitem__', 'list list', 'selenium', 'solution', 'pop', 'dialogs', 'internet', 'explorer', 'internet explorer', 'cache', 'arrayadapter', 'pushing', 'mysql data', 'data javascript', 'javascript php', 'appengine', 'bot', 'crawler', 'web crawler', 'abstract', 'interface abstract', 'abstract class', 'freeze', 'feature', 'store data', 'shouldnt', 'functions', 'scikit', 'learn', 'dummy', 'scikit learn', 'grouped', 'data pandas', 'pandas dataframe', 'load image', 'static method', 'carray', 'header file', 'unicode', 'equivalents', 'convert character', 'openid', 'returns null', 'pure', 'virtual', 'inline', 'pure virtual', 'virtual function', 'function cannot', 'bundle', 'strange', 'call undefined', 'use object', 'array php', 'supporting', 'crashes', 'splash screen', 'app crashes', 'detect first', 'make python', 'python 3x', 'web browser', 'accordion', 'activate', 'links', 'jquery accordion', 'delete', 'delete multiple', 'multiple rows', 'rows table', 'affect', '64', 'python string', 'string comparison', 'running django', 'project without', 'upgrade', 'reload', 'backing', '20', 'best practice', 'jsf 20', 'file load', 'load error', 'error running', 'xml validation', 'attr', 'triggering', 'mouseover', 'mouseover event', 'instruction', 'object type', 'values another', 'matrix r', 'allow access', 'access php', 'file another', 'another php', 'direct url', 'global static', 'static variables', 'variables c++', 'get type', 'type name', 'object property', 'property name', 'reduce', 'lag', 'painting', 'filename', 'html link', 'occurrence', 'python regex', 'last occurrence', 'optimizing', 'garbage', 'garbage collection', 'uialertview', 'buttons', 'subviews', 'ios 7', 'executable jar', 'suggestions', 'library c#', 'scale', 'real', 'resize images', 'images using', 'datepicker', 'ui datepicker', 'date range', 'slicing', 'characters string', 'string without', 'scrolling', 'zooming', 'timeouts', 'arithmetic', 'eval function', 'function work', 'work php', 'reflection', 'java reflection', 'set value', 'modified', 'checking file', 'last modified', 'feed', 'javascript sdk', 'itemssource', 'wpf combobox', 'pass list', 'parameter using', 'using post', 'post method', 'done', 'ways', 'happen', 'servlets', 'possible ways', 'memory leaks', 'using jsp', 'jsp servlets', 'sometimes', 'javascript dom', 'end input', 'transactional', 'file writing', 'multithreading', 'would', 'threading', 'mutually', 'independent', 'tasks', 'multi threading', 'different threads', 'dropdown menu', 'get maximum', 'maximum size', 'part', 'select specific', 'specific part', 'part array', 'array two', 'two arrays', 'advantages', 'send email', 'email php', 'specified time', 'distributed', 'random numbers', 'disable', 'math', 'object java', '35', 'python socket', 'socket error', 'subprocesscall', 'crontab', 'aws', 'python use', 'performing', 'multiple database', 'databinding', 'wpf application', 'application working', 'drawing', 'room', 'c++ opengl', 'executing python', 'alphanumeric', 'dot', 'regex allow', 'method parameters', 'nsdate', 'convert date', 'chars', 'u', 'opening', 'form multiple', 'multiple times', 'merge two', 'two images', 'show image', 'image control', 'downloading', 'rather', 'displaying', 'base', 'encoded', 'base 64', 'actually', 'pk', 'column value', 'value dropdown', 'id value', 'value database', 'clean', 'value select', 'page refresh', 'hql', 'return object', 'stdmap', 'catch exception', 'integrating', 'extensions', 'temporary', 'file pdf', 'extension php', 'replace text', 'text using', 'distinguish', '200', 'java date', 'ienumerablet', 'optimized', 'min', 'consolelog', 'sync', 'scraping', 'onclick using', 'object must', 'spring mvc', 'umbraco', 'template error', 'nonexistent', 'error python', 'desktop', 'frameworks', 'web apps', 'fade', 'fade fade', 'specific class', 'class id', 'base class', 'public property', 'importing', 'update database', 'spec', 'war', 'uses', 'version java', 'war file', 'javascript files', 'run one', 'one another', 'file found', 'pdf using', 'erlang', 'controllers', 'cant access', 'access parent', 'view controllers', '1 2', 'pdf files', 'addin', 'w', 'always visible', 'jscrollpane', 'stdthread', 'sleep', 'submit html', 'html form', 'custom validation', 'one record', 'finding', 'converting', 'text file', 'file json', 'json format', 'format using', 'open new', 'child elements', 'file upload', 'jquery function', 'function multiple', 'multiple elements', 'command using', 'using c++', 'according', 'culture', 'first value', 'cast double', 'double int', 'int value', 'suppressing', 'warning', 'data type', 'retrieve', 'retrieve data', 'database display', 'text fields', 'fields using', 'using jdbc', 'html page', 'page button', 'php +', '+ sql', 'photos', 'fan', 'ios sdk', 'reactjs', 'immutable', 'empty array', 'carrierwave', 'rails +', 'middle', 'surrounded', 'convert integer', 'c library', 'stay', 'php replace', 'would use', 'use javascript', 'retrieve text', 'env', '32bit', '64bit', 'python code', 'child class', 'class objects', 'arent', 'phonegap', 'inside iframe', 'javascript detect', 'ajax requests', 'uicollectionview', 'selenium java', 'java code', 'unwanted', 'remove unwanted', '0s', 'diagonally', 'becomes', 'really', 'slow', 'lot', 'really slow', '404', 'return custom', 'custom 404', '404 error', 'error resource', 'django rest', 'rest framework', 'usercontrol', 'masterpage', 'unused', 'json_decode', 'nothing', 'returns nothing', 'produce', 'plots', 'chunk', 'knitr', 'webdriver', 'selenium webdriver', 'pipe', 'proper way', 'cookie', 'unable read', 'first time', 'time javascript', 'life', 'variables rails', 'selected row', 'mvc 3', 'declaration', 'set multiple', 'local variables', 'variables value', 'malloc', 'alignment', 'calling function', 'symbol', 'find symbol', 'occurrences', 'php count', 'computed', 'multiple inheritance', 'jre', 'supported', 'unless', 'data source', 'acting', 'crazy', 'gsub', 'dd', 'mysqldb', 'python mysql', 'yyyymmdd', 'convert int', 'actual', 'td', 'get actual', 'appending', 'elements two', 'arrays c', 'tutorials', 'learning', 'resources', 'valid', 'opencl', 'builds', 'failing', 'os x', 'arguments', 'declare variable', 'variable number', 'call_user_func', 'cannot call', 'emberjs', 'redirect working', 'declaring', 'global variables', 'interpreter', 'undefined variable', 'hard', 'drive', 'makes', 'turn', 'pitch', 'black', 'responsive', 'wpf image', 'image image', 'hard drive', 'use c', 'onmouseover', 'dump', 'jpeg image', 'node js', 'prepare', 'function prepare', 'documentcreateelement', 'struts2', 'struts2 action', 'mocking', 'nhibernate', 'profile', 'removing', 'list php', 'four', 'columns datatable', 'increase', 'tableview', 'tableview cell', 'together', 'printing string', 'array index', 'tabitem', 'logs', 'working correctly', 'worked', 'wamp', 'using command', 'command line', 'custom view', 'docx', 'folder file', 'doc docx', 'tree view', 'call php', 'file via', 'via ajax', 'ajax working', 'sending email', 'email using', 'using phpmailer', 'social', 'ngrepeat', 'splice', 'returns error', 'might', 'fail', 'subtract two', 'two dates', 'results', 'get javascript', 'results using', 'using selenium', 'closest', 'value set', 'using class', 'series', 'get value', 'value c#', 'broken', 'chrome browser', 'bubble', 'bubble chart', 'manipulate', 'cross', 'windowopen', 'cross domain', 'wheel', 'openlayers', 'stops working', 'endpoints', 'conflicting', 'previous', 'conflicting types', 'previous declaration', 'declaration function', 'remotely', 'start application', 'call external', 'external javascript', 'inside php', 'slice', 'php array', 'remove rows', 'rows dataframe', 'dataframe r', 'mysqli', 'mysqli query', 'radgrid', 'value row', 'double click', 'href links', 'links using', 'php page', 'table data', 'deleted', 'error object', 'object cannot', 'document', 'javascript loop', 'displays', 'twitter bootstrap', 'word document', 'conversion using', 'ends', 'repeating', 'try', 'try catch', 'detached', 'posix', 'javamail', 'error must', 'phps', 'plugins', 'html javascript', 'add button', 'news', 'using google', 'api 2', 'asks', 'sudo', 'rvm install', 'cloud', 'datastore', 'google cloud', 'arrays objects', 'delete rows', 'appium', 'desired', 'launching', 'navigate', 'android application', 'identifier', 'consume', 'json xml', 'rails ruby', 'per', 'jvm', 'one instance', 'working ie9', 'upon', 'reloading', 'refreshing page', 'page multiple', 'phantomjs', 'generate pdf', 'pdf image', 'using phantomjs', 'wall', 'change order', 'local variable', 'reservation', 'available', 'import json', 'json url', 'url java', 'using jackson', 'scroll top', 'c++ convert', 'string hex', 'tbody', 'region', 'marionette', 'html tables', 'time series', 'attribute error', 'resolving', 'certification', 'unable find', 'unittest', 'exception using', 'using generics', 'items', 'removing items', 'accuracy', 'msi', 'installer', 'editing', 'storyboards', 'looping', 'makefile', 'php scripts', 'submitting', 'previous page', 'submitting form', 'form php', 'ipython', 'multiple parameters', 'panels', 'dollar', 'amount', 'confusion', 'redirect_uri', 'oauth 20', 'reading xml', 'file iphone', 'dropbox', 'apply css', 'css javascript', 'threw', 'javax', 'servletcontext', 'threw exception', 'nested exception', 'javalangnoclassdeffounderror javax', 'shortcut', 'model classes', 'directory structure', 'gd', 'gd library', 'library php', 'keypress', 'clear textbox', 'keypress event', 'stdstring', 'memory allocated', 'get method', 'comparing', 'arraylists', 'comparing two', 'two arraylists', 'rotate', 'repeated', 'extended', 'protobuf', 'python lists', 'image python', 'containing', 'faster way', 'shown', 'cannot write', 'dynamically javascript', 'two files', 'toolkit', 'chart control', 'precision', 'getting json', 'format data', 'data external', 'external website', 'training', '16bit', 'return json', 'json ruby', 'android socket', 'socket connection', 'connection failed', 'jtable', 'border', 'appear', 'doesnt appear', 'nested functions', 'urls', 'html document', 'wait', 'typing', 'textbox control', 'wait till', 'power', 'getdata', 'mandatory', 'interface java', 'number columns', 'onclientclick', 'preventing', 'validation working', 'safe', 'thread safe', 'maven', 'get source', 'maven repository', 'current directory', 'directory java', 'class another', 'another directory', 'heroku', 'push', 'git', 'related', 'php header', 'header location', 'division', 'signalr', 'hub', 'net code', 'negative', 'work python', 'active', 'navigation', 'dispose', 'streamreader', 'streamwriter', 'backgroundimage', 'depending', 'month year', 'possible declare', 'timestamp', 'midnight', 'photo', 'puzzle', 'nullpointerexception', 'managing', 'primefaces', 'advantage', 'jquery add', 'add file', 'file type', 'type class', 'conform', '1d', 'figure', 'represent', '1d array', 'repeater', 'client java', 'java web', 'show message', 'page login', 'jpa2', 'persisting', 'onetoone', 'bidirectional', 'shadow', 'lock', 'taking', 'taking much', 'cpu usage', 'codeblocks', 'ide', 'headers', 'lowercase', 'python make', 'dataframe column', 'column headers', 'form application', 'change form', 'signal', 'unlock', 'change image', 'java mail', 'mail api', 'c# convert', 'mvc pattern', 'key event', 'gems', 'jsoup', 'using jsoup', 'without submit', 'button name', 'jquery load', 'django template', 'emacs', '15', 'xxx', '2015', 'date string', 'custom event', '45', 'registry', 'net framework', 'notnull', 'transient', 'compress', 'killed', 'bundle install', 'sharepoint', 'modal dialog', 'dialog popup', 'save xml', 'cancel', '302', 'downloads', 'objectivec class', 'class swift', 'primary', 'primary key', 'current value', 'value textarea', 'multimodule', 'setup', 'swt', 'java swt', 'image resize', 'jsp javascript', 'javascript onclick', 'c# static', 'release', 'draggable', 'calling javascript', 'values selected', 'selected checkbox', 'restcontroller', 'itext', 'using itext', 'pdf document', 'document using', 'bounce', 'two text', 'builtin', 'nested json', 'fixed size', 'pass json', 'function php', 'pool', 'throwing', 'sqlexception', 'connection pool', 'throwing instance', 'ienumerable', 'make class', 'db', 'c error', 'cannot set', 'set focus', 'focus textbox', 'two objects', 'mvvm', 'linqtosql', 'silverlight', 'modifying', 'datasource', 'new row', 'silverlight datagrid', 'apis', 'front', 'rest apis', 'front end', 'java vs', 'vs php', 'picture', 'trim', 'spaces', 'data base', 'data using', 'write function', 'words string', 'display mysql', 'type php', 'members', 'colon', 'simplexml', 'coffeescript', 'youre', 'developing', '53', 'eg', 'customer', 'laravel 53', 'using multiple', 'constants', 'annotations', 'use string', 'schedule', 'specific time', 'ms', 'ms access', 'access table', 'table c#', 'uirouter', 'states', 'angularjs uirouter', 'workbook', 'excel workbook', 'maximum number', 'number integer', 'array c++', 'jquery find', 'find size', 'size array', 'array objects', 'ignores', 'time date', 'validating', 'boolean value', 'rspec rails', 'date field', 'field using', 'button jquery', 'postfix', 'increment', 'cell selection', 'paths', 'file paths', 'xy', 'variable c++', 'args', 'fields value', 'value view', 'view template', 'capture', 'local function', 'htmlactionlink', 'within aspnet', 'toolbar', 'incoming', 'aspx', 'behind', 'aspx page', 'code behind', 'whether', 'test whether', 'function called', 'macros', 'createfile', 'across', 'know', 'successful', 'bytes', 'converting int', 'python 3', 'refactoring', 'test java', 'memorystream', 'capitalize', 'efficiently', 'letter string', 'bigo', 'clarification', 'freezes', 'couple', 'minutes', 'java program', 'treat', 'wchar_t', 'interop', 'div elements', 'underscorejs', 'isnt', 'escaping', 'way check', 'check integer', 'convert decimal', 'decimal number', '1204', 'ubuntu 1204', 'guava', 'block', 'multiple different', 'different types', 'exception handling', 'catch block', 'sending sms', 'windows app', 'htmlagilitypack', 'extracting', 'xpath query', 'unable access', 'promise', 'input javascript', 'javascript css', 'sorted', 'indexed', 'java data', 'data structure', 'change css', 'callback functions', 'ios swift', 'div height', 'view model', 'named', 'capturing', 'supports', 'platforms', 'install error', 'using list', 'list dictionary', 'dictionary value', 'c# dynamically', 'dynamically add', 'add event', 'table without', 'without creating', 'c++ equivalent', 'scatterplot', 'unfortunately', 'stopped', 'emulator', 'stopped working', 'working android', 'android emulator', 'possible use', 'transparent', 'transparent background', 'finally', 'websphere', 'error adding', 'evaluate', 'specific attribute', 'batch file', 'haml', 'link_to', 'helper', 'get related', '__dopostback', 'work chrome', 'equality', 'design', 'viewmodel', 'first letter', 'strings array', 'javascript access', 'parent object', 'opposed', 'convert c#', 'activerecord', 'clients', 'fork', 'server multiple', 'multiple clients', 'free memory', 'two data', 'dropdown list', 'list box', 'refer', 'creating multiple', 'multiple objects', 'objects class', 'option', 'app without', 'value cannot', 'cannot null', 'null parameter', 'parameter name', 'advantages disadvantages', 'everything', 'cucumber', 'steps', 'scenario', 'openssl', 'private key', 'set default', 'button html', 'html elements', 'elements jquery', 'jquery plugin', 'mysql query', 'within another', 'loop php', 'change variable', 'variable type', 'type c#', 'print contents', 'contents html', 'object tag', 'tag javascript', 'mongo', 'building', 'mongo db', 'php 53', 'python check', 'footer', 'format string', 'xml element', 'element attribute', 'content using', 'using jaxb', 'class loading', 'junk', 'xml parsing', 'parsing error', 'underneath', 'udp', 'buffer size', 'beautifulsoup', 'findall', 'python beautifulsoup', 'different results', 'ui autocomplete', 'trying use', 'add row', 'row table', 'generating', 'wmi', 'class base', 'class c#', 'shift', 'ctrl', 'alt', 'mouse event', 'rows data', 'paper', 'paper size', 'set correctly', 'posted', 'package', 'couldnt', 'expand', 'c++ library', 'library xcode', 'synchronization', 'java thread', 'thread synchronization', 'web app', 'jekyll', 'serve', 'implicit', 'implicit conversion', 'cannot install', 'checkmark', 'select one', 'pause', 'equal', 'c# save', 'save list', 'binary file', 'return data', 'data controller', 'controller method', 'folder structure', 'arbitrary', 'matches', 'every x', 'file download', 'android sqlite', 'django view', 'eager', 'lib', 'eager loading', 'serial port', 'net c#', 'following', 'draw line', 'communicate', 'linq queries', 'sql server', 's3', 'folders', 'bucket', 'aws s3', 'hot', 'converting xml', 'server table', 'c# method', 'python gui', 'extends', 'runtimeexception', 'user defined', 'defined class', 'class extends', 'create wpf', 'wpf controls', 'background thread', 'creating simple', 'static library', 'library project', 'dll project', 'parsing string', 'write text', 'text text', 'two lists', 'php redirect', 'working using', 'form action', 'look', 'crystal', 'reports', 'crystal reports', 'calling external', 'login form', 'unicodedecodeerror', 'ascii', 'ordinal', '128', 'ascii codec', 'ordinal range', 'range 128', 'encodeuricomponent', 'encode', 'single quotes', 'age', '24', 'str', 'simplest', 'simplest way', 'way add', 'credentials', '220', 'twitter api', 'access resource', 'error code', 'access variable', 'inside function', 'function javascript', 'mouseenter', 'scanner', 'line using', 'using scanner', 'mq', 'websphere mq', 'warning message', 'much memory', 'multiple php', 'months', 'creates', 'foreign', 'foreign key', 'key constraint', 'integer values', 'condition', 'general', 'select first', 'first row', 'utility', 'file text', 'maximum value', 'php nested', 'access element', 'gzip', 'folder files', 'wpf binding', 'event handling', 'spring data', 'data jpa', 'wpf textbox', 'systemtimerstimer', 'need get', 'main thread', 'subscription', 'management', 'split list', 'list lists', 'elastic', 'beanstalk', 'elastic beanstalk', 'use new', 'version python', 'category', 'rails 4', 'images folder', 'one one', 'one using', 'sqlquery', 'string object', 'nhibernate mapping', 'session factory', 'effect', 'executing php', 'using button', 'button android', 'android app', 'multithreaded', 'construction', 'trees', 'im using', 'browsing', 'transform', 'already', 'deck', 'cards', 'deck cards', 'permission', 'errno 13', '13 permission', 'permission denied', '192', 'snow', 'leopard', 'install ruby', 'ruby 192', 'snow leopard', 'including', 'one query', 'display output', 'affected', 'get id', 'resharper', 'sublist', 'returns array', 'require', 'loaderror', 'cannot load', 'load file', 'drawrect', 'cropping', 'uiscrollview', 'suitable', 'jpanels', 'exit', 'receive', 'smtp error', 'passing data', 'data user', 'user controls', 'attempting', 'memcache', 'somehow', 'setcookie', 'asp', 'c# custom', 'click handler', 'prepend', 'backslash', 'uri', 'heroku rails', 'getting file', 'admin user', 'user login', 'login php', 'property file', 'type object', 'vbnet c#', 'return correct', 'ajax call', 'variable javascript', 'getting value', 'dynamically jquery', 'listeners', 'radio buttons', 'get path', 'json value', 'using jsonnet', 'focused', 'exactly', 'script tag', 'httpresponse', 'webkit', 'pdf format', 'hiding', 'insecure', 'dimensional', 'create table', 'using two', 'two dimensional', 'dimensional array', 'total', 'get real', 'length char', 'char char', 'c# show', 'distinct value', 'value combobox', 'place', 'php framework', 'crash', 'onchange', 'section', 'openmp', 'game', 'text based', 'string comma', 'getbytes', 'implemented', 'company', 'wide', 'pom', 'get server', 'server ip', 'paging', 'javascript add', 'add custom', 'custom http', 'http header', 'trigger file', 'fragments', 'java way', 'completed', 'async method', 'access database', 'database windows', 'setup file', 'selectors', '6', 'css selectors', 'segment', 'java android', 'focus working', 'working chrome', 'bootstrap dropdown', 'statement javascript', 'javascript use', 'raw', 'backgroundworker', 'need help', 'use jquery', 'table columns', 'settings', 'inherited', 'inherited class', 'autofac', 'c# net', 'process id', 'vector c++', 'c++ dll', 'truncated', '2 decimal', 'decimal places', '2008', 'scheduled task', 'server 2008', 'two submit', 'submit buttons', 'form redirect', 'redirect different', 'different page', 'recursion', 'substrings', 'using recursion', 'given string', 'exists', 'checking url', 'url exists', 'cannot change', 'logging module', 'module python', 'graphics', 'directx', '2d vector', 'game using', 'correct way', 'find resource', 'create html', 'html image', 'image data', 'soap', 'providing', 'login check', 'check page', 'page redirect', 'file visual', 'function check', 'posts', 'per page', 'page working', 'ngclick', 'change scope', 'scope variable', 'multithread', 'manage', 'java server', 'manage multiple', 'multiple queries', 'reactive', 'instant', 'wpf mvvm', 'necessary', 'listbox', 'coordinate', 'triangle', 'hostname', 'parsed', 'invalid uri', 'sencha', 'trigger function', 'sencha touch', 'benefits', 'oo', 'databases', 'second element', 'element class', 'binary data', 'sql c#', 'check mysql', 'contains certain', 'certain number', 'number mysql', 'xmlhttprequest', 'allowed', 'preflight', 'role', 'purpose', 'contextloaderlistener', 'translating', 'java stream', 'sort list', 'actions', 'net mvc', 'multiple actions', 'something similar', 'years', 'month day', 'illegal', 'illegal character', 'directly', 'inconsistent', 'wpf listbox', 'enable disable', 'unserialize', 'visual basic', 'javaiofilenotfoundexception', 'sdcard', 'element jquery', 'anonymous', 'anonymous type', 'understanding', 'daemon', 'make button', 'add property', 'objects array', 'boost', 'boost c++', 'c++ libraries', 'razor syntax', 'mvc 5', 'database design', 'colors', 'individual', 'different colors', 'array elements', 'curl command', 'javascript file', 'trying get', 'get property', 'property nonobject', 'cmake', 'way initialize', 'net application', 'config', 'relative path', 'path python', 'python logging', 'config file', 'homestead', 'tree structure', 'discrete', 'variadic', 'wrapper', 'jsonresult', 'json parsing', 'javascript check', 'check whether', 'element contains', 'layer', 'webapp', 'service layer', 'python flask', 'javalangclassnotfoundexception', 'rsa', 'decryption', 'rsa encryption', 'encryption decryption', 'breaks', 'line breaks', 'single string', 'ldap', 'authenticated', 'ldap authentication', 'differences', 'collect', 'fetching', 'environment', 'environment variable', 'head', 'mediawiki', 'string double', 'installing ruby', 'raw data', 'access global', 'removing elements', 'elements array', 'array ruby', 'primitive', 'array contains', 'another array', 'mvc razor', 'partial views', 'html inside', 'inside controller', 'rearrange', 'uploaded', 'file without', 'without saving', 'passed', 'python function', 'duplicate entry', '0 key', 'key primary', 'closures', 'methods using', 'application using', 'python run', 'run time', 'specific row', 'row selected', 'achieve', 'points', 'polygon', 'conditional', 'conditional statement', 'l', 'bash', 'run bash', 'bash script', 'r script', 'counting', 'appears', 'counting number', 'number times', 'mpi', 'execution', 'systemin', 'segue', 'identical', 'check two', 'two string', 'constant array', 'array string', 'label text', 'text dynamically', 'dynamically java', 'closure', 'lpwstr', 'convert char', 'simple html', 'html dom', 'defaultdict', 'original', 'get original', 'mapbox', 'javascript issue', 'issue using', 'downloaded', 'entire', 'parts', 'assets', 'libs', 'manifest', 'project android', 'rid', 'loops', 'getting rid', 'nested foreach', 'foreach loops', 'marker', 'notifications', '3rd', 'party', 'push notifications', 'ios using', 'using phonegap', '3rd party', 'concatenation', 'string concatenation', 'variable values', 'jni', 'jquery create', 'fields based', 'based selection', 'change column', 'column width', 'datagridview c#', 'opencart', 'product', 'column name', 'handle exception', 'exception thrown', 'wcf service', 'returning empty', 'c# getting', 'getting html', 'vector vs', 'vs arraylist', 'ensure', 'continuing', 'preparedstatement', 'disallowed', 'headertemplate', 'occurred', 'error occurred', 'potential', 'wrapping', 'writer', 'html attribute', 'attribute value', 'script php', 'reason', 'unique constraint', 'completely', 'remove html', 'fastest', 'fastest way', 'way compare', 'compare objects', 'objects c#', 'percentages', 'store json', 'command found', 'base64', 'adobe', 'air', 'base64 encoded', 'adobe air', 'multiselect', 'restricting', 'django admin', 'access user', 'cells', 'ambiguous', 'match found', 'tooltip', 'offset', 'jquery tooltip', 'calling php', 'string javascript', 'javascript code', 'filling', 'dataset', 'php get', 'get last', 'array key', 'exporting', 'cookies', 'parsing xml', 'view based', 'iphone application', 'http status', 'status 404', 'resource available', 'truncate', 'truncating', 'text without', 'full', 'full calendar', 'reinitialize', 'opens', 'sending mail', 'mail using', 'iis 7', 'causing', 'causing error', 'error swift', 'pythonrequests', 'sending data', 'api using', 'str_replace', 'sufficient', 'attacks', 'prevent sql', 'sql injection', 'jersey', 'context', 'annotation', 'texture', 'incrementing', 'preprocessor', 'blob', 'blob image', 'constructors', 'stock', 'market', 'max', 'erase', 'piping', 'php upload', 'upload image', 'resolve', 'running web', 'getting following', 'following error', 'clipboard', 'copy string', 'using grid', 'grid layout', 'table cell', 'deploying', 'shiny', 'error deploying', 'shiny app', 'excel cell', 'standalone', 'included', 'unix', 'alphabetically', 'sort xml', 'amazon', 'https', 'image android', 'amazon s3', 'https url', 'multiple file', 'upload using', 'logistic', 'anchors', 'find replace', 'example', 'throws', 'c# mysql', 'throws exception', 'unable import', 'import module', 'cell value', 'value hidden', 'clicking button', 'check radio', 'remove empty', 'empty space', 'google+', 'api oauth', 'access token', 'current url', 'line chart', 'customise', 'error page', 'page php', 'liferay', 'programmatically create', 'form ajax', 'dont work', 'html table', 'table aspnet', 'simulate', 'simulate click', 'click div', 'div javascript', 'determined', 'way create', 'create instance', 'scrapy', 'scrape', 'websites', 'dynamic content', 'efficient way', 'way insert', 'sorted array', 'array numbers', 'useful', 'get django', 'explode', 'validate date', 'date function', 'using explode', 'jquery datatable', 'cell row', 'row click', 'number text', 'text box', 'counter', 'uisearchbar', 'clear button', 'compile run', 'casperjs', 'way pass', 'protect', 'direct access', 'gaussian', 'send request', 'request javascript', 'nsmutablearray', 'also', 'struct type', 'adding row', 'log4j', 'get distinct', 'unhandled', 'unhandled user', 'user code', 'compare two', 'numpy arrays', 'arrays different', 'different size', 'return index', 'index column', 'schema', 'overload', 'return type', 'type java', 'class library', 'move', 'retaining', 'listing', 'select box', 'password field', 'trying access', 'access using', 'interpreted', 'float object', 'cannot interpreted', 'interpreted integer', 'get function', 'overridden', 'get set', 'c# classes', 'outside', 'get null', 'subscript', 'requires', 'world', 'soap api', 'resolve error', 'autofill', 'expects', 'expects parameter', 'long string', 'string given', 'repeat', 'intranet', 'center', 'read binary', 'using xmlhttprequest', 'collectionview', 'simply', 'using web', 'webapplication', 'deployed', 'tornado', 'passing custom', 'text php', 'array images', 'uitableviewcell', 'add action', 'custom uitableviewcell', 'uppercase', 'purchase', 'inapp', 'restkit', 'nsmanagedobject', 'instances', 'returns different', 'spring application', 'webpack', 'get unique', 'value array', 'file read', 'subset', 'python numpy', 'get index', 'ajax pagination', 'java process', 'pixels', 'set input', 'stays', 'jquerymobile', 'hover effect', 'round', 'nearest', 'decimal value', 'keyboard shortcut', 'empty lines', 'c# code', 'code file', 'field another', 'another field', 'field changed', 'tools', 'itunes', 'collapsible', 'navigation bar', 'says', 'specification', 'behavior', 'beginners', 'php function', 'ram', 'web page', 'page javascript', 'mysql date', 'date format', 'string format', 'format php', 'error writing', 'writing csv', 'updating database', 'geocode', 'ipaddress', 'jumping', 'solving', 'quadratic', 'processing', 'camera', 'es', 'opengl es', 'es 20', 'ajax javascript', 'javascript c#', 'largest', '12', '000', 'find largest', 'using loop', 'work properly', 'retrieve values', 'row gridview', 'frequency', 'engine', '27', 'google app', 'app engine', 'engine python', 'python 27', 'nokogiri', 'curl request', 'coredata', 'doctrine', 'doctrine 2', 'missing value', 'emit', 'callback function', 'function nodejs', 'nsmutabledictionary', 'remove array', 'array dictionary', 'write xml', 'deprecated', 'treeview', 'vbnet get', 'javalangstring', 'convert value', 'value type', 'type javalangstring', 'distance', 'continuous', 'twodimensional', 'lambda expression', 'mvc view', 'using vbnet', 'xna', 'problems', 'scatter', 'scatter plot', 'elegant', 'elegant way', 'numeric', 'sort string', 'error accessing', 'first second', 'javascript object', 'object jquery', 'convert xml', 'xml data', 'preference', 'callback called', 'insert statement', 'statement c++', 'inside html', 'parse xml', 'zip file', 'pane', 'centered', 'set size', 'force', 'ocr', 'invariant', 'alert', 'alert dialog', 'subplot', 'get mysql', 'foreign keys', 'raises', 'using format', 'subclass', 'superclass', 'week', 'requestmapping', 'secured', 'large', 'large files', 'directives', 'custom directive', 'mismatch', 'bean property', 'argument type', 'type mismatch', 'java c++', 'shape', 'add onclick', 'drupal 7', 'vs2013', 'never', 'tree c++', 'redis', 'date object', 'showdialog', 'sounds', 'cocoa', 'game programming', 'javascript scope', 'swift ios', 'ios xcode', 'leaving', 'reloading page', 'page using', 'parser', 'getelementsbytagname', 'xml parser', 'alternate', 'tr', 'embedding', 'embedded', 'symfony 2', 'onclick event', 'event using', 'business', 'layers', 'unreachable', 'mvc form', 'encrypting', 'decrypting', 'encrypting decrypting', 'interfaces', 'differs', 'aspnet textbox', 'img', 'onclick button', 'ie 9', 'assign javascript', 'variable php', 'php ajax', 'theme', 'header footer', 'generation', 'contain', 'contain definition', 'cron', 'query update', 'spring 3', 'integers', 'array integers', 'int array', 'ordering', 'sections', 'loaded', 'capybara', 'instance variable', 'rspec capybara', 'howto', 'like c', 'avoiding', 'someone', 'objectoriented', 'use global', 'devexpress', 'data ms', 'ms sql', 'datetimepicker', 'time format', 'java classes', 'choice', 'hide show', 'show form', 'form fields', 'based dropdown', 'java files', 'files folder', 'wildcards', 'routes', 'routes rails', 'get raw', 'xml java', 'service call', 'home', 'known', 'queues', 'appended', 'since', 'scenarios', 'extremely', 'flow', 'panning', 'raphaeljs', 'cyclic', 'freezing', 'javascript settimeout', 'multiply', 'backup', 'registry key', 'key c#', 'domains', 'subdomains', 'php sessions', 'across multiple', 'multiple domains', 'richtextbox', 'one line', 'line text', 'add two', 'two time', 'strings php', 'appearing', 'body tag', 'formatter', 'using boost', 'spark dataframe', 'keyvalue', 'next previous', 'key dictionary', 'select element', 'element value', 'java selenium', 'pass input', 'running windows', 'ssh', 'server c#', '_request', '_get', 'string two', 'local file', 'select date', 'box using', 'wxwidgets', 'etc', 'html5 canvas', 'virtual functions', 'functions c', 'differentiate', 'copies', 'pycharm', 'module named', 'cakephp 20', 'getting class', 'found error', 'video streaming', 'template type', 'swap', 'stdset', 'work using', 'using aspnet', 'property list', 'list another', 'another property', 'using lambda', 'discover', 'occurs', 'registered', 'swipe', 'edit button', 'save array', 'c# reflection', 'good way', 'documentation', 'studio c++', 'intermittent', 'windows service', 'assigning', 'get key', 'key value', 'value django', 'google charts', 'multiple properties', 'code block', 'export csv', 'csv data', 'odd numbers', 'breaking', 'link clicked', 'javascript button', 'button onclick', 'onclick working', 'jasmine', 'function calls', 'fgets', 'downloading large', 'create static', 'instances class', 'class inside', 'class python', 'pydev', 'jython', 'startup', 'running script', 'optimize', 'webxml', 'xpath find', 'plain text', 'longest', 'find longest', 'least', 'least one', 'one field', 'asynchronous', 'synchronous', 'post facebook', 'facebook using', 'straight', 'array different', 'different data', 'data types', 'listbox item', 'kendo grid', 'sharing', 'core data', 'data store', 'iphone apps', 'rows jquery', 'fast', 'flexible', 'iterator', 'glow', 'usable', 'querying', 'clause using', 'php convert', 'session variables', 'girl', 'association', 'factory girl', 'key name', 'asp net', 'mvc model', 'model class', 'restore', 'data file', 'bold', 'bold text', 'text textarea', 'content size', 'anchor', 'corners', 'album', 'facebook graph', 'graph api', 'mark', 'system call', 'parameter 1', 'indices', 'indices must', 'must integers', 'integers str', 'mysql table', 'indigo', 'eclipse indigo', 'unit test', 'close child', 'browser window', 'webdriver using', 'invocation', 'flash', 'ex', 'emails', 'sharepoint 2010', 'send emails', 'using c', 'sleeping', 'recover', 'tomcat eclipse', 'key error', 'subclasses', 'extra', 'get relative', 'action method', 'designed', 'vs 2012', 'wont run', 'run windows', 'windows 7', 'repeats', 'check first', 'first character', 'send string', 'array jquery', 'del', 'backspace', 'overflow', 'classpath', 'properties file', 'file tomcat', 'beans', 'select columns', 'despite', 'unable execute', 'auth', 'swagger', 'crud', 'using spring', 'spring hibernate', 'tool', 'recognised', 'include_path', 'mdb', 'connect ms', 'using ip', 'vbnet application', 'made', 'concrete', 'generic methods', 'c#net', 'driven', 'formal', 'matched', 'occasionally', 'stretch', 'menuitem', 'context menu', '2000', 'images server', 'server using', 'bower', 'restful', 'restful api', 'basic authentication', 'access properties', 'failed load', 'twisted', 'yields', 'python twisted', 'event textbox', 'listt', 'get return', 'sorted list', 'overlapping', 'segments', 'factorygirl', 'could initialize', 'initialize class', 'preload', 'uiviewcontroller', 'clicks', 'user clicks', 'outside form', 'difference two', 'two datatables', 'index range', 'star', 'gps', '422', 'infix', 'calculator', 'reading input', 'class java', 'c++ header', 'register', 'nsdata', 'conflicts', 'module name', 'unresolved', 'cannot concatenate', 'concatenate str', 'list objects', 'random string', 'string php', 'php using', 'multiple selection', 'scroll bar', 'partialview', 'anonymous functions', 'hashtable', 'remember', 'scroll position', 'using visual', 'db connection', 'object one', 'one class', 'b', 'x function', 'b c', 'c function', 'keywords', 'volatile', 'explicit', 'route matches', 'establish', 'secure', 'error java', 'secure connection', 'event aspnet', 'refactor', 'imports', 'overhead', 'youtube', 'channel', 'check user', 'user already', 'dimension', 'find length', 'itextsharp', 'using itextsharp', 'data existing', 'existing pdf', 'reverse', 'bigdecimal', 'scala', 'ejb', 'glassfish', 'example code', 'export html', 'wise', 'coordinates', 'assignment', 'java generics', 'compiler error', 'error variable', 'variable assignment', 'birthday', 'saving image', 'image file', 'file_get_contents', 'cases', 'unicode string', 'cs', 'cs file', 'cython', 'clexe', 'c# class', 'checkbox value', 'image text', 'facebook wall', 'using open', 'javalanginteger', 'messagebox', 'numeric value', 'though', 'contentsize', 'even though', 'starts', 'late', 'invoking', 'method without', 'edge', 'python convert', 'mysql order', 'pdo mysql', 'jquery change', 'value ajax', 'select item', 'select using', 'server android', 'functional', 'generic method', 'foreignkey', 'django get', 'get objects', 'objects one', 'one table', 'another table', 'flask app', 'serialization deserialization', 'beginner', 'logical', 'na', 'normalizing', 'pixel', 'pixel values', 'deleting', 'explicitly', 'raise', 'custom java', 'java arraylist', 'book', 'ruby windows', 'pager', 'adding data', 'pthread', 'hosted', 'text python', 'php mvc', 'mvc framework', 'iframe src', 'form input', 'phpexcel', 'sheet', 'phpexcel read', 'read excel', 'excel sheet', 'international', 'fuzzy', 'acceptable', 'match string', 'console application', 'application c#', 'padding', 'multiple values', 'values python', 'replace space', 'new line', 'line python', 'change html', 'extension url', 'url using', 'vaadin', 'propagation', 'exception type', 'validation errors', 'oncreate', 'javascript event', 'edit mode', 'wordpress theme', 'docker', 'c++ class', 'class instance', 'array initialization', 'positive', 'positive negative', 'negative numbers', 'numbers java', 'modifier', 'button control', 'reference type', 'different object', 'escape', 'sql using', 'vc++', 'jsonp', 'ajax request', 'javascript ajax', 'passing parameters', 'rand', 'file assembly', 'dispatch', 'descending', 'cant install', 'instantly', 'c# app', 'marshalling', 'fortran', 'file python', 'chain', 'pair', 'codility', 'oledb', 'connection string', 'object parameter', 'c# application', 'tip', 'button click', 'fails error', 'sprintf', 'websockets', 'wait element', 'display loading', 'page loaded', 'opacity', 'different length', 'instantiated', 'class instantiated', 'simplexmlelement', 'helpers', 'environments', 'use url', 'none', 'using objective', 'applications', 'net winforms', 'multiple columns', 'columns values', 'values datatable', 'master', 'master page', 'content page', 'variable loop', 'loop inside', 'get parent', 'parent controller', 'change background', 'background image', 'image width', 'css code', 'exclude', 'maven plugin', 'pyramid', 'letters', 'program python', 'attaching', 'polymorphic', 'jquery defined', 'smoothly', 'animate', 'pretty', 'polynomial', 'remove event', 'create dynamic', 'specific text', 'keyword', 'arc', 'object references', 'enums', 'mkmapview', 'templated', 'foundation', 'select working', 'parameter type', 'new tab', 'tab window', 'full text', 'text search', 'search using', 'boxes', 'has_many', 'check boxes', 'has_many relationship', 'access denied', 'working server', 'resets', 'jobject', 'error reading', 'item object', 'create popup', 'button swift', 'ios 8', 'autolayout', 'disabled', 'uitextfield', 'responder', 'parse string', 'alter', 'optimal', 'locations', 'codes', 'combinations', 'toggle', 'jquery toggle', 'remove element', 'python sort', 'list containing', 'integer string', 'string integers', 'streams', 'input output', 'formats', 'mp3', 'audio files', 'delete specific', 'command button', 'button gridview', 'derived classes', 'invalid token', 'class struct', 'interface member', 'file form', 'public key', 'sorting list', 'subview', 'disappears', 'sure', 'idisposable', 'integrate', 'make sure', 'continuous integration', 'specifying', 'function argument', 'question', 'c# array', 'data returned', 'language', 'change language', 'event working', 'doesnt find', '_files', 'ignored', 'php codeigniter', 'backwards', 'way iterate', 'java error', 'constructor found', 'java string', 'value change', 'change function', 'bufferedreader', 'create array', 'array inside', 'uploads', 'larger', 'mb', 'file uploads', 'data binding', 'instructions', 'parse html', 'array pointer', 'table cells', 'single row', 'webmethod', 'pass string', 'array via', 'vbscript', 'c# dll', 'table row', 'answer', 'using eval', 'entityframework', 'discriminator', 'code first', 'redux', 'reactrouter', 'refreshes', 'php check', 'check email', 'email already', 'already exists', 'running code', 'mongoclient', 'anything', 'jsonarray', 'jsonobject', 'java google', 'file exists', 'rename file', 'jquery rails', 'serving', 'permissions', 'static content', 'rails validate', 'llvm', 'clang', 'compiling c++', 'smtp email', 'email gmail', 'takes long', 'long time', '15 seconds', 'retrive', 'ampersand', 'animated', 'apple', '8 app', 'app using', 'java api', 'clipping', 'dialog box', 'multilevel', 'typo3', 'php create', 'studio project', 'read csv', 'file url', 'whats wrong', 'h2', 'h2 database', 'getaddrinfo', 'nsthread', 'nstimer', 'translate', 'matrices', 'validator', 'select option', 'way detect', 'merged', 'one column', 'column gridview', 'opengl c++', 'install windows', 'automated', 'using junit', 'json serialization', 'updates', 'depth', 'gem install', 'remove multiple', 'multiple spaces', 'characters php', 'caption', 'stream file', 'file contents', 'xml document', 'show alert', 'alert message', 'swift 20', 'ror', 'activation', 'clicking link', 'get html', 'current user', 'set list', 'list images', 'tricky', 'getting started', 'ajax without', 'page codeigniter', 'convention', 'java add', 'add method', 'lucene', 'concurrentmodificationexception', 'still working', 'fileinfo', 'mimetype', 'description', 'enabled', 'output java', 'java source', 'syntax highlighting', 'spinner', 'outer', 'accessing variable', 'values using', 'using query', 'query array', 'flask python', 'select query', 'design pattern', 'client api', 'certain time', 'time java', 'error importing', 'referenceerror', 'html js', 'referenceerror function', 'function defined', 'short', 'get windows', 'file name', 'discount', 'price', 'display content', 'pandas data', 'data frame', 'arguments using', 'using thread', 'copy directory', 'mysql update', 'update single', 'via javascript', 'key exists', 'prevent double', 'listview', 'details', 'cell values', 'values inside', 'inside listview', 'opera', 'display none', 'normal', 'histogram', 'best fit', 'histogram r', 'websocket', 'initiate', 'ruby without', 'without converting', 'declared scope', 'validate email', 'function name', 'two different', 'different actions', 'one submit', 'upload video', 'sending post', 'post php', 'dev', 'knockout', 'log4net', 'listview android', 'causing memory', 'memory exception', 'null pointer', 'pointer exception', 'lpcstr', 'convert unsigned', 'unsigned char', 'put array', 'inside array', 'outofmemoryexception', 'remove characters', 'webview android', 'obtain', 'linear', 'model r', 'multidimensional', 'multidimensional array', 'metadata', 'error unable', 'unable retrieve', 'jpa query', 'query find', 'record exists', 'enum c#', 'tags', 'c# regular', 'tags html', 'populating', 'sql data', 'validations', 'cant use', 'nested list', 'server php', '42', 'multiple select', 'select checkbox', 'checkbox checked', 'using mvc', 'abstract classes', 'fill', 'fill pdf', 'input fields', 'forms authentication', 'whitespace', 'p', 'p invoke', 'aes', 'securely', 'android device', 'tabcontrol', 'select list', 'connections', 'dropped', 'java app', 'overwrite', 'number rows', 'container using', 'unmarshalling', 'default namespace', 'namespace declaration', 'native c++', 'c++ c#', 'within foreach', 'partial view', 'fields form', 'typed', 'render html', 'complexity', 'pow', 'time complexity', 'large csv', 'form new', 'file multiple', 'destructor', 'nsdateformatter', 'post requests', 'line arguments', 'wpf c#', 'unable connect', 'connect smtp', 'smtp server', 'paypal', 'paypal sandbox', 'could load', 'make ajax', 'ajax get', 'superview', 'bounds', 'wpf grid', 'subprocess', 'subprocess module', 'writing xml', 'piped', 'input python', 'simulation', 'card', 'systemoutofmemoryexception', 'pinch', 'get event', 'event change', 'enum value', 'double array', 'unity', 'unity c#', 'reorder', 'tabbar', 'set image', 'ios 6', 'upper', 'program uses', 'prime numbers', 'xpath expression', 'expression java', 'read json', 'service returning', 'returning undefined', 'undefined javascript', 'techniques', 'depends', 'single page', 'throw', 'throw error', 'reflecting', 'highlight', 'word string', 'string contains', 'number lines', 'dictionaries', 'jinja', 'list dictionaries', 'embed', 'ever', 'except', 'java virtual', 'virtual machine', 'communicating', 'firebase', 'chrome extension', 'sqlstate', 'tokens', 'invalid parameter', 'parameter number', 'match number', 'tab bar', 'bar controller', 'date time', 'include_once', 'configuration files', 'value jquery', 'composite', 'observation', 'windows gui', 'python scripts', 'css file', 'array strings', 'strings c', 'el', 'jsp el', 'phpmyadmin', 'java application', 'wp', 'using anonymous', 'insertion', 'binary string', 'string integer', 'received', 'function another', 'seem', 'seem work', 'slash', 'id url', 'twig', 'print variable', 'twig template', 'c++ constructor', 'class member', 'caret', 'ruby gem', 'getting data', 'browser control', 'scanf', 'carriage', 'carriage return', 'combobox selection', 'rn', 'delimited', 'get integer', 'multiple lines', 'webrtc', 'dlls', 'enum type', 'animations', 'pick', 'uipickerview', 'multiple table', 'login system', 'codefirst', 'migration', 'blade', 'view laravel', 'connectivity', 'video player', 'asynctask', 'string arguments', 'asynctask android', 'android eclipse', 'collection view', 'getting next', 'next row', 'crystal report', 'client side', 'jquery datepicker', 'displaying image', 'image based', 'based value', 'make image', 'aspnet button', 'fast way', 'way get', 'get list', 'active directory', 'directory c#', 'odbc', 'package r', 'exist error', 'adding elements', 'include jquery', 'project using', 'come', 'calculating', 'globally', 'convert json', 'set property', 'null error', 'json string', 'iframe parent', 'class parameter', 'occurence', 'split string', 'string first', 'contexts', 'imagemagick', 'opening new', 'json post', 'suspend', 'expose', 'flag', 'archive', 'app ios', 'continuewith', 'score', 'oriented', 'gallery', 'unable load', 'image gallery', 'system using', 'limit', 'backgroundcolor', 'subclassing', 'datatype', 'highest value', 'consecutive', 'tcp', 'tcp ip', 'source code', 'code execution', 'generators', 'extension methods', 'data without', 'without affecting', 'cant read', 'imageview', '__file__', 'h', 'phone number', 'number format', 'uinavigationbar', 'reference function', 'material', 'angular material', 'lodash', 'sitemap', 'align', 'zone', 'compact', 'time zone', 'compact framework', 'class constructor', 'rmi', 'running java', 'java rmi', 'proguard', 'processes', 'communication', 'objects different', 'different class', 'class c++', 'paperclip', 'get top', 'rails paperclip', 'queryset', 'django queryset', 'property value', 'sending json', 'json c#', 'tuple python', 'get process', 'connector', 'unresolved external', 'external symbol', 'mysql connector', 'super', 'lxml', 'pig', 'columns rows', 'multiple versions', 'required class', 'arraylist java', 'implementing', 'active record', 'play mp3', 'mp3 files', 'files c', 'delegates', 'weka', 'date type', 'thumbnail', 'specific category', 'subarrays', 'split array', 'add edit', 'illegalstateexception', 'using arraylist', 'input type', 'paragraphs', 'bindings', 'equivalent python', 'python bindings', 'cut', 'scientific', 'replace multiple', 'lines text', 'remote server', 'orm', 'business logic', 'model controller', 'different functions', 'lost', 'jquery get', 'get url', 'variables javascript', 'equals', 'php loop', 'loop get', 'values mysql', 'c using', 'using jni', 'test cases', 'constructor called', 'runnable', 'file working', 'getting invalid', 'invalid syntax', 'saving array', 'variables without', 'using html', 'detecting', 'linq c#', 'get date', 'time value', 'specific string', 'initial', 'detail', 'jms', 'copy file', 'directory file', 'file exist', 'methods within', 'form model', 'model binding', 'corner', 'top left', 'valgrind', 'possibly', 'selectedindex', 'html dropdown', 'dropdown using', 'element one', 'raising', 'django models', 'save method', 'boost libraries', 'lowest', 'java array', 'underscore', 'mapper', 'portrait', 'landscape', 'escaping double', 'double quotes', 'hibernate mapping', 'result set', 'native query', 'javanetconnectexception', 'refused', 'javanetconnectexception connection', 'connection refused', 'refused connect', 'simplexml_load_file', '1 resource', 'resource boolean', 'boolean given', 'authentication failed', 'closed', 'right click', 'expecting', 'php syntax', 'unexpected expecting', 'titles', 'mobile application', 'attempt', 'django model', 'direction', 'rotation', 'returning null', 'null object', 'object use', 'use curl', 'jobs', 'twitter oauth', 'cron jobs', 'locate', 'htaccess', 'comments', '43', 'c++ standard', 'standard library', 'provide', 'additional', 'save data', 'failed error', 'array undefined', 'hello', 'hello world', 'dependencies', 'artifact', 'using maven', 'multiprocessing', 'python multiprocessing', 'windows linux', 'forloop', 'taken', 'borland', 'gcc', 'compilers', 'implement file', 'get work', 'given date', 'neo4j', 'create unique', 'delete files', 'reading text', 'related objects', 'non static', 'static variable', 'prev', 'slideshow', 'prev next', 'next button', 'simple jquery', 'descending order', 'print list', 'typefile', 'input typefile', 'image thumbnail', 'converted', 'arrays one', 'one element', 'hooks', 'woocommerce', 'pyqt4', 'c++ code', 'code visual', 'studio code', 'icons', 'ios application', 'image javascript', 'javascript image', 'image object', 'importerror', 'importerror cannot', 'cannot import', 'import name', 'error messages', 'attribute name', 'sqlite3', 'firing', 'click event', 'event firing', 'ul', 'pressing', 'ul li', 'parameters function', 'entitymanagerfactory', 'hashtag', 'twitter search', 'row datagridview', 'datagridview using', 'structures', 'c++ array', 'predicate', 'min max', 'today', 'selenium web', 'web driver', 'password using', 'selenium python', 'inserting', 'categories', 'mysql db', 'inline javascript', 'key using', 'redirect login', 'flash message', 'rtf', 'undeclared', 'concurrency', 'simultaneous', 'mutexes', 'issue multiple', 'count elements', 'window form', 'form another', 'another form', 'gae', 'mechanize', 'http https', 'ascx', 'allow one', 'instance python', 'alone', 'xml attributes', 'removal', 'server error', 'matlab', 'indicator', 'loading indicator', 'async function', 'php xml', 'xml request', 'integers strings', 'variable function', 'function static', 'forever', 'name current', 'closing', 'modal window', 'window closing', 'closing form', 'form submission', 'image map', 'cant call', 'function c++', 'get output', 'output console', 'c# error', 'write file', 'unmarshall', 'xml elements', 'elements name', 'name different', 'attribute values', 'class members', 'javascript events', 'toggle button', 'button trigger', 'button form', 'value html', 'aspnet code', 'store string', 'another view', 'phpstorm', 'accessed', 'magic', 'router', 'uitableviewcells', 'message body', 'synchronize', 'line string', 'always returns', 'returns false', 'infowindow', 'js api', 'msbuild', 'jenkins', 'nsurlconnection', 'java print', 'sun', 'mssql', 'odbc driver', 'manytoone', 'manytoone relationship', 'custom field', 'add header', 'request java', 'xss', 'attack', 'style attribute', 'gone', 'key values', 'link function', 'function angularjs', 'vnext', 'aspnet 5', '5 vnext', 'macro', 'sass', 'requiring', 'less css', 'adding jar', 'ready', 'file one', 'one server', 'sliding', 'c linux', 'putting', 'jqueryui', 'ajax php', 'php variables', 'equivalent java', 'day month', 'link image', 'image php', 'jquery hide', 'change dropdown', 'twice', 'outside bounds', 'linux using', 'make spring', 'mvc project', 'linux server', 'way determine', 'autocompletion', 'included file', 'resetting', 'beginning', 'mstest', 'redirecting', 'found type', 'practise', 'directorygetfiles', 'locked', 'best practise', 'stuck', 'running command', 'java tomcat', 'instantiate', 'cannot instantiate', 'save video', 'video stream', 'resolves', 'internal', 'python print', 'heroku app', 'underline', 'windows azure', 'service start', 'getting wrong', 'files visual', 'studio 2008', 'liststring', 'call jquery', 'named parameters', 'auto login', 'within iframe', 'input validation', 'exist current', 'current context', 'id form', 'manifest file', 'file new', 'new java', 'knockoutjs', 'mousemove', 'protractor', 'write error', 'error log', 'ini', 'manipulation', 'file format', 'set environment', 'environment variables', 'rails javascript', 'add javascript', 'ball', 'underscores', 'page reload', 'append text', 'lwjgl', 'create button', 'converting json', 'string objective', 'value pair', 'last word', 'working expected', 'guess', 'compatibility', 'based upon', 'drivers', 'fopen', 'reuse', 'primary keys', 'cannot select', 'nondefault', 'use singleton', 'form value', 'cant insert', 'insert data', 'database android', 'execute javascript', 'function python', 'python selenium', 'clone', 'questions', 'error visual', 'studio c#', 'rails create', 'change button', 'properties one', 'one object', 'simple c++', 'websocket client', 'ranges', 'word interop', 'stringformat', 'consider', 'literal', 'released', 'practices', 'best practices', 'javascript error', 'c++ exception', 'around', 'facebook api', 'api login', 'facebook connect', 'data csv', 'csv mysql', 'using cakephp', 'two columns', 'nginclude', 'last element', 'array swift', 'bar plot', 'thing', 'floating', 'floating point', 'element arraylist', 'produces', 'php output', 'php curl', 'browser cache', 'remove spaces', 'java netbeans', 'text javascript', 'products', 'prestashop', 'unique key', 'set string', 'string data', 'max_execution_time', 'bottom page', 'nameerror', 'nameerror name', 'firefox extension', 'arguments method', 'method call', 'switch statement', 'rss', 'repeater control', 'control aspnet', 'aspnet 20', 'expensive', 'facebook php', 'php sdk', 'multiple options', 'options select', 'select tag', 'tag using', 'hdfs', 'copying data', 'smtpclient', 'mod_wsgi', 'interaction', 'virtualenv', 'comprehension', 'list comprehension', 'spring framework', 'numpy scipy', 'unbind', '+ javascript', 'javascript popup', 'easy', 'initialize char', 'char pointer', 'pointer class', 'pointer integer', 'integer java', 'string c', 'two array', 'stringcontains', 'field property', 'name found', 'xamarin', 'appconfig', 'appconfig file', 'image via', 'defined type', 'checking python', 'python generate', 'random number', 'aggregation', 'json array', 'using underscore', 'java problem', 'problem getting', 'getting errors', 'initialized', 'initializer', 'initializer list', 'two classes', 'encodings', 'get time', 'time two', 'two times', 'pylab', 'error module', 'c# check', 'check type', 'cast object', 'way format', 'javas', 'concurrenthashmap', 'rails model', 'object int', 'expression replace', 'webform', 'send session', 'aspnet webform', 'reading writing', 'sqlite db', 'attr_accessor', 'conditionals', 'binary tree', 'edges', 'borders', 'conversion failed', 'failed converting', 'converting date', 'time character', 'python open', 'vertically', 'get 2', 'jersey client', 'using multithreading', 'jquery animate', 'printer', 'preferences', 'save changes', 'updatepanel', 'int32', 'entities recognize', 'recognize method', 'incomplete', 'compiled', 'notepad++', 'recognizing', 'messing', 'c# read', 'excel files', 'stackoverflow', 'recursive loop', 'loop list', 'call another', 'caught', 'prefix', 'jqueryajax', 'fire', 'success', 'callbacks', 'joined', 'query multiple', 'tables using', 'mysql_real_escape_string', 'established', 'soap web', 'service c#', 'interval', 'pdf c#', 'sql update', 'update table', 'table rows', 'rows one', 'check file', 'html entities', 'error failed', 'build gem', 'gem native', 'native extension', 'ajax form', 'form submitting', 'jdbctemplate', 'hibernate jpa', 'sessionfactory', 'restful web', 'using phpunit', 'expire', 'dead', 'hanging', 'linux c++', 'lots', 'studio 2015', 'import xml', 'sort arraylist', 'arraylist objects', 'datetime format', 'javascript syntax', 'working php', 'php files', 'instance variables', 'openfiledialog', 'control using', 'c# winforms', '50', 'resize iframe', 'cannot get', 'continuously', 'value input', 'middleware', 'read string', 'string file', 'line c', 'exchange', 'file server', 'server client', 'remove delete', 'delete image', 'windows services', 'scales', 'subtype', 'originally', 'server database', 'wpf datagrid', 'fly', 'csv files', 'files inside', 'pm', 'variable array', 'keys values', 'values dictionary', 'html input', 'value function', 'prepared statement', 'statement multiple', 'inputstream', 'convert double', 'file mysql', 'turning', 'java calling', 'moving object', 'screen using', 'using timer', 'timer class', 'concurrent', 'checkbox click', 'firing twice', 'tls', 'systemnetwebexception', 'could create', 'ssl tls', 'going', 'list without', 'capistrano', '127', '4 +', 'capistrano deploy', 'exit status', 'records using', 'using codeigniter', 'java object', 'jquery php', 'keyup', 'old value', 'leaflet', 'load data', 'mouse click', 'sequentially', 'splitting', 'parallelforeach', 'format mysql', 'end line', 'character python', 'array element', 'angular bootstrap', 'bootstrap tabs', 'inside functions', 'returning object', 'map function', 'function method', 'java preparedstatement', 'iframes', 'winforms application', 'sqldatareader', 'type conversion', 'minute', 'check process', 'receives', 'checks', 'ascending', 'write program', 'program c++', 'ascending order', 'microsoft word', 'letters string', 'formatted', 'api error', 'link url', 'predefined', 'density', 'functions using', 'using ggplot', 'ggplot r', 'make link', 'another page', 'php mysqli', 'error converting', 'query results', 'metro', 'metro app', 'user profile', 'use undeclared', 'grade', 'average', 'grades', 'loop mysql', 'table php', 'attachments', 'scalar', 'must declare', 'scalar variable', 'pass parameters', 'connection c#', 'string character', 'criteria', 'executes', 'hibernate spring', 'dynamic checkbox', 'javascript page', 'proxy server', 'aspnet core', 'textbox c#', 'remove duplicate', 'visit', 'js function', 'placeholders', 'measure', 'lower', 'lower case', 'growing', 'software', 'directories', 'unexpected character', 'character input', 'earth', '46', 'load json', 'generic object', 'object json', 'check variable', 'type struct', 'stdvector', 'opencv mat', 'act', 'audio stream', 'node xml', 'using xpath', 'jquery mouseover', 'decimal values', 'concatenating', 'files one', 'denied user', 'datalist', 'script command', 'c++ member', 'c++ get', 'window size', 'width height', 'choose', 'get session', 'two databases', 'navigator', 'delete update', 'expect', 'backward', 'python map', 'python subprocess', 'get post', 'file reading', 'boundaries', 'rewrite', 'rules', 'rewrite rules', 'checked radio', 'descriptors', 'kernel', 'kernel space', 'assistance', '0 1', '2 3', '3 javascript', 'using pdo', 'components', 'epoch', 'epoch time', '5 minutes', 'springdatajpa', 'minified', 'radiobutton', 'php socket', 'cdi', 'junit test', 'divided', 'holding', 'determine whether', 'jquery working', 'rerender', 'street', 'api get', 'xsd', 'gui application', 'service application', 'meaning', 'programming c++', 'parsing java', 'determine number', 'elements inside', 'object null', 'two separate', 'popup windows', 'concurrently', 'cannot run', 'run multiple', 'exception trying', 'trying call', 'systemargumentexception', 'nonascii', 'sound', 'play sound', 'xmlelement', 'bitmapimage', 'characters text', 'bitmap image', 'gulp', 'utf8 string', 'bars', 'working jquery', 'v2', 'api v2', 'laravel php', 'production server', 'webclient', 'service using', 'using httpwebrequest', 'dots', 'ios device', 'restful webservice', 'dropdownlist', 'data xml', 'aspnet application', 'operand', 'operand type', 'type int', 'changing background', 'redraw', 'exc_bad_access', 'c++ xcode', 'querystring', 'need simple', 'display multiple', 'payments', 'cannot execute', 'following code', 'clr', 'executing sql', 'sql queries', 'hybrid', 'event fired', 'string split', 'download link', 'javascript match', 'camel', 'apache camel', 'values hashmap', 'andengine', 'delimiters', 'use c#', 'string multiple', 'entity entity', 'decoding', 'urllib', 'python3', 'c# equivalent', 'library function', 'customized', 'evaluating', '64 bit', 'c++ windows', 'returns undefined', 'php wordpress', 'extjs 4', 'row count', 'expected 1', 'method invocation', 'commit', 'mvc 6', 'succeeded', 'auto increment', 'increment value', 'input form', 'filenames', 'exercise', 'learn python', 'margins', 'gridlayout', 'chosen', 'cannot assign', 'string type', 'imported', 'saving file', 'perfectly', 'dimensions', 'stl container', 'delegation', 'returns 404', 'uncaught referenceerror', 'ws', 'convert svg', 'svg path', 'path relative', 'script executing', 'unique elements', 'using array', 'windowsh', 'cstring', 'textboxfor', 'initial value', 'screenshot', 'post json', 'matrix vector', 'weeks', 'want get', 'get number', 'hbase', 'scan', 'arrows', 'map java', 'set maximum', 'cuda', 'applescript', 'progressbar', 'listview row', 'row column', 'loop python', 'flip', 'httprequest', 'login website', 'vbnet 2010', 'one view', 'statement working', 'list c#', 'authenticate', 'authenticate user', 'user active', 'directory using', 'io', 'network adapter', 'establish connection', 'whose', 'singleton class', 'passing parameter', 'insensitive', 'framework linq', 'linq contains', 'case insensitive', 'returns empty', 'google chart', 'sequences', 'decorators', 'want make', 'visitor', 'dbmigrate', 'quantile', 'normalize', 'single column', 'column r', 'comparisons', 'items using', 'store values', 'values array', 'rule', 'rule make', 'make target', 'occured', 'full url', 'overloading operator', 'pyside', 'lightweight', 'two properties', 'comparing 2', 'uitableview swift', 'vendor', 'data sets', 'horizontally', 'scroll div', 'robust', 'text textbox', 'platform', 'ios android', 'cross platform', 'phrase', 'finder', 'screen width', 'spring batch', 'php setting', 'arrow keys', 'dont show', 'chartjs', 'bar chart', 'countdown', 'finish', 'get table', 'based radio', 'button using', 'using prototype', 'mvc web', 'unique values', 'debug', 'net console', 'latex', 'export data', 'white', 'white space', 'expression javascript', 'hashing', 'string containing', 'special characters', 'grid view', 'view android', 'reading numbers', 'numbers text', 'tcp socket', 'javalangnosuchfielderror', 'trace', 'database without', 'c# programmatically', 'get rid', 'everytime', 'execute method', 'class using', 'sql command', 'asmx', 'property object', 'object inside', '18', 'get multiple', 'multiple items', 'items one', 'convert dictionary', 'com port', 'many relationship', 'maven project', 'project java', 'java eclipse', 'add image', 'image background', 'view swift', 'lambdas', 'child processes', 'compile error', 'error c', 'error expected', 'expected expression', 'simplexml_load_string', 'reliably', 'using youtube', 'youtube api', 'api aspnet', 'display div', 'image database', 'get contents', 'using regular', 'expression find', 'file based', 'kml', 'merging multiple', 'behaviour', 'using id', 'php login', 'conversion error', 'error ruby', 'rails error', 'return multiple', 'extjs4', 'pressed', 'vs java', 'java desktop', 'desktop application', 'updating value', 'full screen', 'site using', 'greater', 'less size', 'redeclare', 'previously', 'cannot redeclare', 'signature', 'asterisk', 'ellipse', 'get max', 'using regex', 'possible set', 'run selenium', 'without opening', 'opening browser', 'open popup', 'stack size', 'list java', 'eclipse plugin', 'delete record', 'two tables', 'send multiple', 'listboxitem', 'devices', 'set font', 'ios devices', 'react native', 'anyone', 'getjson', 'returning 404', '404 found', 'swift 30', 'binary image', 'class function', 'calculate date', 'customizing', 'xamarin forms', 'trying install', 'fire event', 'service client', 'hexadecimal', 'newline', 'filesystem', 'ruby rvm', 'developer', 'activities', 'assignments', 'runtime error', 'downloading file', 'compile c', 'p tags', 'undefined type', 'create empty', 'column names', 'processstart', 'animating', 'using html5', 'indexpath', 'uitableview cell', 'jquery code', 'text c#', 'analytics', 'google analytics', 'restart', 'uncaught exception', 'exception occurs', 'ce', 'c++ compiler', 'windows ce', 'lose', 'value page', 'file ajax', 'preferably', 'duplicate entries', 'condition variables', 'variables c', 'ruby sinatra', 'php css', 'css background', 'back button', 'server java', 'select2', 'load dynamic', 'dynamic library', 'situation', 'jquery click', 'click function', 'function working', 'linq statement', 'symfony doctrine', 'selected item', 'item array', 'square', 'aspect', 'ratio', 'keeping aspect', 'aspect ratio', 'inside repeater', 'left join', 'hook', 'fluent', 'fluent nhibernate', 'parent child', 'prevent browser', 'browser caching', 'img src', 'add html', 'html css', 'css js', 'biggest', 'sent', 'cannot modify', 'modify header', 'header information', 'headers already', 'already sent', 'maven dependency', 'method return', 'return string', 'jquery button', 'button press', 'java objects', 'get height', 'separated spaces', 'automatically detect', 'line 0', 'mysqli_query', 'copying one', 'meteor', 'meteor js', 'derive', 'recv', 'way using', 'c++ stl', 'hosting', 'shared hosting', 'linkedin', 'linkedin api', 'api without', 'php mail', 'mail server', 'output php', 'gcm', 'php without', 'using curl', 'piece', 'mysql rows', 'code running', 'server time', 'jsp page', 'navigating', 'method working', 'hour', 'running c++', 'c++ console', 'console app', 'c# console', 'crop', 'facebook like', 'svg file', 'boostasio', 'django python', 'field values', 'trying set', 'set variable', 'onclick function', 'weight', 'joining', 'property values', 'remote true', 'python object', 'prop', 'react redux', 'warning failed', 'files java', 'profiling', 'hadoop', 'cleanup', 'var', 'version number', 'c++ error', 'error warning', 'cgi', 'python cgi', 'cgi script', 'c++11', 'use enum', 'error trying', 'regex match', 'part string', 'decorator', 'print function', 'output file', 'dplyr', 'r package', 'classcastexception', 'check php', 'php version', 'number using', '503', 'make php', 'function aspnet', 'validate multiple', 'multiple form', 'one javascript', 'line number', 'certificate', 'server certificate', 'nested object', 'explain', 'window c#', 'system time', 'numbers string', 'dock', 'php getting', 'getting values', 'values form', 'postgres', 'positioned', 'wrapping text', 'c++ return', 'const reference', 'bringing', 'loader', 'user password', 'password php', 'yield', 'case sensitive', 'get array', 'word count', 'data label', 'cell color', 'programming c#', 'using inheritance', 'reversed', 'ggplot2 plot', 'branching', 'files php', 'accessing variables', 'separated values', 'values string', 'string function', 'function arguments', 'maybe', 'image showing', 'z', 'friends', 'japanese', 'japanese characters', 'file windows', 'wcf client', 'null objects', 'referenceerror defined', 'responding', 'value dictionary', 'stored variable', 'variable python', 'undo', 'onetomany', 'delete selected', 'item listview', 'allocation', 'memory allocation', 'allocate', 'pointer array', 'array without', 'using new', 'read data', 'newlines', 'next page', 'excluding', 'payment', 'gateway', 'payment gateway', 'dataurl', 'create image', 'referring', 'object variable', 'variable name', 'name string', 'open local', 'window using', 'increasing', 'subsequence', 'get ip', 'vbnet mysql', 'nsnumber', 'div element', 'type error', 'argument 1', 'greek', 'creating excel', 'php save', 'prompt user', 'user download', 'hash map', 'notation', 'imply', 'outputting', 'xhtml', 'ask', 'win', 'textinput', 'get response', 'line php', 'viewmodels', 'sqlserver', 'board', 'cover', 'markers', 'implements', 'c++ string', 'programming language', 'orientation', 'angularjs controller', 'dynamically added', 'dbcontext', 'session id', 'different databases', 'decrease', 'static libraries', 'install python', 'effects', 'persistent', 'list selection', 'query parameter', '__nsarraym', 'could cast', 'cast value', 'pull', 'pull data', 'data one', 'table insert', 'column another', 'nested arrays', 'python using', 'path using', 'datagrid row', 'row index', 'column index', 'mixed', 'search api', 'invalid characters', 'characters xml', 'xml c#', 'viewer', 'specifically', 'viewing', 'reporting', 'purposes', 'gets called', 'jboss', 'deployment', 'javalangunsupportedclassversionerror', 'class file', 'addition', 'linux kernel', 'file linux', 'cocoa touch', 'mapkit', 'tfs', 'ajax upload', 'different objects', 'java project', 'http connection', 'connection timeout', 'specific characters', 'cached', 'windows command', 'window javascript', 'display javascript', 'popup page', 'minification', 'cpanel', 'install django', 'strip', 'agility', 'pack', 'attribute html', 'html string', 'string using', 'html agility', 'agility pack', 'buffered', 'memory size', 'c++ linux', 'put data', 'data select', 'get users', 'users profile', 'gravity', 'current page', 'mediaplayer', 'always returning', 'returning false', 'utc', 'contact', 'contact form', 'encoding issue', 'class properties', 'listbox items', 'get column', 'name type', 'cprogram', 'x86', 'find part', 'part path', 'crashing', 'returning nil', 'get string', 'unique id', 'failure', 'python unittest', 'jlabel', 'settext', 'tableviewcell', 'last inserted', 'value xml', 'xml tag', '+ mysql', 'restarting', 'files without', 'without restarting', 'angularjs app', 'file write', 'change file', 'convert byte', 'byte byte', 'cities', 'trying find', 'circle', 'timestamps', 'add element', 'one list', 'explanation', 'array vs', 'presses', 'legal', 'path name', 'profiler', 'universal app', 'app windows', 'windows 10', 'evaluation', 'empty lists', 'defined error', 'form page', '_session', 'main method', 'method python', 'string based', 'xsl', 'crypto', 'writes', 'minimized', 'file amazon', 'get link', 'use variable', 'variable defined', 'one php', 'i++', 'horizontal scroll', 'item selected', 'get length', 'dimensional arrays', 'scheduler', 'set fixed', 'ruby gems', 'client certificate', 'automation', 'c++ program', 'using static', 'kb', 'using retrofit', 'select form', 'form mysql', 'converting html', 'element string', 'gauge', 'value dynamically', 'empty strings', 'grails', 'uploading image', 'image ios', 'third', 'create list', 'empty object', 'objectid', 'selected items', 'replacing', 'ignoring', 'punctuation', 'cellforrowatindexpath', 'path denied', 'denied error', 'hashcode', 'generate unique', 'python regular', 'pass data', 'tabbed', 'view controller', 'changing text', 'get rails', 'function value', 'value instead', 'g', 'occurring', 'could instantiate', 'mail function', 'function error', 'menus', 'dropdown menus', 'checkbox jquery', 'api return', 'return result', 'two variables', 'observe', 'observable', 'v3', 'map api', 'api v3', 'string python', 'continue', 'json nested', 'nested array', 'array based', 'based user', 'packages', 'blur', 'using core', 'contained', 'convert hexadecimal', 'cant start', 'linker errors', 'line javascript', 'javascript time', 'nonui', 'couchbase', 'bulk', 'akka', 'bulk insert', 'via java', 'java sdk', 'successfully', 'reading data', 'check function', 'line 1', 'undefined function', 'uwp', 'child objects', 'nth', 'dynamically generated', 'keys array', 'array another', '403', 'forbidden', '403 forbidden', 'making ajax', 'function returns', 'large amount', 'check element', 'next element', 'set initial', 'dictionary python', 'win32 console', 'python writing', 'writing file', 'stdin stdout', 'way remove', 'lists python', 'different pages', 'internal error', 'function ajax', 'smarty', 'multiple pages', 'map c++', 'coding', 'add rows', 'imap', 'gmail using', 'data r', 'chance', 'c++ switch', 'remove text', 'canvas javascript', 'google calendar', 'mvc return', 'simple string', 'string json', 'json rest', 'trouble using', 'digit', 'one single', 'digit number', 'get float', 'float value', 'value two', 'two decimal', 'c language', 'cron job', 'lua c', 'c api', 'isnt working', 'error method', 'javascript form', 'value variable', 'creating dynamic', 'dynamic dropdown', 'dropdown selection', '__init__', 'python module', 'props', 'await', 'ec2', 'www', 'amazon ec2', 'files c#', 'recaptcha', 'preserve', 'form data', 'games', 'configurable', 'xml files', 'fields django', 'function used', 'qtcreator', 'use foreach', 'get elements', 'image upload', 'content script', 'script file', 'create object', 'hash ruby', 'updating multiple', 'multiple models', 'models one', 'one controller', 'polymer', 'binding data', 'framework update', 'check object', 'sort array', 'date value', 'convert url', 'javascript html5', 'js application', 'angularjs directive', 'object doesnt', 'doesnt support', 'support property', 'property method', 'delivery', 'signals', 'javascript send', 'send array', 'array ints', 'query based', 'dynamic html', 'concerns', 'unload', 'properties files', 'approach', 'within specific', 'popover', 'manual', 'bootstrap popover', 'visualize', 'service android', 'rake dbmigrate', 'selectmenu', 'getting selected', 'selected index', 'file c++', 'cs files', 'project folder', '2d arrays', 'arrays java', 'nas', 'either', 'large dataset', 'get name', 'control wpf', 'wp7', 'app icon', 'datetimefield', 'auto populate', 'working django', 'django forms', 'http client', 'file c#', '_server', 'curve', 'c++ lambda', 'convert pandas', 'value php', 'find sum', 'less equal', 'given number', 'load javascript', 'x64', 'bluetooth', 'scheme', 'accept', 'one many', 'worth', 'powershell script', 'script c#', 'webelement', 'html text', 'typeerror str', 'database c#', 'arabic', 'cant write', 'xaml file', 'xml content', 'string regex', 'error loading', 'write code', 'code c++', 'sum values', 'values one', 'another column', 'subcategory', 'unavailable', 'wont start', 'http error', 'htmlspecialchars', 'using css', 'pandas merge', 'certain columns', 'winrt', 'another html', 'iso', '8601', 'parse date', 'iso 8601', 'ideas', 'python find', 'find index', 'index item', 'item list', 'gridview aspnet', 'removed', 'value label', 'similarity', 'search results', 'search text', 'mysql connection', 'c# list', 'packets', 'packet', 'udp packets', 'tweet', 'using twitter', 'api php', 'change label', 'label color', 'java switch', 'aspnet using', 'using vb', 'benefit', 'events dynamically', 'method ruby', 'test class', 'header datagridview', 'high performance', 'ref', 'nunit test', 'javadoc', 'document java', 'java enum', '75', 'iis 75', 'cumulative', 'subquery', 'query c#', 'disable button', 'button text', 'solution using', 'using msbuild', 'child element', 'element values', 'new thread', 'send mail', 'trycatch', 'coming', 'de', 'kit', 'java runtime', 'run eclipse', 'surface', 'div id', 'c# thread', 'hibernate session', 'session spring', 'breakpoint', 'typeof', 'seperated', 'conversion string', 'string numbers', 'bean class', 'default constructor', 'wordpress get', 'content text', 'sample', 'element exists', 'add remove', 'sorting array', 'objects php', 'specific order', 'datetime column', 'solve', 'ljavalangobject', 'minimize', 'length string', 'python user', 'int string', 'mvc application', 'save pdf', 'method one', 'monitoring', 'djangoadmin', 'build failed', 'class within', 'hashes', 'strong', 'newly', 'return view', 'filtered', 'extending', 'model django', 'functionality', 'admin interface', 'count number', 'async await', 'actionbar', 'help creating', 'web scraping', 'dynamic form', 'form inputs', 'loses', 'push_back', 'c++ vector', 'net app', 'scheduling', 'imagebutton', 'behind aspnet', 'sentences', 'paragraph', 'positions', 'element javascript', 'read specific', 'response header', 'way parse', 'changed event', 'threadingtimer', 'read multiple', 'javascript select', 'positioning', 'actively', 'connection could', 'could made', 'made target', 'target machine', 'machine actively', 'actively refused', 'getting text', 'replace characters', 'characters java', 'jquery modal', 'format sql', 'considered', 'considered bad', 'query join', 'canvastodataurl', 'ie7 ie8', 'safe use', 'deserialize json', 'generating html', 'listobject', 'asp mvc', 'client server', 'save file', 'unknown column', 'field list', 'javautildate', 'columns r', 'fscanf', 'multiple column', 'column values', 'casting object', 'deep', 'deep copy', 'swift array', 'array class', 'pyspark', 'react +', 'jquery multiple', 'empty file', 'values xml', 'first page', 'monitor', 'excel c#', 'css property', 'click using', 'express', 'edition', 'low', 'stable', 'served', 'static files', 'rollback', 'css class', 'image codeigniter', 'codeigniter form', 'text node', 'view button', 'class property', 'property set', 'set get', 'cant load', 'variables function', 'encoding python', 'value null', 'rubygem', 'symbols architecture', 'applicable', 'applicable arguments', 'model view', 'qt c++', 'c++ development', 'styling', '__declspec', 'need use', 'signal handler', 'pairs', 'python data', 'keyvalue pairs', 'multipart', 'javascript new', 'multiline', 'path windows', 'text 2', 'method php', 'file included', 'accepts_nested_attributes_for', 'practical', 'use rails', 'locking', 'mysql blob', 'php html', 'jquery text', 'expired', 'facebook user', 'user access', 'best java', 'add text', 'selector', 'undefined reference', 'attachment', 'size limit', 'linking static', 'impact', 'import statements', 'cpp file', 'tree java', 'error token', 'invalid character', 'value nested', 'parsing csv', 'periodically', 'get new', 'new value', 'current date', 'date android', 'handshake', 'data memory', 'uisplitviewcontroller', 'uinavigationcontroller', 'save values', 'values database', 'textbox value', 'php return', 'return array', 'get email', 'using gmail', 'stls', 'pieces', 'ticks', 'matplotlib plot', 'fields one', 'one function', 'array loop', 'onchange event', 'work around', 'divs', 'set folder', 'folder path', 'app config', 'pipes', 'eclipse java', 'google play', 'play services', 'image aspnet', 'suppress', 'advanced', 'caesar', 'cipher', 'caesar cipher', 'program c', 'unable install', 'specifier', 'note', 'error 1', 'missing type', 'type specifier', 'adding columns', 'datagridview windows', 'codeigniter return', 'xmx', 'amounts', 'large amounts', 'jade', 'post get', 'web pages', 'text label', 'matter', 'return nil', 'height div', 'set width', 'int int', 'arrays key', 'user authentication', 'session cookie', 'overwriting', 'legend', 'guide', 'nan', 'tried', 'parseint', 'error jquery', 'zipfile', 'error string', 'input string', 'instagram', 'instagram api', 'invalid date', 'iterable', 'cells excel', 'rows columns', 'using phpexcel', 'procedure using', 'php preg_replace', 'question mark', 'display textbox', 'mvvm pattern', 'dataframes', 'address php', 'string image', 'browserify', 'multiplying', 'met', 'view iphone', 'mvc5', 'aspnet mvc5', 'data redirect', 'quotes double', 'transport', 'display selected', 'selected option', 'form rails', 'escape characters', 'provided', 'pem', 'click menu', 'stat', 'button value', 'rows two', 'divs content', 'file jar', 'find main', 'error eclipse', 'value another', 'located', 'replace string', 'detect browser', 'browser close', 'htaccess redirect', 'inside jquery', 'ajax success', 'combine multiple', 'multiple images', 'images one', 'display icon', 'frontend', 'mongoid', 'reporting services', 'predict', 'zipped', 'one time', 'wav', 'allowing', 'prevent direct', 'gdi+', 'saving loading', 'generic error', 'occurred gdi+', 'axes', 'raster', 'form error', 'field method', 'method property', 'documentready', 'javascript calling', 'function one', 'variable parent', 'using pure', 'pure c', 'google drive', 'mysql statement', 'aggregate', 'analysis', 'scores', '301', 'writable', 'rows using', 'buttons text', 'way convert', 'convert php', 'static html', 'quit', 'method get', 'get sum', 'converted string', 'string column', 'random color', 'select data', 'data multiple', 'multiple lists', 'printf', 'important', 'external program', 'hell', 'var_dump', 'die', 'listen', 'make java', 'add jquery', 'access session', 'blinking', 'remain', 'unrecognized selector', 'selector sent', 'sent instance', 'webconfig', 'c# sql', 'unicode characters', 'characters mysql', 'formula', 'value based', 'pie', 'google pie', 'pie charts', 'using ant', 'ant script', 'c++ function', 'rails generate', 'say', 'service reference', 'wifi', 'c# visual', 'shared memory', 'date c#', 'check internet', 'internet connection', 'using script', 'c# vbnet', 'connect multiple', 'sqlite3 database', 'database python', 'property within', 'operators', '26', 'python version', 'php print', 'print values', 'values keys', 'database file', 'dataframe using', 'using sqlalchemy', 'wiring', 'symfony2 twig', 'returning array', 'large numbers', 'error event', 'loading new', 'web form', 'event trigger', 'select rows', 'pthreads', 'database selected', 'unexpectedly', 'unwrapping', 'exc_bad_instruction', 'violation writing', 'writing location', 'crop image', 'dropdown option', 'post request', 'linq orderby', 'class static', 'structs', 'camelcase', 'stripe', 'java generic', 'generic class', 'determine type', 'membership', 'membership provider', 'array structs', 'objc', 'marked', 'intellisense', 'vs 2010', 'change width', 'perl', 'automatic reference', 'reference counting', 'class without', 'use django', 'json java', 'event object', 'firefox ie', 'ie chrome', 'automatically create', 'effect using', 'javascript canvas', 'routesrb', 'fields mysql', 'crm', '2011', 'crm 2011', 'html pdf', 'c unix', 'uitabbar', 'syntaxerror', 'syntaxerror missing', 'timed', 'twodimensional array', 'issues using', 'items listview', 'defining', 'jasperreport', 'directory path', 'accessible', 'javascript es6', 'class definition', 'trying create', 'missing values', 'primitive types', 'alive', 'random order', 'webinf', 'webinf lib', 'lib folder', 'mouse coordinates', 'dont match', 'labels', 'x axis', 'axis labels', 'think', 'c# wpf', 'soap service', 'using rest', 'rest service', 'anchor link', 'grunt', 'object method', 'template class', 'ashx', 'nullable', 'char c++', 'theres', 'occurance', 'find common', 'element list', 'val', 'ajax function', 'python difference', 'subdirectory', 'java collections', 'string number', 'name using', 'execute function', 'iframe load', 'load event', 'jpg', 'jpg image', 'image java', 'page display', 'display error', 'ms excel', 'applicationcontext', 'setting session', 'mvc action', 'remove items', 'pass multiple', 'parameters javascript', 'javascript functions', 'print results', 'associations', 'objects based', 'jquery submit', 'link click', 'values multiple', 'file input', 'ef', 'ef 6', 'alertdialog', 'oracle jdbc', 'simplify', 'inputted', 'single line', 'rabbitmq', 'error connect', 'mootools', 'wcf web', '33', 'way access', 'python 33', 'blocked', 'iis7', 'referrer', 'formatting', 'mac address', 'object xml', 'chromes', 'inspect', 'html editor', 'inspect element', 'glassfish server', 'mpmovieplayercontroller', 'playing', 'kafka', 'polling', 'cancel button', 'django templates', 'show time', 'decrypt', 'encrypt decrypt', 'using rsa', 'unmarshal', 'media type', 'type text', 'ie 11', 'full width', 'qwidget', 'parents', 'weird error', 'phonegap android', 'android error', 'error uncaught', 'defined file', 'content php', 'regex find', 'find id', 'way split', 'split text', 'spaces javascript', 'return boolean', 'controller spring', 'replaces', 'add elements', 'elements arraylist', 'elements java', 'char int', 'regex pattern', 'get youtube', 'youtube video', 'video id', 'insert value', 'value one', 'table another', 'update mysql', 'mysql php', 'servers', 'way run', 'keyword argument', 'placement', 'vars', 'j2me', 'loading page', 'help writing', 'writing data', 'runner', 'activeadmin', 'oracle database', 'image c#', 'js files', 'files via', 'via https', 'check username', 'statically', 'member variables', 'variables java', 'nspredicate', 'custom format', 'jwt', 'column id', 'column type', 'generated html', 'minutes seconds', 'aspnet gridview', 'csrf', 'verification', 'countdown timer', 'classic', 'classic asp', 'add scroll', 'find current', 'rubygems', 'polyline', 'create custom', 'multiple urls', 'identity column', 'g++', 'add click', 'html tags', 'array null', 'c program', 'listview item', 'multibyte', 'jcombobox', 'possible create', 'custom attribute', 'query list', 'list strings', 'another list', 'c++ include', 'two characters', 'get text', 'text value', 'pie chart', 'getting input', 'input date', 'using functions', 'query mysql', 'populated', 'query using', 'success function', 'follow', 'mapped', 'list c', 'databind', 'crossbrowser', 'columns data', 'fake', 'send sms', 'select multiple', 'python array', 'significant', 'bar graph', 'method returns', 'returns wrong', 'wrong value', 'file swift', 'show google', 'map using', 'use php', 'php variable', 'variable ajax', 'modern', 'methods return', 'return results', 'returning wrong', 'assemblies', 'create xml', 'file specific', 'structure java', 'function return', 'fancybox', 'height width', 'image click', 'annotated', 'unable cast', 'uninstall', 'lion', 'php apache', 'property length', 'length undefined', 'scrollbar', 'jquery custom', 'doesnt update', 'aspnet c#', 'form jquery', 'programmatic', 'update data', 'data listview', 'server compact', 'belongs', 'unhashable', 'python typeerror', 'unhashable type', 'type list', 'concatenate two', 'arrays c++', 'cant push', 'recognized', 'handle multiple', 'multiple inputs', 'keep getting', 'getting undefined', 'elements using', 'unreadable', 'add background', 'form get', 'method allowed', 'monotouch', 'robot', 'good idea', 'crossdomain', 'css classes', 'unity3d', 'memory management', 'vbnet linq', 'check list', 'list one', 'calculated', 'calculated column', 'hangman', 'builtin function', 'interrupt', 'raw_input', 'class aspnet', 'get content', 'beautiful', 'python library', 'ascii table', 'visualstudio', 'android client', 'old version', 'app store', '41', 'framework 41', 'database created', 'null check', 'update existing', 'inside div', '52', 'class inheritance', 'php 52', 'importerror module', 'sources', 'display time', 'time different', 'different time', 'third party', 'php excel', 'debug release', 'left outer', 'outer join', 'join linq', 'isolate', 'http headers', 'another window', 'sql connection', 'add css', 'gridview excel', 'anyobject', 'member named', 'pythons', '16', 'celery', 'attribute __getitem__', 'worker', 'worker thread', 'systemcurrenttimemillis', 'xp', 'windows xp', 'using foreach', '400', 'payload', '400 bad', 'bad request', 'wcf rest', '2 tables', 'radius', 'tomcat using', 'unexpected error', 'array hashes', 'php post', 'request data', 'max size', 'statement inside', 'jboss 7', 'universal windows', 'app c#', 'formbased', 'apache httpclient', 'one way', 'constraint fails', 'hash table', 'generic list', 'redirect external', 'external page', 'array parameter', 'parameter function', 'variables need', 'jquery show', 'two column', 'column table', 'doxygen', 'parentheses', 'mono', 'using statement', 'window open', 'fullcalendar', 'jquery fullcalendar', 'wont show', 'second time', 'already started', 'cors', 'data validation', 'innertext', 'get input', 'pdf page', 'blink', 'dictionary lists', '500 internal', 'jquery smooth', 'smooth scrolling', 'scrolling page', 'find function', 'function class', 'c++ pass', 'file web', 'web url', 'returns nil', 'single double', 'php compare', 'real time', 'function jquery', 'rails application', 'unable deploy', '0xc0000005', '0xc0000005 access', 'violation reading', 'reading location', 'exception details', 'xwwwformurlencoded', 'type application', 'output json', 'dynamic values', 'access files', 'surfaceview', 'show loading', 'loading screen', 'touch 2', 'get twitter', 'twitter user', 'professional', 'enterprise', 'image source', 'defaults', 'formed', 'secondary', 'manytomany', 'adding values', 'data servlet', 'servlet jsp', 'jsp using', 'table sorting', 'create new', 'forms c#', 'repaint', 'numbers array', 'adding multiple', 'multiple markers', 'markers google', 'maps javascript', 'file image', 'origin', 'use struct', 'stylesheet', 'welcome', 'welcome page', 'odata', 'search array', 'array keys', 'default values', 'rails gem', 'angular template', 'array char', 'java webservice', 'parameter values', 'namespace prefix', 'initialisation', 'localhost8080', 'every second', 'richfaces', 'lxmlhtml', 'findby', 'php regex', 'regex remove', 'remove everything', '#ifdef', 'controlling', 'ff', 'ie ff', 'one form', 'page another', 'php split', 'start stop', 'ultimate', 'work well', 'code error', 'bindingsource', 'url parameters', 'parameters python', '1000', 'format number', 'colour', 'fall', 'porting', 'library java', 'public static', 'large array', 'max value', 'stand', 'echo variable', 'variable html', 'plot multiple', 'two numbers', 'numbers list', 'list numbers', 'unescape', 'escape sequences', 'choices', 'symfony2 form', 'creating array', 'catching exceptions', 'value reference', 'ld', 'bin ld', 'ld cannot', 'nodejs express', 'post parameters', 'first word', 'day week', 'last character', 'bytearray', 'javascript loading', 'callable', 'str object', 'object callable', 'subscribe', 'converting string', 'aspnet mvc3', 'rest services', 'python change', 'data web', 'simple example', 'timer c#', 'qt application', 'application windows', 'cocoapods', 'pods', 'plus', 'end date', 'start date', 'date using', 'array get', 'allows', 'first last', 'last name', 'geting', 'creating instance', 'identifying', 'displaying images', '16 bit', '32 bit', 'image opencv', 'private variable', 'multiple xml', 'xml nodes', 'indexes', 'analytics api', 'path file', 'ext', 'c# enum', 'values sql', 'picking', 'url string', 'without page', 'jsp pages', 'window height', 'ee', 'advice', 'java ee', 'java command', 'unable set', 'css properties', 'read socket', 'input stream', 'multithreaded environment', 'creating class', 'class based', 'ansi', 'convert unicode', 'cannot invoke', 'list type', 'ifelse statements', 'php command', 'client python', 'label button', 'class attribute', 'index page', 'username using', 'using session', 'spring 4', 'page content', 'ms word', 'way override', 'function onclick', 'javascript replace', 'matches regex', 'header row', 'last item', 'appropriate', 'localization', 'convert nsstring', 'access web', 'delete last', 'later', 'cin', 'database tables', 'round number', 'number python', 'getting object', 'previous value', 'adding custom', 'dismissing', 'modal view', 'freed', 'aspnet webapi', 'ndk', 'android ndk', 'listview column', 'value inside', 'configured', 'converting array', 'covered', 'value specific', 'specific node', 'ant build', 'httprequestmessage', 'check given', 'returning 0', 'seed', 'generating random', 'numbers c#', 'scrolltop', 'eloquent orm', 'period', 'extract text', 'hitting', 'soap message', 'tcp connection', 'sending http', 'oop', 'jquery aspnet', 'initialized error', 'uninitialized constant', 'ruby string', 'jquery object', 'gmt', 'mysql timestamp', 'parameter count', 'type double', 'docs', 'eclipse project', 'endless', 'customize', 'find method', 'flatten', 'array arrays', 'overriding method', 'add multiple', 'multiple functions', 'one file', 'visualization', 'djangos', 'filefield', 'smaller', 'remove key', 'maintain', 'new url', 'sending multiple', 'multiple requests', 'reducing', 'url web', 'dynamically creating', 'resttemplate', 'java bean', 'insert item', 'timing', 'string instead', 'file_put_contents', 'saves', 'half', 'items list', 'error cant', 'directory another', 'laravel project', 'project netbeans', 'library use', 'iphone using', 'disable javascript', 'godaddy', 'resize image', 'image fit', 'json parse', 'correct format', 'consuming', 'alamofire', 'xml json', 'file array', 'array one', 'multiple instances', 'class override', 'field names', 'xlsx', 'byte stream', 'facebook share', 'work like', 'function data', 'another file', 'without spaces', 'tutorial', 'port communication', 'delegates c#', 'retain', 'build json', 'array collection', 'parameter url', 'url php', 'uploading files', 'using requests', 'java reading', 'linked lists', 'javascript switch', 'find value', 'pil', '2 lists', 'cameras', 'machine using', 'link using', 'array empty', 'codeigniter get', 'typeerror int', 'int object', 'object iterable', 'django 14', 'template tag', 'cloning', 'count rows', 'select statement', 'text within', 'input box', 'angular ui', 'ui router', 'using template', 'j2ee', 'scratch', 'python equivalent', 'error 404', 'constructor destructor', 'java set', 'mappings', 'alphabets', 'multiples', 'using entity', 'conditions', 'multiple conditions', 'lambda function', 'variable equal', 'apns', 'providers', 'dom elements', 'force download', 'codeigniter pagination', 'session_start', 'like query', 'framework 4', 'wrapped', 'socket c', 'list entities', 'sorting algorithm', 'centos', '54', 'running php', 'error class', 'string class', 'reverse order', 'order string', 'string one', 'linq lambda', 'get attribute', 'indexing', 'dashes', 'object spring', 'spring web', 'cgridview', 'request using', 'accepting', 'suddenly', 'code android', 'gem rails', 'uncaught syntaxerror', 'syntaxerror unexpected', 'row csv', 'csv using', 'query php', 'throws error', 'italic', 'need make', 'c++ cli', 'standard c++', 'mathematical', 'load css', 'maven eclipse', 'eclipse ide', 'blob data', 'file javascript', 'javascript java', 'sdl', 'using opengl', 'navigation controller', 'rgb', 'rgb value', 'authentication using', 'webservices', 'error sending', 'extracting data', 'data google', 'google spreadsheet', 'sqlconnection', 'using using', 'set css', 'css style', 'php dom', 'im trying', 'selectedvalue', 'pyc', 'whilst', 'possible stop', 'pyc files', 'beta', 'swift xcode', 'xcode 6', '6 beta', 'beta 4', 'path image', 'responds', 'program find', 'binary search', 'escape character', 'pairwise', 'onetomany relationship', 'option select', 'pid', 'value dropdownlist', 'java jar', 'objects list', 'markup', 'lazy loading', 'redirect another', 'media player', 'registering', 'method c#', 'rownames', 'convert data', 'column 1', 'move image', 'generate xml', 'xml output', 'display value', 'value list', 'list based', 'based key', 'generic type', 'xlsx file', 'summing', 'ppt', 'setinterval', 'query database', 'database mysql', 'skip first', 'first line', 'representation', 'return false', 'rails get', 'php echo', 'objects using', 'finding first', 'laravel 5', 'using pandas', 'pandas python', 'load dll', 'network drive', 'using oledb', 'json jquery', 'unable open', 'open database', 'file django', 'facebook app', 'javascript set', 'set height', 'php java', 'jquery validation', 'validation allow', 'communications', 'create java', 'java servlet', 'setdata', 'column chart', 'add textbox', 'pass array', 'string url', 'without reloading', 'breakpoints', 'work eclipse', 'ddd', 'great', 'c# project', 'read line', 'file ruby', 'remove default', 'datetime mysql', 'background colour', 'override method', 'active admin', 'webapi 2', 'access request', 'request body', 'normally', 'az', 'way return', 'x coordinates', 'reliable', 'referer', 'compiler errors', 'dynamically select', 'isset', 'start c#', 'javascript runtime', 'unable get', 'undefined null', 'null reference', 'uploading multiple', 'create class', 'class files', 'running python', 'drawer', 'navigation drawer', 'window wpf', 'banner', 'java_home', 'referenced', 'make file', 'changing color', 'database query', 'string variable', 'javascript get', 'get screen', 'mysql_result', 'insert image', 'anyone know', 'c++ project', 'utf', 'whitespaces', 'firewall', 'launched', 'admin site', 'build error', 'failed task', 'row foreign', 'child row', 'timeline', 'rails tutorial', 'find table', 'using mysql', 'stringstream', 'c++ const', 'fontawesome', 'programmatically get', 'want use', 'value child', 'child page', 'query two', 'static constructor', 'called twice', 'data object', 'sql insert', 'c++ template', 'picker', 'routeprovider', 'disappearing', 'converting integer', 'multicolumn', 'one method', 'run jar', 'console input', 'page scrolling', 'value empty', '1054', 'column found', '1054 unknown', 'name field', 'color based', 'rows csv', 'particular column', 'new record', 'nongeneric', 'ilist', 'ilistt', 'typecasting', 'int double', 'way escape', 'forms using', 'indexof', 'storage', 'local storage', 'multiple key', 'new lines', 'spent', 'text uilabel', 'concise', 'httppost', 'c# mvc', 'nets', 'slashes', 'backslashes', 'linq left', 'buttons dynamically', 'another button', 'crawling', 'vertical scroll', 'web based', 'change values', 'electron', 'guessing', 'game python', 'use ajax', 'code php', 'xslt', 'link text', 'error calling', 'data attribute', 'single click', 'operator c++', 'jsonstringify', 'json output', 'programming c', 'linux command', 'inbox', 'controller ajax', 'via code', 'testsuite', 'nonstatic', '256', 'debug assertion', 'default browser', 'page jquery', 'renaming', 'element visible', 'image button', 'update progress', 'appjs', 'simple_form', 'doesnt show', 'simple calculator', 'java scanner', 'elementwise', 'selected radio', 'jaxrs', 'xml namespace', 'using jersey', 'java exception', 'determining', 'character set', 'destroyed', 'value checkbox', 'checkbox using', 'default selected', 'r dataframe', 'xamarinforms', 'crossplatform', 'twoway', 'binding xml', 'wpf treeview', 'delete item', 'go back', 'page aspnet', 'r2', '2008 r2', 'array array', 'gdb', 'create variable', 'xampp', 'win7', 'lists r', 'string replace', 'specific directory', 'static_cast', 'dynamic_cast', 'javasqldate', 'htm', 'massive', 'poi api', 'vs2010', 'chunks', 'sending file', 'extract specific', 'text lines', 'trying connect', 'connect mysql', 'protected', 'readonly', 'pyplot', 'sitecore', 'base classes', 'analog', 'onto', 'default text', 'date formatting', 'javascript working', 'waitforsingleobject', 'best method', 'list items', 'dataview', 'data row', 'row datatable', 'datatable using', 'failed initialize', 'peer', 'connection reset', 'reset peer', 'python os', 'debug javascript', 'code inside', 'inside jsp', 'class found', 'sends', '2 times', 'fx', 'java fx', 'data model', 'hide status', 'status bar', 'qimage', 'relative file', 'system command', 'command python', 'textbox text', 'string c++', 'dynamic type', 'type casting', 'using enums', 'function parameter', 'php error', 'object given', 'rails routing', 'routing error', 'data image', 'file object', 'opening file', 'else condition', 'interceptor', 'format date', 'complicated', 'redirect page', 'javascript aspnet', 'cannot start', 'extract date', 'frame r', 'cyrillic', 'mutable', 'webbased', 'concept', 'maven artifact', 'image url', 'i18n', 'qpushbutton', 'column dataframe', 'tab control', 'cycle', 'formatted text', 'json_encode', 'c# 40', 'size java', 'dealloc', 'getting called', 'invoked', 'method getting', 'seemingly', 'unrelated', 'add reference', 'data parent', 'remove class', 'row value', 'mysql insert', 'cannot converted', 'integrityerror', 'output error', 'error xml', 'xml text', 'expression match', 'list value', 'unmanaged', 'unhandled exceptions', 'unmanaged c++', '5x', 'file access', 'connected', 'django cannot', 'plot r', 'php 54', 'entitymanager', 'newtonsoft', 'c# problem', 'problem using', 'c++ functions', 't_variable', 'parser error', 'check session', 'session cookies', 'webrequest', 'java spring', 'facebook sdk', 'mysql like', 'javascript class', 'execute code', 'validated', 'include path', 'extremely slow', 'todays', 'mm', 'yyyy', 'java convert', 'todays date', 'mm dd', 'dd yyyy', 'temporarily', 'dictionarystring', 'based criteria', 'every time', 'time button', 'columns based', 'true false', 'object graph', 'dowhile', 'mysql_num_rows', 'via python', 'euler', 'project euler', 'visibility', 'static function', 'function pointer', 'prints', 'scrollto', 'directive angularjs', 'dependency property', 'pending', 'spring project', 'javascript sending', 'performseguewithidentifier', 'authorization', 'prefixes', 'validate textbox', 'hidden div', 'systemiofilenotfoundexception', 'system cannot', 'find file', 'aspnet ajax', 'css3', 'position element', 'javasqlsqlexception', 'c++ linked', 'c# linq', 'bits', 'empty element', 'large image', 'workaround', 'intercept', 'touch events', 'observer', 'canvas image', 'current position', 'complement', 'jquery selector', 'using contains', 'braces', 'splitting string', 'curly braces', 'uiview animation', 'transfer', 'data server', 'mvc calling', 'near', 'incorrect syntax', 'syntax near', 'django form', 'form field', 'field validation', 'validation error', 'posting form', 'import class', 'another project', 'current project', 'time milliseconds', 'get specific', 'string index', 'serialport', 'php _post', 'php oop', 'dir', 'rails console', 'tag value', 'link tag', 'html canvas', 'another using', 'length java', 'count occurrences', 'list item', 'iframe using', 'stringify', 'string special', 'json stringify', 'aws elastic', 'engines', 'javascript redirect', 'property names', 'source file', 'springmvc', 'returning list', 'objects json', 'uploaded file', 'file content', 'content javascript', 'way print', 'external file', 'presentation', 'int binary', 'organize', 'property another', 'downgrade', 'spot', 'database data', 'jquery select', 'basis', 'bean name', 'systemdrawingimage', 'entity class', 'create nested', 'unix epoch', 'neural', 'library python', 'php fatal', 'salesforce', 'object android', 'list c++', 'dash', 'date without', 'dismiss', 'within range', 'reflect', 'using sql', 'read input', 'found using', 'using scanf', 'scikitlearn', 'script within', 'within web', 'project files', 'version control', 'include php', 'caller', 'javascript validation', 'populate drop', 'r shiny', 'button pressed', 'aborting', 'file uploading', 'change class', 'outside class', 'regex php', 'show popup', 'subject', 'php imap', 'javafx application', 'data text', 'first click', 'click jquery', 'options dropdown', 'ordered', 'lists one', 'home page', '2x', 'inactivity', 'array structure', 'class interface', 'distribution', 'processor', 'load page', 'session array', 'variables inside', 'magento custom', '23', 'end file', 'coldfusion', 'ruby python', 'open link', '56', 'mysql python', 'gridview columns', 'viewdidload', 'dom exception', 'chess', 'array sql', 'server stored', 'has_many association', 'use python', 'python write', 'current_user', 'decimal precision', 'rails 41', 'enum types', 'checkbox array', 'insert mysql', 'transition', 'show div', 'expiration', 'jmeter', 'variables across', 'modifiers', 'c# regex', 'find string', 'user registration', 'manner', 'global exception', 'exception handler', 'php handle', 'image urls', 'api service', 'service running', 'iis server', 'awt', 'join two', 'working rails', 'ifelse statement', 'webgl', 'retina', 'pro', 'performance issues', 'execute shell', 'geocoding', 'expires', 'user session', 'dynamically set', 'page ajax', 'check url', 'url contains', 'contains string', 'string jquery', 'array foreach', 'br', 'newline characters', 'update panel', 'uploaded image', 'form without', 'strings c++', 'new item', 'frame based', 'value pairs', 'tomcat 6', 'error undefined', 'paint', 'good open', 'mobile app', 'element type', 'c# java', 'reload page', 'get textarea', 'textarea value', 'save database', 'eventhandler', 'event button', 'retrieval', 'newline character', 'character array', 'array characters', 'different ways', 'using ggplot2', 'text link', 'integration tests', 'button selection', 'using rails', 'whats efficient', 'integers using', 'using variable', 'ip addresses', 'wordpress php', 'subsets', 'recursive function', 'change header', 'string char', 'step step', 'store images', 'files django', 'string list', 'unicode character', 'autowired', 'python loop', 'index key', 'replace first', 'large file', 'django use', 'variable href', 'href tag', 'extract first', 'first n', 'option selected', 'selected using', 'webdriver selenium', 'transitions', 'dynamic template', 'prevent duplicate', 'duplicate key', 'row selection', 'get single', 'single cell', 'entered', 'make text', 'c# like', 'connection using', 'based current', 'time python', 'upload files', 'upload server', 'rails ajax', 'flags', 'authenticating', 'vowels', 'query return', 'exceeded', 'event c#', 'annotate', 'summary', 'statistics', 'r ggplot2', 'gpu', 'using opencv', 'possible read', 'read properties', 'war files', 'without flash', 'leading', 'leading zeros', 'submenu', 'right side', 'confirm', 'grid using', 'cant create', 'new instance', 'rich', 'rich text', 'text editor', 'value file', 'mapreduce', 'hadoop mapreduce', 'python global', 'python mysqldb', 'manytomanyfield', 'global array', 'placeholder', 'androidviewinflateexception', 'generic function', 'image mysql', 'angle', 'openshift', 'dynamically generate', 'id javascript', 'monodevelop', 'using swift', 'access value', 'value within', 'object php', 'utf8 character', 'button inside', 'app heroku', 'view mvc', 'inherits', 'screen scraping', 'directions', 'inside object', 'resultset', 'array csv', 'string 2', 'pomxml', 'maven pomxml', 'datetime date', 'log4jxml', 'border around', 'specific table', 'java servlets', 'data c#', 'getting array', 'string android', 'code paths', 'paths return', 'determine file', 'problem converting', 'fixed header', 'goes', 'easy way', 'page new', 'make method', 'submitted', 'form submitted', 'r datatable', 'date formats', 'msg', 'connect server', 'django set', 'form element', 'aop', 'spring aop', 'install rails', 'se', 'difference java', 'java se', 'delimiter', 'selenium firefox', 'found element', 'obtained', 'box values', 'consumption', 'file nodejs', 'memory consumption', 'value key', 'create dictionary', 'composer', 'affects', 'jquery css', 'uibootstrap', 'bottleneck', 'android project', 'partially', 'trusted', 'using custom', 'make background', 'populate dropdown', 'using mysqli', 'number threads', 'appearance', 'file different', 'custom fields', 'twitter account', 'url jquery', 'unsorted', 'way obtain', 'add object', 'object nsmutablearray', 'getting first', 'first two', 'two words', 'errors using', 'utils', 'checking see', 'file names', 'ionic 2', 'server version', 'memcached', 'overlap', 'one use', 'flex', 'part page', 'httpurlconnection', 'attempt invoke', 'invoke virtual', 'virtual method', 'string parameters', 'post back', 'help understanding', '51', 'laravel 51', 'separate class', 'class methods', 'c# function', 'entity object', 'read_csv', 'match value', 'inserting node', 'forms application', 'hibernate query', 'selecting items', 'combobox c#', 'chrome firefox', 'stars', 'seems working', 'datatable column', 'array vbnet', 'previous month', 'month name', 'running process', 'syncdb', 'python managepy', 'get links', 'links php', 'python mechanize', 'ngif', 'element inside', 'values object', 'xamarin android', 'resources folder', 'pymongo', 'compare dates', 'data stored', 'python import', 'killing', 'load time', 'name javascript', 'custom error', 'ifstream', 'argument function', 'compute', 'please explain', 'imagefield', 'throwing error', 'login using', 'windows8', 'date picker', 'alert box', 'struts', 'display different', 'different div', 'java static', 'guice', 'applying', 'multiple url', 'custom class', 'converter', 'demo', 'button event', 'mobile safari', 'invalid literal', 'logo', 'sqlcommand', 'string date', 'date date', 'assignment operator', 'make html', 'magento product', 'product page', 'property type', 'xml tags', 'tags php', 'skscene', 'create constant', 'safety', 'thread safety', 'commandline', 'input console', 'commandline arguments', 'arguments c#', 'image byte', 'private static', 'static functions', 'functions javascript', 'scrollbars', 'convert float', 'string representation', 'rss feed', 'sunday', 'comes', 'find number', 'div tags', 'strings without', 'int float', 'curl php', 'change size', 'size image', 'lnk2019', 'error lnk2019', 'incorrectly', 'namespaces', 'invalid xml', 'xib', '1 mysqli', 'null given', 'set properties', 'returns 0', 'firefox browser', 'model using', 'enabling disabling', 'value selected', 'select input', 'million', 'refresh page', 'removefromsuperview', 'possible change', 'class ruby', 'listitem', 'generated code', 'typeerror undefined', 'values php', 'effectively', 'abort', 'assembly code', 'adding html', 'form via', 'via curl', 'char string', 'vs 2015', 'enhanced', 'contents div', 'unpack', 'count specific', 'counts', 'reset form', 'value back', 'homework', 'rails form', 'form select', 'repeatedly', 'jdbc mysql', 'mysqli_query expects', 'ca', 'hang', 'return 0', 'get ajax', 'become', 'object save', 'unparseable', 'unparseable date', 'set encoding', 'varchar', 'oracle sql', 'newtonsoftjson', 'application configuration', 'autowire', 'requirements', '+ rails', 'cascading', 'within loop', 'loop c#', 'facebook application', 'row data', 'data dynamically', 'eventtarget', 'elements id', 'absolute path', 'unread', 'custom font', 'rolling', 'devise rails', 'servlet using', 'using javamail', 'api getting', 'set date', 'submit multiple', 'babel', 'display images', 'images html', 'img tag', 'decimal points', 'contour', 'outline', 'advance', 'number parameters', 'insert row', 'value enum', 'base64 string', 'curl get', 'may', 'expression tree', 'string inside', 'li tag', 'iphone app', 'ember', 'set null', 'ngshow', 'angularjs ngshow', 'specific element', 'using json', 'tables database', 'database visual', 'violates', 'clearly', 'type parameter', 'roles', 'aspnet identity', 'collection using', '401', 'error 401', 'afnetworking', 'subset another', 'w3c', 'checkbox values', 'jasmine test', 'propertyinfo', 'iteration', 'get properties', 'remove last', 'gcc g++', 'last 7', 'php string', 'field django', 'equivalent c#', 'error function', 'function declaration', 'cmdexe', 'google api', 'hours', 'getting last', 'last 24', '24 hours', 'confused', 'instantiation', 'image save', 'styled', 'load ajax', 'ajax data', 'div jquery', 'programmatically add', 'py', 'files directory', 'check multiple', 'error package', 'page every', 'activex', 'play pause', 'mp3 file', 'first column', 'unknown provider', 'file downloads', 'jinja2', 'couchdb', 'max min', 'item using', 'overwritten', 'bridge', 'large number', 'timeseries', 'column header', 'variable r', 'multiple child', 'using socket', 'button link', 'update specific', 'specific cell', 'dropdown value', 'javascript find', 'find text', 'x11', 'interacting', 'chef', 'div click', 'event jquery', 'code generation', 'python return', 'first element', 'passed function', 'someone explain', 'append element', 'c programming', 'jquery element', 'python class', 'equals method', 'method java', 'jquery script', 'problem reading', 'file inside', 'filters', 'asset', 'pipeline', 'asset pipeline', 'renders', 'admin page', 'preventdefault', 'datagridviews', 'previous button', 'spring integration', 'laravel get', 'efficient method', 'object different', 'input java', 'time day', 'identity_insert', 'cannot insert', 'lengths', 'popular', 'json python', 'reference file', 'ftp', 'unable upload', 'file ftp', 'ftp php', '1 0', 'java unicode', 'x x', 'fonts', 'doesnt contain', 'points google', 'gb', 'get total', 'gridview rows', 'rounded', 'java creating', 'auto fill', 'auto_now_add', 'whats equivalent', 'sort column', 'column data', 'function element', 'runtimeerror', 'convert array', 'execute sql', 'sql script', 'comparing strings', 'jserb', 'jquery form', 'framework use', 'numbers python', 'python web', 'web site', 'polygons', 'array android', 'inside arraylist', 'htaccess rewrite', 'condition variable', 'move mouse', 'final', 'php returning', 'volley', 'different thread', 'hardware', 'apple push', 'child relationship', 'reaches', 'update image', 'image sql', 'element id', 'nsurlrequest', 'python extract', 'extract data', 'width div', 'urllib2', 'request python', 'using another', 'array indexes', 'piechart', 'automating', 'api post', 'keyerror', 'hy000', 'sqlstate hy000', 'confirmation', 'per second', 'fileupload', 'upload progress', 'inside dll', 'optional parameters', 'systemaccessviolationexception', 'test fails', 'values django', 'page numbers', 'cout', 'session lost', 'rails link_to', 'returning multiple', 'values java', 'valueerror invalid', 'literal int', 'int base', 'base 10', '405', 'azure blob', 'blob storage', 'init', 'execution time', 'install pil', 'movie', 'create thumbnail', 'flash movie', 'bootstrap tooltip', 'webcam', 'jquery live', 'textures', 'android opengl', 'object object', 'corruption', 'soapclient', 'custom list', 'objects java', 'creating object', 'hours minutes', 'date day', 'api key', 'file objectivec', 'objectivec cocoa', 'insert query', 'mysql2error', 'value insert', 'framework 6', 'multiple image', 'saving database', 'database aspnet', 'merge multiple', 'objects inside', 'relative layout', 'getting null', 'error javascript', 'validate form', 'absolutely', 'file outside', 'android listview', 'formpanel', 'request parameters', 'buffer overflow', 'tags javascript', 'scroll bars', 'assigned', 'cannot assigned', 'zf2', 'error console', 'xmlreader', 'otherwise', 'illegal characters', 'repositories', 'controllers models', 'nesting', 'collapse', 'throwing exception', 'webpages', 'user id', 'correct syntax', 'atomic', 'php display', 'question java', 'java enums', 'merge sort', 'helloworld', 'karma', 'source files', 'without closing', 'line java', 'java ssl', 'ssl certificate', 'java 2d', 'create generic', 'error unrecognized', 'application path', 'xml get', 'get element', 'values two', 'add div', 'div page', 'database values', 'connect remote', 'remote mysql', 'mysql server', 'classnotfoundexception', 'api java', 'parameter controller', 'javascript split', 'geom_line', 'jquery bind', 'scene', 'scene builder', 'root node', 'means', '+ php', 'error opening', 'friendly', 'nethttp', 'paginate', 'preceded', 'another string', 'page loads', 'jquery date', 'fb', 'insert record', 'cforeach', 'rebuild', 'using gcc', 'convert list', 'composer update', 'php extension', 'use session', 'database value', 'way implement', 'array method', 'syntax check', 'insert values', 'set values', 'multiple checkbox', 'php json_encode', 'multiple arrays', 'noclassdeffounderror', 'status 500', 'indentation', 'remove column', 'column csv', 'method found', 'mvc4 razor', 'ioerror', 'ioerror errno', 'use boost', 'cxf', 'using auto', 'nested loops', 'tree c', 'calayer', 'anchor tag', 'median', 'missing argument', 'c# drag', 'multiple selected', 'object empty', 'empty value', 'aspnet vb', 'adding removing', 'anonymous function', 'ascii characters', 'systemnullreferenceexception', 'systemnullreferenceexception object', 'schema validation', 'engine datastore', 'div inside', 'div without', 'c# async', 'float array', 'post message', 'message page', 'array dictionaries', 'recommend', 'artisan', 'number generator', 'built', 'script python', 'delay', 'serial data', 'stuff', 'maximized', 'array add', 'framework c#', 'nsinteger', '2005', 'app crash', 'twitter using', 'opensource', 'hasmany', 'binding source', 'every hour', 'output format', 'outlook', 'reply', 'winforms c#', 'net 35', 'c# use', 'temporarily disable', 'disable click', 'search replace', 'new user', 'number string', 'decimal place', 'user information', 'http localhost', 'script tags', 'javascript change', 'zoom level', 'trying write', 'lines file', 'internal server', 'session timeout', 'using devise', 'shortest', 'check number', 'number range', 'spaces string', 'python datetime', 'cannot accessed', 'custom object', 'system calls', 'get file', 'written', 'python server', 'executed', 'row mysql', 'keystore', 'neural network', 'jruby', 'ruby class', 'stringjoin', 'subprocess call', 'call python', 'must either', 'abstract method', 'java package', 'jquery using', 'bookmark', 'compared', 'coded', 'resume', 'played', 'delegate method', 'wsdl', 'read xml', 'dist', 'getattr', 'none python', 'java read', 'read txt', 'error use', 'check image', 'last row', '2 digit', 'usb', 'mass', 'gradient', 'layouts', 'gradient background', 'unable add', 'array within', 'xmlserializer', 'way load', 'java regular', 'restrict access', '1404', 'ubuntu 1404', 'text boxes', 'spring dependency', 'dynamic value', 'sortable', 'call c++', 'create database', 'open stream', 'tensorflow', 'update query', 'query returns', 'returns true', 'seeing', 'logged users', 'every page', 'add delete', 'smoother', 'first occurrence', 'delete mysql', 'record using', 'loading images', 'opengl textures', 'specific point', 'bitwise', 'using bitwise', 'bitwise operators', 'function use', 'toolsjar', 'unable locate', 'unsigned long', 'long long', 'cakephp 3', 'im getting', 'externals', 'unresolved externals', 'method within', 'within class', 'strange behaviour', 'stringbuilder', 'php insert', 'data form', 'form user', 'php call', 'convert parameter', 'mixing', 'nonblocking', 'open excel', 'read values', 'open xml', 'recommendation', 'javascript url', 's3 using', 'using api', 'error insert', 'without loop', 'loop java', 'easing', 'child parent', 'localize', 'operating', 'app running', 'value method', 'call using', 'using reflection', 'location header', 'objects javascript', 'leave', 'colours', 'converting java', 'already running', 'computing', 'convert numbers', 'find object', 'changes value', 'uncaught error', 'specific div', 'certain class', 'fancybox iframe', 'endpoint', 'tcp connections', 'angular ngrepeat', 'specific item', 'bootstrap accordion', 'vbnet sql', 'parent page', 'page iframe', 'instance another', 'asmx web', 'wamp server', 'js jquery', 'cant run', 'convert datetime', 'percent', 'precise', 'decrement', 'increment decrement', 'name file', 'func', 'one servlet', 'search engine', 'play audio', 'audio file', 'name list', 'skips', 'regarding', 'gmail account', 'account using', 'one page', 'integer division', 'http get', 'get request', 'resize event', 'event listeners', 'like button', 'uint8_t', 'select elements', 'div using', 'unlimited', 'c# way', 'android httpurlconnection', 'notice', 'cake', 'undefined property', 'rows mysql', 'php jquery', 'value java', 'cant change', 'reconnect', 'check date', 'send byte', 'creating bean', 'file excel', 'google oauth', 'without adding', 'seo', 'item dropdown', 'myclass', 'using django', 'void method', 'personal', 'use visual', 'studio express', 'message box', 'jersey rest', 'rest web', 'methods static', 'rowwise', 'columnwise', 'moving objects', 'display values', 'values table', 'eager load', 'post ajax', 'efficiency', 'stringreplace', 'c++ reading', 'add column', 'browser tab', 'outside function', 'soup', 'beautiful soup', 'conversions', 'r code', 't_string', 'combining', 'extending class', 'use aspnet', 'within javascript', 'size_t', 'line character', 'cell using', 'using poi', 'using data', 'stored database', 'listed', 'aspnet user', 'vuejs', 'select change', 'change jquery', 'current location', 'ioc', 'nullreferenceexception', 'ftp using', 'safe way', 'member class', 'mime', 'mime type', 'responses', 'select table', 'data post', 'jsonparse', 'post array', 'error c++', 'java scala', 'generate java', 'clearing', 'xls file', 'php date', 'machines', 'ruby version', 'pass javascript', 'controller using', 'spider', 'bar button', 'button item', 'mails', 'size using', 'displaying table', 'use try', 'record mysql', 'qml', 'add list', 'factor', 'java driver', 'saved database', 'exported', 'js script', 'connection timed', 'connecting database', 'database another', 'another website', 'using prepared', 'prepared statements', 'mistake', 'caseinsensitive', 'html5 form', 'select dropdown', 'clean way', 'menu item', '17', 'django 17', 'load resource', 'using local', '311', 'r version', 'rest webservice', 'created using', 'calling web', 'data android', 'subscribers', 'evil', 'actionresult', 'sense', 'nonnumeric', 'objectmapper', 'wpf using', 'using mvvm', 'poco', 'gradle build', 'lightbox', 'multiple links', 'passwords', 'stack overflow', 'reading multiple', 'adjust', 'autoincrement', 'framework core', 'remove single', 'array new', 'expression split', 'hibernate criteria', 'rightclick', 'arraylist using', 'kotlin', 'image css', 'cordova', 'phonegap cordova', 'php passing', 'posting json', 'regular expressions', 'get rows', 'rails use', 'array size', 'variable declared', 'const int', 'accomplish', 'cpp files', 'classname', 'get clicked', 'list python', 'attributeerror list', 'convert pdf', 'php python', 'union', 'union two', 'rights', 'start process', 'resizable', 'get cell', 'passing variables', 'row using', '8 streams', 'using beautifulsoup', 'doesnt send', 'sender', 'data files', 'color change', 'ruby check', 'request_uri', 'reached', 'struts 2', '2 action', 'append string', 'hides', 'image rotation', 'unhandled error', 'nest', 'control inside', 'working spring', 'boot application', 'php form', 'like google', 'generating xml', 'pass one', 'one row', 'view aspnet', 'version ruby', 'external library', 'static methods', 'programmatically c#', 'programmatically generate', 'background task', 'keydown', 'listviews', 'without error', 'disable textbox', 'circles', 'localtime', 'get difference', 'back previous', 'click working', 'nsregularexpression', 'c# generic', 'update delete', 'serialize class', 'html using', 'open page', 'chrome javascript', 'integrated', 'fill color', 'color using', 'validation failed', 'lan', 'iso88591', 'however', 'white spaces', 'page without', 'ruby array', 'full path', 'using file', 'bootstrap datepicker', 'point numbers', 'certain value', 'given array', 'array type', 'type runtime', 'trailing', 'black background', 'php gd', 'output data', 'null even', 'index 0', 'invalid input', 'hresult', 'exception hresult', 'identifier found', 'string decimal', 'parsing data', 'selected values', 'code eclipse', 'error operator', 'doesnt create', 'php _server', 'open another', 'distinct values', 'engine java', 'stroke', 'page found', 'source project', 'dynamically create', 'javac', 'converting list', 'element tuple', 'select drop', 'igniter', 'code igniter', 'javalangnullpointerexception', 'configurations', 'drawn', 'class class', 'cannot delete', 'jquery image', 'c# creating', 'button style', '__attribute__', 'aligned', 'use android', 'json parser', 'nosuchmethodexception', 'order list', 'remote file', 'duplicated', 'gridview inside', 'posting data', 'sample code', 'searches', 'corresponding', 'moved', 'mercurial', 'spring beans', 'tkinter text', 'text widget', 'slowly', 'start end', 'protection', 'python image', 'image library', 'problem adding', 'adding items', 'programmer', 'modification', 'restrictions', 'specific folder', 'existence', 'svn', 'file error', 'convert rgb', 'hex color', 'bootstrap navbar', 'qt4', 'another servlet', 'nested class', 'ui tabs', 'many times', 'dragging', 'array item', 'based index', 'check empty', 'write excel', 'java based', 'http_referer', 'current process', 'python opencv', 'throw exception', 'android google', 'xdocument', 'loading xml', 'using xdocument', 'c# xaml', 'c file', 'parent container', 'q', 'illegal string', 'string offset', 'jsf page', 'remove first', 'comma string', 'getting number', 'cshtml', 'java tcp', 'display text', 'interpreting', 'error invalid', 'connecting remote', 'br tag', 'tag html', 'reordering', 'table value', 'best solution', 'convert numeric', 'initializers', 'framework code', 'one database', 'soap response', 'existing file', 'values excel', 'selected dropdown', 'followed', 'coerced', 'fixnum', 'property javascript', 'definitions', 'change google', 'license', 'function wordpress', 'file size', 'indicate', 'property id', 'cannot modified', 'insert date', 'file r', 'solr', 'unable start', 'get sql', 'incrementally', 'hand', 'jquery remove', 'calling java', 'rdd', 'treating', 'join 2', 'every element', 'int c#', 'mysql tables', 'mouse position', 'troubleshooting', 'javascript regex', 'strategies', 'rails route', 'using function', 'clojure', 'setters', 'dropdownlist aspnet', 'expressjs', 'reserved', 'python dictionary', 'color table', 'parameter java', 'relations', 'scoped', 'form values', 'model property', 'relevant', 'java create', 'variable doesnt', 'doesnt exist', 'anymore', 'within array', 'php laravel', 'clicked using', 'autowiring', 'filter chain', 'custom filter', 'based condition', 'flasksqlalchemy', 'reading file', 'file byte', 'href attribute', 'timepicker', 'project eclipse', 'class package', 'checkboxlist', 'object arraylist', 'inherit', 'pdf html', 'scientific notation', 'operator overloading', 'char const', 'left right', 'segfault', 'parse cloud', 'cloud code', 'initializecomponent', 'return new', 'value code', 'specific format', 'api javascript', 'load type', 'sidebar', 'intervention', 'scoping', 'crawl', 'java socket', 'socket read', 'classification', 'grey', 'disable submit', 'send json', 'android php', 'using jpa', 'jpa spring', 'hhmm', 'duration', 'custom style', 'aes encryption', 'java example', 'better use', 'array instead', 'objectdatasource', 'data access', 'c++ using', 'using nested', 'template classes', 'error setting', 'google protocol', 'value update', 'mousewheel', 'invalidoperationexception', 'arrays elements', 'make array', 'new column', 'javascript open', 'infinite scroll', 'com object', 'object net', 'castle', 'windsor', 'castle windsor', 'pass variable', 'type method', 'mod', 'mod rewrite', 'python django', 'string html', 'sql syntax', '#object', 'typeerror object', 'object #object', '#object method', 'method replace', 'change select', 'values based', 'list values', 'systemstackoverflowexception', 'unhandled exception', 'url path', 'path without', 'test project', 'java hashmap', 'widths', 'changing values', 'list inside', 'gesture', 'write output', 'guessing game', 'assert', 'netbeans java', 'file csv', 'format python', 'based content', 'content length', 'integral', 'benefits using', 'javalangillegalargumentexception', 'traverse', 'inheriting', 'class vbnet', 'get browser', 'new page', 'compare date', 'date objects', 'objects attribute', 'got error', 'sine', 'wave', 'convert html', 'tray', 'storing array', 'array database', 'filter data', 'php query', 'publish', 'jms message', 'spanish', 'file vbnet', 'along', 'based web', 'parent div', 'javascript click', 'use value', 'variable object', 'earlier', 'constructs', 'easier', 'net 45', 'scanner class', 'passing value', 'concatenate string', 'without losing', 'html formatting', 'without getting', 'although', 'rows column', 'value datatable', 'forcing', 'taskbar', 'view without', 'greasemonkey', 'maps v3', 'crashed', 'doctrine2', 'create tables', 'javascript convert', 'regex validate', 'via url', 'file local', 'push notification', 'html source', 'move file', 'one folder', 'using window', 'window service', 'almost', 'form json', 'javaxmailmessagingexception', 'could connect', 'smtp host', 'cant select', 'retrieve value', 'connection client', 'data different', 'different models', 'locally', 'addclass', 'removeclass', '2010 c++', 'barplot', 'character encoding', 'targets', 'fallback', 'load jquery', 'api android', 'exits', 'often', 'event fire', 'html5 video', 'datarow', 'variables python', 'find x', 'transformation', 'maintaining', 'destination', 'part url', 'java xml', 'using dom', 'call c#', 'make custom', 'test file', 'validation rules', 'containers', 'stl containers', 'javascripts', 'wont load', 'ajax response', 'problem passing', 'jtable cell', 'string formatting', 'accessibility', 'inconsistent accessibility', 'less accessible', 'h file', 'upgrading', 'qt 5', 'permutation', 'characters using', 'file string', 'chrome developer', 'developer tools', 'cant see', 'ifs', 'slightly', 'alternative way', 'external jar', 'data values', 'hidden input', 'certificates', 'delayed', 'windows using', 'using eclipse', 'css hover', 'respect', 'guid', 'taskrun', 'periodic', 'coding style', 'install php', 'update record', 'single query', 'substring string', 'access object', 'object properties', 'properties object', 'asking', 'user enter', 'value c', 'curl ssl', '3 seconds', 'enough', 'specific values', 'redirect loop', 'date java', 'java format', 'scroll view', 'mailer', 'expected exception', 'argumenterror', 'wrong number', 'number arguments', 'primitive type', 'hold', 'vice', 'versa', 'remote database', 'vice versa', 'new object', 'javascript show', 'scrollview', 'framework database', 'requesting', 'access array', 'text table', 'values drop', 'partial class', 'differently', 'color every', 'vb net', 'row id', 'smart', 'storing data', 'cloud storage', 'c# wrapper', 'get xml', 'storing string', 'variable scope', 'value number', 'invalidate', 'redefinition', 'typedef', 'webpage using', 'api python', 'responseredirect', 'rmarkdown', 'change position', 'set java', 'javascript alert', 'static data', 'another action', 'latin1', 'regex javascript', 'undefined jquery', 'doesnt get', 'type image', 'read html', 'html body', 'socketio', 'scrolled', 'class vs', 'window resize', 'int cannot', 'solutions', 'passing list', 'objects via', 'mvc controller', 'tab key', 'key javascript', 'jquery datatables', 'adding extra', 'extra column', 'http response', 'installing rails', 'call c', 'data member', 'diff', 'accounts', 'multiple divs', 'pooling', 'java connection', 'connection pooling', 'localized', 'proc', 'cursor', 'put javascript', 'performed', 'different column', 'higher', '+ jquery', 'jquery +', 'ef6', 'manytomany relationship', '1st', 'highchart', 'binded', 'signed', 'literals', 'reading serial', 'google search', 'open window', 'clauses', 'find substring', 'generic types', 'types java', 'administrator', 'file transfer', 'way generate', 'function convert', 'object key', 'hierarchical', 'float number', 'whole number', 'number javascript', 'permgen', 'permgen space', 'medium', 'using apache', 'enclosing', 'python linux', 'ios6', 'ios5', 'compile time', 'frequently', 'developers', 'programs', 'plugin working', 'sending string', 'dynamic allocation', 'number list', 'load multiple', 'execute python', 'script server', 'side javascript', 'leads', 'javalangnosuchmethoderror', 'ljava', 'lang', 'running program', 'cant make', 'object value', 'doc file', 'xmlgregoriancalendar', 'session object', 'preprocessor directive', 'heap corruption', 'code c#', 'using mockito', 'check see', 'game server', 'get parameter', 'click image', 'childs', 'overloaded', 'overloaded function', 'add data', 'amazon api', 'search box', 'momentjs', 'meteorjs', 'php xpath', 'node value', 'struggling', 'c java', 'java client', 'get position', 'multiple jquery', 'programmatically change', 'change border', 'time interval', 'spreadsheets', 'ssis', 'multiple excel', 'ssis package', 'logout facebook', 'stacktrace', 'array random', 'click submit', 'regex ruby', 'class implements', 'implements interface', 'read files', 'angularjs +', 'currency', 'formatting string', '21', 'ibm', 'using hibernate', 'write read', 'typetext', 'php validation', 'input typetext', 'one specific', 'specific word', 'set attributes', 'javascript checking', 'multiple fields', 'fields empty', 'wpf usercontrol', 'list indices', 'tcp sockets', 'row jquery', 'userdefined', 'sort data', 'parent node', 'search tree', 'deletion', 'refresh datatable', 'datatable row', 'optimization', 'cassandra', 'multiplication', 'java double', 'http 500', 'interpret', 'reactnative', 'android using', 'onblur', 'canvas element', 'file extension', 'googlemap', 'initialize array', 'method argument', 'pointer c++', 'function code', 'stanford', 'function exists', 'warn', 'classs', 'base classs', 'generic interface', 'ajax loaded', 'loaded content', 'usercontrols', 'form doesnt', 'doesnt call', 'library using', 'behaving', 'transaction rollback', 'react component', 'stand alone', 'server 2005', 'urlspy', 'pound', 'string match', 'possible write', 'web server', 'image web', 'outputstream', 'value datagridview', 'datagridview cell', 'premature', 'premature end', 'indent', 'disk space', 'java windows', 'display php', 'processed', 'connection open', 'php session', 'python importerror', 'undefined symbol', 'two digits', 'digits decimal', 'table excel', 'adjacent', 'unsorted array', 'valid json', 'name java', 'observablecollection', 'javascript json', 'return true', 'python 26', 'get controls', 'selectlist', 'page title', 'intent', 'multiple mysql', 'nonnull', 'sqlparameter', 'published', 'k', 'ci', 'leaflet map', 'lat', 'lng', 'lat lng', 'screen position', 'check one', 'c# web', 'strongly', 'lead', 'xhr', 'select random', 'random row', 'read text', 'using datatable', 'tcp port', 'run batch', 'file present', 'remote machine', 'get filename', 'filenotfoundexception', 'selenium c#', 'local directory', 'test framework', 'get images', 'item value', 'adding string', 'string last', 'report using', 'memory issue', 'ajax json', 'data codeigniter', 'codeigniter controller', 'session data', 'file folder', 'framework 40', 'id using', 'django app', 'trying remove', 'java split', 'input values', 'option dropdown', 'wildfly', 'cocoa app', 'whats good', 'use java', 'copy data', 'delete row', 'word file', 'form database', 'wordpress loop', 'object created', 'focus input', 'deserialize xml', 'servlet class', 'gemfile', 'string enum', 'conversion java', 'loop javascript', 'remove string', 'title bar', 'tweets', 'module object', 'null null', 'rails server', 'proxy authentication', 'authentication required', 'interprocess', 'interprocess communication', 'call java', 'class jsp', 'nameerror global', 'global name', 'memory warning', 'multiple strings', 'strings using', 'linebreaks', 'retrieve images', 'server via', 'uitabbarcontroller', 'nav', 'video url', 'c# call', 'every 5', 'net dll', 'script using', 'referential', 'self referential', 'get row', 'countries', 'depend', 'get absolute', 'image element', 'gridview column', 'team', 'team foundation', 'foundation server', 'reference object', 'way delete', 'add back', 'executables', 'macos', 'c compiler', 'cannot create', 'user logged', 'commaseparated', 'structures c', 'check input', 'space characters', 'function definition', 'refresh div', 'without reload', 'variable error', 'must string', 'button php', 'unable send', 'nested dictionary', 'https request', 'request server', 'validation using', 'current language', 'session destroy', 'format time', 'date column', 'requirement', 'plaintext', 'designing', 'insert array', 'binary numbers', 'select clause', 'clause linq', 'directory files', 'binary number', 'fetch data', 'data inside', 'scss', 'unexpected t_string', 'set select', 'adonet entity', 'mysql stored', 'duplicate values', 'function pointers', 'servlet container', 'mozilla', 'separating', 'using yii', 'data rails', 'logon', 'login failed', 'failed user', 'like facebook', 'model value', 'child window', 'drawing line', 'inside circle', 'dataframe index', 'property access', 'change wpf', 'path error', 'kinect', 'image files', 'png jpg', 'header redirect', 'jscript', 'selects', 'using stl', 'follows', 'main function', 'select update', 'removes', 'osgi', 'poi excel', 'boolean array', 'object within', 'learning java', 'groupbox', 'web development', 'development environment', 'python pil', 'pil image', 'convert hex', 'inside loop', 'location services', 'react js', 'js get', 'unable instantiate', 'shallow', 'c++ copy', 'make post', 'sites', 'console program', 'gridview row', 'loop array', 'json request', 'align text', 'selecting multiple', 'image view', 'has_one', 'method create', 'compareto', 'update listview', 'color button', 'shopify', '+ c#', 'lazy load', 'cant figure', 'diagram', 'use code', 'new android', 'minor', 'grid lines', 'using matplotlib', 'display success', 'success message', 'calling methods', 'represented', 'search string', 'computers', 'apart', 'webconfig file', 'folder php', 'line characters', 'coloring', 'save canvas', 'display specific', 'subcategories', 'read local', 'string time', 'retriving', 'mongodb using', 'code javascript', 'javascript equivalent', 'datatypes', 'email body', 'date month', 'typeerror unsupported', 'unsupported operand', 'collection_select', 'ie 7', 'objects collection', 'scrolls', 'cannot add', 'seen', 'appender', 'separate files', 'one jsp', 'another jsp', 'english', 'copy paste', 'handle different', 'python unicode', 'encoded utf8', 'connecting sql', 'undeclared identifier', 'value field', 'json using', 'debug mode', 'laravel 54', 'create user', 'c++ builder', 'unable change', 'row html', 'spring java', 'java config', 'angular scope', 'push undefined', 'json decode', 'model instance', 'ftp server', 'sprites', 'android apps', 'extra space', 'forms page', 'uibuttons', 'joins', 'arguments passed', 'passed method', 'php arrays', 'motion', 'new activity', 'tcp server', 'query java', 'image slider', 'jquery check', 'check uncheck', 'object c++', 'element text', 'different file', 'html button', 'button javascript', 'assume', 'android sdk', 'row database', 'subtracting', 'could open', 'java version', 'function java', 'smallest', 'cannot resolve', 'laravel eloquent', 'string arrays', 'one string', 'string ruby', 'file eclipse', 'injected', 'simple http', 'http server', 'qualifier', 'static fields', 'local network', 'effective', 'tips', 'xcode 4', 'using smtp', 'vista', 'win32 application', 'using singleton', 'class functions', 'php best', 'best use', 'turned', 'change height', 'moment', 'div onclick', 'download pdf', 'using try', 'stopping', 'exception class', 'mockito mock', 'new file', 'attribute class', 'text files', 'way store', 'send values', 'case statement', 'java regex', 'recyclerview', 'service wont', 'add class', 'print_r', 'sending large', 'alert view', 'create simple', 'multipart form', 'use remote', 'javascript callback', 'get hibernate', 'hibernate entity', 'sd', 'change url', 'rails 32', 'python lxml', 'mechanism', 'java 7', 'jquery cant', 'uploaded images', 'custom login', 'unittesting', 'nodejs server', 'commons', 'apache commons', 'unordered_map', 'catalog', 'static block', 'method javascript', 'objectforkey', 'error two', 'ago', '1 hour', 'table column', 'timezones', 'work correctly', 'random access', 'threads java', 'duplicate symbol', 'textfile', 'memory access', 'dont know', 'multiple interfaces', 'mysql java', 'base64 image', 'sftp', 'image ajax', 'viewcontroller', 'deallocated', 'read large', 'jackson deserialization', 'dns', 'mavericks', '109', 'select items', 'people', 'sharepoint list', 'critical', 'add select', 'event div', 'delete object', 'datarows', 'never called', 'console window', 'take input', 'link javascript', 'sharepoint 2013', 'urls using', 'local xml', 'hit', 'comparator', 'debian', 'access java', '#2', 'characters like', 'serialize deserialize', 'randomize', 'arrayliststring', 'send http', 'set php', 'php cron', 'server 2003', 'format json', 'php equivalent', 'equivalent javascript', 'data provider', 'connect local', 'script error', 'error chrome', 'chrome extensions', 'drawing lines', 'data local', 'mobile device', 'httpcontext', 'value aspnet', 'input file', 'get columns', 'set text', 'retry', 'using adonet', 'confirmation message', 'javalangarrayindexoutofboundsexception', 'java hibernate', 'window chrome', 'oauthexception', 'hovering', 'msvc', 'java call', 'call constructor', 'convert stdstring', 'netbeans ide', 'mediaelement', 'get client', 'using global', 'java finding', 'network interface', 'inner classes', 'real world', 'installing numpy', '64bit windows', 'extraction', 'root directory', 'passing javascript', 'list append', 'deal', 'one character', 'character time', 'type reference', 'simple javascript', 'wcf restful', '3 app', 'include file', 'prefer', 'moving image', 'page via', 'lm', 'polar', 'facet', 'way save', 'via api', 'api rails', 'attempted', 'string parameter', 'inside table', 'regression', 'linear regression', 'series pandas', 'data two', 'different tables', 'database jsp', 'tree using', 'asm', 'calling c++', 'function reference', 'rotate image', 'text property', 'array 2d', '_id', 'list tuples', 'before_filter', 'kendo ui', 'ui grid', 'grid column', 'enforcing', 'item c#', 'fosuserbundle', 'roll', 'user management', 'vba', 'application development', 'video file', 'upload form', 'form django', 'pressing enter', 'deviation', 'standard deviation', 'integrity', 'string convert', 'django error', 'quality', 'string entity', '365', 'ive', 'digital', 'get bootstrap', 'bootstrap datetimepicker', 'weak', 'homebrew', 'fabricjs', 'email multiple', 'multiple users', 'jquery validate', 'new one', 'display result', 'illegal start', 'using jstl', 'rows gridview', 'image preview', 'using paperclip', 'sys', 'video files', 'text div', 'apache mod_wsgi', 'pl', 'file sql', 'bracket', 'functions called', 'inside list', 'html div', 'fieldset', 'web forms', 'cell data', 'activating', 'create input', 'nested objects', 'link library', 'snap', 'finding common', 'heatmap', 'qplot', 'init method', 'method calling', 'searchbar', 'underlying connection', 'connection closed', 'closed connection', 'restriction', 'causes error', 'autoload', 'eclipse using', 'another java', 'using struts2', 'decoded', 'error json', 'object could', 'could decoded', 'return different', 'different values', 'another method', 'method controller', 'conf', 'call variable', 'number validation', 'validation regex', 'interface using', 'rect', 'c# server', 'jasperreports', 'bean method', 'combining two', 'line numbers', 'attribute aspnet', 'div tag', 'match regex', 'stacked bar', 'generate soap', 'soap request', 'restrict user', 'read first', 'contextmenu', 'based string', 'tries', 'function function', 'validation message', 'error bars', 'multiple buttons', 'variables html', 'hierarchy', 'deserializing json', 'redirect_to', 'make sense', 'bad practice', 'pass argument', 'domain name', 'error apache', 'sentence', 'get error', 'data c++', 'technique', 'arrays mysql', 'jvms', 'running multiple', 'urlaction', 'duplicates list', 'file display', 'display html', 'textbox javascript', 'places api', 'fwrite', 'variable class', 'function undefined', 'hibernate using', 'hide column', 'importing excel', 'json web', 'remove specific', 'logistic regression', 'loading content', 'javascript remove', 'wants', 'native javascript', 'flipping', 'unordered', 'unordered list', 'items array', 'variable using', 'vb6', '8 metro', 'c++ boost', 'inside custom', 'write data', 'type bool', 'possible get', 'matrix using', 'variable one', 'represents', 'passing class', 'object function', 'respective', 'float double', 'value store', 'toast', 'asterisks', 'process memory', 'validate user', 'use static', 'fatalerrorexception', 'limit number', 'undefined index', 'line 2', 'codeigniter php', 'dynamic javascript', 'suggestion', 'images mysql', 'grids', 'swift error', 'compiles', 'invalid conversion', 'indexhtml', 'django orm', 'convert query', 'first argument', 'delete file', 'file use', 'datagrid wpf', 'formdata', 'multipart formdata', 'use different', 'error sql', 'check manual', 'activerecordrecordnotfound', 'multiple records', 'make javascript', 'calculations', 'expr', 'values checkbox', 'directory python', 'path java', 'dashed', 'validation fails', 'application context', 'metro apps', 'reconnecting', 'ios simulator', 'server returned', 'returned error', 'javalangillegalstateexception', 'wp8', 'multiple statements', 'insert current', 'adds', 'create javascript', 'php facebook', 'email validation', 'expiry', 'phpsessid', 'recommendations', 'zip code', 'handlebarsjs', 'javascript inside', 'propertyplaceholderconfigurer', 'spring configuration', 'image icon', 'python dict', 'popups', 'open close', 'time period', 'mule', '34', 'cross browser', 'file data', 'cascade', 'jpa hibernate', 'error c#', 'code working', 'test data', 'open url', 'socket client', 'quote', 'request method', 'combine 2', 'unmatched', 'merge 2', 'ie 8', 'practice java', 'hint', 'multiple javascript', 'c extension', 'character character', 'python scrapy', 'update sql', 'database via', 'div width', 'session management', 'add line', 'line file', 'make div', 'remove button', 'click element', 'find closest', 'string pattern', 'pushed', 'cursor position', 'begin', 'invoke method', 'using angular', 'unable run', 'request url', 'time range', 'string utf8', 'c source', 'lowercase uppercase', 'property null', 'alphabet', 'tablet', 'nested loop', 'loop working', 'sort multidimensional', 'one fields', 'dynamically loaded', '00', 'convert ascii', 'position jquery', 'jquery dialog', 'linux c', 'tkinter python', 'list integers', 'globals', 'difference static', 'inserting data', 'run android', 'subfolder', '404 page', 'button within', 'controller model', 'giving error', 'color picker', 'behave', 'name url', 'markdown', 'css using', 'r markdown', 'column row', 'ansible', 'jar files', 'result using', 'parameter javascript', 'add item', 'dynamic array', 'ansi c', 'db using', 'textarea input', 'side using', 'display string', 'completion block', 'project cannot', 'working directory', 'return statement', 'string field', 'import excel', 'match words', 'end string', 'adding additional', 'ist', 'expression string', 'object ruby', 'profiles', 'limiting', 'formset', 'incompatible type', 'array pointers', 'get tag', 'xml node', 'helper method', 'way extract', 'chaining', 'filestream', 'getting list', 'eclipselink', 'scanner input', 'clear text', 'sending emails', 'randomly generated', 'printing pdf', 'abc', 'htaccess file', 'url browser', 'find duplicate', 'string sql', 'type column', 'aspnet vbnet', 'c string', 'updating ui', 'grabbing', 'ngclass', 'compare 2', '2 dates', 'doesnt seem', 'limitations', 'accessing parent', 'studio error', 'resolve symbol', 'form file', 'array mysql', 'uiimagepickercontroller', 'project visual', 'file storing', 'pass php', 'dictionary using', 'aggregate function', 'function find', 'restful service', 'date conversion', 'cocos2d', 'identifiers', 'leading trailing', 'socketerror', 'datetimes', 'data nested', 'scenes', 'nested else', 'shows wrong', 'error pages', 'element found', 'found exception', 'stamp', 'time stamp', 'php write', 'current year', 'wizard', 'ability', 'insert text', 'way populate', 'method requires', 'without changing', 'address bar', 'take screenshot', 'before_save', 'php web', 'running javascript', 'compile errors', 'customising', 'classes java', 'python sqlite', 'external dll', 'pros', 'cons', 'pros cons', 'adt', 'cdata', 'xml response', 'response text', 'php cli', 'pass form', 'values jquery', 'input textbox', 'framework java', 'mouse button', 'css styling', 'mdi', 'child form', 'form c#', 'chat using', 'store variable', 'plugin eclipse', 'github', 'confirm dialog', 'find smallest', 'newly created', 'httpget', 'localhost using', 'using password', 'custom function', 'trying send', 'locals', 'already defined', 'bins', 'windowlocation', 'failed connect', 'type array', 'html jquery', 'intervals', 'allocate memory', 'make textbox', 'getelementsbyclassname', 'horizontal scrolling', 'passing arguments', 'object controller', 'generate list', 'mbstring', 'scrolling div', 'one parameter', 'metro style', 'row jtable', 'last cell', 'update multiple', 'table sql', 'yesterday', 'subclass object', 'syspath', 'method unit', 'cant send', 'way concatenate', 'string objects', '#include', 'g++ error', 'getelementbyid', 'autolayout constraints', 'gtk', 'executenonquery', 'returns 1', 'update records', 'nib', 'skipping', 'catch exceptions', 'pdo prepared', 'plist file', 'dynamically using', 'hits', 'ssrs', 'float int', 'tpl', 'collected', 'signs', 'row values', 'cvmat', 'ndarray', 'anonymous method', 'remove attributes', 'jsf primefaces', 'primefaces datatable', 'handles', 'set session', '1 minute', 'write method', 'c style', 'removing item', '55', 'setting background', 'color div', 'javascript regular', 'numberformatexception', 'struct c', 'weighted', 'ajax aspnet', 'receive data', 'abstract base', 'value stored', 'simple array', 'array multiple', 'fixed position', 'drools', 'post form', 'within function', 'primaryexpression', 'expected primaryexpression', 'using http', 'host name', 'using c#net', 'name value', 'password protected', 'page control', 'ios app', 'inside updatepanel', 'toarray', 'presented', 'update column', 'column based', 'based another', 'mysql column', 'function print', 'selected date', '09', 'format javascript', 'get google', 'silent', 'mode using', 'data inserted', 'number days', 'jquery div', 'type swift', 'post using', 'viewcontrollers', 'method c++', 'local time', 'date last', 'without context', 'type type', 'remove parent', 'parent element', 'module inside', 'inside template', 'template file', 'insert database', 'jsp form', 'nltk', 'dictionary c#', 'error line', 'protocols', 'sdl2', 'index data', 'setting array', 'c++ object', 'operator new', 'access private', 'private member', 'label using', 'working ajax', 'use existing', 'run command', 'unbound', 'php object', 'one number', 'response body', 'performance issue', 'buttons java', 'multi level', 'sub folder', 'data read', 'callout', 'disable input', 'multiple constructors', 'terminating', 'android webview', 'thousands', 'multiple submit', 'external css', 'reflection get', 'method method', 'shipping', 'deeply', 'deeply nested', 'script working', 'working google', 'checking whether', 'textbox empty', 'app_code', 'maximum recursion', 'recursion depth', 'grayscale', 'grayscale image', 'separators', 'beginning end', 'properly use', 'dropdownlists', 'selectedindexchanged', 'selectedindexchanged event', 'specific position', 'found http', 'last value', 'data based', 'omit', 'applets', 'check text', 'connect sql', 'server db', 'parent form', 'jquery set', 'googles', 'backbone view', 'dynamic id', 'response code', 'button based', 'checked checkboxes', 'pdfptable', 'itext pdf', 'opencv c++', 'best approach', 'model validation', 'index error', 'error php', 'php image', 'quick way', 'way getting', 'unsafe', 'css animation', 'curl error', 'transfer data', 'one html', 'dynamic table', 'particular row', 'hexadecimal string', 'find class', 'get exact', 'specific range', 'image hover', 'given user', 'pagination using', 'using doctrine', 'mobile browsers', 'qlineedit', 'configuration error', 'url http', 'reloaddata', 'limits', 'r plots', 'static member', 'visitors', 'geolocation', 'files use', 'consolewriteline', 'use ruby', 'c# working', 'unexpected results', 'datetime value', 'redirect form', 'python windows', 'windows 81', 'dates using', 'use another', 'another process', 'copy one', 'selection dropdown', 'file types', 'python set', 'type c++', 'rack', 'java properties', 'numbers decimal', 'bat', 'bat file', 'php namespaces', 'values textbox', 'java equivalent', 'command windows', 'net using', 'iterate array', 'combine two', 'post file', 'access data', 'empty line', 'indexer', 'replicate', 'model without', 'using android', 'figures', 'arguments function', 'routine', 'link href', 'calling functions', 'mobile web', 'drop box', 'file browser', 'different classes', 'java timer', 'blank page', 'anaconda', 'textbox values', 'sum two', 'c# object', 'ensuring', 'f', 'error request', 'request member', 'using microsoft', 'java without', 'rake task', 'image canvas', 'canvas using', 'inflating', 'error inflating', 'inflating class', 'windows7', 'solved', 'pop window', 'main window', 'php update', 'capture output', 'trigger button', 'chinese', 'end url', 'plugin work', 'poi java', 'navigationbar', 'httpservletresponse', 'array input', 'lines python', 'javascript create', 'system property', 'sha256', 'create random', 'avfoundation', 'date get', 'uniqueness', 'jquery slider', 'candidate', 'rewriting', 'failed create', 'pan', 'hyphen', 'mysql +', 'daily', 'array sorting', 'format c#', 'mouseover mouseout', 'implement custom', 'two way', 'way binding', 'value column', 'column using', 'tags inside', 'file opening', 'update row', 'method type', 'uploading images', 'templatefield', 'row color', 'pulling', 'viewed', 'facets', 'parentchild', 'saving data', 'dll files', 'files windows', 'dynamic memory', 'cant import', 'save load', 'return values', 'output parameters', 'dom javascript', 'fcm', 'horizontal scrollbar', 'jquery variable', 'microsoft jscript', 'jscript runtime', 'get button', 'set data', 'json net', 'elastic search', 'printf format', 'time string', 'inserts', 'rails migration', 'consistently', 'zindex', 'datatemplate', 'binding wpf', 'cleaning', 'python remove', 'dictionary list', 'second column', 'column pandas', 'throws nullpointerexception', 'weblogic', 'using log4j', 'family', 'strlen', '1024', 'px', 'dataannotations', 'application net', 'emulate', 'sysargv', 'php pass', '19', 'getdate', 'remove image', 'image folder', 'filled', 'would like', 'xcode project', 'turns', 'php5', 'concepts', 'xcode swift', 'event work', 'delete button', 'prices', 'table python', 'combined', 'uploaded files', 'c++ classes', 'way copy', 'load xml', 'php url', 'cannot found', 'dictionary values', 'calendar api', 'client library', 'vs list', 'using xml', 'contract', 'shows error', 'model field', 'data java', 'apples', 'values function', 'run app', 'real device', 'check checkbox', 'super class', 'method subclass', 'response headers', 'telerik', 'acces', 'click javascript', 'tap event', 'letters numbers', 'enforce', 'values combobox', 'try use', 'buffering', 'streamed', 'idiom', 'unset', 'variables passed', 'passed reference', 'value integer', 'year month', 'month date', 'columns pandas', 'stream java', 'c# string', 'files server', 'recreate', 'element sequence', 'setting focus', 'input element', 'two xml', 'php select', 'select menu', 'send receive', 'preferred', 'preferred way', 'remove non', 'send file', 'directed', 'correct use', 'find dom', 'dom node', 'node using', 'find installed', 'run code', 'r using', 'collecting', 'expanding', 'collapsing', 'widgets', 'anything like', 'bigint', 'converting data', 'unable parse', 'string error', 'pthread_create', 'dumping', 'custom objects', 'objects property', 'table two', 'static field', 'constructor function', 'vs object', 'string new', 'rounded corners', 'model object', '48', 'pass reference', 'foreach statement', 'convert datatable', 'generic dictionary', 'dictionary type', 'type key', 'type value', 'asio', 'boost asio', 'crud operations', 'descriptor', 'file descriptor', '2 numbers', 'return number', 'rotated', 'windows path', 'new element', 'statement php', 'previews', 'bad idea', 'tcp client', 'handle error', 'navigationcontroller', 'querysets', 'interact', 'hyperlinks', 'using objectivec', 'value returned', 'function takes', 'network using', 'data array', 'compressed', 'without primary', 'pandas series', 'trouble installing', 'implementation using', 'apachepoi', 'excel using', 'request response', 'css3 animation', 'c# calling', 'server code', 'columns using', 'inside form', 'tracking', 'without visual', 'intact', 'user data', 'pause resume', 'console using', 'using mouse', 'ascii code', 'iterate json', 'list element', 'script run', 'browser using', 'parametrized', 'list data', 'deleting rows', 'set global', 'error handler', 'height change', 'ui thread', 'newer', 'migrations', 'changing value', 'stl map', 'php simple', 'win32 api', 'x position', 'php email', 'select row', 'displaying data', 'api working', 'rails activerecord', 'ui dialog', 'c++ source', 'dll file', 'file created', 'spawn', 'boost thread', 'function type', 'repo', 'php format', 'browser back', 'route working', '110', 'input array', 'heap size', 'values aspnet', 'glsl', 'writeobject', 'headless', 'application run', 'calling controller', 'scopes', 'rewrite rule', 'onetoonefield', 'headers sent', 'string different', 'different format', 'get query', 'string values', 'values c#', 'operation valid', 'current state', 'custom header', 'without modifying', 'crudrepository', 'android development', 'library c++', 'talk', 'javascript nested', 'flat', 'sizeof', 'group using', 'find average', 'color image', 'within one', 'return types', 'selfclosing', 'crossorigin', 'database django', 'app use', 'select max', 'occurences', 'text multiple', 'get nodes', 'item another', 'parsing html', 'status code', 'existing database', 'string except', 'using image', 'image processing', 'using header', 'header php', 'starting new', 'cannot used', 'type arguments', 'type template', 'images opencv', 'opencv java', 'event doesnt', 'doesnt fire', 'print string', 'rxjava', 'column list', 'way close', 'close window', 'window button', 'matrix python', 'dialogbox', 'complains', 'elapsed', 'time elapsed', 'two javascript', 'error null', 'lnk2001', 'error lnk2001', 'lnk2001 unresolved', 'django 18', 'day year', 'passing object', 'contains substring', 'clob', 'checkboxs', 'xaml c#', 'selenium 2', 'upload photo', 'string letters', 'java detect', 'detect whether', 'json tree', 'link php', 'compile java', 'ossystem', 'substitute', 'importing csv', 'itemtemplate', 'cannot send', 'send message', 'border color', 'select values', 'design patterns', 'using cmake', 'function within', 'within list', 'future', 'feedback', 'wpf control', 'add current', 'downloaded file', 'android use', 'ajax rails', 'recipient', 'json result', 'table r', 'list array', 'remove div', 'htaccess url', 'url rewrite', 'system function', 'callback method', 'stack trace', 'audio video', 'adjust height', 'away', 'alias', 'nuget', 'rc', 'method work', 'remove extra', 'asp button', 'protocol buffer', 'python package', 'proxies', 'gruntjs', 'getting 404', 'error connection', 'string correct', 'sum value', 'value multiple', 'multiple input', 'execute multiple', 'access control', 'intended', 'multiple user', 'login user', 'cant encode', 'encode character', 'attributeerror module', 'single file', 'xcode 5', 'default image', 'custom collection', 'reading excel', 'excel 2007', 'x lion', 'twilio', 'access file', 'one type', 'simple form', 'writing files', 'web applications', 'keras', 'across different', 'input jquery', 'serialized', 'check data', 'http web', 'api calls', 'request google', 'colored', 'give error', 'inside gridview', 'add one', 'java use', 'cannot connect', 'inner html', 'adding image', '3 razor', 'offline', 'gmap', 'fileupload control', 'placing', 'process c#', 'installing python', 'python 32', 'calling python', 'ef code', 'data json', 'anyway', 'tab delimited', 'delimited text', 'committed', 'vue', 'didselectrowatindexpath', 'use regex', 'xxxx', 'processing request', 'r function', 'pip install', 'store app', 'version using', 'getting current', 'rating', 'star rating', 'array ids', 'trim string', 'check specific', 'specific character', 'passing variable', 'variable module', 'redirected', 'virtual host', 'android set', 'control value', 'php ubuntu', 'api response', 'response data', 'jsp file', 'jquery error', 'maximum call', 'call stack', 'size exceeded', 'use instead', 'sets java', 'factors', 'public constructor', 'error checking', 'get count', 'mysql jdbc', 'db2', 'aspnet controls', 'example working', 'c++ file', 'eclipse create', 'file missing', 'clicks button', 'button ios', 'file net', 'subplots', 'object expected', 'finalize', 'collector', 'garbage collector', 'reusing', 'name c#', 'exchange web', 'browse', 'type file', 'ajax control', 'replace html', 'leaves', 'unity 3d', 'copy image', 'access elements', 'mail attachment', 'map marker', 'sqlite error', 'using struts', 'view source', 'contenttype', 'json get', 'php working', 'collection objects', 'oserror', 'blog', 'assertionerror', 'structured', 'dollar sign', 'django request', 'utf8 encoded', 'octal', 'decimal numbers', 'facebook post', 'gain', 'manipulating', 'good practice', 'pressing button', 'javascript validate', 'many rows', 'value javascript', 'newbie', 'black white', 'error expression', 'expression must', 'iostream', 'visual c++', 'cant open', 'open include', 'task list', 'miss', 'guava cache', 'checkout', 'unable insert', 'undefined class', 'class constant', 'outofmemoryerror', 'maven build', 'spring controller', 'help needed', 'add images', 'conflict', 'static classes', 'wsgirequest', 'ajax pass', 'error x', 'variables set', 'xmpp', 'need call', 'datacontext', 'web project', 'entered user', 'outputs', 'string xml', 'via http', 'http put', 'download files', 'server python', 'refuses', 'select field', 'connect 2', 'want show', 'dropdown box', 'qstring', 'drop using', 'mvc 2', 'python read', 'column excel', 'constructor class', 'value vbnet', 'stub', 'contents using', 'using rspec', 'slots', 'findviewbyid', 'external json', 'json javascript', 'settimeout function', 'method overriding', 'exiting', 'change name', 'name key', 'array google', 'specific key', 'key array', 'methods class', 'c macro', 'thread finish', 'regex validation', 'multiple textboxes', 'query builder', 'gridview textbox', 'python converting', 'access via', 'via reflection', 'youtube iframe', 'working mobile', 'mobile devices', 'number pages', 'webforms', 'aspnet webforms', 'backcolor', 'undefined local', 'variable method', 'reduce memory', 'undefined offset', 'unicode object', 'hql query', 'order java', 'bean named', 'bindparam', 'xml schema', 'via c#', 'googlemaps', 'insert sql', 'naming convention', 'first name', 'javascript compare', 'scope variables', 'request php', 'throwable', 'error exception', 'two vectors', 'without repeating', 'self class', 'list elements', 'spa', 'execute command', 'command linux', 'output array', 'dao', 'macho', 'apple macho', 'macho linker', 'unauthorized', 'acl', 'multidimensional arrays', 'cube', 'availability', 'apache php', 'java input', 'xmlns', 'attribute using', 'compare string', 'appdelegate', 'date datetime', 'get active', 'int char', 'filter values', 'based application', 'notice undefined', 'rgb values', 'doesnt match', 'function works', 'expression check', 'std', 'jndi', 'drop option', 'image html', 'use external', 'python removing', 'shuffle', 'elements list', 'battleship', 'timely', 'fashion', 'service respond', 'timely fashion', 'javascript google', 'javascript api', 'bean validation', 'data api', 'linking error', 'calling jquery', 'jquery js', 'custom authentication', 'radiobuttonlist', 'django +', 'model item', 'item passed', 'passed dictionary', 'books', 'tapped', 'url routing', 'fresh', 'exception java', 'vertices', 'vertex', 'persistence', 'form return', 'input focus', 'form vbnet', 'data django', 'knockout js', 'passing null', 'stubbing', 'expected identifier', 'identifier string', 'recurring', 'arraylist arraylist', 'buildxml', 'winapi', 'two sets', 'pad', 'swap two', 'input error', 'feel', 'look feel', 'subprocesscheck_output', 'missing error', '3 form', 'mainobject', 'presence', 'perspective', 'autoscroll', 'max length', 'yahoo', 'url parameter', '#define', 'treemap', 'serialization java', 'crlf', 'link page', 'publishing', 'public private', 'plan', 'could resolved', 'way display', 'display single', 'serial number', 'use mysql', 'supplied', 'function expects', 'date sql', 'tricks', 'commysqljdbcdriver', 'parsing date', 'class array', 'us', 'number java', 'creating file', 'xml doc', 'jetty', 'classes using', 'laravel 52', 'json key', 'without javascript', 'awteventqueue0', 'trying add', 'separation', 'integration testing', 'ordering django', 'strongly typed', 'dynamic linq', 'cleanly', 'open html', 'function always', 'little', 'endian', 'little endian', 'value date', 'forced', 'error application', 'update_attributes', 'json without', 'dropping', 'files folders', 'insert javascript', 'datagridview winform', 'array single', 'rails4', 'invalid argument', 'picklist', 'web method', 'multiple arguments', 'css selector', 'highlight text', 'run shell', 'build path', 'large string', 'another server', 'dates php', 'retrieved', 'data retrieved', 'semicolon', 'cannot make', 'make static', 'nonstatic method', 'code using', 'angularjs ngclick', 'dynamically loading', 'script java', 'file rails', 'sized', 'dreamweaver', 'create form', 'change input', 'compile c++', 'program running', 'using udp', 'udp socket', 'rails rspec', 'fstream', 'use get', 'requestquerystring', 'singletons', 'image jquery', 'submit post', 'variables one', 'top bottom', 'url rewriting', 'aspnet 40', 'run c#', 'multiple text', 'c1083', 'opencv2', 'error c1083', 'c1083 cannot', 'formulas', 'file android', 'create text', 'child node', 'mouseup', '504', 'miles', 'cant seem', 'shrink', 'section header', 'java return', 'chars string', 'src attribute', 'tag string', 'aspnet website', 'phtml', 'couldnt find', 'dynamically load', 'load class', 'send large', 'data aspnet', 'aspnet webservice', 'webservice using', 'distance two', 'hibernate transaction', 'custom google', 'get_or_create', 'table display', 'advantages using', 'remove white', 'python c++', 'apply function', 'page url', 'execute java', 'calculate distance', 'find version', 'option value', 'click method', 'somewhere', 'tail', 'display message', 'exists database', 'mapping json', 'raspberry', 'pi', 'raspberry pi', 'send server', 'redirect using', 'dictionary keys', 'sum columns', 'nonlinear', 'uniqid', 'django module', 'weekends', 'days two', 'dates java', 'vector pointers', 'event javascript', 'bundling', 'png image', 'vs class', 'nuget package', 'function get', 'd3 javascript', 'expiring', 'soon', 'hibernate 4', 'existing data', 'entity type', 'find user', 'show content', 'methods c#', 'inside class', 'url python', 'window tab', 'position 0', 'cant convert', 'djangorestframework', 'choosing', 'c# webbrowser', 'lifetime', 'aspnet session', 'nsinvalidargumentexception', 'nsinvalidargumentexception reason', 'google places', 'pass html', 'value url', 'attribute names', 'java 6', 'passenger', 'c++0x', 'span tag', 'wheres', 'member variable', 'variable declaration', 'drop event', 'google plus', 'fadein', 'drawbacks', 'jasper', 'jasper reports', 'update using', 'plot histogram', 'matplotlib python', '+ devise', 'nested resources', 'know user', 'strange error', 'redirect url', 'format datetime', 'idle', 'resource files', 'mod_rewrite', 'memory location', 'ngdisabled', 'finger', 'guaranteed', 'password validation', 'nginx +', '+ passenger', 'translation', 'large data', 'jquery val', 'run c', 'x using', 'kivy', 'uisegmentedcontrol', 'box php', 'add array', 'delegate type', 'data via', 'via post', 'using flask', 'regex check', 'php add', 'edit form', 'without time', 'start new', 'another domain', 'database schema', 'datagridview row', 'html5 audio', 'custom html', 'get custom', 'simulating', 'create file', 'already exist', 'reversing', 'array arraylist', 'detailed', 'sever', 'mapping found', 'request uri', 'java send', 'negative number', 'flush', 'enumerate', 'create function', '61', 'websphere 61', 'text string', 'code windows', 'windows c++', 'admin panel', 'another application', 'forms multiple', 'bind_param', 'number occurrences', 'absolute url', 'empty list', 'locks', 'swipe gesture', 'static property', 'image uploading', 'forbidden error', 'request django', 'using webdriver', 'log messages', 'svg elements', 'get full', 'page pdf', 'database field', 'prism', 'log files', 'file certain', 'uiscrollview scrolling', 'viewbag', 'long java', 'date database', 'input change', 'legacy', 'hibernate annotations', 'website url', 'jquery onclick', 'unknown command', 'javascript dynamically', 'integration test', 'string text', 'textboxes using', 'code 0', 'captured', 'button image', 'name parameter', 'one better', 'duration video', 'django filter', 'form sending', 'passes', 'gracefully', 'android get', 'php data', 'populating dropdown', '360', 'degrees', 'locating', 'resource temporarily', 'temporarily unavailable', 'modelspy', 'datagrid binding', 'binding list', 'dynamically allocate', 'rails find', 'elements class', 'rewriterule', 'subarray', 'using mongodb', 'database use', 'slices', 'get coordinates', 'reusable', 'eclipse android', 'link new', 'clears', 'cant compile', 'user authenticated', 'net assembly', 'javaee', 'rows r', 'run javascript', 'rubys', 'automatically import', 'models django', 'synchronously', 'read lines', 'nonnullable', 'c# generics', 'mfc application', 'javascript based', 'dbseed', 'rake dbseed', 'rails 30', 'facebook javascript', 'show text', 'get whole', 'center image', 'image pdf', 'sql table', 'file save', 'url variable', 'join multiple', 'dynamic web', 'values jsp', 'else statement', 'doubles', 'teamcity', 'laravel error', 'credit', 'scanning', 'credit card', 'visual c#', 'gridview using', 'ngoptions', 'view pdf', 'return key', 'longer works', 'dice', 'convert one', 'format another', 'copied', 'vs 2013', 'value gridview', 'biginteger', 'performance java', 'error get', 'type char', 'fedora', 'string parsing', 'html tag', 'rangeerror', 'basic 2010', 'form controls', 'setrequestheader', 'accessing session', 'ui bootstrap', 'remove object', 'red', 'ssl error', '1gb', 'blob field', 'pre', 'aes256', 'toggling', 'rvalue', 'python create', 'sending receiving', 'uidatepicker', 'value data', 'mail php', 'scrollable', 'class element', 'single item', 'object c#', 'history', 'page navigation', 'exited', 'process exited', 'last n', 'backbone marionette', 'data string', 'unknown number', 'parameters using', 'java getting', 'mocked', 'field set', 'set true', 'adb', '+ python', 'python +', 'x86_64', 'file encoded', 'get random', 'random values', 'symmetric', 'current datetime', 'display list', '2 different', 'pdo connection', 'pdo query', 'two divs', 'increment number', 'java method', 'regex c#', 'set aspnet', 'feeds', 'videos youtube', 'angularjs scope', 'requestparam', 'reportviewer', 'email c#', 'form checkbox', 'get textbox', 'add border', 'python memory', 'string characters', 'conversion const', 'jsfiddle', 'recompile', 'php set', '71', 'mysql array', 'array length', 'using iterator', 'file client', 'cancellation', 'input button', 'square root', 'c++ initialize', 'portable', 'portable class', 'exist namespace', 'values foreach', 'base64 encoding', 'descriptions', 'ibm mq', 'clustering', 'matrix multiplication', 'parent process', 'thymeleaf', 'generic parameter', 'spring jpa', 'pass arguments', 'use pointer', 'resolved type', 'string literal', 'wget', '2 parameters', 'trying compile', 'utf8 characters', 'values specific', 'specific column', 'executorservice', 'server 2012', 'distinct records', 'based column', 'call aspnet', 'way draw', 'checking string', 'value exists', 'entry point', 'dynamic link', 'eof', 'attach file', 'systemtype', 'coordinates using', 'xyz', 'nsobject', 'last line', 'net 20', 'time delay', 'charset', 'downloadable', 'file asp', 'filecopy', 'idiomatic', 'eclipse debugger', 'system python', 'generating unique', 'unique random', 'using js', 'php include', 'google visualization', 'send post', 'defines', 'method generic', 'remainder', 'messaging', 'inside c++', 'value parameter', 'prototypes', 'recipients', 'multiple recipients', 'selected checkboxes', 'directory error', 'datetimenow', 'dirty', 'squares', 'operator +', 'random value', 'call class', 'improve', 'angularjs ngrepeat', 'ended', 'apache2', 'working java', 'readfile', 'corrupt', 'catching exception', 'export gridview', 'update text', 'spritekit', 'childnodes', 'stripping', 'shared library', 'impossible', 'javascript calculate', 'javascript confirm', 'convert local', 'evenly', 'divisible', 'numbers 1', 'array variable', 'adding object', 'php ftp', 'via js', 'sending message', 'message server', 'multiplayer', 'viable', 'java using', 'using tcp', 'want display', 'measure time', 'time c', 'data python', 'policy', 'bound datagridview', 'datagridview control', 'word text', 'estimation', 'term', 'loading data', 'row row', 'top n', 'n elements', 'list linq', 'javalangunsatisfiedlinkerror', 'classloader', 'native library', 'already loaded', 'mscorlibdll', 'occurred mscorlibdll', 'button background', 'inside fragment', 'looks', 'looks like', 'fixed length', 'bounds exception', 'aspnet control', 'load view', 'httphandler', 'sums', 'icloud', 'number given', 'varying', 'pass null', 'sprite kit', 'loading time', 'detect touch', 'javascript getting', 'file jquery', 'php switch', 'php static', 'root element', 'variable referenced', 'referenced assignment', 'rxjs', 'clientid', 'tile', 'scaffolding', 'snake', 'snake game', 'upload images', 'vs2012', 'java cannot', 'use method', 'ascending descending', 'reading json', 'make use', 'draw circle', 'android xml', 'mpmovieplayerviewcontroller', 'frame size', 'template parameters', 'delphi', 'page post', 'model attribute', 'stray', 'browser console', 'connect facebook', 'allocated malloc', 'convert binary', 'using text', 'way combine', 'use net', 'given paths', 'paths format', 'format supported', 'button selected', 'always null', 'session attribute', 'search file', 'drive api', 'way search', 'msword', 'order php', 'user user', 'user using', 'find max', 'event user', 'framework 20', 'java console', 'interface method', 'documents folder', 'using database', 'qtablewidget', 'api mvc', 'javalangstring cannot', 'black screen', 'html url', 'file class', 'file onclick', 'checked items', 'representing', 'symbol found', 'adapt', 'default parameter', 'module could', 'tomcat 8', 'exhausted', 'allowed memory', 'c structs', 'single record', 'ssl connection', 'user roles', 'php creating', 'float c++', 'response using', 'subversion', 'thread pool', 'string recognized', 'recognized valid', 'valid date', 'time error', 'graphing', 'application startup', 'shutdown', 'highlight color', 'one variable', 'copy contents', 'contents one', 'shortcuts', 'int64', 'services c#', 'click events', 'button submit', 'pure javascript', 'script running', 'color text', 'empty python', 'using loops', 'edittext', 'failed execute', '90', '90 degrees', 'rank', 'function calculate', 'java loop', 'takes 2', '2 bytes', 'search bar', 'error simple', 'portion', 'constructor using', 'jquery loading', 'inference', 'type inference', 'find source', 'values dataframe', 'quantity', 'make simple', 'item listbox', 'test two', 'mysql_connect', 'byte string', 'clientserver', 'use select', 'possible add', 'done button', 'find variable', 'view inside', 'check version', 'installed application', 'running time', 'authentication error', 'class different', 'dont want', 'files multiple', 'des', 'swf file', 'get size', 'process list', 'reference member', 'private constructor', 'service calls', 'redirecting page', 'return 2', 'ports', 'convert number', 'dicts', 'geo', 'degree', 'doesnt change', 'hhmmss', 'strcpy', 'copy array', 'invoice', 'pinvoke', 'confusing', 'return two', 'two values', 'error ie', 'textbox input', 'object id', 'add user', 'using different', 'different user', 'versioning', 'class javascript', 'early', 'hive', 'dumped', 'error stack', 'core dumped', 'command java', 'nonempty', 'scroll event', 'android mobile', 'lt', 'parameter value', 'disposed', 'webstorm', 'html5 javascript', 'request jquery', 'table names', 'test case', 'checkbox selection', 'wsdl file', 'multiple classes', 'string vs', 'vs string', 'reponse', 'lvalue', 'left operand', 'menubar', 'using checkbox', 'watermark', 'spring rest', 'general error', 'null exception', 'exception error', 'singleton pattern', 'second click', 'array form', 'specialization', 'class template', 'get application', 'method aspnet', 'service method', 'class android', 'ioexception', 'input integer', 'junit testing', 'server running', 'subscriptable', 'object subscriptable', 'python 2', 'asynchronous call', 'changes database', 'replace character', 'index string', 'working aspnet', 'cannot declare', 'compressing', 'data sent', 'validation plugin', 'text document', 'value button', 'parent function', 'file specified', 'working internet', 'video duration', 'saving files', 'application error', 'databound', 'aspnet repeater', 'passing string', 'sklearn', 'string binary', 'specific data', 'prevent form', 'array image', 'ie11', 'current active', 'id number', 'look like', 'supply', 'c# possible', 'foreground', 'many open', 'open files', 'flickering', 'javascript ie', 'works firefox', 'response php', 'automate', 'run program', 'computed property', 'prior', 'request sent', 'set field', 'change div', 'string database', 'flash object', 'websocket server', 'server without', 'without running', 'start activity', 'conditional statements', 'external api', 'input number', 'gender', 'consume web', 'abbreviations', 'save multiple', 'using openmp', 'r rstudio', 'using url', 'userid', 'transactionscope', 'database error', 'reach', 'httpresponsemessage', 'struct union', 'type c', 'fetched', 'index array', 'array django', 'viewpager', 'androidviewinflateexception binary', 'binary xml', 'set locale', 'users location', 'hibernate error', 'parameters java', 'css html', 'programming using', 'javanetsocketexception', 'uiimages', 'structure javascript', 'functions return', 'network programming', 'datefromstring', 'showing properly', 'broken pipe', 'chat application', '#1', 'linearlayout', 'content type', 'pdoexception', 'find driver', 'thread running', 'total number', 'maps markers', 'executing command', 'double quote', 'object oriented', 'advantage using', 'connect database', 'show progress', 'targeting', 'aka', 'rangebased', 'administration', 'complex object', 'nosuchmethoderror', 'manytomanyfields', 'name attribute', 'join method', 'expected token', 'php simplexml', 'button element', 'dispatch_async', '2gb', 'macosx', 'unix timestamp', 'improving', 'stdlist', 'unknown size', 'uilabel text', 'number decimal', 'php multidimensional', 'associate', 'switch statements', 'find position', 'shorthand', 'documentwrite', 'reference error', 'type number', 'add string', 'last record', 'dont understand', 'element without', 'converters', 'using value', 'javascript eval', 'python reading', 'search result', 'prompt using', 'returned ajax', 'php file_get_contents', 'readline', 'belongs_to', 'php detect', 'string float', 'exec command', 'handlebars', 'webdriver java', 'query strings', 'regex matching', 'time c#', 'facebook page', 'user select', 'function time', 'branch', 'attribute element', 'android volley', 'subqueries', 'buttonclick', 'python modules', 'leading zero', 'php multiple', 'twitterbootstrap', 'sscanf', 'functions php', 'reference java', 'samples', 'comment box', 'types c', 'database column', 'blank spaces', 'systemoutprintln', 'access db', 'nanoseconds', 'int java', 'escaped', 'single quote', 'mysql error', 'select value', 'inside folder', 'variables values', 'thirdparty', 'nonconst', 'using char', 'struct c++', 'friend', 'mvvm light', 'page page', 'unexpected identifier', '193', 'ruby 193', 'regex extract', 'extract string', 'php table', 'top right', 'encountered', 'error encountered', 'certain characters', 'string cannot', 'cast int', 'two integers', 'daylight', 'savings', 'daylight savings', 'line 7', 'unzip', 'wix', '2 form', 'django login', 'stackoverflowerror', 'finite', 'logcat', 'update statement', 'method string', 'string name', 'get previous', 'reject', 'timespan', 'two functions', 'magento get', 'german', 'java replace', '2010 visual', 'using pointers', 'namespaced', 'ear', 'custom action', 'dynamic text', 'invalid json', 'uitableviewcell height', 'frequent', 'sheets', 'properties javascript', 'c#s', 'transforming', 'sparse matrix', 'ran', 'external process', 'div background', 'user type', 'type field', 'row height', 'aspbutton', 'hidden fields', 'javascript string', 'select_tag', 'bulk update', 'php vs', 'vs javascript', 'python 34', 'custom message', 'html textbox', 'autocomplete textbox', 'c++ application', 'get keys', 'error aspnet', 'glassfish 4', 'hide input', 'full name', 'stylesheets', 'call controller', 'controller scope', 'using get', 'post variables', 'get local', 'data view', 'passing json', 'ngroute', 'support multiple', 'pass model', 'string find', 'working page', 'right left', 'submits', 'group name', 'thumbnail images', 'storing retrieving', 'null empty', 'precompiled', 'aligning', 'button group', 'allocating', 'c# adding', 'parameters c#', 'tabs using', 'class key', 'jodatime', 'dataframes pandas', 'uploader', 'jquery file', 'file uploader', 'value radio', 'server gone', 'gone away', 'combobox value', 'update ui', 'subfolders', 'function c', 'regex search', 'php mongodb', 'c# excel', 'depending value', 'interview', 'interview question', 'translated', 'listview c#', 'qapplication', 'rows pandas', 'mvc dropdownlist', 'using model', 'array containing', 'using gridview', 'gridview c#', 'birth', 'array controller', 'string manipulation', 'running tomcat', 'create pdf', 'variable accessible', 'find last', 'void pointer', 'nio', 'things', 'java store', 'deselect', 'sql select', 'strength', 'url encoded', 'springsecurity', 'languages', 'blob javascript', 'combobox items', 'edited', 'add dynamic', 'largest value', 'conversion char', 'pattern match', 'control c#', 'c++ socket', 'saying', 'cv', 'check value', 'exists mysql', 'box c#', 'capital', 'mp4', 'mp4 video', 'ajax load', 'load php', 'move_uploaded_file', 'php regular', 'ruby 200', 'possible call', 'data caching', 'meant', 'php accessing', 'data grid', 'hidden iframe', 'intermediate', 'initialising', 'file resource', 'dynamically based', 'architecture x86_64', 'compiler cant', 'find header', 'data points', 'way define', 'strings java', 'thumb', 'java check', 'facebook users', 'rails active', 'pushviewcontroller', 'basic example', 'automatically generate', 'browser url', 'use unresolved', 'unresolved identifier', 'mvc2', 'running jar', 'set position', 'stdclass', 'could converted', 'javascript regexp', 'work ie', 'backgroundposition', 'poor', '_', 'path string', 'html java', 'filereader', 'temperature', 'ending', 'list files', 'directory php', 'post values', 'text button', 'constructor java', 'show hidden', 'carry', 'array python', 'restricted', 'filter method', 'single array', 'function result', 'scripting', 'jquery append', 'javascript method', 'fetchall', 'c++ qt', 'application gui', 'box value', 'run cron', 'returning error', 'external url', 'tags using', 'menu items', 'way import', 'fancy', 'python property', 'max values', 'data ios', 'socket server', 'change javascript', 'solid', 'money', 'sqlite table', 'packing', 'window scroll', 'parameter c#', 'datetime sql', 'forwarding', 'dropdowns', 'set dynamic', 'sheet using', 'copy files', 'tags string', 'corresponds', 'inline function', 'created div', 'date python', 'javascript windowopen', 'homepage', 'next line', 'inside uiscrollview', 'based login', 'javalangruntimeexception', 'base type', 'thinks', 'username email', 'variable value', 'titanium', 'consolereadline', 'face', 'draw rectangle', 'one listbox', 'listbox another', 'hashmaps', '502', 'ember data', 'value return', 'update model', 'model objects', 'display name', 'plus button', 'developed', 'running application', 'data error', 'window closed', 'char arrays', 'nested hash', 'object list', 'intensive', 'c# program', 'kepler', 'luna', 'eclipse kepler', 'get system', 'per day', 'htmlelement', 'getattribute', 'sorting gridview', 'one value', 'java system', 'java8', 'session value', 'youtube videos', 'using ngrepeat', 'netty', 'operation couldnt', 'couldnt completed', 'model rails', 'azure storage', 'rails view', 'trust', 'new form', 'error callback', 'using proxy', 'email addresses', 'person', 'dynamic height', 'view view', 'base url', 'database hibernate', 'file database', 'function specific', 'specific object', 'object parent', 'button programmatically', 'winform application', 'swift class', 'soft keyboard', 'dim', 'list r', 'docker container', 'able connect', 'change title', 'prototypejs', 'guarantee', 'using null', 'virtual methods', 'flask application', 'requestbody', 'html5 localstorage', 'hashset', 'collection cannot', 'expression type', 'string key', 'exclusive', 'pointer types', 'check textbox', 'php sql', 'toggle div', 'compiling error', 'stateless', 'stores', 'quartz scheduler', 'html attributes', 'misplaced', 'permutations', 'disable enable', 'form elements', 'mysql search', 'member functions', 'python cannot', 'one property', 'list contains', 'println', 'method vs', 'vs static', 'input elements', '05', 'method update', 'hash values', 'deploy war', 'set cursor', 'field form', 'jquery html', 'redirect user', 'c# make', 'password reset', 'csv python', 'printed', 'bar iphone', 'use group', 'always use', 'variables within', 'serializing object', 'method definition', 'different methods', 'images database', 'escape sequence', 'message queue', 'without default', 'gridlines', 'locate element', 'image without', 'javascript mvc', 'current month', 'https using', 'row pandas', 'new view', 'promises', 'integers array', 'public folder', 'display pdf', 'resolve method', 'seleniumwebdriver', 'transparency', 'undefined error', 'without database', 'process using', 'setting value', 'probably', 'run jquery', 'set style', 'duplicate rows', 'order using', 'intersection two', 'arrays javascript', '__init__py', 'dynamic data', 'records database', 'pattern matching', 'element missing', 'character php', 'send parameter', 'error saving', 'java mysql', 'returns nan', 'vectorstring', 'forin', 'onclick javascript', 'count many', 'moment js', 'last day', 'pojo', 'actionlink', 'fits', 'two points', 'points given', 'collection type', 'synchronized', 'synchronized method', 'update user', 'amp', 'xml php', 'working windows', 'php delete', 'multiple checkboxes', 'cant add', 'add items', 'idictionary', 'element name', 'use operator', 'request get', 'previous next', 'tostring method', 'download images', 'lxml python', 'python 35', 'pass id', 'linq join', '405 method', 'bearer', 'barcode', 'html forms', 'application mac', 'keychain', 'troubles', 'http 11', 'array javascript', 'data set', 'unusual', 'struts 1', 'assetsprecompile', 'rails rake', 'rake assetsprecompile', 'regex parse', 'parse url', '+ spring', 'spring +', '+ hibernate', 'javascript +', 'error 500', 'using graph', 'write csv', 'custom module', 'reliable way', 'webdriver c#', 'custom fonts', 'memoryerror', 'ews', 'specific file', 'occur', 'sort table', 'table laravel', 'wont find', 'viewdata', 'item type', 'reveal', 'another div', 'php make', 'ruby hash', 'convert timestamp', 'field required', 'range values', 'instead null', 'null string', 'extjs grid', 'value json', 'nth occurrence', 'edit text', 'file used', 'used another', 'write php', 'image new', 'one item', 'encoded string', 'sqlalchemy orm', 'wordpress page', 'type allowed', 'hide divs', 'window without', 'longrunning', 'fields java', 'php app', 'possible load', 'channels', 'dictionary key', 'way read', 'conversion int', 'table via', 'csv reader', 'url validation', 'regex java', 'make thread', 'subsetting', 'removing duplicates', 'unique identifier', 'error attempting', 'without file', 'net web', 'auto refresh', 'community', 'row button', 'send ajax', '+ ajax', 'sec', 'one array', 'cleared', 'way set', 'zurb', 'zurb foundation', 'resulting', 'make django', 'array unknown', 'override default', 'program crash', 'trying make', 'module found', 'shorter', 'document ready', 'custom method', 'token expected', 'upload data', 'visible using', 'benchmark', 'gldrawelements', 'simple web', 'hover event', 'find elements', 'parameter another', 'form controller', 'individually', 'accents', 'standards', 'explorer 8', 'via email', 'open directory', '80', 'error starting', 'javascript uncaught', 'devexpress gridview', 'alphanumeric characters', 'characters python', 'form class', 'pattern c#', 'jsf +', 'using qt', 'phonegap app', 'object interface', '401 unauthorized', 'accessory', 'inserting values', 'based users', 'users input', 'varbinary', 'c# write', 'encode decode', 'populate html', 'keyboard events', 'systemdatetime', 'convert mysql', 'controller actions', 'mysqli prepared', 'springs', 'div class', 'formatted string', 'json files', 'hacking', 'server localhost', 'screens', 'microsoft sql', 'fileoutputstream', 'list available', 'file xml', 'deleting row', 'arm', 'taking long', 'long double', 'running junit', 'junit tests', 'page java', 'selected file', 'ios8', 'admin form', 'text cell', 'jquery functions', 'location using', 'grep', 'number elements', 'dynamically update', 'update form', 'tooltips', 'server connection', 'property initialized', 'cookie value', 'file binary', 'multiple processes', 'mysql c#', 'file project', 'query get', 'get results', 'map object', 'multiple value', 'handling php', 'template using', 'convert utf8', 'catch blocks', 'fileinputstream', 'enemy', 'movement', 'exceptions thrown', 'recvfrom', 'checked checkbox', 'php search', 'nodejs socketio', 'threadpool', 'mean python', 'contains value', 'main form', 'workflow', 'use data', 'api controller', 'pointers c', 'iframe content', 'db php', 'ascii string', 'websocket connection', 'subprocesspopen', 'isolated', 'accepted', 'native code', 'browse button', 'button c#', 'folder java', 'trying run', 'object data', 'list index', 'printing array', 'function django', 'child div', 'instantiate class', 'python finding', 'gap', 'machine learning', 'c# webclient', 'data insert', 'table database', 'uiscrollview scroll', 'winxp', 'based text', 'arrow key', 'functions python', 'stop working', 'insert command', 'main javalangnullpointerexception', 'phone 7', 'way tell', 'windowlocationhref', 'ngchange', 'asynchronous function', 'value property', 'null undefined', 'using code', 'list gridview', 'page layout', 'elapsed time', 'grand', 'central', 'grand central', 'central dispatch', 'serialize json', 'missing required', 'double string', 'dto', 'benefit using', 'long int', 'unexpected eof', 'uint8', 'new string', 'function calling', 'add field', 'binding working', 'parameter method', 'variable empty', 'distance matrix', 'files uploaded', 'inserting multiple', 'records one', 'd3 bar', 'expected argument', 'char c', 'difference using', 'per row', '1110', 'ubuntu 1110', 'nghide', 'tensor', 'java draw', 'image onclick', 'dynamic class', 'last comma', 'encryption java', 'function execute', 'id name', 'jquery pass', 'placed', 'application web', 'using column', 'reads', 'two fields', 'snippet', '+ angularjs', 'contenteditable', 'contenteditable div', 'name cannot', 'jquery tabs', 'data annotations', 'uicollectionviewcell', 'get select', 'using select', 'request error', 'error 400', 'control parent', 'tables mysql', 'child object', 'search filter', 'c# create', 'different folder', 'downloading files', 'use default', 'html mysql', 'returns blank', 'display contents', 'field without', 'rails jquery', 'array file', 'declare array', 'given type', 'change selected', 'separated comma', 'producer', 'producer consumer', 'suitable driver', 'driver found', 'command php', 'element within', 'proceed', 'fibonacci', 'phase', 'indirectly', 'insert table', 'program java', 'row 2d', 'sequelize', 'reading files', 'inserted id', 'current windows', 'windows machine', 'scripting language', 'code doesnt', 'create multidimensional', 'message queues', 'controls using', 'python java', 'controller class', 'leaked', 'php remove', 'xml feed', 'c# library', 'php mailer', 'require_once', 'dotted', 'get facebook', 'number array', 'get called', 'priority queue', 'working iis', 'juno', 'eclipse juno', 'command working', 'c++ visual', 'javalibrarypath', 'multiple projects', 'user root', 'root localhost', 'sailsjs', 'java threads', 'convert c', 'value undefined', 'solve error', 'virtual environment', 'show full', 'textbox jquery', 'java path', 'measuring', 'django url', 'allow certain', 'specific page', 'tiff', 'constant error', 'write javascript', 'product collection', 'csrf token', 'pod', 'get location', 'oneliner', 'variables php', 'click outside', 'date variable', 'r data', 'error typeerror', 'xx', 'simple c#', 'part text', 'weblogic server', 'multi select', 'using date', 'exists using', 'bigger', 'textboxs', 'unable use', 'calling stored', 'timeout error', 'inspector', 'quiz', 'javascript dojo', 'failed find', 'digest', 'script path', 'delimited file', 'belong', 'textbox gridview', 'value table', 'another variable', 'load external', 'transferred', 'resource interpreted', 'transferred mime', 'get reference', 'column count', 'count doesnt', 'value count', 'count row', 'find difference', 'populate array', 'file instead', 'instead opening', 'capitan', 'el capitan', 'url htaccess', 'overload operator', 'balance', 'date javascript', 'autocomplete php', 'mysql ruby', 'chooser', 'remove border', '1 given', 'dialect', 'add view', 'jsonparse unexpected', 'form javascript', 'finishes', 'f#', 'multiple views', 'javascript sort', 'recognized internal', 'internal external', 'external command', 'php load', 'calculate sum', 'show data', 'move div', 'div scroll', 'plugin jquery', 'post value', 'mock object', 'python google', 'send javascript', 'class variables', 'datetime string', 'wordpress site', 'filter using', 'change php', 'weird issue', 'related entity', 'datatable c#', 'c# add', 'dd mm', 'mm yyyy', 'display json', 'new variable', 'list class', 'find specific', 'inlines', 'stop javascript', 'pass url', 'files c++', 'invalid value', 'invalid arguments', 'one two', 'get database', 'oracle stored', 'terminating app', 'app due', 'due uncaught', 'exception nsinvalidargumentexception', 'dividing', 'operator java', 'find item', 'returned value', 'arrange', 'php problem', 'argument error', 'error r', 'listview using', 'onfocus', 'chromedriver', 'gcc compiler', 'data service', 'adding item', 'result type', '2 array', 'retrieve database', 'contentlength', 'entering', 'class div', 'tdd', 'function found', 'response array', 'basic net', 'multilanguage', 'hover click', 'pointer member', 'error occured', 'files eclipse', 'scroll working', 'js object', 'control windows', 'closes', 'bigquery', 'python without', 'folder eclipse', 'write console', 'bizarre', 'listint', 'days date', 'datetimedate', 'string buffer', 'string input', 'input storing', 'websql', 'numerical', 'mean javascript', 'make object', 'heap memory', 'vagrant', 'new keyword', 'field javascript', 'action using', 'manual corresponds', 'simple xml', 'application java', 'post meta', 'display search', 'without id', 'table javascript', 'doesnt load', 'load html', 'page div', 'without refresh', 'link inside', 'div clicked', 'marker google', 'gui library', 'using subprocess', 'jsp servlet', '2010 express', 'exited code', 'textfields', 'parameterless', 'parameterless constructor', 'nvarchar', 'development server', 'strpos', 'c reading', 'way write', 'map reduce', 'ruby 19', 'pdf php', 'variable reference', 'link button', 'key pressed', 'release mode', 'make copy', 'r plot', 'get cookie', 'java programming', 'complex objects', 'custom model', 'model method', 'excel csv', 'file uploaded', 'control visual', 'strptime', 'string long', 'sorting 2d', 'serializer', 'excel spreadsheet', 'disconnect', 'c# form', 'access class', 'marshal', 'systemint32', 'member type', 'type systemint32', 'bootstrap css', 'file post', '_post values', 'to_json', 'procedure c#', 'text selected', 'work ajax', 'dword', 'passing pointer', 'calling object', 'value textbox', 'customer group', 'list function', 'time page', 'authorized', 'search multiple', 'alpha channel', 'window resizing', 'modes', 'custom sorting', 'vanilla', 'mysql result', 'div form', 'responsebody', 'tomcat server', 'keycode', 'returning data', 'fully', 'files upload', 'files aspnet', 'string another', 'looking good', 'contains specific', 'create folder', 'negative value', 'sphere', 'textbox aspnet', 'xelement', 'pos', 'tagging', 'validation java', 'method inside', 'method android', 'wrong result', 'without actually', 'arrays using', 'yyyy format', 'form1', 'report viewer', 'particular value', 'two html', 'specific type', 'type exception', 'cf', 'address client', 'client socket', 'facing', 'checkbox change', 'search database', 'pass function', 'currency format', 'local files', 'activerecord query', 'php warning', 'apk', 'authentication aspnet', 'logins', 'get web', 'convert time', 'service java', 'variable session', 'involving', 'expression allow', 'enough space', 'observable collection', 'svm', 'static const', 'uibarbuttonitem', 'uitoolbar', 'code multiple', 'another site', 'happening', 'java game', 'using single', 'single button', 'exceeds', 'sonar', 'complaining', 'useless', 'database java', 'bundles', 'frame another', 'string ends', 'open save', 'file dialog', 'work ie8', 'failed exit', 'exit code', 'code 1', 'file creating', 'week month', 'wpf data', 'paired', 'java apache', 'model name', 'expected response', 'webdriverjs', 'systemdrawing', 'actionscript', 'webservice client', 'client php', 'gnu', 'makefiles', 'one dependencies', 'logstash', 'list different', 'changing url', 'pdo php', 'get form', 'paused', 'microsoft exchange', 'exchange server', 'disable scroll', 'raw sql', 'id class', 'output variable', 'subtraction', 'product list', 'injection attack', 'text java', 'composite primary', 'boolean values', 'method returning', 'time picker', 'php soap', 'basics', 'using much', 'uploading large', 'external php', 'aspectj', '510', 'dos', 'bypassing', 'c# access', 'list directories', 'large json', 'uid', 'contours', 'get checkbox', 'jquery page', 'loaded page', 'set combobox', 'box select', 'studio 2005', 'get root', 'php website', 'websocket handshake', 'application settings', 'getting exception', 'form2', 'yaml', 'yaml file', 'rounding', 'get http', 'page view', 'selectable', 'activerecord find', 'trans', 'offer', 'error file', 'debugging visual', 'validation javascript', 'within java', 'trailing slash', '111', 'using webservice', 'ajax using', 'without popup', 'simple java', 'http proxy', '36', 'converting byte', 'linkage', 'existing array', 'arrays php', 'rootscope', 'ext js', 'usb device', 'simple ajax', 'auto generated', 'preexisting', 'within div', 'test suite', 'activity android', 'remove whitespace', 'propertys', 'javascript jsp', 'workers', 'line graph', 'inline style', 'attributes using', '307', 'database sql', 'vbnet using', 'utf8 format', 'kv', 'python kivy', 'framework 5', 'remote url', 'vb 2010', 'error websocket', 'threadlocal', 'custom events', 'trap', 'reference variable', 'sorting data', 'accesing', 'two threads', 'one button', 'folder name', 'returning json', 'alamofire swift', 'swift get', 'property using', 'disable form', 'git repository', 'nonnegative', 'use int', 'phrases', 'managed bean', 'dynamically changing', 'remove part', 'get access', 'shifting', 'use bootstrap', 'go next', 'change cursor', 'store multiple', 'speeding', 'import java', 'object via', 'jaxrs jersey', 'reader read', 'mysql datetime', 'new data', 'code style', 'multi threaded', 'factories', 'format java', 'booleans', 'pointer char', 'application running', 'snippets', 'files within', 'error multiple', 'using apply', 'another activity', 'takes exactly', 'java +', 'objects type', 'selections', 'runtimegetruntime', 'multiprocess', 'run django', 'official', 'json strings', 'unknown type', 'id attribute', 'model fields', 'qtableview', 'cost', 'specific keys', 'excel range', 'range using', 'files google', 'string mysql', 'converting datetime', 'viewstate', 'form tag', 'method ajax', 'iterate two', 'displaying multiple', 'values c++', 'objects python', 'add attribute', 'iframe page', 'part image', '5 canvas', 'using xaml', 'belongs_to association', 'jquery getjson', 'nbsp', 'javascript pass', 'winforms listview', 'memory error', 'messagesource', 'mvc c#', 'testing framework', 'playback', 'return none', 'interface implementation', 'select file', 'method rails', 'adding event', 'regression line', 'plots r', 'data datagridview', 'error dont', 'double float', 'height based', 'smooth scroll', 'gt', 'db table', 'set file', 'listview control', 'qualifying', 'qualifying bean', 'bean type', 'sql java', 'convert const', 'loop display', 'catch error', 'update values', 'json mysql', 'memory using', 'handled user', 'sql php', 'diagnostic', 'custom form', 'javascript link', 'add value', 'behaves', 'without waiting', 'console error', 'uncaught reference', 'mysql display', 'remote host', 'erb', 'executereader', 'weekly', 'webserver', 'send image', 'dynamodb', 'jsp files', 'longitude latitude', 'float string', 'user aspnet', 'java c#', 'object serialization', 'webpart', 'number digits', 'separated list', 'find occurrences', 'long text', 'spring xml', 'numbers javascript', 'form app', 'print console', 'ejb3', 'cleaner', 'redirecting another', 'synthesize', 'add library', 'type python', 'via get', 'line code', 'transfer file', 'custom exception', 'dynamical', 'qlabel', 'resource file', 'using existing', 'existing xml', 'custom javascript', 'generate html', 'execute query', 'greater less', 'android phone', 'file change', 'landscape orientation', '5 seconds', 'completion handler', 'specific location', 'records sql', 'form_for', 'cgrect', 'compile python', 'camera android', 'dialog based', 'multithreaded application', 'output html', 'text values', 'trick', 'sip', 'create google', 'file exe', 'finding maximum', 'date input', 'eventlistener', 'another dropdown', 'classifier', 'loss', 'wpf databinding', 'method parameter', 'pass generic', 'student', 'input html', 'query working', 'empty data', 'format yyyymmdd', 'dynamic json', 'using storyboard', 'string constant', 'getting date', 'email attachment', 'gpa', 'sapui5', 'select html', 'jquery make', 'httpservletrequest', 'td element', 'invalid column', 'dashboard', 'creating database', 'kwargs', 'multiple keys', 'infer', 'select array', 'running background', 'retrieve image', 'parameters passed', 'dictionary swift', 'load content', 'uuid', 'script without', 'using firebase', 'reload refresh', 'templating', 'window title', 'number items', 'admob', 'thread exception', 'java j2ee', 'cake php', 'exposing', 'security login', 'login authentication', '70', 'junit 4', 'video using', 'expansion', 'latin', 'windowonbeforeunload', 'use html', 'string contain', 'array unique', 'base table', 'view found', 'based object', 'telling', 'rbind', 'ipn', 'paypal ipn', 'column datatable', 'globalasax', 'dynamic textbox', 'mvc hibernate', 'calculate difference', 'check connection', 'indexerror', 'method doesnt', 'disable horizontal', 'empty result', 'checkedlistbox', 'send html', 'object literal', 'background images', 'custom image', 'close browser', 'way test', 'menu bar', 'playlist', 'key presses', 'check table', 'within string', 'convert strings', 'disable browser', 'value without', 'php contact', 'checksum', 'boxplot', 'items listbox', 'rails nested', 'select column', '2 dimensional', 'sorry', 'went', 'sorry something', 'something went', 'went wrong', 'avaudioplayer', 'easily', 'full page', 'sum column', 'argument supplied', 'position mouse', 'mouse hover', 'value controller', 'rows sql', 'uiviewcontrollers', 'keydown event', 'call action', 'users facebook', 'constructor cannot', 'javascript global', 'status 1', 'input tag', 'htaccess mod_rewrite', 'handle exceptions', 'amount time', 'set custom', 'slug', 'return tuple', 'keyup event', 'play video', 'codeigniter multiple', 'type cannot', 'value hashmap', 'libgdx project', 'string aspnet', '322', 'file xcode', 'load using', 'folder names', 'doesnt start', 'jquery call', 'runtime c#', '1 valid', 'given time', 'functions working', 'arg', 'determine current', 'two dataframes', 'years months', 'java text', 'time duration', 'reference value', 'c# client', 'nodejs +', 'matching string', 'angularjs error', 'except one', 'c# date', 'jquery passing', 'variables using', 'aliases', 'files ftp', 'set selected', 'error vbnet', 'jquery serialize', 'contain constructor', 'constructor takes', '2 arguments', 'array find', 'append data', 'google appengine', 'implementing serializable', 'laravel check', 'bank', 'outgoing', 'jsondumps', 'filesize', 'modal open', 'vs instance', 'property undefined', 'xaxis labels', 'images javascript', 'locationhref', 'could locate', 'create two', 'div based', 'whether object', 'detect right', 'javascript nodejs', '303', 'phone numbers', 'exactly one', 'windows authentication', 'embedded tomcat', 'ssl certificates', 'one window', 'casts', 'input radio', 'comparable', 'compiletime', 'color value', 'quickest', 'quickest way', 'eclipse tomcat', 'project directory', 'store mysql', 'mysql cant', 'using recursive', 'first child', 'constructed', 'cannot constructed', 'sendkeys', 'upload download', 'swift project', 'sending image', 'task manager', 'assigning value', 'function variable', 'square brackets', 'reasons', 'disconnected', 'loading external', 'define class', 'sequential', 'creating html', 'trouble getting', 'aware', 'error fatal', 'name line', 'realloc', 'swift3', 'controller name', 'upload working', 'highlighted', 'apache tomcat', 'using htaccess', 'add table', 'gis', 'print statement', 'networking', 'dynamic url', 'java php', 'anchor tags', 'using netbeans', 'raise exception', 'nonstandard', 'minimal', 'put delete', 'switchcase', 'date difference', 'user location', 'text xml', 'eliminate', 'js variable', 'use thread', 'access url', 'local server', 'pointer vs', 'elements 2d', '2d list', 'winform datagridview', 'dynamically assign', 'copy clipboard', 'soapui', 'use twitter', 'name class', 'request failed', 'parallel processing', 'show page', 'rows based', 'vector r', 'releasing', 'select count', 'rejected', 'perfect', 'values html', 'return error', 'php show', 'name error', 'blank space', 'function vbnet', 'eclipse console', 'exception spring', 'new session', 'could created', 'session one', 'element click', 'within method', 'object specific', 'array sort', 'using named', 'use interface', 'linq groupby', 'upload multiple', 'implicit declaration', 'closing tags', 'c++ compile', 'button show', 'codeigniter error', 'error 403', 'wasnt', 'filter list', 'gcd', 'illegalargumentexception', 'shell commands', 'display table', 'gstreamer', 'as3', 'v3 api', 'crossthread', 'get items', 'cancelled', 'view data', 'local mysql', 'server socket', 'parameter 2', 'method parent', 'one day', 'jquery bootstrap', 'json ajax', 'dataframe pandas', 'one key', 'values csv', 'admin login', 'calculate average', 'remove item', 'per user', 'windows console', 'mongodb php', '5 application', 'within certain', 'image stored', 'arguments java', '2dimensional array', 'h1', 'find whether', 'whether given', 'stack level', 'level deep', 'winforms app', 'pages using', 'async methods', 'scalable', 'subdirectories', 'js css', '10 seconds', 'spy', 'call static', 'key django', 'dual', 'two date', 'bean spring', 'doesnt return', 'varbinary max', 'class error', 'dynamically resize', 'force browser', 'blueprint', 'changing font', 'access variables', 'django static', 'multiple tabs', 'pg', 'capture mouse', 'mouse clicks', 'singly', 'systeminvalidoperationexception', 'data textbox', 'row 1', 'php use', 'convert utc', 'trigger javascript', 'dataframe python', 'afterwards', 'change string', 'monday', 'tuesday', 'find node', 'content html', 'statement using', 'infinity', 'fadeout', 'css3 transition', 'deny', 'variables functions', 'gccs', '#pragma', 'download working', 'among', 'constrained', 'using printf', 'scrollviewer', 'initially', 'comma delimited', 'delimited string', 'parent method', 'utc time', 'listboxes', 'principal', 'load custom', 'handling null', 'java output', 'user account', 'method cannot', 'cannot referenced', 'referenced static', 'static context', 'data db', 'r python', 'data changes', 'array argument', 'actionviewtemplateerror', 'javascript return', 'held', 'check key', 'tags xml', 'corpus', 'words using', 'tag beautifulsoup', 'read image', 'hi', 'tag attribute', 'attribute xml', 'error column', 'function every', 'circular dependency', 'lxml xpath', 'view page', 'sql ce', 'dropdownlist value', '2d matrix', 'locationpath', 'result null', 'writing program', 'least 2', 'single element', 'libraries c++', 'hibernate mysql', 'php7', 'session user', 'view codeigniter', 'blanks', 'flushing', 'newest', 'systemexit', 'file within', 'files like', 'doubly', 'doubly linked', 'hibernatecfgxml', 'could parse', 'value element', 'treeset', 'tiles', 'postgresql database', 'submit working', 'elements attributes', 'point number', 'trycatch block', 'setattribute', 'ie6', 'via json', 'phones', 'implementations', 'boolean variable', 'http authentication', 'driving', 'aspxgridview', 'launcher', 'events javascript', 'script execution', 'two forms', 'alternating', 'testing web', 'constantly', 'interpolation', 'method group', 'object values', 'find next', 'evaluated', 'bind datatable', 'add buttons', 'notebook', 'completes', 'handling multiple', 'dtype', 'pandas read_csv', 'angularui', 'scaled', 'testing using', 'file command', 'passing objects', 'bullets', 'body class', 'linq cast', 'using dynamic', 'calculate percentage', 'appendchild', '1 type', 'type node', 'insert null', 'call windows', 'secret', 'application linux', 'connection php', 'java sort', 'exception unhandled', 'another c#', 'controller another', 'work java', 'parameter passing', 'virtualbox', 'add additional', 'library linux', 'unspecified', 'unspecified error', 'byte java', 'php functions', 'int bool', 'words text', 'javascript doesnt', 'array number', 'object without', 'two list', 'ie firefox', 'project properties', 'multiple words', 'pixels image', 'swift using', 'desktop app', 'rails test', 'zipping', 'file codeigniter', 'c++ struct', 'error mean', 'values dynamic', '202', 'udp client', 'php list', 'clip', 'input name', 'name id', 'save dialog', 'field data', 'pst', 'key php', 'jlabels', 'file laravel', 'disable default', 'vulnerability', 'columns table', 'vc11', 'using laravel', 'comprehensions', 'python replace', 'rdata', 'cursors', 'index 1', 'java converting', 'objectivec protocol', 'badge', 'accordingly', 'link error', 'returning string', 'image server', 'based two', 'elements javascript', 'dependent libraries', 'paypal express', 'express checkout', 'images php', 'inside aspnet', 'process windows', 'last 10', 'js code', 'method takes', 'geometry', 'name django', 'notice array', 'validators', 'value every', 'traversing', 'verifying', 'regex split', 'method names', 'attempts', 'creating java', 'add link', 'multiple matches', 'initializing array', 'item id', 'values unpack', 'element another', 'linq expressions', 'selfsigned', 'file classpath', 'loading animation', 'array hash', 'write large', 'creating list', 'value textfield', 'platform independent', '7 days', 'method different', 'way count', 'adding rows', 'reaching', 'going back', 'file already', 'virtual directory', 'categorical variables', 'java function', 'ipv4', 'ipv6', 'rails convert', 'different servers', 'url address', 'object linq', 'rectangular', 'get src', 'inserting database', 'form visual', 'valid win32', 'open error', 'nonobject error', 'define global', 'indirectly referenced', 'kill process', 'table exists', 'trying read', 'query parameters', 'spring context', 'rss feeds', 'access memory', 'memory address', 'name already', 'already use', 'php read', 'could resolve', 'scrapy python', 'curl post', 'windows program', 'please help', 'difficulty', 'download using', 'would one', 'iphone ipad', 'encoding problems', 'date jquery', 'use reflection', 'loading modules', 'get folder', 'file list', 'helper functions', 'rt', 'text column', 'fread', 'class declaration', 'viewwillappear', 'change mouse', 'mouse cursor', 'socket closed', 'c++ map', 'modelchoicefield', 'image base64', 'single table', 'table inheritance', 'lefthand', 'javascript memory', 'value python', 'xml attribute', 'getting specific', 'template argument', 'c++ inheritance', 'queue c#', 'fixed height', 'characters javascript', 'whether string', 'contains digits', 'try block', 'exception caught', 'technology', 'cartesian', 'plot matplotlib', 'strange behavior', 'lexical', 'dependencyproperty', 'subset columns', 'diagonal', 'sum elements', 'touches', 'jbuttons', 'triple', 'int variable', 'access dom', 'signup', 'array bytes', 'add form', 'xib file', 'reference c++', 'within php', 'default controller', 'uncheck checkbox', 'connect oracle', 'redirect new', 'dot notation', 'nested models', 'value changed', 'prevent user', 'util', 'noob', 'push array', 'using onclick', 'length one', 'dropdown selected', 'c# threading', 'display number', 'specific id', 'class abstract', 'mousedown', 'database connections', 'dynamic add', 'jquery post', 'without loading', 'parameter valid', 'c++ gui', 'number value', 'data rest', 'changing default', 'upstream', 'slows', 'c++ pointer', 'angularjs form', 'time limit', 'runworkercompleted', 'using cookies', 'html pages', 'elements type', 'values json', 'easier way', 'serialize c#', 'dictionary contains', 'osx lion', 'working ie', 'iframe height', 'bind data', 'disallow', 'characters textbox', 'populate form', 'values session', 'constant value', 'dataframe based', 'received memory', 'shell_exec', 'file arraylist', 'document library', 'visited', 'different browsers', 'use pointers', 'html comments', 'using nokogiri', 'json html', 'values nested', 'cert', 'find path', 'php json', 'native android', 'axis matplotlib', 'dbcreate', 'rake dbcreate', 'rake aborted', 'web request', 'freeing', 'doesnt java', 'ajax file', 'codeigniter active', 'incomplete type', 'browser windows', 'add marker', 'image png', 'variable undefined', 'get gridview', 'query sql', 'using object', 'poll', 'showing wrong', 'variables r', 'extend abstract', 'remove http', 'lotus', 'notes', 'net 4', 'refresh token', 'define static', 'java annotation', 'store html', 'object based', 'pageload', 'mysterious', 'list django', 'relate', 'typeahead', 'ruby script', 'incremental', 'parsing php', 'week date', 'cell selected', 'disposing', 'groovy script', 'icon image', 'cpus', 'python json', 'expand collapse', 'display array', 'whats use', 'data selected', 'page spring', 'qt5', 'nodejs get', 'spreadsheet using', 'soap xml', 'aspnet membership', 'website php', 'pointers c++', 'successful login', 'string within', 'win 7', 'rails using', 'query returning', 'limit exceeded', 'phpunit test', 'test failing', 'yosemite', 'datagridview cells', 'create string', 'concatenating two', 'calling another', 'html parsing', 'datasources', 'time utc', 'net webbrowser', 'unsatisfiedlinkerror', 'library path', 'path resource', 'natural', 'inside thread', 'play 20', 'different versions', 'request working', 'via command', 'difference int', 'failed start', 'find maximum', 'custom json', 'id jquery', 'goal', 'execute goal', 'prepare statement', 'color java', 'items collection', 'entry key', 'lose focus', 'oauth2', 'using servlet', 'verbose', 'get dynamic', 'pointer struct', 'number c#', 'dlopen', 'rails database', 'usercontrol button', 'two mysql', 'toolbox', 'uk', 'mobile phone', 'brew', 'urls django', 'c# sending', 'select distinct', 'within html', 'set private', 'py file', 'image div', 'expanded', 'fetch array', 'check javascript', 'open chrome', 'generated javascript', 'way update', 'text pdf', 'console windows', 'sticky', 'algorithms', 'bad file', 'whenever', 'process linux', 'servicestack', 'maximum length', 'signal strength', 'recursive method', 'letter word', 'windows explorer', 'series data', 'fluentnhibernate', 'getting user', 'react router', 'map markers', 'page scroll', 'buttons using', 'unexpected behavior', 'current thread', 'way merge', 'c++ ubuntu', 'issue ie', 'specific image', 'google apps', 'apps script', 'capabilities', 'proxy class', 'browser save', 'forms one', 'string back', 'qr', 'qr code', 'scroll content', 'run method', 'coordinates image', 'modalpopupextender', 'regardless', 'triangles', 'date dd', 'setuptools', 'using cocoa', 'errno 2', 'server response', 'class_name', 'must defined', 'show list', 'remove trailing', 'php database', 'match text', 'method superclass', 'word sentence', 'selecting item', 'function c#', 'draw image', 'render partial', 'div clicking', 'call parent', 'expression language', 'restful routes', 'address already', 'function callback', 'method signature', 'error android', 'detection using', 'netbeans project', 'deletes', 'multivariate', 'without downloading', 'sqlce', 'multiple source', 'pointer pointer', 'error ajax', 'sort value', 'swing application', 'image loaded', 'inferred', 'cannot inferred', 'app console', 'falls', 'tolowercase', 'multiple occurrences', 'occurrences substring', 'dereferencing', 'longer exists', 'static array', 'close current', 'current window', 'write specific', 'fontsize', 'removing multiple', 'response object', 'method check', 'top level', 'remove special', 'est', 'textboxtext', 'cell editing', 'add java', 'js sdk', 'scroll end', 'java linux', 'inside panel', 'client android', 'handler function', 'stored array', 'echoing', 'pointer function', 'downloading images', 'number 1', 'move files', 'lists using', 'array_search', 'row numbers', 'run loop', 'back end', 'mvc +', 'calling c#', 'jpa 20', 'working angular', 'nonstatic field', 'get jquery', 'background worker', 'active class', 'arguments 1', 'url query', 'using intellij', 'xpath get', 'multiple attributes', 'url django', 'auto click', 'independently', 'navigation property', 'zeroes', 'number c', 'one letter', 'vs python', 'create web', 'href value', 'resource folder', 'input user', 'lines csv', 'split date', 'plus minus', 'get app', 'majorminor', 'unsupported majorminor', 'majorminor version', 'version 510', 'jupyter', 'c# events', 'multiple sql', 'model data', 'value onclick', 'negative values', 'graphical', 'webgrid', 'sql error', 'instance methods', 'wav file', 'wont open', 'custom uiview', '4 digits', 'load resources', 'observable array', 'password change', 'email via', 'drawing rectangle', 'error uninitialized', 'convert video', 'application eclipse', 'wpf button', 'character line', 'unqualifiedid', 'expected unqualifiedid', 'unbuffered', 'image exists', 'method find', 'masking', 'dom parser', 'numbers php', 'navigation menu', 'create edit', 'implement java', 'makes pointer', 'integer without', 'without cast', 'html textarea', 'javascript dynamic', 'antipattern', 'characters except', 'validate input', 'set cookie', 'tinymce editor', 'delta', 'replace values', 'compound', 'autogenerated', 'amount data', 'natural language', 'media queries', 'coding standards', 'field based', 'based select', 'standard time', 'getters', 'serving static', 'print output', 'palindrome', 'data structures', 'concatenate tuple', 'operating system', 'notification system', 'add extra', 'python getting', 'page c#', 'function body', 'include javascript', 'relative paths', 'statement java', 'using autofac', 'files different', 'visible interface', 'declares selector', 'orgjsonjsonexception', 'actionperformed', 'php timestamp', 'pass dynamic', 'package name', 'django multiple', 'data mongodb', 'syntax use', 'solaris', 'mvc app', 'upload php', 'convert text', 'mouse pointer', 'method post', 'array int', 'select text', 'ts', 'working angularjs', 'data page', 'using pip', 'salt', 'find words', 'entire column', 'display form', 'namespace std', 'python decorator', 'drop working', 'fs', 'difference javascript', 'value checked', 'custom button', 'value 0', 'exception message', 'browser download', 'application json', 'controller swift', 'javascript multiple', 'argument must', 'item click', 'file open', 'deserialized', 'hash value', 'bubbling', 'event bubbling', 'every request', 'new operator', 'invalid byte', 'systemdatasqlclientsqlexception', 'excel interop', 'c++ 2010', 'wrong code', 'singly linked', 'elements vector', 'current file', 'using variables', 'confirm box', 'returning const', 'id like', 'post variable', 'sha1', 'program windows', 'python html', 'access property', 'time datetime', 'tmp', 'devise +', 'show error', 'reference exception', 'file api', 'download php', 'th', 'able create', 'specific form', 'php 55', 'using socketio', 'socketio nodejs', 'send push', 'news feed', 'class model', 'creating empty', 'class names', 'nodejs using', 'function html', 'binding set', 'convert void', 'in_array', 'soap client', 'r error', 'strcmp', 'default page', 'allow numbers', 'unterminated', 'projection', 'moduleexports', 'elif', 'window handle', 'revert', 'git pull', 'accented', 'accented characters', 'conditional formatting', 'get java', 'begin end', 'svg image', 'apache 24', 'path uploaded', 'unhide', 'hide unhide', 'camel case', 'converting time', 'null date', 'mapstring', 'mapstring string', 'list aspnet', 'maps marker', 'static file', 'decimal point', 'resource id', 'n number', 'batches', 'png files', 'rails could', 'barchart', 'slides', 'empty rows', 'android browser', 'jasper report', 'required field', 'xml format', 'combobox using', 'calculate number', 'decode json', 'break loop', 'custom sort', 'fft', 'structure union', 'model form', 'mongodb query', 'passing char', 'character java', 'make input', 'javalangnumberformatexception', 'spam', 'using async', 'mongodb java', 'hex value', 'nothing happens', 'specified cast', 'cast valid', 'statement c#', 'differ', 'pdo error', 'error sqlstate', 'array specific', 'perform action', 'using conditional', 'repetition', 'without root', 'information available', 'elements xml', 'work fine', 'expected declaration', '1 vs', 'remove indexphp', 'json values', 'image loading', 'graphic', 'failed instantiate', 'url c#', 'iframe javascript', 'view within', 'ssrs report', 'django development', 'image google', 'swt table', 'data attributes', 'wpf get', 'refresh data', 'delete duplicate', 'sql file', 'lon', 'window close', 'anywhere', 'stale', 'date mysql', 'totally', 'graph r', 'threadsleep', 'wild', 'error near', 'object database', 'photo gallery', '415', 'overlaps', 'class fragment', 'service windows', 'multiple services', 'mysql odbc', 'google using', 'ivars', '310', 'sql developer', 'app delegate', 'theano', 'image found', 'list ids', 'content another', 'throw exceptions', 'silently', 'different database', 'string valid', 'button_to', 'httpmodule', 'x amount', 'byte arrays', 'way call', 'autoplay', 'equations', 'hibernate exception', 'apache spark', 'button checked', 'constrain', 'protected attributes', 'fulltext', 'ascii char', 'stored proc', 'method must', 'property working', 'nstextfield', 'facebook friends', 'stop page', 'token illegal', 'function button', 'exactly 2', 'ibaction', 'button change', 'object support', 'support item', 'item assignment', 'integer pointer', 'numpy python', 'bars ggplot2', 'file full', 'value changes', 'change data', 'particular div', 'property files', 'variable jsp', 'numpys', 'return empty', 'kendoui', 'use local', 'stacking', 'second page', 'could execute', 'dom object', 'dynamic image', 'array struct', 'using win32', 'javascript passing', 'linq get', 'convert base64', 'proxy using', 'continues', 'apache cxf', 'struct pointer', 'mvc rest', 'post another', 'default date', 'characters nsstring', 'type function', 'drawimage', 'messageboxshow', 'custom post', 'data back', 'rails 5', 'member initialization', 'quotation', 'inside string', 'sort function', 'error try', 'currency symbol', 'custom attributes', 'delete cookies', 'via ftp', 'folders files', 'thread c#', 'read contents', 'java methods', 'aspnet javascript', 'describe', 'html webpage', 'distributions', 'project structure', 'use regular', 'passing reference', 'r get', 'column database', 'sides', 'share one', 'image specific', 'request object', 'control javascript', 'weekend', 'python 25', 'c preprocessor', 'use opengl', 'installing package', 'aws sdk', 'rounded corner', 'service controller', 'load local', 'local resource', 'making custom', 'backbone model', 'numeric column', 'oracle connection', 'server program', 'structs c', 'x z', 'ui slider', 'rails submit', 'split function', 'input function', 'sql statements', 'passenger nginx', 'persian', 'modulus', 'exponent', 'multiple string', 'mean java', 'value 1', 'file store', 'custom cell', 'using d3js', 'synchronized block', '2 file', 'terms', 'certain amount', 'opposite', 'displaynone', 'android http', 'inside java', 'query like', 'get child', 'query set', 'tmp mysqlsock', 'mobile browser', 'rational', 'classforname', 'multiple types', 'encrypt password', 'isolation', 'mongodb c#', 'amounts data', 'stats', 'french', 'areas', 'reinstall', 'convert excel', 'picture box', 'download data', 'variable jquery', 'send get', 'fading', 'send value', 'parenthesis', 'onreadystatechange', 'linq entity', 'attribute form', 'private data', 'j', 'add trailing', 'tableviews', 'java nio', 'appsettings', 'classes vs', 'hashes ruby', 'call rails', 'rspec tests', 'activerecord association', 'performselector', 'random float', 'seg', 'seg fault', 'event fires', 'table jquery', 'use angular', 'file resources', 'local database', 'expandablelistview', 'async sockets', 'copy text', 'empty field', 'java http', 'socketexception', 'mismatch cannot', 'outside controller', 'cant display', 'assign variable', 'able run', 'js regex', 'window load', 'function controller', 'python pip', 'adding objects', 'rx', 'chartjs line', 'font file', 'convert swift', 'arrays json', 'deferred', 'date birth', 'c++ without', 'youtube data', 'duplicate keys', 'finding number', 'forward slash', 'dynamics', 'dynamics crm', 'untrusted', 'using greasemonkey', 'winforms control', 'decimal binary', 'validate string', 'javabean', 'rails render', 'render json', 'event dynamically', 'calloc', 'textarea jquery', 'data list', 'error unknown', 'results php', 'jquery scroll', 'serial ports', 'scrapy spider', 'called multiple', 'set page', 'detect window', 'java applications', 'using stored', 'tree implementation', 'qualifiers', 'chat server', 'wanted', 'classes implement', 'work firefox', 'app error', 'element xml', 'css jquery', 'linux windows', 'ios 10', 'c++ passing', 'get x', 'multiplication table', 'box javascript', 'eclipses', 'runtime exception', 'token using', 'mobile page', 'printable', 'proper use', 'arrays c#', 'display current', 'server ce', 'calling static', 'elsewhere', 'populate listview', 'jquery checkbox', 'template parameter', 'shared libraries', 'intercepting', 'destructors', 'getting python', 'selected cells', 'html email', 'background process', 'c++ static', 'udp server', 'using key', 'get part', 'call specific', 'stored mysql', 'injector', 'group multiple', 'train', 'static vs', 'mulitple', 'ivar', 'unsubscribe', 'uncheck checkboxes', 'rpc', 'swings', 'shaders', 'supported error', 'point using', 'doesnt recognize', 'blue', 'new table', 'notified', 'port using', 'len', 'method calls', 'systemdatadatarowview', 'mysqli_connect', 'hyphens', 'leaf', 'find list', 'applicationcontextxml', 'string literals', 'python csv', 'without form', 'getting time', 'data gridview', 'python doesnt', 'occurrence string', 'reserve', 'passed parameter', 'fixed width', 'c# loop', 'android custom', 'totals', 'joda time', 'friends list', 'new browser', 'jquery callback', 'modulo', 'java memory', 'ajax content', 'mysql queries', 'javascript firefox', 'defined using', 'authorizeattribute', 'php notice', 'inside update', 'belonging', 'code string', 'touch event', 'data data', 'argument python', 'selecteditem', 'index value', 'row dataframe', 'referenced assembly', 'set error', 'unnecessary', 'form working', 'httpsurlconnection', 'undefined behavior', 'checker', 'call button', 'open failed', 'ptr', 'convert python', 'print pdf', 'server application', 'c# reading', 'file convert', 'http method', 'string net', 'without first', 'two csv', 'objectivec iphone', 'text_field', 'chart api', 'potentially', 'dangerous', 'get instance', 'bounding', 'array items', 'webdriver python', 'form_tag', 'drupal 6', 'uiviews', 'create 2d', 'scraping using', 'seo friendly', 'friendly urls', 'contains text', 'valid datetime', 'chinese characters', 'articles', 'boost library', 'loading message', 'many connections', 'many values', 'codeigniters', 'php input', 'wikipedia', 'size collection', 'different lengths', 'change date', 'javascript console', 'actionscript 3', 'email laravel', 'number characters', 'set object', 'make part', 'library loaded', 'path database', 'mathround', 'line end', 'django query', 'experience', 'good bad', 'replace method', 'ancestor', 'response ajax', 'image blob', 'capacity', 'csharp', 'file spring', 'artifacts', 'high resolution', 'values 2', 'tests run', 'use array', 'java rest', 'activerecord model', 'encoder', 'problems getting', 'stealing', 'using rvm', 'every row', 'app name', 'specific fields', 'executing code', 'rest client', 'get default', 'first call', 'stdfunction', 'sqlite query', '24 hour', 'height dynamically', 'retrieve user', 'page session', '2010 project', '4 bytes', 'certain text', 'problems using', 'mysql html', 'hash string', 'dom tree', 'activity indicator', 'get div', 'jquery like', 'without use', 'get installed', 'else statements', 'view parent', '0 0', 'mvn', 'create objects', 'list vs', 'c# c++', 'returning true', 'initialize static', 'javascript rails', 'c# type', 'connection class', 'tick labels', 'trying save', 'cmd command', 'strtotime', 'sql function', 'error executing', 'converts', 'using interface', 'soapfault', 'guis', 'enclosed', 'columns one', 'refresh php', 'body using', 'exception throw', 'simple python', 'item key', 'find duplicates', 'gridview edit', 'far', 'fulltext search', 'value attribute', 'client connection', 'numpy matrix', 'nullpointer', 'nullpointer exception', 'pass text', 'populate list', 'must constant', 'autoimplemented', 'key already', 'jtoken', 'results error', 'tables sql', 'type expression', 'signatures', 'using sqlite', 'failed opening', 'opening required', 'mailto', 'search form', 'popen', '2 arrays', 'session transaction', 'chrome console', 'jquery disable', 'laravel model', 'existing excel', 'ipython notebook', 'renderer', 'addon', 'api retrieve', 'source destination', 'type const', 'touchstart', 'objectivec method', 'integrity constraint', 'constraint violation', 'ajax return', 'existing table', 'content web', 'alloc', 'prepareforsegue', 'invalid block', 'django tutorial', 'filepath', 'method nilnilclass', 'page chrome', 'jquery drag', 'updating mysql', 'gridview header', 'save excel', 'passing function', 'create sql', 'bmp', 'list specific', 'array aspnet', 'join table', 'zip archive', 'bounding box', 'cells using', 'legends', '+ java', 'firstordefault', 'format error', 'find default', 'html generated', 'listview header', 'rows database', 'file custom', 'x found', 'process cannot', 'possibility', 'extract image', 'configuration section', 'insert delete', 'cap', 'equals operator', 'two java', 'property setter', 'ruby code', 'selecting data', 'declare global', 'envelope', 'css transition', 'inclusion', 'within custom', 'write simple', 'user types', 'end time', 'current day', 'alfresco', 'working localhost', 'nested attribute', 'swing gui', 'lock screen', 'ios apps', 'adjust width', 'unterminated string', 'replaceall', 'must return', 'character using', 'iterating list', 'column number', 'ado', 'start time', 'side side', 'cut string', 'activex control', 'one thread', 'access static', 'file angularjs', 'droppable', 'aspnetmvc', 's3 bucket', 'configuration settings', 'box vbnet', 'express nodejs', 'resx'])\n"
          ],
          "name": "stdout"
        }
      ]
    },
    {
      "cell_type": "code",
      "metadata": {
        "id": "dqr8pQAUeHht",
        "colab_type": "code",
        "outputId": "38a71ce0-018d-4e35-b8f0-cd819f97f11d",
        "colab": {
          "base_uri": "https://localhost:8080/",
          "height": 34
        }
      },
      "source": [
        "if  \"c++\" in tfidf_reversed_vocab.values():\n",
        "  print(\"True\")\n",
        "else:\n",
        "  print(\"False\")"
      ],
      "execution_count": 0,
      "outputs": [
        {
          "output_type": "stream",
          "text": [
            "True\n"
          ],
          "name": "stdout"
        }
      ]
    },
    {
      "cell_type": "markdown",
      "metadata": {
        "id": "iwCVWecgeHhw",
        "colab_type": "text"
      },
      "source": [
        "If you can't find it, we need to understand how did it happen that we lost them? It happened during the built-in tokenization of TfidfVectorizer. Luckily, we can influence on this process. Get back to the function above and use '(\\S+)' regexp as a *token_pattern* in the constructor of the vectorizer.  "
      ]
    },
    {
      "cell_type": "markdown",
      "metadata": {
        "id": "4WiNCV9qeHhw",
        "colab_type": "text"
      },
      "source": [
        "Now, use this transormation for the data and check again."
      ]
    },
    {
      "cell_type": "code",
      "metadata": {
        "id": "PDoO1WZ9eHhx",
        "colab_type": "code",
        "colab": {}
      },
      "source": [
        "######### YOUR CODE HERE #############"
      ],
      "execution_count": 0,
      "outputs": []
    },
    {
      "cell_type": "markdown",
      "metadata": {
        "id": "F7f-t3OseHh2",
        "colab_type": "text"
      },
      "source": [
        "### MultiLabel classifier\n",
        "\n",
        "As we have noticed before, in this task each example can have multiple tags. To deal with such kind of prediction, we need to transform labels in a binary form and the prediction will be a mask of 0s and 1s. For this purpose it is convenient to use [MultiLabelBinarizer](http://scikit-learn.org/stable/modules/generated/sklearn.preprocessing.MultiLabelBinarizer.html) from *sklearn*."
      ]
    },
    {
      "cell_type": "code",
      "metadata": {
        "id": "Hr2shvK-eHh2",
        "colab_type": "code",
        "colab": {}
      },
      "source": [
        "from sklearn.preprocessing import MultiLabelBinarizer"
      ],
      "execution_count": 0,
      "outputs": []
    },
    {
      "cell_type": "code",
      "metadata": {
        "id": "ZqxdUiWweHh6",
        "colab_type": "code",
        "colab": {}
      },
      "source": [
        "mlb = MultiLabelBinarizer(classes=sorted(tags_counts.keys()))\n",
        "y_train = mlb.fit_transform(y_train)\n",
        "y_val = mlb.fit_transform(y_val)"
      ],
      "execution_count": 0,
      "outputs": []
    },
    {
      "cell_type": "markdown",
      "metadata": {
        "id": "v52kA2cheHh-",
        "colab_type": "text"
      },
      "source": [
        "Implement the function *train_classifier* for training a classifier. In this task we suggest to use One-vs-Rest approach, which is implemented in [OneVsRestClassifier](http://scikit-learn.org/stable/modules/generated/sklearn.multiclass.OneVsRestClassifier.html) class. In this approach *k* classifiers (= number of tags) are trained. As a basic classifier, use [LogisticRegression](http://scikit-learn.org/stable/modules/generated/sklearn.linear_model.LogisticRegression.html). It is one of the simplest methods, but often it performs good enough in text classification tasks. It might take some time, because a number of classifiers to train is large."
      ]
    },
    {
      "cell_type": "code",
      "metadata": {
        "id": "hWk1tWCteHh-",
        "colab_type": "code",
        "colab": {}
      },
      "source": [
        "from sklearn.multiclass import OneVsRestClassifier\n",
        "from sklearn.linear_model import LogisticRegression, RidgeClassifier"
      ],
      "execution_count": 0,
      "outputs": []
    },
    {
      "cell_type": "code",
      "metadata": {
        "id": "Pa01sMm7eHiD",
        "colab_type": "code",
        "colab": {}
      },
      "source": [
        "def train_classifier(X_train, y_train):\n",
        "    \"\"\"\n",
        "      X_train, y_train — training data\n",
        "      \n",
        "      return: trained classifier\n",
        "    \"\"\"\n",
        "    \n",
        "    # Create and fit LogisticRegression wraped into OneVsRestClassifier.\n",
        "    LR = LogisticRegression(C=10.0,penalty='l2') \n",
        "    cls = OneVsRestClassifier(LR)\n",
        "    cls.fit(X_train, y_train)\n",
        "    return cls"
      ],
      "execution_count": 0,
      "outputs": []
    },
    {
      "cell_type": "markdown",
      "metadata": {
        "id": "hORVdXDXeHiI",
        "colab_type": "text"
      },
      "source": [
        "Train the classifiers for different data transformations: *bag-of-words* and *tf-idf*."
      ]
    },
    {
      "cell_type": "code",
      "metadata": {
        "id": "-ZPMIzO7eHiJ",
        "colab_type": "code",
        "outputId": "8252442e-f634-4468-ef6f-58f37d4c2ba3",
        "colab": {
          "base_uri": "https://localhost:8080/",
          "height": 1000
        }
      },
      "source": [
        "classifier_mybag = train_classifier(X_train_mybag, y_train)\n",
        "classifier_tfidf = train_classifier(X_train_tfidf, y_train)"
      ],
      "execution_count": 0,
      "outputs": [
        {
          "output_type": "stream",
          "text": [
            "/usr/local/lib/python3.6/dist-packages/sklearn/linear_model/_logistic.py:940: ConvergenceWarning: lbfgs failed to converge (status=1):\n",
            "STOP: TOTAL NO. of ITERATIONS REACHED LIMIT.\n",
            "\n",
            "Increase the number of iterations (max_iter) or scale the data as shown in:\n",
            "    https://scikit-learn.org/stable/modules/preprocessing.html\n",
            "Please also refer to the documentation for alternative solver options:\n",
            "    https://scikit-learn.org/stable/modules/linear_model.html#logistic-regression\n",
            "  extra_warning_msg=_LOGISTIC_SOLVER_CONVERGENCE_MSG)\n",
            "/usr/local/lib/python3.6/dist-packages/sklearn/linear_model/_logistic.py:940: ConvergenceWarning: lbfgs failed to converge (status=1):\n",
            "STOP: TOTAL NO. of ITERATIONS REACHED LIMIT.\n",
            "\n",
            "Increase the number of iterations (max_iter) or scale the data as shown in:\n",
            "    https://scikit-learn.org/stable/modules/preprocessing.html\n",
            "Please also refer to the documentation for alternative solver options:\n",
            "    https://scikit-learn.org/stable/modules/linear_model.html#logistic-regression\n",
            "  extra_warning_msg=_LOGISTIC_SOLVER_CONVERGENCE_MSG)\n",
            "/usr/local/lib/python3.6/dist-packages/sklearn/linear_model/_logistic.py:940: ConvergenceWarning: lbfgs failed to converge (status=1):\n",
            "STOP: TOTAL NO. of ITERATIONS REACHED LIMIT.\n",
            "\n",
            "Increase the number of iterations (max_iter) or scale the data as shown in:\n",
            "    https://scikit-learn.org/stable/modules/preprocessing.html\n",
            "Please also refer to the documentation for alternative solver options:\n",
            "    https://scikit-learn.org/stable/modules/linear_model.html#logistic-regression\n",
            "  extra_warning_msg=_LOGISTIC_SOLVER_CONVERGENCE_MSG)\n",
            "/usr/local/lib/python3.6/dist-packages/sklearn/linear_model/_logistic.py:940: ConvergenceWarning: lbfgs failed to converge (status=1):\n",
            "STOP: TOTAL NO. of ITERATIONS REACHED LIMIT.\n",
            "\n",
            "Increase the number of iterations (max_iter) or scale the data as shown in:\n",
            "    https://scikit-learn.org/stable/modules/preprocessing.html\n",
            "Please also refer to the documentation for alternative solver options:\n",
            "    https://scikit-learn.org/stable/modules/linear_model.html#logistic-regression\n",
            "  extra_warning_msg=_LOGISTIC_SOLVER_CONVERGENCE_MSG)\n",
            "/usr/local/lib/python3.6/dist-packages/sklearn/linear_model/_logistic.py:940: ConvergenceWarning: lbfgs failed to converge (status=1):\n",
            "STOP: TOTAL NO. of ITERATIONS REACHED LIMIT.\n",
            "\n",
            "Increase the number of iterations (max_iter) or scale the data as shown in:\n",
            "    https://scikit-learn.org/stable/modules/preprocessing.html\n",
            "Please also refer to the documentation for alternative solver options:\n",
            "    https://scikit-learn.org/stable/modules/linear_model.html#logistic-regression\n",
            "  extra_warning_msg=_LOGISTIC_SOLVER_CONVERGENCE_MSG)\n",
            "/usr/local/lib/python3.6/dist-packages/sklearn/linear_model/_logistic.py:940: ConvergenceWarning: lbfgs failed to converge (status=1):\n",
            "STOP: TOTAL NO. of ITERATIONS REACHED LIMIT.\n",
            "\n",
            "Increase the number of iterations (max_iter) or scale the data as shown in:\n",
            "    https://scikit-learn.org/stable/modules/preprocessing.html\n",
            "Please also refer to the documentation for alternative solver options:\n",
            "    https://scikit-learn.org/stable/modules/linear_model.html#logistic-regression\n",
            "  extra_warning_msg=_LOGISTIC_SOLVER_CONVERGENCE_MSG)\n",
            "/usr/local/lib/python3.6/dist-packages/sklearn/linear_model/_logistic.py:940: ConvergenceWarning: lbfgs failed to converge (status=1):\n",
            "STOP: TOTAL NO. of ITERATIONS REACHED LIMIT.\n",
            "\n",
            "Increase the number of iterations (max_iter) or scale the data as shown in:\n",
            "    https://scikit-learn.org/stable/modules/preprocessing.html\n",
            "Please also refer to the documentation for alternative solver options:\n",
            "    https://scikit-learn.org/stable/modules/linear_model.html#logistic-regression\n",
            "  extra_warning_msg=_LOGISTIC_SOLVER_CONVERGENCE_MSG)\n",
            "/usr/local/lib/python3.6/dist-packages/sklearn/linear_model/_logistic.py:940: ConvergenceWarning: lbfgs failed to converge (status=1):\n",
            "STOP: TOTAL NO. of ITERATIONS REACHED LIMIT.\n",
            "\n",
            "Increase the number of iterations (max_iter) or scale the data as shown in:\n",
            "    https://scikit-learn.org/stable/modules/preprocessing.html\n",
            "Please also refer to the documentation for alternative solver options:\n",
            "    https://scikit-learn.org/stable/modules/linear_model.html#logistic-regression\n",
            "  extra_warning_msg=_LOGISTIC_SOLVER_CONVERGENCE_MSG)\n",
            "/usr/local/lib/python3.6/dist-packages/sklearn/linear_model/_logistic.py:940: ConvergenceWarning: lbfgs failed to converge (status=1):\n",
            "STOP: TOTAL NO. of ITERATIONS REACHED LIMIT.\n",
            "\n",
            "Increase the number of iterations (max_iter) or scale the data as shown in:\n",
            "    https://scikit-learn.org/stable/modules/preprocessing.html\n",
            "Please also refer to the documentation for alternative solver options:\n",
            "    https://scikit-learn.org/stable/modules/linear_model.html#logistic-regression\n",
            "  extra_warning_msg=_LOGISTIC_SOLVER_CONVERGENCE_MSG)\n",
            "/usr/local/lib/python3.6/dist-packages/sklearn/linear_model/_logistic.py:940: ConvergenceWarning: lbfgs failed to converge (status=1):\n",
            "STOP: TOTAL NO. of ITERATIONS REACHED LIMIT.\n",
            "\n",
            "Increase the number of iterations (max_iter) or scale the data as shown in:\n",
            "    https://scikit-learn.org/stable/modules/preprocessing.html\n",
            "Please also refer to the documentation for alternative solver options:\n",
            "    https://scikit-learn.org/stable/modules/linear_model.html#logistic-regression\n",
            "  extra_warning_msg=_LOGISTIC_SOLVER_CONVERGENCE_MSG)\n",
            "/usr/local/lib/python3.6/dist-packages/sklearn/linear_model/_logistic.py:940: ConvergenceWarning: lbfgs failed to converge (status=1):\n",
            "STOP: TOTAL NO. of ITERATIONS REACHED LIMIT.\n",
            "\n",
            "Increase the number of iterations (max_iter) or scale the data as shown in:\n",
            "    https://scikit-learn.org/stable/modules/preprocessing.html\n",
            "Please also refer to the documentation for alternative solver options:\n",
            "    https://scikit-learn.org/stable/modules/linear_model.html#logistic-regression\n",
            "  extra_warning_msg=_LOGISTIC_SOLVER_CONVERGENCE_MSG)\n",
            "/usr/local/lib/python3.6/dist-packages/sklearn/linear_model/_logistic.py:940: ConvergenceWarning: lbfgs failed to converge (status=1):\n",
            "STOP: TOTAL NO. of ITERATIONS REACHED LIMIT.\n",
            "\n",
            "Increase the number of iterations (max_iter) or scale the data as shown in:\n",
            "    https://scikit-learn.org/stable/modules/preprocessing.html\n",
            "Please also refer to the documentation for alternative solver options:\n",
            "    https://scikit-learn.org/stable/modules/linear_model.html#logistic-regression\n",
            "  extra_warning_msg=_LOGISTIC_SOLVER_CONVERGENCE_MSG)\n",
            "/usr/local/lib/python3.6/dist-packages/sklearn/linear_model/_logistic.py:940: ConvergenceWarning: lbfgs failed to converge (status=1):\n",
            "STOP: TOTAL NO. of ITERATIONS REACHED LIMIT.\n",
            "\n",
            "Increase the number of iterations (max_iter) or scale the data as shown in:\n",
            "    https://scikit-learn.org/stable/modules/preprocessing.html\n",
            "Please also refer to the documentation for alternative solver options:\n",
            "    https://scikit-learn.org/stable/modules/linear_model.html#logistic-regression\n",
            "  extra_warning_msg=_LOGISTIC_SOLVER_CONVERGENCE_MSG)\n",
            "/usr/local/lib/python3.6/dist-packages/sklearn/linear_model/_logistic.py:940: ConvergenceWarning: lbfgs failed to converge (status=1):\n",
            "STOP: TOTAL NO. of ITERATIONS REACHED LIMIT.\n",
            "\n",
            "Increase the number of iterations (max_iter) or scale the data as shown in:\n",
            "    https://scikit-learn.org/stable/modules/preprocessing.html\n",
            "Please also refer to the documentation for alternative solver options:\n",
            "    https://scikit-learn.org/stable/modules/linear_model.html#logistic-regression\n",
            "  extra_warning_msg=_LOGISTIC_SOLVER_CONVERGENCE_MSG)\n",
            "/usr/local/lib/python3.6/dist-packages/sklearn/linear_model/_logistic.py:940: ConvergenceWarning: lbfgs failed to converge (status=1):\n",
            "STOP: TOTAL NO. of ITERATIONS REACHED LIMIT.\n",
            "\n",
            "Increase the number of iterations (max_iter) or scale the data as shown in:\n",
            "    https://scikit-learn.org/stable/modules/preprocessing.html\n",
            "Please also refer to the documentation for alternative solver options:\n",
            "    https://scikit-learn.org/stable/modules/linear_model.html#logistic-regression\n",
            "  extra_warning_msg=_LOGISTIC_SOLVER_CONVERGENCE_MSG)\n",
            "/usr/local/lib/python3.6/dist-packages/sklearn/linear_model/_logistic.py:940: ConvergenceWarning: lbfgs failed to converge (status=1):\n",
            "STOP: TOTAL NO. of ITERATIONS REACHED LIMIT.\n",
            "\n",
            "Increase the number of iterations (max_iter) or scale the data as shown in:\n",
            "    https://scikit-learn.org/stable/modules/preprocessing.html\n",
            "Please also refer to the documentation for alternative solver options:\n",
            "    https://scikit-learn.org/stable/modules/linear_model.html#logistic-regression\n",
            "  extra_warning_msg=_LOGISTIC_SOLVER_CONVERGENCE_MSG)\n",
            "/usr/local/lib/python3.6/dist-packages/sklearn/linear_model/_logistic.py:940: ConvergenceWarning: lbfgs failed to converge (status=1):\n",
            "STOP: TOTAL NO. of ITERATIONS REACHED LIMIT.\n",
            "\n",
            "Increase the number of iterations (max_iter) or scale the data as shown in:\n",
            "    https://scikit-learn.org/stable/modules/preprocessing.html\n",
            "Please also refer to the documentation for alternative solver options:\n",
            "    https://scikit-learn.org/stable/modules/linear_model.html#logistic-regression\n",
            "  extra_warning_msg=_LOGISTIC_SOLVER_CONVERGENCE_MSG)\n",
            "/usr/local/lib/python3.6/dist-packages/sklearn/linear_model/_logistic.py:940: ConvergenceWarning: lbfgs failed to converge (status=1):\n",
            "STOP: TOTAL NO. of ITERATIONS REACHED LIMIT.\n",
            "\n",
            "Increase the number of iterations (max_iter) or scale the data as shown in:\n",
            "    https://scikit-learn.org/stable/modules/preprocessing.html\n",
            "Please also refer to the documentation for alternative solver options:\n",
            "    https://scikit-learn.org/stable/modules/linear_model.html#logistic-regression\n",
            "  extra_warning_msg=_LOGISTIC_SOLVER_CONVERGENCE_MSG)\n",
            "/usr/local/lib/python3.6/dist-packages/sklearn/linear_model/_logistic.py:940: ConvergenceWarning: lbfgs failed to converge (status=1):\n",
            "STOP: TOTAL NO. of ITERATIONS REACHED LIMIT.\n",
            "\n",
            "Increase the number of iterations (max_iter) or scale the data as shown in:\n",
            "    https://scikit-learn.org/stable/modules/preprocessing.html\n",
            "Please also refer to the documentation for alternative solver options:\n",
            "    https://scikit-learn.org/stable/modules/linear_model.html#logistic-regression\n",
            "  extra_warning_msg=_LOGISTIC_SOLVER_CONVERGENCE_MSG)\n",
            "/usr/local/lib/python3.6/dist-packages/sklearn/linear_model/_logistic.py:940: ConvergenceWarning: lbfgs failed to converge (status=1):\n",
            "STOP: TOTAL NO. of ITERATIONS REACHED LIMIT.\n",
            "\n",
            "Increase the number of iterations (max_iter) or scale the data as shown in:\n",
            "    https://scikit-learn.org/stable/modules/preprocessing.html\n",
            "Please also refer to the documentation for alternative solver options:\n",
            "    https://scikit-learn.org/stable/modules/linear_model.html#logistic-regression\n",
            "  extra_warning_msg=_LOGISTIC_SOLVER_CONVERGENCE_MSG)\n",
            "/usr/local/lib/python3.6/dist-packages/sklearn/linear_model/_logistic.py:940: ConvergenceWarning: lbfgs failed to converge (status=1):\n",
            "STOP: TOTAL NO. of ITERATIONS REACHED LIMIT.\n",
            "\n",
            "Increase the number of iterations (max_iter) or scale the data as shown in:\n",
            "    https://scikit-learn.org/stable/modules/preprocessing.html\n",
            "Please also refer to the documentation for alternative solver options:\n",
            "    https://scikit-learn.org/stable/modules/linear_model.html#logistic-regression\n",
            "  extra_warning_msg=_LOGISTIC_SOLVER_CONVERGENCE_MSG)\n",
            "/usr/local/lib/python3.6/dist-packages/sklearn/linear_model/_logistic.py:940: ConvergenceWarning: lbfgs failed to converge (status=1):\n",
            "STOP: TOTAL NO. of ITERATIONS REACHED LIMIT.\n",
            "\n",
            "Increase the number of iterations (max_iter) or scale the data as shown in:\n",
            "    https://scikit-learn.org/stable/modules/preprocessing.html\n",
            "Please also refer to the documentation for alternative solver options:\n",
            "    https://scikit-learn.org/stable/modules/linear_model.html#logistic-regression\n",
            "  extra_warning_msg=_LOGISTIC_SOLVER_CONVERGENCE_MSG)\n",
            "/usr/local/lib/python3.6/dist-packages/sklearn/linear_model/_logistic.py:940: ConvergenceWarning: lbfgs failed to converge (status=1):\n",
            "STOP: TOTAL NO. of ITERATIONS REACHED LIMIT.\n",
            "\n",
            "Increase the number of iterations (max_iter) or scale the data as shown in:\n",
            "    https://scikit-learn.org/stable/modules/preprocessing.html\n",
            "Please also refer to the documentation for alternative solver options:\n",
            "    https://scikit-learn.org/stable/modules/linear_model.html#logistic-regression\n",
            "  extra_warning_msg=_LOGISTIC_SOLVER_CONVERGENCE_MSG)\n",
            "/usr/local/lib/python3.6/dist-packages/sklearn/linear_model/_logistic.py:940: ConvergenceWarning: lbfgs failed to converge (status=1):\n",
            "STOP: TOTAL NO. of ITERATIONS REACHED LIMIT.\n",
            "\n",
            "Increase the number of iterations (max_iter) or scale the data as shown in:\n",
            "    https://scikit-learn.org/stable/modules/preprocessing.html\n",
            "Please also refer to the documentation for alternative solver options:\n",
            "    https://scikit-learn.org/stable/modules/linear_model.html#logistic-regression\n",
            "  extra_warning_msg=_LOGISTIC_SOLVER_CONVERGENCE_MSG)\n",
            "/usr/local/lib/python3.6/dist-packages/sklearn/linear_model/_logistic.py:940: ConvergenceWarning: lbfgs failed to converge (status=1):\n",
            "STOP: TOTAL NO. of ITERATIONS REACHED LIMIT.\n",
            "\n",
            "Increase the number of iterations (max_iter) or scale the data as shown in:\n",
            "    https://scikit-learn.org/stable/modules/preprocessing.html\n",
            "Please also refer to the documentation for alternative solver options:\n",
            "    https://scikit-learn.org/stable/modules/linear_model.html#logistic-regression\n",
            "  extra_warning_msg=_LOGISTIC_SOLVER_CONVERGENCE_MSG)\n",
            "/usr/local/lib/python3.6/dist-packages/sklearn/linear_model/_logistic.py:940: ConvergenceWarning: lbfgs failed to converge (status=1):\n",
            "STOP: TOTAL NO. of ITERATIONS REACHED LIMIT.\n",
            "\n",
            "Increase the number of iterations (max_iter) or scale the data as shown in:\n",
            "    https://scikit-learn.org/stable/modules/preprocessing.html\n",
            "Please also refer to the documentation for alternative solver options:\n",
            "    https://scikit-learn.org/stable/modules/linear_model.html#logistic-regression\n",
            "  extra_warning_msg=_LOGISTIC_SOLVER_CONVERGENCE_MSG)\n",
            "/usr/local/lib/python3.6/dist-packages/sklearn/linear_model/_logistic.py:940: ConvergenceWarning: lbfgs failed to converge (status=1):\n",
            "STOP: TOTAL NO. of ITERATIONS REACHED LIMIT.\n",
            "\n",
            "Increase the number of iterations (max_iter) or scale the data as shown in:\n",
            "    https://scikit-learn.org/stable/modules/preprocessing.html\n",
            "Please also refer to the documentation for alternative solver options:\n",
            "    https://scikit-learn.org/stable/modules/linear_model.html#logistic-regression\n",
            "  extra_warning_msg=_LOGISTIC_SOLVER_CONVERGENCE_MSG)\n",
            "/usr/local/lib/python3.6/dist-packages/sklearn/linear_model/_logistic.py:940: ConvergenceWarning: lbfgs failed to converge (status=1):\n",
            "STOP: TOTAL NO. of ITERATIONS REACHED LIMIT.\n",
            "\n",
            "Increase the number of iterations (max_iter) or scale the data as shown in:\n",
            "    https://scikit-learn.org/stable/modules/preprocessing.html\n",
            "Please also refer to the documentation for alternative solver options:\n",
            "    https://scikit-learn.org/stable/modules/linear_model.html#logistic-regression\n",
            "  extra_warning_msg=_LOGISTIC_SOLVER_CONVERGENCE_MSG)\n",
            "/usr/local/lib/python3.6/dist-packages/sklearn/linear_model/_logistic.py:940: ConvergenceWarning: lbfgs failed to converge (status=1):\n",
            "STOP: TOTAL NO. of ITERATIONS REACHED LIMIT.\n",
            "\n",
            "Increase the number of iterations (max_iter) or scale the data as shown in:\n",
            "    https://scikit-learn.org/stable/modules/preprocessing.html\n",
            "Please also refer to the documentation for alternative solver options:\n",
            "    https://scikit-learn.org/stable/modules/linear_model.html#logistic-regression\n",
            "  extra_warning_msg=_LOGISTIC_SOLVER_CONVERGENCE_MSG)\n",
            "/usr/local/lib/python3.6/dist-packages/sklearn/linear_model/_logistic.py:940: ConvergenceWarning: lbfgs failed to converge (status=1):\n",
            "STOP: TOTAL NO. of ITERATIONS REACHED LIMIT.\n",
            "\n",
            "Increase the number of iterations (max_iter) or scale the data as shown in:\n",
            "    https://scikit-learn.org/stable/modules/preprocessing.html\n",
            "Please also refer to the documentation for alternative solver options:\n",
            "    https://scikit-learn.org/stable/modules/linear_model.html#logistic-regression\n",
            "  extra_warning_msg=_LOGISTIC_SOLVER_CONVERGENCE_MSG)\n",
            "/usr/local/lib/python3.6/dist-packages/sklearn/linear_model/_logistic.py:940: ConvergenceWarning: lbfgs failed to converge (status=1):\n",
            "STOP: TOTAL NO. of ITERATIONS REACHED LIMIT.\n",
            "\n",
            "Increase the number of iterations (max_iter) or scale the data as shown in:\n",
            "    https://scikit-learn.org/stable/modules/preprocessing.html\n",
            "Please also refer to the documentation for alternative solver options:\n",
            "    https://scikit-learn.org/stable/modules/linear_model.html#logistic-regression\n",
            "  extra_warning_msg=_LOGISTIC_SOLVER_CONVERGENCE_MSG)\n",
            "/usr/local/lib/python3.6/dist-packages/sklearn/linear_model/_logistic.py:940: ConvergenceWarning: lbfgs failed to converge (status=1):\n",
            "STOP: TOTAL NO. of ITERATIONS REACHED LIMIT.\n",
            "\n",
            "Increase the number of iterations (max_iter) or scale the data as shown in:\n",
            "    https://scikit-learn.org/stable/modules/preprocessing.html\n",
            "Please also refer to the documentation for alternative solver options:\n",
            "    https://scikit-learn.org/stable/modules/linear_model.html#logistic-regression\n",
            "  extra_warning_msg=_LOGISTIC_SOLVER_CONVERGENCE_MSG)\n",
            "/usr/local/lib/python3.6/dist-packages/sklearn/linear_model/_logistic.py:940: ConvergenceWarning: lbfgs failed to converge (status=1):\n",
            "STOP: TOTAL NO. of ITERATIONS REACHED LIMIT.\n",
            "\n",
            "Increase the number of iterations (max_iter) or scale the data as shown in:\n",
            "    https://scikit-learn.org/stable/modules/preprocessing.html\n",
            "Please also refer to the documentation for alternative solver options:\n",
            "    https://scikit-learn.org/stable/modules/linear_model.html#logistic-regression\n",
            "  extra_warning_msg=_LOGISTIC_SOLVER_CONVERGENCE_MSG)\n",
            "/usr/local/lib/python3.6/dist-packages/sklearn/linear_model/_logistic.py:940: ConvergenceWarning: lbfgs failed to converge (status=1):\n",
            "STOP: TOTAL NO. of ITERATIONS REACHED LIMIT.\n",
            "\n",
            "Increase the number of iterations (max_iter) or scale the data as shown in:\n",
            "    https://scikit-learn.org/stable/modules/preprocessing.html\n",
            "Please also refer to the documentation for alternative solver options:\n",
            "    https://scikit-learn.org/stable/modules/linear_model.html#logistic-regression\n",
            "  extra_warning_msg=_LOGISTIC_SOLVER_CONVERGENCE_MSG)\n",
            "/usr/local/lib/python3.6/dist-packages/sklearn/linear_model/_logistic.py:940: ConvergenceWarning: lbfgs failed to converge (status=1):\n",
            "STOP: TOTAL NO. of ITERATIONS REACHED LIMIT.\n",
            "\n",
            "Increase the number of iterations (max_iter) or scale the data as shown in:\n",
            "    https://scikit-learn.org/stable/modules/preprocessing.html\n",
            "Please also refer to the documentation for alternative solver options:\n",
            "    https://scikit-learn.org/stable/modules/linear_model.html#logistic-regression\n",
            "  extra_warning_msg=_LOGISTIC_SOLVER_CONVERGENCE_MSG)\n",
            "/usr/local/lib/python3.6/dist-packages/sklearn/linear_model/_logistic.py:940: ConvergenceWarning: lbfgs failed to converge (status=1):\n",
            "STOP: TOTAL NO. of ITERATIONS REACHED LIMIT.\n",
            "\n",
            "Increase the number of iterations (max_iter) or scale the data as shown in:\n",
            "    https://scikit-learn.org/stable/modules/preprocessing.html\n",
            "Please also refer to the documentation for alternative solver options:\n",
            "    https://scikit-learn.org/stable/modules/linear_model.html#logistic-regression\n",
            "  extra_warning_msg=_LOGISTIC_SOLVER_CONVERGENCE_MSG)\n",
            "/usr/local/lib/python3.6/dist-packages/sklearn/linear_model/_logistic.py:940: ConvergenceWarning: lbfgs failed to converge (status=1):\n",
            "STOP: TOTAL NO. of ITERATIONS REACHED LIMIT.\n",
            "\n",
            "Increase the number of iterations (max_iter) or scale the data as shown in:\n",
            "    https://scikit-learn.org/stable/modules/preprocessing.html\n",
            "Please also refer to the documentation for alternative solver options:\n",
            "    https://scikit-learn.org/stable/modules/linear_model.html#logistic-regression\n",
            "  extra_warning_msg=_LOGISTIC_SOLVER_CONVERGENCE_MSG)\n",
            "/usr/local/lib/python3.6/dist-packages/sklearn/linear_model/_logistic.py:940: ConvergenceWarning: lbfgs failed to converge (status=1):\n",
            "STOP: TOTAL NO. of ITERATIONS REACHED LIMIT.\n",
            "\n",
            "Increase the number of iterations (max_iter) or scale the data as shown in:\n",
            "    https://scikit-learn.org/stable/modules/preprocessing.html\n",
            "Please also refer to the documentation for alternative solver options:\n",
            "    https://scikit-learn.org/stable/modules/linear_model.html#logistic-regression\n",
            "  extra_warning_msg=_LOGISTIC_SOLVER_CONVERGENCE_MSG)\n",
            "/usr/local/lib/python3.6/dist-packages/sklearn/linear_model/_logistic.py:940: ConvergenceWarning: lbfgs failed to converge (status=1):\n",
            "STOP: TOTAL NO. of ITERATIONS REACHED LIMIT.\n",
            "\n",
            "Increase the number of iterations (max_iter) or scale the data as shown in:\n",
            "    https://scikit-learn.org/stable/modules/preprocessing.html\n",
            "Please also refer to the documentation for alternative solver options:\n",
            "    https://scikit-learn.org/stable/modules/linear_model.html#logistic-regression\n",
            "  extra_warning_msg=_LOGISTIC_SOLVER_CONVERGENCE_MSG)\n",
            "/usr/local/lib/python3.6/dist-packages/sklearn/linear_model/_logistic.py:940: ConvergenceWarning: lbfgs failed to converge (status=1):\n",
            "STOP: TOTAL NO. of ITERATIONS REACHED LIMIT.\n",
            "\n",
            "Increase the number of iterations (max_iter) or scale the data as shown in:\n",
            "    https://scikit-learn.org/stable/modules/preprocessing.html\n",
            "Please also refer to the documentation for alternative solver options:\n",
            "    https://scikit-learn.org/stable/modules/linear_model.html#logistic-regression\n",
            "  extra_warning_msg=_LOGISTIC_SOLVER_CONVERGENCE_MSG)\n",
            "/usr/local/lib/python3.6/dist-packages/sklearn/linear_model/_logistic.py:940: ConvergenceWarning: lbfgs failed to converge (status=1):\n",
            "STOP: TOTAL NO. of ITERATIONS REACHED LIMIT.\n",
            "\n",
            "Increase the number of iterations (max_iter) or scale the data as shown in:\n",
            "    https://scikit-learn.org/stable/modules/preprocessing.html\n",
            "Please also refer to the documentation for alternative solver options:\n",
            "    https://scikit-learn.org/stable/modules/linear_model.html#logistic-regression\n",
            "  extra_warning_msg=_LOGISTIC_SOLVER_CONVERGENCE_MSG)\n",
            "/usr/local/lib/python3.6/dist-packages/sklearn/linear_model/_logistic.py:940: ConvergenceWarning: lbfgs failed to converge (status=1):\n",
            "STOP: TOTAL NO. of ITERATIONS REACHED LIMIT.\n",
            "\n",
            "Increase the number of iterations (max_iter) or scale the data as shown in:\n",
            "    https://scikit-learn.org/stable/modules/preprocessing.html\n",
            "Please also refer to the documentation for alternative solver options:\n",
            "    https://scikit-learn.org/stable/modules/linear_model.html#logistic-regression\n",
            "  extra_warning_msg=_LOGISTIC_SOLVER_CONVERGENCE_MSG)\n",
            "/usr/local/lib/python3.6/dist-packages/sklearn/linear_model/_logistic.py:940: ConvergenceWarning: lbfgs failed to converge (status=1):\n",
            "STOP: TOTAL NO. of ITERATIONS REACHED LIMIT.\n",
            "\n",
            "Increase the number of iterations (max_iter) or scale the data as shown in:\n",
            "    https://scikit-learn.org/stable/modules/preprocessing.html\n",
            "Please also refer to the documentation for alternative solver options:\n",
            "    https://scikit-learn.org/stable/modules/linear_model.html#logistic-regression\n",
            "  extra_warning_msg=_LOGISTIC_SOLVER_CONVERGENCE_MSG)\n",
            "/usr/local/lib/python3.6/dist-packages/sklearn/linear_model/_logistic.py:940: ConvergenceWarning: lbfgs failed to converge (status=1):\n",
            "STOP: TOTAL NO. of ITERATIONS REACHED LIMIT.\n",
            "\n",
            "Increase the number of iterations (max_iter) or scale the data as shown in:\n",
            "    https://scikit-learn.org/stable/modules/preprocessing.html\n",
            "Please also refer to the documentation for alternative solver options:\n",
            "    https://scikit-learn.org/stable/modules/linear_model.html#logistic-regression\n",
            "  extra_warning_msg=_LOGISTIC_SOLVER_CONVERGENCE_MSG)\n",
            "/usr/local/lib/python3.6/dist-packages/sklearn/linear_model/_logistic.py:940: ConvergenceWarning: lbfgs failed to converge (status=1):\n",
            "STOP: TOTAL NO. of ITERATIONS REACHED LIMIT.\n",
            "\n",
            "Increase the number of iterations (max_iter) or scale the data as shown in:\n",
            "    https://scikit-learn.org/stable/modules/preprocessing.html\n",
            "Please also refer to the documentation for alternative solver options:\n",
            "    https://scikit-learn.org/stable/modules/linear_model.html#logistic-regression\n",
            "  extra_warning_msg=_LOGISTIC_SOLVER_CONVERGENCE_MSG)\n",
            "/usr/local/lib/python3.6/dist-packages/sklearn/linear_model/_logistic.py:940: ConvergenceWarning: lbfgs failed to converge (status=1):\n",
            "STOP: TOTAL NO. of ITERATIONS REACHED LIMIT.\n",
            "\n",
            "Increase the number of iterations (max_iter) or scale the data as shown in:\n",
            "    https://scikit-learn.org/stable/modules/preprocessing.html\n",
            "Please also refer to the documentation for alternative solver options:\n",
            "    https://scikit-learn.org/stable/modules/linear_model.html#logistic-regression\n",
            "  extra_warning_msg=_LOGISTIC_SOLVER_CONVERGENCE_MSG)\n",
            "/usr/local/lib/python3.6/dist-packages/sklearn/linear_model/_logistic.py:940: ConvergenceWarning: lbfgs failed to converge (status=1):\n",
            "STOP: TOTAL NO. of ITERATIONS REACHED LIMIT.\n",
            "\n",
            "Increase the number of iterations (max_iter) or scale the data as shown in:\n",
            "    https://scikit-learn.org/stable/modules/preprocessing.html\n",
            "Please also refer to the documentation for alternative solver options:\n",
            "    https://scikit-learn.org/stable/modules/linear_model.html#logistic-regression\n",
            "  extra_warning_msg=_LOGISTIC_SOLVER_CONVERGENCE_MSG)\n",
            "/usr/local/lib/python3.6/dist-packages/sklearn/linear_model/_logistic.py:940: ConvergenceWarning: lbfgs failed to converge (status=1):\n",
            "STOP: TOTAL NO. of ITERATIONS REACHED LIMIT.\n",
            "\n",
            "Increase the number of iterations (max_iter) or scale the data as shown in:\n",
            "    https://scikit-learn.org/stable/modules/preprocessing.html\n",
            "Please also refer to the documentation for alternative solver options:\n",
            "    https://scikit-learn.org/stable/modules/linear_model.html#logistic-regression\n",
            "  extra_warning_msg=_LOGISTIC_SOLVER_CONVERGENCE_MSG)\n",
            "/usr/local/lib/python3.6/dist-packages/sklearn/linear_model/_logistic.py:940: ConvergenceWarning: lbfgs failed to converge (status=1):\n",
            "STOP: TOTAL NO. of ITERATIONS REACHED LIMIT.\n",
            "\n",
            "Increase the number of iterations (max_iter) or scale the data as shown in:\n",
            "    https://scikit-learn.org/stable/modules/preprocessing.html\n",
            "Please also refer to the documentation for alternative solver options:\n",
            "    https://scikit-learn.org/stable/modules/linear_model.html#logistic-regression\n",
            "  extra_warning_msg=_LOGISTIC_SOLVER_CONVERGENCE_MSG)\n",
            "/usr/local/lib/python3.6/dist-packages/sklearn/linear_model/_logistic.py:940: ConvergenceWarning: lbfgs failed to converge (status=1):\n",
            "STOP: TOTAL NO. of ITERATIONS REACHED LIMIT.\n",
            "\n",
            "Increase the number of iterations (max_iter) or scale the data as shown in:\n",
            "    https://scikit-learn.org/stable/modules/preprocessing.html\n",
            "Please also refer to the documentation for alternative solver options:\n",
            "    https://scikit-learn.org/stable/modules/linear_model.html#logistic-regression\n",
            "  extra_warning_msg=_LOGISTIC_SOLVER_CONVERGENCE_MSG)\n",
            "/usr/local/lib/python3.6/dist-packages/sklearn/linear_model/_logistic.py:940: ConvergenceWarning: lbfgs failed to converge (status=1):\n",
            "STOP: TOTAL NO. of ITERATIONS REACHED LIMIT.\n",
            "\n",
            "Increase the number of iterations (max_iter) or scale the data as shown in:\n",
            "    https://scikit-learn.org/stable/modules/preprocessing.html\n",
            "Please also refer to the documentation for alternative solver options:\n",
            "    https://scikit-learn.org/stable/modules/linear_model.html#logistic-regression\n",
            "  extra_warning_msg=_LOGISTIC_SOLVER_CONVERGENCE_MSG)\n",
            "/usr/local/lib/python3.6/dist-packages/sklearn/linear_model/_logistic.py:940: ConvergenceWarning: lbfgs failed to converge (status=1):\n",
            "STOP: TOTAL NO. of ITERATIONS REACHED LIMIT.\n",
            "\n",
            "Increase the number of iterations (max_iter) or scale the data as shown in:\n",
            "    https://scikit-learn.org/stable/modules/preprocessing.html\n",
            "Please also refer to the documentation for alternative solver options:\n",
            "    https://scikit-learn.org/stable/modules/linear_model.html#logistic-regression\n",
            "  extra_warning_msg=_LOGISTIC_SOLVER_CONVERGENCE_MSG)\n",
            "/usr/local/lib/python3.6/dist-packages/sklearn/linear_model/_logistic.py:940: ConvergenceWarning: lbfgs failed to converge (status=1):\n",
            "STOP: TOTAL NO. of ITERATIONS REACHED LIMIT.\n",
            "\n",
            "Increase the number of iterations (max_iter) or scale the data as shown in:\n",
            "    https://scikit-learn.org/stable/modules/preprocessing.html\n",
            "Please also refer to the documentation for alternative solver options:\n",
            "    https://scikit-learn.org/stable/modules/linear_model.html#logistic-regression\n",
            "  extra_warning_msg=_LOGISTIC_SOLVER_CONVERGENCE_MSG)\n",
            "/usr/local/lib/python3.6/dist-packages/sklearn/linear_model/_logistic.py:940: ConvergenceWarning: lbfgs failed to converge (status=1):\n",
            "STOP: TOTAL NO. of ITERATIONS REACHED LIMIT.\n",
            "\n",
            "Increase the number of iterations (max_iter) or scale the data as shown in:\n",
            "    https://scikit-learn.org/stable/modules/preprocessing.html\n",
            "Please also refer to the documentation for alternative solver options:\n",
            "    https://scikit-learn.org/stable/modules/linear_model.html#logistic-regression\n",
            "  extra_warning_msg=_LOGISTIC_SOLVER_CONVERGENCE_MSG)\n",
            "/usr/local/lib/python3.6/dist-packages/sklearn/linear_model/_logistic.py:940: ConvergenceWarning: lbfgs failed to converge (status=1):\n",
            "STOP: TOTAL NO. of ITERATIONS REACHED LIMIT.\n",
            "\n",
            "Increase the number of iterations (max_iter) or scale the data as shown in:\n",
            "    https://scikit-learn.org/stable/modules/preprocessing.html\n",
            "Please also refer to the documentation for alternative solver options:\n",
            "    https://scikit-learn.org/stable/modules/linear_model.html#logistic-regression\n",
            "  extra_warning_msg=_LOGISTIC_SOLVER_CONVERGENCE_MSG)\n",
            "/usr/local/lib/python3.6/dist-packages/sklearn/linear_model/_logistic.py:940: ConvergenceWarning: lbfgs failed to converge (status=1):\n",
            "STOP: TOTAL NO. of ITERATIONS REACHED LIMIT.\n",
            "\n",
            "Increase the number of iterations (max_iter) or scale the data as shown in:\n",
            "    https://scikit-learn.org/stable/modules/preprocessing.html\n",
            "Please also refer to the documentation for alternative solver options:\n",
            "    https://scikit-learn.org/stable/modules/linear_model.html#logistic-regression\n",
            "  extra_warning_msg=_LOGISTIC_SOLVER_CONVERGENCE_MSG)\n",
            "/usr/local/lib/python3.6/dist-packages/sklearn/linear_model/_logistic.py:940: ConvergenceWarning: lbfgs failed to converge (status=1):\n",
            "STOP: TOTAL NO. of ITERATIONS REACHED LIMIT.\n",
            "\n",
            "Increase the number of iterations (max_iter) or scale the data as shown in:\n",
            "    https://scikit-learn.org/stable/modules/preprocessing.html\n",
            "Please also refer to the documentation for alternative solver options:\n",
            "    https://scikit-learn.org/stable/modules/linear_model.html#logistic-regression\n",
            "  extra_warning_msg=_LOGISTIC_SOLVER_CONVERGENCE_MSG)\n",
            "/usr/local/lib/python3.6/dist-packages/sklearn/linear_model/_logistic.py:940: ConvergenceWarning: lbfgs failed to converge (status=1):\n",
            "STOP: TOTAL NO. of ITERATIONS REACHED LIMIT.\n",
            "\n",
            "Increase the number of iterations (max_iter) or scale the data as shown in:\n",
            "    https://scikit-learn.org/stable/modules/preprocessing.html\n",
            "Please also refer to the documentation for alternative solver options:\n",
            "    https://scikit-learn.org/stable/modules/linear_model.html#logistic-regression\n",
            "  extra_warning_msg=_LOGISTIC_SOLVER_CONVERGENCE_MSG)\n",
            "/usr/local/lib/python3.6/dist-packages/sklearn/linear_model/_logistic.py:940: ConvergenceWarning: lbfgs failed to converge (status=1):\n",
            "STOP: TOTAL NO. of ITERATIONS REACHED LIMIT.\n",
            "\n",
            "Increase the number of iterations (max_iter) or scale the data as shown in:\n",
            "    https://scikit-learn.org/stable/modules/preprocessing.html\n",
            "Please also refer to the documentation for alternative solver options:\n",
            "    https://scikit-learn.org/stable/modules/linear_model.html#logistic-regression\n",
            "  extra_warning_msg=_LOGISTIC_SOLVER_CONVERGENCE_MSG)\n",
            "/usr/local/lib/python3.6/dist-packages/sklearn/linear_model/_logistic.py:940: ConvergenceWarning: lbfgs failed to converge (status=1):\n",
            "STOP: TOTAL NO. of ITERATIONS REACHED LIMIT.\n",
            "\n",
            "Increase the number of iterations (max_iter) or scale the data as shown in:\n",
            "    https://scikit-learn.org/stable/modules/preprocessing.html\n",
            "Please also refer to the documentation for alternative solver options:\n",
            "    https://scikit-learn.org/stable/modules/linear_model.html#logistic-regression\n",
            "  extra_warning_msg=_LOGISTIC_SOLVER_CONVERGENCE_MSG)\n",
            "/usr/local/lib/python3.6/dist-packages/sklearn/linear_model/_logistic.py:940: ConvergenceWarning: lbfgs failed to converge (status=1):\n",
            "STOP: TOTAL NO. of ITERATIONS REACHED LIMIT.\n",
            "\n",
            "Increase the number of iterations (max_iter) or scale the data as shown in:\n",
            "    https://scikit-learn.org/stable/modules/preprocessing.html\n",
            "Please also refer to the documentation for alternative solver options:\n",
            "    https://scikit-learn.org/stable/modules/linear_model.html#logistic-regression\n",
            "  extra_warning_msg=_LOGISTIC_SOLVER_CONVERGENCE_MSG)\n",
            "/usr/local/lib/python3.6/dist-packages/sklearn/linear_model/_logistic.py:940: ConvergenceWarning: lbfgs failed to converge (status=1):\n",
            "STOP: TOTAL NO. of ITERATIONS REACHED LIMIT.\n",
            "\n",
            "Increase the number of iterations (max_iter) or scale the data as shown in:\n",
            "    https://scikit-learn.org/stable/modules/preprocessing.html\n",
            "Please also refer to the documentation for alternative solver options:\n",
            "    https://scikit-learn.org/stable/modules/linear_model.html#logistic-regression\n",
            "  extra_warning_msg=_LOGISTIC_SOLVER_CONVERGENCE_MSG)\n",
            "/usr/local/lib/python3.6/dist-packages/sklearn/linear_model/_logistic.py:940: ConvergenceWarning: lbfgs failed to converge (status=1):\n",
            "STOP: TOTAL NO. of ITERATIONS REACHED LIMIT.\n",
            "\n",
            "Increase the number of iterations (max_iter) or scale the data as shown in:\n",
            "    https://scikit-learn.org/stable/modules/preprocessing.html\n",
            "Please also refer to the documentation for alternative solver options:\n",
            "    https://scikit-learn.org/stable/modules/linear_model.html#logistic-regression\n",
            "  extra_warning_msg=_LOGISTIC_SOLVER_CONVERGENCE_MSG)\n",
            "/usr/local/lib/python3.6/dist-packages/sklearn/linear_model/_logistic.py:940: ConvergenceWarning: lbfgs failed to converge (status=1):\n",
            "STOP: TOTAL NO. of ITERATIONS REACHED LIMIT.\n",
            "\n",
            "Increase the number of iterations (max_iter) or scale the data as shown in:\n",
            "    https://scikit-learn.org/stable/modules/preprocessing.html\n",
            "Please also refer to the documentation for alternative solver options:\n",
            "    https://scikit-learn.org/stable/modules/linear_model.html#logistic-regression\n",
            "  extra_warning_msg=_LOGISTIC_SOLVER_CONVERGENCE_MSG)\n",
            "/usr/local/lib/python3.6/dist-packages/sklearn/linear_model/_logistic.py:940: ConvergenceWarning: lbfgs failed to converge (status=1):\n",
            "STOP: TOTAL NO. of ITERATIONS REACHED LIMIT.\n",
            "\n",
            "Increase the number of iterations (max_iter) or scale the data as shown in:\n",
            "    https://scikit-learn.org/stable/modules/preprocessing.html\n",
            "Please also refer to the documentation for alternative solver options:\n",
            "    https://scikit-learn.org/stable/modules/linear_model.html#logistic-regression\n",
            "  extra_warning_msg=_LOGISTIC_SOLVER_CONVERGENCE_MSG)\n",
            "/usr/local/lib/python3.6/dist-packages/sklearn/linear_model/_logistic.py:940: ConvergenceWarning: lbfgs failed to converge (status=1):\n",
            "STOP: TOTAL NO. of ITERATIONS REACHED LIMIT.\n",
            "\n",
            "Increase the number of iterations (max_iter) or scale the data as shown in:\n",
            "    https://scikit-learn.org/stable/modules/preprocessing.html\n",
            "Please also refer to the documentation for alternative solver options:\n",
            "    https://scikit-learn.org/stable/modules/linear_model.html#logistic-regression\n",
            "  extra_warning_msg=_LOGISTIC_SOLVER_CONVERGENCE_MSG)\n",
            "/usr/local/lib/python3.6/dist-packages/sklearn/linear_model/_logistic.py:940: ConvergenceWarning: lbfgs failed to converge (status=1):\n",
            "STOP: TOTAL NO. of ITERATIONS REACHED LIMIT.\n",
            "\n",
            "Increase the number of iterations (max_iter) or scale the data as shown in:\n",
            "    https://scikit-learn.org/stable/modules/preprocessing.html\n",
            "Please also refer to the documentation for alternative solver options:\n",
            "    https://scikit-learn.org/stable/modules/linear_model.html#logistic-regression\n",
            "  extra_warning_msg=_LOGISTIC_SOLVER_CONVERGENCE_MSG)\n",
            "/usr/local/lib/python3.6/dist-packages/sklearn/linear_model/_logistic.py:940: ConvergenceWarning: lbfgs failed to converge (status=1):\n",
            "STOP: TOTAL NO. of ITERATIONS REACHED LIMIT.\n",
            "\n",
            "Increase the number of iterations (max_iter) or scale the data as shown in:\n",
            "    https://scikit-learn.org/stable/modules/preprocessing.html\n",
            "Please also refer to the documentation for alternative solver options:\n",
            "    https://scikit-learn.org/stable/modules/linear_model.html#logistic-regression\n",
            "  extra_warning_msg=_LOGISTIC_SOLVER_CONVERGENCE_MSG)\n",
            "/usr/local/lib/python3.6/dist-packages/sklearn/linear_model/_logistic.py:940: ConvergenceWarning: lbfgs failed to converge (status=1):\n",
            "STOP: TOTAL NO. of ITERATIONS REACHED LIMIT.\n",
            "\n",
            "Increase the number of iterations (max_iter) or scale the data as shown in:\n",
            "    https://scikit-learn.org/stable/modules/preprocessing.html\n",
            "Please also refer to the documentation for alternative solver options:\n",
            "    https://scikit-learn.org/stable/modules/linear_model.html#logistic-regression\n",
            "  extra_warning_msg=_LOGISTIC_SOLVER_CONVERGENCE_MSG)\n",
            "/usr/local/lib/python3.6/dist-packages/sklearn/linear_model/_logistic.py:940: ConvergenceWarning: lbfgs failed to converge (status=1):\n",
            "STOP: TOTAL NO. of ITERATIONS REACHED LIMIT.\n",
            "\n",
            "Increase the number of iterations (max_iter) or scale the data as shown in:\n",
            "    https://scikit-learn.org/stable/modules/preprocessing.html\n",
            "Please also refer to the documentation for alternative solver options:\n",
            "    https://scikit-learn.org/stable/modules/linear_model.html#logistic-regression\n",
            "  extra_warning_msg=_LOGISTIC_SOLVER_CONVERGENCE_MSG)\n",
            "/usr/local/lib/python3.6/dist-packages/sklearn/linear_model/_logistic.py:940: ConvergenceWarning: lbfgs failed to converge (status=1):\n",
            "STOP: TOTAL NO. of ITERATIONS REACHED LIMIT.\n",
            "\n",
            "Increase the number of iterations (max_iter) or scale the data as shown in:\n",
            "    https://scikit-learn.org/stable/modules/preprocessing.html\n",
            "Please also refer to the documentation for alternative solver options:\n",
            "    https://scikit-learn.org/stable/modules/linear_model.html#logistic-regression\n",
            "  extra_warning_msg=_LOGISTIC_SOLVER_CONVERGENCE_MSG)\n",
            "/usr/local/lib/python3.6/dist-packages/sklearn/linear_model/_logistic.py:940: ConvergenceWarning: lbfgs failed to converge (status=1):\n",
            "STOP: TOTAL NO. of ITERATIONS REACHED LIMIT.\n",
            "\n",
            "Increase the number of iterations (max_iter) or scale the data as shown in:\n",
            "    https://scikit-learn.org/stable/modules/preprocessing.html\n",
            "Please also refer to the documentation for alternative solver options:\n",
            "    https://scikit-learn.org/stable/modules/linear_model.html#logistic-regression\n",
            "  extra_warning_msg=_LOGISTIC_SOLVER_CONVERGENCE_MSG)\n",
            "/usr/local/lib/python3.6/dist-packages/sklearn/linear_model/_logistic.py:940: ConvergenceWarning: lbfgs failed to converge (status=1):\n",
            "STOP: TOTAL NO. of ITERATIONS REACHED LIMIT.\n",
            "\n",
            "Increase the number of iterations (max_iter) or scale the data as shown in:\n",
            "    https://scikit-learn.org/stable/modules/preprocessing.html\n",
            "Please also refer to the documentation for alternative solver options:\n",
            "    https://scikit-learn.org/stable/modules/linear_model.html#logistic-regression\n",
            "  extra_warning_msg=_LOGISTIC_SOLVER_CONVERGENCE_MSG)\n",
            "/usr/local/lib/python3.6/dist-packages/sklearn/linear_model/_logistic.py:940: ConvergenceWarning: lbfgs failed to converge (status=1):\n",
            "STOP: TOTAL NO. of ITERATIONS REACHED LIMIT.\n",
            "\n",
            "Increase the number of iterations (max_iter) or scale the data as shown in:\n",
            "    https://scikit-learn.org/stable/modules/preprocessing.html\n",
            "Please also refer to the documentation for alternative solver options:\n",
            "    https://scikit-learn.org/stable/modules/linear_model.html#logistic-regression\n",
            "  extra_warning_msg=_LOGISTIC_SOLVER_CONVERGENCE_MSG)\n",
            "/usr/local/lib/python3.6/dist-packages/sklearn/linear_model/_logistic.py:940: ConvergenceWarning: lbfgs failed to converge (status=1):\n",
            "STOP: TOTAL NO. of ITERATIONS REACHED LIMIT.\n",
            "\n",
            "Increase the number of iterations (max_iter) or scale the data as shown in:\n",
            "    https://scikit-learn.org/stable/modules/preprocessing.html\n",
            "Please also refer to the documentation for alternative solver options:\n",
            "    https://scikit-learn.org/stable/modules/linear_model.html#logistic-regression\n",
            "  extra_warning_msg=_LOGISTIC_SOLVER_CONVERGENCE_MSG)\n",
            "/usr/local/lib/python3.6/dist-packages/sklearn/linear_model/_logistic.py:940: ConvergenceWarning: lbfgs failed to converge (status=1):\n",
            "STOP: TOTAL NO. of ITERATIONS REACHED LIMIT.\n",
            "\n",
            "Increase the number of iterations (max_iter) or scale the data as shown in:\n",
            "    https://scikit-learn.org/stable/modules/preprocessing.html\n",
            "Please also refer to the documentation for alternative solver options:\n",
            "    https://scikit-learn.org/stable/modules/linear_model.html#logistic-regression\n",
            "  extra_warning_msg=_LOGISTIC_SOLVER_CONVERGENCE_MSG)\n",
            "/usr/local/lib/python3.6/dist-packages/sklearn/linear_model/_logistic.py:940: ConvergenceWarning: lbfgs failed to converge (status=1):\n",
            "STOP: TOTAL NO. of ITERATIONS REACHED LIMIT.\n",
            "\n",
            "Increase the number of iterations (max_iter) or scale the data as shown in:\n",
            "    https://scikit-learn.org/stable/modules/preprocessing.html\n",
            "Please also refer to the documentation for alternative solver options:\n",
            "    https://scikit-learn.org/stable/modules/linear_model.html#logistic-regression\n",
            "  extra_warning_msg=_LOGISTIC_SOLVER_CONVERGENCE_MSG)\n",
            "/usr/local/lib/python3.6/dist-packages/sklearn/linear_model/_logistic.py:940: ConvergenceWarning: lbfgs failed to converge (status=1):\n",
            "STOP: TOTAL NO. of ITERATIONS REACHED LIMIT.\n",
            "\n",
            "Increase the number of iterations (max_iter) or scale the data as shown in:\n",
            "    https://scikit-learn.org/stable/modules/preprocessing.html\n",
            "Please also refer to the documentation for alternative solver options:\n",
            "    https://scikit-learn.org/stable/modules/linear_model.html#logistic-regression\n",
            "  extra_warning_msg=_LOGISTIC_SOLVER_CONVERGENCE_MSG)\n",
            "/usr/local/lib/python3.6/dist-packages/sklearn/linear_model/_logistic.py:940: ConvergenceWarning: lbfgs failed to converge (status=1):\n",
            "STOP: TOTAL NO. of ITERATIONS REACHED LIMIT.\n",
            "\n",
            "Increase the number of iterations (max_iter) or scale the data as shown in:\n",
            "    https://scikit-learn.org/stable/modules/preprocessing.html\n",
            "Please also refer to the documentation for alternative solver options:\n",
            "    https://scikit-learn.org/stable/modules/linear_model.html#logistic-regression\n",
            "  extra_warning_msg=_LOGISTIC_SOLVER_CONVERGENCE_MSG)\n",
            "/usr/local/lib/python3.6/dist-packages/sklearn/linear_model/_logistic.py:940: ConvergenceWarning: lbfgs failed to converge (status=1):\n",
            "STOP: TOTAL NO. of ITERATIONS REACHED LIMIT.\n",
            "\n",
            "Increase the number of iterations (max_iter) or scale the data as shown in:\n",
            "    https://scikit-learn.org/stable/modules/preprocessing.html\n",
            "Please also refer to the documentation for alternative solver options:\n",
            "    https://scikit-learn.org/stable/modules/linear_model.html#logistic-regression\n",
            "  extra_warning_msg=_LOGISTIC_SOLVER_CONVERGENCE_MSG)\n",
            "/usr/local/lib/python3.6/dist-packages/sklearn/linear_model/_logistic.py:940: ConvergenceWarning: lbfgs failed to converge (status=1):\n",
            "STOP: TOTAL NO. of ITERATIONS REACHED LIMIT.\n",
            "\n",
            "Increase the number of iterations (max_iter) or scale the data as shown in:\n",
            "    https://scikit-learn.org/stable/modules/preprocessing.html\n",
            "Please also refer to the documentation for alternative solver options:\n",
            "    https://scikit-learn.org/stable/modules/linear_model.html#logistic-regression\n",
            "  extra_warning_msg=_LOGISTIC_SOLVER_CONVERGENCE_MSG)\n",
            "/usr/local/lib/python3.6/dist-packages/sklearn/linear_model/_logistic.py:940: ConvergenceWarning: lbfgs failed to converge (status=1):\n",
            "STOP: TOTAL NO. of ITERATIONS REACHED LIMIT.\n",
            "\n",
            "Increase the number of iterations (max_iter) or scale the data as shown in:\n",
            "    https://scikit-learn.org/stable/modules/preprocessing.html\n",
            "Please also refer to the documentation for alternative solver options:\n",
            "    https://scikit-learn.org/stable/modules/linear_model.html#logistic-regression\n",
            "  extra_warning_msg=_LOGISTIC_SOLVER_CONVERGENCE_MSG)\n",
            "/usr/local/lib/python3.6/dist-packages/sklearn/linear_model/_logistic.py:940: ConvergenceWarning: lbfgs failed to converge (status=1):\n",
            "STOP: TOTAL NO. of ITERATIONS REACHED LIMIT.\n",
            "\n",
            "Increase the number of iterations (max_iter) or scale the data as shown in:\n",
            "    https://scikit-learn.org/stable/modules/preprocessing.html\n",
            "Please also refer to the documentation for alternative solver options:\n",
            "    https://scikit-learn.org/stable/modules/linear_model.html#logistic-regression\n",
            "  extra_warning_msg=_LOGISTIC_SOLVER_CONVERGENCE_MSG)\n",
            "/usr/local/lib/python3.6/dist-packages/sklearn/linear_model/_logistic.py:940: ConvergenceWarning: lbfgs failed to converge (status=1):\n",
            "STOP: TOTAL NO. of ITERATIONS REACHED LIMIT.\n",
            "\n",
            "Increase the number of iterations (max_iter) or scale the data as shown in:\n",
            "    https://scikit-learn.org/stable/modules/preprocessing.html\n",
            "Please also refer to the documentation for alternative solver options:\n",
            "    https://scikit-learn.org/stable/modules/linear_model.html#logistic-regression\n",
            "  extra_warning_msg=_LOGISTIC_SOLVER_CONVERGENCE_MSG)\n",
            "/usr/local/lib/python3.6/dist-packages/sklearn/linear_model/_logistic.py:940: ConvergenceWarning: lbfgs failed to converge (status=1):\n",
            "STOP: TOTAL NO. of ITERATIONS REACHED LIMIT.\n",
            "\n",
            "Increase the number of iterations (max_iter) or scale the data as shown in:\n",
            "    https://scikit-learn.org/stable/modules/preprocessing.html\n",
            "Please also refer to the documentation for alternative solver options:\n",
            "    https://scikit-learn.org/stable/modules/linear_model.html#logistic-regression\n",
            "  extra_warning_msg=_LOGISTIC_SOLVER_CONVERGENCE_MSG)\n",
            "/usr/local/lib/python3.6/dist-packages/sklearn/linear_model/_logistic.py:940: ConvergenceWarning: lbfgs failed to converge (status=1):\n",
            "STOP: TOTAL NO. of ITERATIONS REACHED LIMIT.\n",
            "\n",
            "Increase the number of iterations (max_iter) or scale the data as shown in:\n",
            "    https://scikit-learn.org/stable/modules/preprocessing.html\n",
            "Please also refer to the documentation for alternative solver options:\n",
            "    https://scikit-learn.org/stable/modules/linear_model.html#logistic-regression\n",
            "  extra_warning_msg=_LOGISTIC_SOLVER_CONVERGENCE_MSG)\n",
            "/usr/local/lib/python3.6/dist-packages/sklearn/linear_model/_logistic.py:940: ConvergenceWarning: lbfgs failed to converge (status=1):\n",
            "STOP: TOTAL NO. of ITERATIONS REACHED LIMIT.\n",
            "\n",
            "Increase the number of iterations (max_iter) or scale the data as shown in:\n",
            "    https://scikit-learn.org/stable/modules/preprocessing.html\n",
            "Please also refer to the documentation for alternative solver options:\n",
            "    https://scikit-learn.org/stable/modules/linear_model.html#logistic-regression\n",
            "  extra_warning_msg=_LOGISTIC_SOLVER_CONVERGENCE_MSG)\n",
            "/usr/local/lib/python3.6/dist-packages/sklearn/linear_model/_logistic.py:940: ConvergenceWarning: lbfgs failed to converge (status=1):\n",
            "STOP: TOTAL NO. of ITERATIONS REACHED LIMIT.\n",
            "\n",
            "Increase the number of iterations (max_iter) or scale the data as shown in:\n",
            "    https://scikit-learn.org/stable/modules/preprocessing.html\n",
            "Please also refer to the documentation for alternative solver options:\n",
            "    https://scikit-learn.org/stable/modules/linear_model.html#logistic-regression\n",
            "  extra_warning_msg=_LOGISTIC_SOLVER_CONVERGENCE_MSG)\n",
            "/usr/local/lib/python3.6/dist-packages/sklearn/linear_model/_logistic.py:940: ConvergenceWarning: lbfgs failed to converge (status=1):\n",
            "STOP: TOTAL NO. of ITERATIONS REACHED LIMIT.\n",
            "\n",
            "Increase the number of iterations (max_iter) or scale the data as shown in:\n",
            "    https://scikit-learn.org/stable/modules/preprocessing.html\n",
            "Please also refer to the documentation for alternative solver options:\n",
            "    https://scikit-learn.org/stable/modules/linear_model.html#logistic-regression\n",
            "  extra_warning_msg=_LOGISTIC_SOLVER_CONVERGENCE_MSG)\n",
            "/usr/local/lib/python3.6/dist-packages/sklearn/linear_model/_logistic.py:940: ConvergenceWarning: lbfgs failed to converge (status=1):\n",
            "STOP: TOTAL NO. of ITERATIONS REACHED LIMIT.\n",
            "\n",
            "Increase the number of iterations (max_iter) or scale the data as shown in:\n",
            "    https://scikit-learn.org/stable/modules/preprocessing.html\n",
            "Please also refer to the documentation for alternative solver options:\n",
            "    https://scikit-learn.org/stable/modules/linear_model.html#logistic-regression\n",
            "  extra_warning_msg=_LOGISTIC_SOLVER_CONVERGENCE_MSG)\n",
            "/usr/local/lib/python3.6/dist-packages/sklearn/linear_model/_logistic.py:940: ConvergenceWarning: lbfgs failed to converge (status=1):\n",
            "STOP: TOTAL NO. of ITERATIONS REACHED LIMIT.\n",
            "\n",
            "Increase the number of iterations (max_iter) or scale the data as shown in:\n",
            "    https://scikit-learn.org/stable/modules/preprocessing.html\n",
            "Please also refer to the documentation for alternative solver options:\n",
            "    https://scikit-learn.org/stable/modules/linear_model.html#logistic-regression\n",
            "  extra_warning_msg=_LOGISTIC_SOLVER_CONVERGENCE_MSG)\n",
            "/usr/local/lib/python3.6/dist-packages/sklearn/linear_model/_logistic.py:940: ConvergenceWarning: lbfgs failed to converge (status=1):\n",
            "STOP: TOTAL NO. of ITERATIONS REACHED LIMIT.\n",
            "\n",
            "Increase the number of iterations (max_iter) or scale the data as shown in:\n",
            "    https://scikit-learn.org/stable/modules/preprocessing.html\n",
            "Please also refer to the documentation for alternative solver options:\n",
            "    https://scikit-learn.org/stable/modules/linear_model.html#logistic-regression\n",
            "  extra_warning_msg=_LOGISTIC_SOLVER_CONVERGENCE_MSG)\n",
            "/usr/local/lib/python3.6/dist-packages/sklearn/linear_model/_logistic.py:940: ConvergenceWarning: lbfgs failed to converge (status=1):\n",
            "STOP: TOTAL NO. of ITERATIONS REACHED LIMIT.\n",
            "\n",
            "Increase the number of iterations (max_iter) or scale the data as shown in:\n",
            "    https://scikit-learn.org/stable/modules/preprocessing.html\n",
            "Please also refer to the documentation for alternative solver options:\n",
            "    https://scikit-learn.org/stable/modules/linear_model.html#logistic-regression\n",
            "  extra_warning_msg=_LOGISTIC_SOLVER_CONVERGENCE_MSG)\n",
            "/usr/local/lib/python3.6/dist-packages/sklearn/linear_model/_logistic.py:940: ConvergenceWarning: lbfgs failed to converge (status=1):\n",
            "STOP: TOTAL NO. of ITERATIONS REACHED LIMIT.\n",
            "\n",
            "Increase the number of iterations (max_iter) or scale the data as shown in:\n",
            "    https://scikit-learn.org/stable/modules/preprocessing.html\n",
            "Please also refer to the documentation for alternative solver options:\n",
            "    https://scikit-learn.org/stable/modules/linear_model.html#logistic-regression\n",
            "  extra_warning_msg=_LOGISTIC_SOLVER_CONVERGENCE_MSG)\n",
            "/usr/local/lib/python3.6/dist-packages/sklearn/linear_model/_logistic.py:940: ConvergenceWarning: lbfgs failed to converge (status=1):\n",
            "STOP: TOTAL NO. of ITERATIONS REACHED LIMIT.\n",
            "\n",
            "Increase the number of iterations (max_iter) or scale the data as shown in:\n",
            "    https://scikit-learn.org/stable/modules/preprocessing.html\n",
            "Please also refer to the documentation for alternative solver options:\n",
            "    https://scikit-learn.org/stable/modules/linear_model.html#logistic-regression\n",
            "  extra_warning_msg=_LOGISTIC_SOLVER_CONVERGENCE_MSG)\n",
            "/usr/local/lib/python3.6/dist-packages/sklearn/linear_model/_logistic.py:940: ConvergenceWarning: lbfgs failed to converge (status=1):\n",
            "STOP: TOTAL NO. of ITERATIONS REACHED LIMIT.\n",
            "\n",
            "Increase the number of iterations (max_iter) or scale the data as shown in:\n",
            "    https://scikit-learn.org/stable/modules/preprocessing.html\n",
            "Please also refer to the documentation for alternative solver options:\n",
            "    https://scikit-learn.org/stable/modules/linear_model.html#logistic-regression\n",
            "  extra_warning_msg=_LOGISTIC_SOLVER_CONVERGENCE_MSG)\n",
            "/usr/local/lib/python3.6/dist-packages/sklearn/linear_model/_logistic.py:940: ConvergenceWarning: lbfgs failed to converge (status=1):\n",
            "STOP: TOTAL NO. of ITERATIONS REACHED LIMIT.\n",
            "\n",
            "Increase the number of iterations (max_iter) or scale the data as shown in:\n",
            "    https://scikit-learn.org/stable/modules/preprocessing.html\n",
            "Please also refer to the documentation for alternative solver options:\n",
            "    https://scikit-learn.org/stable/modules/linear_model.html#logistic-regression\n",
            "  extra_warning_msg=_LOGISTIC_SOLVER_CONVERGENCE_MSG)\n",
            "/usr/local/lib/python3.6/dist-packages/sklearn/linear_model/_logistic.py:940: ConvergenceWarning: lbfgs failed to converge (status=1):\n",
            "STOP: TOTAL NO. of ITERATIONS REACHED LIMIT.\n",
            "\n",
            "Increase the number of iterations (max_iter) or scale the data as shown in:\n",
            "    https://scikit-learn.org/stable/modules/preprocessing.html\n",
            "Please also refer to the documentation for alternative solver options:\n",
            "    https://scikit-learn.org/stable/modules/linear_model.html#logistic-regression\n",
            "  extra_warning_msg=_LOGISTIC_SOLVER_CONVERGENCE_MSG)\n",
            "/usr/local/lib/python3.6/dist-packages/sklearn/linear_model/_logistic.py:940: ConvergenceWarning: lbfgs failed to converge (status=1):\n",
            "STOP: TOTAL NO. of ITERATIONS REACHED LIMIT.\n",
            "\n",
            "Increase the number of iterations (max_iter) or scale the data as shown in:\n",
            "    https://scikit-learn.org/stable/modules/preprocessing.html\n",
            "Please also refer to the documentation for alternative solver options:\n",
            "    https://scikit-learn.org/stable/modules/linear_model.html#logistic-regression\n",
            "  extra_warning_msg=_LOGISTIC_SOLVER_CONVERGENCE_MSG)\n",
            "/usr/local/lib/python3.6/dist-packages/sklearn/linear_model/_logistic.py:940: ConvergenceWarning: lbfgs failed to converge (status=1):\n",
            "STOP: TOTAL NO. of ITERATIONS REACHED LIMIT.\n",
            "\n",
            "Increase the number of iterations (max_iter) or scale the data as shown in:\n",
            "    https://scikit-learn.org/stable/modules/preprocessing.html\n",
            "Please also refer to the documentation for alternative solver options:\n",
            "    https://scikit-learn.org/stable/modules/linear_model.html#logistic-regression\n",
            "  extra_warning_msg=_LOGISTIC_SOLVER_CONVERGENCE_MSG)\n",
            "/usr/local/lib/python3.6/dist-packages/sklearn/linear_model/_logistic.py:940: ConvergenceWarning: lbfgs failed to converge (status=1):\n",
            "STOP: TOTAL NO. of ITERATIONS REACHED LIMIT.\n",
            "\n",
            "Increase the number of iterations (max_iter) or scale the data as shown in:\n",
            "    https://scikit-learn.org/stable/modules/preprocessing.html\n",
            "Please also refer to the documentation for alternative solver options:\n",
            "    https://scikit-learn.org/stable/modules/linear_model.html#logistic-regression\n",
            "  extra_warning_msg=_LOGISTIC_SOLVER_CONVERGENCE_MSG)\n",
            "/usr/local/lib/python3.6/dist-packages/sklearn/linear_model/_logistic.py:940: ConvergenceWarning: lbfgs failed to converge (status=1):\n",
            "STOP: TOTAL NO. of ITERATIONS REACHED LIMIT.\n",
            "\n",
            "Increase the number of iterations (max_iter) or scale the data as shown in:\n",
            "    https://scikit-learn.org/stable/modules/preprocessing.html\n",
            "Please also refer to the documentation for alternative solver options:\n",
            "    https://scikit-learn.org/stable/modules/linear_model.html#logistic-regression\n",
            "  extra_warning_msg=_LOGISTIC_SOLVER_CONVERGENCE_MSG)\n",
            "/usr/local/lib/python3.6/dist-packages/sklearn/linear_model/_logistic.py:940: ConvergenceWarning: lbfgs failed to converge (status=1):\n",
            "STOP: TOTAL NO. of ITERATIONS REACHED LIMIT.\n",
            "\n",
            "Increase the number of iterations (max_iter) or scale the data as shown in:\n",
            "    https://scikit-learn.org/stable/modules/preprocessing.html\n",
            "Please also refer to the documentation for alternative solver options:\n",
            "    https://scikit-learn.org/stable/modules/linear_model.html#logistic-regression\n",
            "  extra_warning_msg=_LOGISTIC_SOLVER_CONVERGENCE_MSG)\n",
            "/usr/local/lib/python3.6/dist-packages/sklearn/linear_model/_logistic.py:940: ConvergenceWarning: lbfgs failed to converge (status=1):\n",
            "STOP: TOTAL NO. of ITERATIONS REACHED LIMIT.\n",
            "\n",
            "Increase the number of iterations (max_iter) or scale the data as shown in:\n",
            "    https://scikit-learn.org/stable/modules/preprocessing.html\n",
            "Please also refer to the documentation for alternative solver options:\n",
            "    https://scikit-learn.org/stable/modules/linear_model.html#logistic-regression\n",
            "  extra_warning_msg=_LOGISTIC_SOLVER_CONVERGENCE_MSG)\n",
            "/usr/local/lib/python3.6/dist-packages/sklearn/linear_model/_logistic.py:940: ConvergenceWarning: lbfgs failed to converge (status=1):\n",
            "STOP: TOTAL NO. of ITERATIONS REACHED LIMIT.\n",
            "\n",
            "Increase the number of iterations (max_iter) or scale the data as shown in:\n",
            "    https://scikit-learn.org/stable/modules/preprocessing.html\n",
            "Please also refer to the documentation for alternative solver options:\n",
            "    https://scikit-learn.org/stable/modules/linear_model.html#logistic-regression\n",
            "  extra_warning_msg=_LOGISTIC_SOLVER_CONVERGENCE_MSG)\n",
            "/usr/local/lib/python3.6/dist-packages/sklearn/linear_model/_logistic.py:940: ConvergenceWarning: lbfgs failed to converge (status=1):\n",
            "STOP: TOTAL NO. of ITERATIONS REACHED LIMIT.\n",
            "\n",
            "Increase the number of iterations (max_iter) or scale the data as shown in:\n",
            "    https://scikit-learn.org/stable/modules/preprocessing.html\n",
            "Please also refer to the documentation for alternative solver options:\n",
            "    https://scikit-learn.org/stable/modules/linear_model.html#logistic-regression\n",
            "  extra_warning_msg=_LOGISTIC_SOLVER_CONVERGENCE_MSG)\n",
            "/usr/local/lib/python3.6/dist-packages/sklearn/linear_model/_logistic.py:940: ConvergenceWarning: lbfgs failed to converge (status=1):\n",
            "STOP: TOTAL NO. of ITERATIONS REACHED LIMIT.\n",
            "\n",
            "Increase the number of iterations (max_iter) or scale the data as shown in:\n",
            "    https://scikit-learn.org/stable/modules/preprocessing.html\n",
            "Please also refer to the documentation for alternative solver options:\n",
            "    https://scikit-learn.org/stable/modules/linear_model.html#logistic-regression\n",
            "  extra_warning_msg=_LOGISTIC_SOLVER_CONVERGENCE_MSG)\n",
            "/usr/local/lib/python3.6/dist-packages/sklearn/linear_model/_logistic.py:940: ConvergenceWarning: lbfgs failed to converge (status=1):\n",
            "STOP: TOTAL NO. of ITERATIONS REACHED LIMIT.\n",
            "\n",
            "Increase the number of iterations (max_iter) or scale the data as shown in:\n",
            "    https://scikit-learn.org/stable/modules/preprocessing.html\n",
            "Please also refer to the documentation for alternative solver options:\n",
            "    https://scikit-learn.org/stable/modules/linear_model.html#logistic-regression\n",
            "  extra_warning_msg=_LOGISTIC_SOLVER_CONVERGENCE_MSG)\n",
            "/usr/local/lib/python3.6/dist-packages/sklearn/linear_model/_logistic.py:940: ConvergenceWarning: lbfgs failed to converge (status=1):\n",
            "STOP: TOTAL NO. of ITERATIONS REACHED LIMIT.\n",
            "\n",
            "Increase the number of iterations (max_iter) or scale the data as shown in:\n",
            "    https://scikit-learn.org/stable/modules/preprocessing.html\n",
            "Please also refer to the documentation for alternative solver options:\n",
            "    https://scikit-learn.org/stable/modules/linear_model.html#logistic-regression\n",
            "  extra_warning_msg=_LOGISTIC_SOLVER_CONVERGENCE_MSG)\n",
            "/usr/local/lib/python3.6/dist-packages/sklearn/linear_model/_logistic.py:940: ConvergenceWarning: lbfgs failed to converge (status=1):\n",
            "STOP: TOTAL NO. of ITERATIONS REACHED LIMIT.\n",
            "\n",
            "Increase the number of iterations (max_iter) or scale the data as shown in:\n",
            "    https://scikit-learn.org/stable/modules/preprocessing.html\n",
            "Please also refer to the documentation for alternative solver options:\n",
            "    https://scikit-learn.org/stable/modules/linear_model.html#logistic-regression\n",
            "  extra_warning_msg=_LOGISTIC_SOLVER_CONVERGENCE_MSG)\n",
            "/usr/local/lib/python3.6/dist-packages/sklearn/linear_model/_logistic.py:940: ConvergenceWarning: lbfgs failed to converge (status=1):\n",
            "STOP: TOTAL NO. of ITERATIONS REACHED LIMIT.\n",
            "\n",
            "Increase the number of iterations (max_iter) or scale the data as shown in:\n",
            "    https://scikit-learn.org/stable/modules/preprocessing.html\n",
            "Please also refer to the documentation for alternative solver options:\n",
            "    https://scikit-learn.org/stable/modules/linear_model.html#logistic-regression\n",
            "  extra_warning_msg=_LOGISTIC_SOLVER_CONVERGENCE_MSG)\n",
            "/usr/local/lib/python3.6/dist-packages/sklearn/linear_model/_logistic.py:940: ConvergenceWarning: lbfgs failed to converge (status=1):\n",
            "STOP: TOTAL NO. of ITERATIONS REACHED LIMIT.\n",
            "\n",
            "Increase the number of iterations (max_iter) or scale the data as shown in:\n",
            "    https://scikit-learn.org/stable/modules/preprocessing.html\n",
            "Please also refer to the documentation for alternative solver options:\n",
            "    https://scikit-learn.org/stable/modules/linear_model.html#logistic-regression\n",
            "  extra_warning_msg=_LOGISTIC_SOLVER_CONVERGENCE_MSG)\n",
            "/usr/local/lib/python3.6/dist-packages/sklearn/linear_model/_logistic.py:940: ConvergenceWarning: lbfgs failed to converge (status=1):\n",
            "STOP: TOTAL NO. of ITERATIONS REACHED LIMIT.\n",
            "\n",
            "Increase the number of iterations (max_iter) or scale the data as shown in:\n",
            "    https://scikit-learn.org/stable/modules/preprocessing.html\n",
            "Please also refer to the documentation for alternative solver options:\n",
            "    https://scikit-learn.org/stable/modules/linear_model.html#logistic-regression\n",
            "  extra_warning_msg=_LOGISTIC_SOLVER_CONVERGENCE_MSG)\n",
            "/usr/local/lib/python3.6/dist-packages/sklearn/linear_model/_logistic.py:940: ConvergenceWarning: lbfgs failed to converge (status=1):\n",
            "STOP: TOTAL NO. of ITERATIONS REACHED LIMIT.\n",
            "\n",
            "Increase the number of iterations (max_iter) or scale the data as shown in:\n",
            "    https://scikit-learn.org/stable/modules/preprocessing.html\n",
            "Please also refer to the documentation for alternative solver options:\n",
            "    https://scikit-learn.org/stable/modules/linear_model.html#logistic-regression\n",
            "  extra_warning_msg=_LOGISTIC_SOLVER_CONVERGENCE_MSG)\n",
            "/usr/local/lib/python3.6/dist-packages/sklearn/linear_model/_logistic.py:940: ConvergenceWarning: lbfgs failed to converge (status=1):\n",
            "STOP: TOTAL NO. of ITERATIONS REACHED LIMIT.\n",
            "\n",
            "Increase the number of iterations (max_iter) or scale the data as shown in:\n",
            "    https://scikit-learn.org/stable/modules/preprocessing.html\n",
            "Please also refer to the documentation for alternative solver options:\n",
            "    https://scikit-learn.org/stable/modules/linear_model.html#logistic-regression\n",
            "  extra_warning_msg=_LOGISTIC_SOLVER_CONVERGENCE_MSG)\n",
            "/usr/local/lib/python3.6/dist-packages/sklearn/linear_model/_logistic.py:940: ConvergenceWarning: lbfgs failed to converge (status=1):\n",
            "STOP: TOTAL NO. of ITERATIONS REACHED LIMIT.\n",
            "\n",
            "Increase the number of iterations (max_iter) or scale the data as shown in:\n",
            "    https://scikit-learn.org/stable/modules/preprocessing.html\n",
            "Please also refer to the documentation for alternative solver options:\n",
            "    https://scikit-learn.org/stable/modules/linear_model.html#logistic-regression\n",
            "  extra_warning_msg=_LOGISTIC_SOLVER_CONVERGENCE_MSG)\n",
            "/usr/local/lib/python3.6/dist-packages/sklearn/linear_model/_logistic.py:940: ConvergenceWarning: lbfgs failed to converge (status=1):\n",
            "STOP: TOTAL NO. of ITERATIONS REACHED LIMIT.\n",
            "\n",
            "Increase the number of iterations (max_iter) or scale the data as shown in:\n",
            "    https://scikit-learn.org/stable/modules/preprocessing.html\n",
            "Please also refer to the documentation for alternative solver options:\n",
            "    https://scikit-learn.org/stable/modules/linear_model.html#logistic-regression\n",
            "  extra_warning_msg=_LOGISTIC_SOLVER_CONVERGENCE_MSG)\n",
            "/usr/local/lib/python3.6/dist-packages/sklearn/linear_model/_logistic.py:940: ConvergenceWarning: lbfgs failed to converge (status=1):\n",
            "STOP: TOTAL NO. of ITERATIONS REACHED LIMIT.\n",
            "\n",
            "Increase the number of iterations (max_iter) or scale the data as shown in:\n",
            "    https://scikit-learn.org/stable/modules/preprocessing.html\n",
            "Please also refer to the documentation for alternative solver options:\n",
            "    https://scikit-learn.org/stable/modules/linear_model.html#logistic-regression\n",
            "  extra_warning_msg=_LOGISTIC_SOLVER_CONVERGENCE_MSG)\n",
            "/usr/local/lib/python3.6/dist-packages/sklearn/linear_model/_logistic.py:940: ConvergenceWarning: lbfgs failed to converge (status=1):\n",
            "STOP: TOTAL NO. of ITERATIONS REACHED LIMIT.\n",
            "\n",
            "Increase the number of iterations (max_iter) or scale the data as shown in:\n",
            "    https://scikit-learn.org/stable/modules/preprocessing.html\n",
            "Please also refer to the documentation for alternative solver options:\n",
            "    https://scikit-learn.org/stable/modules/linear_model.html#logistic-regression\n",
            "  extra_warning_msg=_LOGISTIC_SOLVER_CONVERGENCE_MSG)\n",
            "/usr/local/lib/python3.6/dist-packages/sklearn/linear_model/_logistic.py:940: ConvergenceWarning: lbfgs failed to converge (status=1):\n",
            "STOP: TOTAL NO. of ITERATIONS REACHED LIMIT.\n",
            "\n",
            "Increase the number of iterations (max_iter) or scale the data as shown in:\n",
            "    https://scikit-learn.org/stable/modules/preprocessing.html\n",
            "Please also refer to the documentation for alternative solver options:\n",
            "    https://scikit-learn.org/stable/modules/linear_model.html#logistic-regression\n",
            "  extra_warning_msg=_LOGISTIC_SOLVER_CONVERGENCE_MSG)\n",
            "/usr/local/lib/python3.6/dist-packages/sklearn/linear_model/_logistic.py:940: ConvergenceWarning: lbfgs failed to converge (status=1):\n",
            "STOP: TOTAL NO. of ITERATIONS REACHED LIMIT.\n",
            "\n",
            "Increase the number of iterations (max_iter) or scale the data as shown in:\n",
            "    https://scikit-learn.org/stable/modules/preprocessing.html\n",
            "Please also refer to the documentation for alternative solver options:\n",
            "    https://scikit-learn.org/stable/modules/linear_model.html#logistic-regression\n",
            "  extra_warning_msg=_LOGISTIC_SOLVER_CONVERGENCE_MSG)\n",
            "/usr/local/lib/python3.6/dist-packages/sklearn/linear_model/_logistic.py:940: ConvergenceWarning: lbfgs failed to converge (status=1):\n",
            "STOP: TOTAL NO. of ITERATIONS REACHED LIMIT.\n",
            "\n",
            "Increase the number of iterations (max_iter) or scale the data as shown in:\n",
            "    https://scikit-learn.org/stable/modules/preprocessing.html\n",
            "Please also refer to the documentation for alternative solver options:\n",
            "    https://scikit-learn.org/stable/modules/linear_model.html#logistic-regression\n",
            "  extra_warning_msg=_LOGISTIC_SOLVER_CONVERGENCE_MSG)\n",
            "/usr/local/lib/python3.6/dist-packages/sklearn/linear_model/_logistic.py:940: ConvergenceWarning: lbfgs failed to converge (status=1):\n",
            "STOP: TOTAL NO. of ITERATIONS REACHED LIMIT.\n",
            "\n",
            "Increase the number of iterations (max_iter) or scale the data as shown in:\n",
            "    https://scikit-learn.org/stable/modules/preprocessing.html\n",
            "Please also refer to the documentation for alternative solver options:\n",
            "    https://scikit-learn.org/stable/modules/linear_model.html#logistic-regression\n",
            "  extra_warning_msg=_LOGISTIC_SOLVER_CONVERGENCE_MSG)\n",
            "/usr/local/lib/python3.6/dist-packages/sklearn/linear_model/_logistic.py:940: ConvergenceWarning: lbfgs failed to converge (status=1):\n",
            "STOP: TOTAL NO. of ITERATIONS REACHED LIMIT.\n",
            "\n",
            "Increase the number of iterations (max_iter) or scale the data as shown in:\n",
            "    https://scikit-learn.org/stable/modules/preprocessing.html\n",
            "Please also refer to the documentation for alternative solver options:\n",
            "    https://scikit-learn.org/stable/modules/linear_model.html#logistic-regression\n",
            "  extra_warning_msg=_LOGISTIC_SOLVER_CONVERGENCE_MSG)\n",
            "/usr/local/lib/python3.6/dist-packages/sklearn/linear_model/_logistic.py:940: ConvergenceWarning: lbfgs failed to converge (status=1):\n",
            "STOP: TOTAL NO. of ITERATIONS REACHED LIMIT.\n",
            "\n",
            "Increase the number of iterations (max_iter) or scale the data as shown in:\n",
            "    https://scikit-learn.org/stable/modules/preprocessing.html\n",
            "Please also refer to the documentation for alternative solver options:\n",
            "    https://scikit-learn.org/stable/modules/linear_model.html#logistic-regression\n",
            "  extra_warning_msg=_LOGISTIC_SOLVER_CONVERGENCE_MSG)\n",
            "/usr/local/lib/python3.6/dist-packages/sklearn/linear_model/_logistic.py:940: ConvergenceWarning: lbfgs failed to converge (status=1):\n",
            "STOP: TOTAL NO. of ITERATIONS REACHED LIMIT.\n",
            "\n",
            "Increase the number of iterations (max_iter) or scale the data as shown in:\n",
            "    https://scikit-learn.org/stable/modules/preprocessing.html\n",
            "Please also refer to the documentation for alternative solver options:\n",
            "    https://scikit-learn.org/stable/modules/linear_model.html#logistic-regression\n",
            "  extra_warning_msg=_LOGISTIC_SOLVER_CONVERGENCE_MSG)\n",
            "/usr/local/lib/python3.6/dist-packages/sklearn/linear_model/_logistic.py:940: ConvergenceWarning: lbfgs failed to converge (status=1):\n",
            "STOP: TOTAL NO. of ITERATIONS REACHED LIMIT.\n",
            "\n",
            "Increase the number of iterations (max_iter) or scale the data as shown in:\n",
            "    https://scikit-learn.org/stable/modules/preprocessing.html\n",
            "Please also refer to the documentation for alternative solver options:\n",
            "    https://scikit-learn.org/stable/modules/linear_model.html#logistic-regression\n",
            "  extra_warning_msg=_LOGISTIC_SOLVER_CONVERGENCE_MSG)\n",
            "/usr/local/lib/python3.6/dist-packages/sklearn/linear_model/_logistic.py:940: ConvergenceWarning: lbfgs failed to converge (status=1):\n",
            "STOP: TOTAL NO. of ITERATIONS REACHED LIMIT.\n",
            "\n",
            "Increase the number of iterations (max_iter) or scale the data as shown in:\n",
            "    https://scikit-learn.org/stable/modules/preprocessing.html\n",
            "Please also refer to the documentation for alternative solver options:\n",
            "    https://scikit-learn.org/stable/modules/linear_model.html#logistic-regression\n",
            "  extra_warning_msg=_LOGISTIC_SOLVER_CONVERGENCE_MSG)\n",
            "/usr/local/lib/python3.6/dist-packages/sklearn/linear_model/_logistic.py:940: ConvergenceWarning: lbfgs failed to converge (status=1):\n",
            "STOP: TOTAL NO. of ITERATIONS REACHED LIMIT.\n",
            "\n",
            "Increase the number of iterations (max_iter) or scale the data as shown in:\n",
            "    https://scikit-learn.org/stable/modules/preprocessing.html\n",
            "Please also refer to the documentation for alternative solver options:\n",
            "    https://scikit-learn.org/stable/modules/linear_model.html#logistic-regression\n",
            "  extra_warning_msg=_LOGISTIC_SOLVER_CONVERGENCE_MSG)\n",
            "/usr/local/lib/python3.6/dist-packages/sklearn/linear_model/_logistic.py:940: ConvergenceWarning: lbfgs failed to converge (status=1):\n",
            "STOP: TOTAL NO. of ITERATIONS REACHED LIMIT.\n",
            "\n",
            "Increase the number of iterations (max_iter) or scale the data as shown in:\n",
            "    https://scikit-learn.org/stable/modules/preprocessing.html\n",
            "Please also refer to the documentation for alternative solver options:\n",
            "    https://scikit-learn.org/stable/modules/linear_model.html#logistic-regression\n",
            "  extra_warning_msg=_LOGISTIC_SOLVER_CONVERGENCE_MSG)\n",
            "/usr/local/lib/python3.6/dist-packages/sklearn/linear_model/_logistic.py:940: ConvergenceWarning: lbfgs failed to converge (status=1):\n",
            "STOP: TOTAL NO. of ITERATIONS REACHED LIMIT.\n",
            "\n",
            "Increase the number of iterations (max_iter) or scale the data as shown in:\n",
            "    https://scikit-learn.org/stable/modules/preprocessing.html\n",
            "Please also refer to the documentation for alternative solver options:\n",
            "    https://scikit-learn.org/stable/modules/linear_model.html#logistic-regression\n",
            "  extra_warning_msg=_LOGISTIC_SOLVER_CONVERGENCE_MSG)\n",
            "/usr/local/lib/python3.6/dist-packages/sklearn/linear_model/_logistic.py:940: ConvergenceWarning: lbfgs failed to converge (status=1):\n",
            "STOP: TOTAL NO. of ITERATIONS REACHED LIMIT.\n",
            "\n",
            "Increase the number of iterations (max_iter) or scale the data as shown in:\n",
            "    https://scikit-learn.org/stable/modules/preprocessing.html\n",
            "Please also refer to the documentation for alternative solver options:\n",
            "    https://scikit-learn.org/stable/modules/linear_model.html#logistic-regression\n",
            "  extra_warning_msg=_LOGISTIC_SOLVER_CONVERGENCE_MSG)\n",
            "/usr/local/lib/python3.6/dist-packages/sklearn/linear_model/_logistic.py:940: ConvergenceWarning: lbfgs failed to converge (status=1):\n",
            "STOP: TOTAL NO. of ITERATIONS REACHED LIMIT.\n",
            "\n",
            "Increase the number of iterations (max_iter) or scale the data as shown in:\n",
            "    https://scikit-learn.org/stable/modules/preprocessing.html\n",
            "Please also refer to the documentation for alternative solver options:\n",
            "    https://scikit-learn.org/stable/modules/linear_model.html#logistic-regression\n",
            "  extra_warning_msg=_LOGISTIC_SOLVER_CONVERGENCE_MSG)\n",
            "/usr/local/lib/python3.6/dist-packages/sklearn/linear_model/_logistic.py:940: ConvergenceWarning: lbfgs failed to converge (status=1):\n",
            "STOP: TOTAL NO. of ITERATIONS REACHED LIMIT.\n",
            "\n",
            "Increase the number of iterations (max_iter) or scale the data as shown in:\n",
            "    https://scikit-learn.org/stable/modules/preprocessing.html\n",
            "Please also refer to the documentation for alternative solver options:\n",
            "    https://scikit-learn.org/stable/modules/linear_model.html#logistic-regression\n",
            "  extra_warning_msg=_LOGISTIC_SOLVER_CONVERGENCE_MSG)\n",
            "/usr/local/lib/python3.6/dist-packages/sklearn/linear_model/_logistic.py:940: ConvergenceWarning: lbfgs failed to converge (status=1):\n",
            "STOP: TOTAL NO. of ITERATIONS REACHED LIMIT.\n",
            "\n",
            "Increase the number of iterations (max_iter) or scale the data as shown in:\n",
            "    https://scikit-learn.org/stable/modules/preprocessing.html\n",
            "Please also refer to the documentation for alternative solver options:\n",
            "    https://scikit-learn.org/stable/modules/linear_model.html#logistic-regression\n",
            "  extra_warning_msg=_LOGISTIC_SOLVER_CONVERGENCE_MSG)\n",
            "/usr/local/lib/python3.6/dist-packages/sklearn/linear_model/_logistic.py:940: ConvergenceWarning: lbfgs failed to converge (status=1):\n",
            "STOP: TOTAL NO. of ITERATIONS REACHED LIMIT.\n",
            "\n",
            "Increase the number of iterations (max_iter) or scale the data as shown in:\n",
            "    https://scikit-learn.org/stable/modules/preprocessing.html\n",
            "Please also refer to the documentation for alternative solver options:\n",
            "    https://scikit-learn.org/stable/modules/linear_model.html#logistic-regression\n",
            "  extra_warning_msg=_LOGISTIC_SOLVER_CONVERGENCE_MSG)\n",
            "/usr/local/lib/python3.6/dist-packages/sklearn/linear_model/_logistic.py:940: ConvergenceWarning: lbfgs failed to converge (status=1):\n",
            "STOP: TOTAL NO. of ITERATIONS REACHED LIMIT.\n",
            "\n",
            "Increase the number of iterations (max_iter) or scale the data as shown in:\n",
            "    https://scikit-learn.org/stable/modules/preprocessing.html\n",
            "Please also refer to the documentation for alternative solver options:\n",
            "    https://scikit-learn.org/stable/modules/linear_model.html#logistic-regression\n",
            "  extra_warning_msg=_LOGISTIC_SOLVER_CONVERGENCE_MSG)\n",
            "/usr/local/lib/python3.6/dist-packages/sklearn/linear_model/_logistic.py:940: ConvergenceWarning: lbfgs failed to converge (status=1):\n",
            "STOP: TOTAL NO. of ITERATIONS REACHED LIMIT.\n",
            "\n",
            "Increase the number of iterations (max_iter) or scale the data as shown in:\n",
            "    https://scikit-learn.org/stable/modules/preprocessing.html\n",
            "Please also refer to the documentation for alternative solver options:\n",
            "    https://scikit-learn.org/stable/modules/linear_model.html#logistic-regression\n",
            "  extra_warning_msg=_LOGISTIC_SOLVER_CONVERGENCE_MSG)\n",
            "/usr/local/lib/python3.6/dist-packages/sklearn/linear_model/_logistic.py:940: ConvergenceWarning: lbfgs failed to converge (status=1):\n",
            "STOP: TOTAL NO. of ITERATIONS REACHED LIMIT.\n",
            "\n",
            "Increase the number of iterations (max_iter) or scale the data as shown in:\n",
            "    https://scikit-learn.org/stable/modules/preprocessing.html\n",
            "Please also refer to the documentation for alternative solver options:\n",
            "    https://scikit-learn.org/stable/modules/linear_model.html#logistic-regression\n",
            "  extra_warning_msg=_LOGISTIC_SOLVER_CONVERGENCE_MSG)\n",
            "/usr/local/lib/python3.6/dist-packages/sklearn/linear_model/_logistic.py:940: ConvergenceWarning: lbfgs failed to converge (status=1):\n",
            "STOP: TOTAL NO. of ITERATIONS REACHED LIMIT.\n",
            "\n",
            "Increase the number of iterations (max_iter) or scale the data as shown in:\n",
            "    https://scikit-learn.org/stable/modules/preprocessing.html\n",
            "Please also refer to the documentation for alternative solver options:\n",
            "    https://scikit-learn.org/stable/modules/linear_model.html#logistic-regression\n",
            "  extra_warning_msg=_LOGISTIC_SOLVER_CONVERGENCE_MSG)\n",
            "/usr/local/lib/python3.6/dist-packages/sklearn/linear_model/_logistic.py:940: ConvergenceWarning: lbfgs failed to converge (status=1):\n",
            "STOP: TOTAL NO. of ITERATIONS REACHED LIMIT.\n",
            "\n",
            "Increase the number of iterations (max_iter) or scale the data as shown in:\n",
            "    https://scikit-learn.org/stable/modules/preprocessing.html\n",
            "Please also refer to the documentation for alternative solver options:\n",
            "    https://scikit-learn.org/stable/modules/linear_model.html#logistic-regression\n",
            "  extra_warning_msg=_LOGISTIC_SOLVER_CONVERGENCE_MSG)\n",
            "/usr/local/lib/python3.6/dist-packages/sklearn/linear_model/_logistic.py:940: ConvergenceWarning: lbfgs failed to converge (status=1):\n",
            "STOP: TOTAL NO. of ITERATIONS REACHED LIMIT.\n",
            "\n",
            "Increase the number of iterations (max_iter) or scale the data as shown in:\n",
            "    https://scikit-learn.org/stable/modules/preprocessing.html\n",
            "Please also refer to the documentation for alternative solver options:\n",
            "    https://scikit-learn.org/stable/modules/linear_model.html#logistic-regression\n",
            "  extra_warning_msg=_LOGISTIC_SOLVER_CONVERGENCE_MSG)\n",
            "/usr/local/lib/python3.6/dist-packages/sklearn/linear_model/_logistic.py:940: ConvergenceWarning: lbfgs failed to converge (status=1):\n",
            "STOP: TOTAL NO. of ITERATIONS REACHED LIMIT.\n",
            "\n",
            "Increase the number of iterations (max_iter) or scale the data as shown in:\n",
            "    https://scikit-learn.org/stable/modules/preprocessing.html\n",
            "Please also refer to the documentation for alternative solver options:\n",
            "    https://scikit-learn.org/stable/modules/linear_model.html#logistic-regression\n",
            "  extra_warning_msg=_LOGISTIC_SOLVER_CONVERGENCE_MSG)\n",
            "/usr/local/lib/python3.6/dist-packages/sklearn/linear_model/_logistic.py:940: ConvergenceWarning: lbfgs failed to converge (status=1):\n",
            "STOP: TOTAL NO. of ITERATIONS REACHED LIMIT.\n",
            "\n",
            "Increase the number of iterations (max_iter) or scale the data as shown in:\n",
            "    https://scikit-learn.org/stable/modules/preprocessing.html\n",
            "Please also refer to the documentation for alternative solver options:\n",
            "    https://scikit-learn.org/stable/modules/linear_model.html#logistic-regression\n",
            "  extra_warning_msg=_LOGISTIC_SOLVER_CONVERGENCE_MSG)\n",
            "/usr/local/lib/python3.6/dist-packages/sklearn/linear_model/_logistic.py:940: ConvergenceWarning: lbfgs failed to converge (status=1):\n",
            "STOP: TOTAL NO. of ITERATIONS REACHED LIMIT.\n",
            "\n",
            "Increase the number of iterations (max_iter) or scale the data as shown in:\n",
            "    https://scikit-learn.org/stable/modules/preprocessing.html\n",
            "Please also refer to the documentation for alternative solver options:\n",
            "    https://scikit-learn.org/stable/modules/linear_model.html#logistic-regression\n",
            "  extra_warning_msg=_LOGISTIC_SOLVER_CONVERGENCE_MSG)\n",
            "/usr/local/lib/python3.6/dist-packages/sklearn/linear_model/_logistic.py:940: ConvergenceWarning: lbfgs failed to converge (status=1):\n",
            "STOP: TOTAL NO. of ITERATIONS REACHED LIMIT.\n",
            "\n",
            "Increase the number of iterations (max_iter) or scale the data as shown in:\n",
            "    https://scikit-learn.org/stable/modules/preprocessing.html\n",
            "Please also refer to the documentation for alternative solver options:\n",
            "    https://scikit-learn.org/stable/modules/linear_model.html#logistic-regression\n",
            "  extra_warning_msg=_LOGISTIC_SOLVER_CONVERGENCE_MSG)\n",
            "/usr/local/lib/python3.6/dist-packages/sklearn/linear_model/_logistic.py:940: ConvergenceWarning: lbfgs failed to converge (status=1):\n",
            "STOP: TOTAL NO. of ITERATIONS REACHED LIMIT.\n",
            "\n",
            "Increase the number of iterations (max_iter) or scale the data as shown in:\n",
            "    https://scikit-learn.org/stable/modules/preprocessing.html\n",
            "Please also refer to the documentation for alternative solver options:\n",
            "    https://scikit-learn.org/stable/modules/linear_model.html#logistic-regression\n",
            "  extra_warning_msg=_LOGISTIC_SOLVER_CONVERGENCE_MSG)\n",
            "/usr/local/lib/python3.6/dist-packages/sklearn/linear_model/_logistic.py:940: ConvergenceWarning: lbfgs failed to converge (status=1):\n",
            "STOP: TOTAL NO. of ITERATIONS REACHED LIMIT.\n",
            "\n",
            "Increase the number of iterations (max_iter) or scale the data as shown in:\n",
            "    https://scikit-learn.org/stable/modules/preprocessing.html\n",
            "Please also refer to the documentation for alternative solver options:\n",
            "    https://scikit-learn.org/stable/modules/linear_model.html#logistic-regression\n",
            "  extra_warning_msg=_LOGISTIC_SOLVER_CONVERGENCE_MSG)\n",
            "/usr/local/lib/python3.6/dist-packages/sklearn/linear_model/_logistic.py:940: ConvergenceWarning: lbfgs failed to converge (status=1):\n",
            "STOP: TOTAL NO. of ITERATIONS REACHED LIMIT.\n",
            "\n",
            "Increase the number of iterations (max_iter) or scale the data as shown in:\n",
            "    https://scikit-learn.org/stable/modules/preprocessing.html\n",
            "Please also refer to the documentation for alternative solver options:\n",
            "    https://scikit-learn.org/stable/modules/linear_model.html#logistic-regression\n",
            "  extra_warning_msg=_LOGISTIC_SOLVER_CONVERGENCE_MSG)\n",
            "/usr/local/lib/python3.6/dist-packages/sklearn/linear_model/_logistic.py:940: ConvergenceWarning: lbfgs failed to converge (status=1):\n",
            "STOP: TOTAL NO. of ITERATIONS REACHED LIMIT.\n",
            "\n",
            "Increase the number of iterations (max_iter) or scale the data as shown in:\n",
            "    https://scikit-learn.org/stable/modules/preprocessing.html\n",
            "Please also refer to the documentation for alternative solver options:\n",
            "    https://scikit-learn.org/stable/modules/linear_model.html#logistic-regression\n",
            "  extra_warning_msg=_LOGISTIC_SOLVER_CONVERGENCE_MSG)\n",
            "/usr/local/lib/python3.6/dist-packages/sklearn/linear_model/_logistic.py:940: ConvergenceWarning: lbfgs failed to converge (status=1):\n",
            "STOP: TOTAL NO. of ITERATIONS REACHED LIMIT.\n",
            "\n",
            "Increase the number of iterations (max_iter) or scale the data as shown in:\n",
            "    https://scikit-learn.org/stable/modules/preprocessing.html\n",
            "Please also refer to the documentation for alternative solver options:\n",
            "    https://scikit-learn.org/stable/modules/linear_model.html#logistic-regression\n",
            "  extra_warning_msg=_LOGISTIC_SOLVER_CONVERGENCE_MSG)\n",
            "/usr/local/lib/python3.6/dist-packages/sklearn/linear_model/_logistic.py:940: ConvergenceWarning: lbfgs failed to converge (status=1):\n",
            "STOP: TOTAL NO. of ITERATIONS REACHED LIMIT.\n",
            "\n",
            "Increase the number of iterations (max_iter) or scale the data as shown in:\n",
            "    https://scikit-learn.org/stable/modules/preprocessing.html\n",
            "Please also refer to the documentation for alternative solver options:\n",
            "    https://scikit-learn.org/stable/modules/linear_model.html#logistic-regression\n",
            "  extra_warning_msg=_LOGISTIC_SOLVER_CONVERGENCE_MSG)\n",
            "/usr/local/lib/python3.6/dist-packages/sklearn/linear_model/_logistic.py:940: ConvergenceWarning: lbfgs failed to converge (status=1):\n",
            "STOP: TOTAL NO. of ITERATIONS REACHED LIMIT.\n",
            "\n",
            "Increase the number of iterations (max_iter) or scale the data as shown in:\n",
            "    https://scikit-learn.org/stable/modules/preprocessing.html\n",
            "Please also refer to the documentation for alternative solver options:\n",
            "    https://scikit-learn.org/stable/modules/linear_model.html#logistic-regression\n",
            "  extra_warning_msg=_LOGISTIC_SOLVER_CONVERGENCE_MSG)\n",
            "/usr/local/lib/python3.6/dist-packages/sklearn/linear_model/_logistic.py:940: ConvergenceWarning: lbfgs failed to converge (status=1):\n",
            "STOP: TOTAL NO. of ITERATIONS REACHED LIMIT.\n",
            "\n",
            "Increase the number of iterations (max_iter) or scale the data as shown in:\n",
            "    https://scikit-learn.org/stable/modules/preprocessing.html\n",
            "Please also refer to the documentation for alternative solver options:\n",
            "    https://scikit-learn.org/stable/modules/linear_model.html#logistic-regression\n",
            "  extra_warning_msg=_LOGISTIC_SOLVER_CONVERGENCE_MSG)\n",
            "/usr/local/lib/python3.6/dist-packages/sklearn/linear_model/_logistic.py:940: ConvergenceWarning: lbfgs failed to converge (status=1):\n",
            "STOP: TOTAL NO. of ITERATIONS REACHED LIMIT.\n",
            "\n",
            "Increase the number of iterations (max_iter) or scale the data as shown in:\n",
            "    https://scikit-learn.org/stable/modules/preprocessing.html\n",
            "Please also refer to the documentation for alternative solver options:\n",
            "    https://scikit-learn.org/stable/modules/linear_model.html#logistic-regression\n",
            "  extra_warning_msg=_LOGISTIC_SOLVER_CONVERGENCE_MSG)\n",
            "/usr/local/lib/python3.6/dist-packages/sklearn/linear_model/_logistic.py:940: ConvergenceWarning: lbfgs failed to converge (status=1):\n",
            "STOP: TOTAL NO. of ITERATIONS REACHED LIMIT.\n",
            "\n",
            "Increase the number of iterations (max_iter) or scale the data as shown in:\n",
            "    https://scikit-learn.org/stable/modules/preprocessing.html\n",
            "Please also refer to the documentation for alternative solver options:\n",
            "    https://scikit-learn.org/stable/modules/linear_model.html#logistic-regression\n",
            "  extra_warning_msg=_LOGISTIC_SOLVER_CONVERGENCE_MSG)\n",
            "/usr/local/lib/python3.6/dist-packages/sklearn/linear_model/_logistic.py:940: ConvergenceWarning: lbfgs failed to converge (status=1):\n",
            "STOP: TOTAL NO. of ITERATIONS REACHED LIMIT.\n",
            "\n",
            "Increase the number of iterations (max_iter) or scale the data as shown in:\n",
            "    https://scikit-learn.org/stable/modules/preprocessing.html\n",
            "Please also refer to the documentation for alternative solver options:\n",
            "    https://scikit-learn.org/stable/modules/linear_model.html#logistic-regression\n",
            "  extra_warning_msg=_LOGISTIC_SOLVER_CONVERGENCE_MSG)\n",
            "/usr/local/lib/python3.6/dist-packages/sklearn/linear_model/_logistic.py:940: ConvergenceWarning: lbfgs failed to converge (status=1):\n",
            "STOP: TOTAL NO. of ITERATIONS REACHED LIMIT.\n",
            "\n",
            "Increase the number of iterations (max_iter) or scale the data as shown in:\n",
            "    https://scikit-learn.org/stable/modules/preprocessing.html\n",
            "Please also refer to the documentation for alternative solver options:\n",
            "    https://scikit-learn.org/stable/modules/linear_model.html#logistic-regression\n",
            "  extra_warning_msg=_LOGISTIC_SOLVER_CONVERGENCE_MSG)\n",
            "/usr/local/lib/python3.6/dist-packages/sklearn/linear_model/_logistic.py:940: ConvergenceWarning: lbfgs failed to converge (status=1):\n",
            "STOP: TOTAL NO. of ITERATIONS REACHED LIMIT.\n",
            "\n",
            "Increase the number of iterations (max_iter) or scale the data as shown in:\n",
            "    https://scikit-learn.org/stable/modules/preprocessing.html\n",
            "Please also refer to the documentation for alternative solver options:\n",
            "    https://scikit-learn.org/stable/modules/linear_model.html#logistic-regression\n",
            "  extra_warning_msg=_LOGISTIC_SOLVER_CONVERGENCE_MSG)\n",
            "/usr/local/lib/python3.6/dist-packages/sklearn/linear_model/_logistic.py:940: ConvergenceWarning: lbfgs failed to converge (status=1):\n",
            "STOP: TOTAL NO. of ITERATIONS REACHED LIMIT.\n",
            "\n",
            "Increase the number of iterations (max_iter) or scale the data as shown in:\n",
            "    https://scikit-learn.org/stable/modules/preprocessing.html\n",
            "Please also refer to the documentation for alternative solver options:\n",
            "    https://scikit-learn.org/stable/modules/linear_model.html#logistic-regression\n",
            "  extra_warning_msg=_LOGISTIC_SOLVER_CONVERGENCE_MSG)\n",
            "/usr/local/lib/python3.6/dist-packages/sklearn/linear_model/_logistic.py:940: ConvergenceWarning: lbfgs failed to converge (status=1):\n",
            "STOP: TOTAL NO. of ITERATIONS REACHED LIMIT.\n",
            "\n",
            "Increase the number of iterations (max_iter) or scale the data as shown in:\n",
            "    https://scikit-learn.org/stable/modules/preprocessing.html\n",
            "Please also refer to the documentation for alternative solver options:\n",
            "    https://scikit-learn.org/stable/modules/linear_model.html#logistic-regression\n",
            "  extra_warning_msg=_LOGISTIC_SOLVER_CONVERGENCE_MSG)\n"
          ],
          "name": "stderr"
        }
      ]
    },
    {
      "cell_type": "markdown",
      "metadata": {
        "id": "bwLtBBHIeHiM",
        "colab_type": "text"
      },
      "source": [
        "Now you can create predictions for the data. You will need two types of predictions: labels and scores."
      ]
    },
    {
      "cell_type": "code",
      "metadata": {
        "id": "doTggIZoeHiN",
        "colab_type": "code",
        "colab": {}
      },
      "source": [
        "y_val_predicted_labels_mybag = classifier_mybag.predict(X_val_mybag)\n",
        "y_val_predicted_scores_mybag = classifier_mybag.decision_function(X_val_mybag)\n",
        "\n",
        "y_val_predicted_labels_tfidf = classifier_tfidf.predict(X_val_tfidf)\n",
        "y_val_predicted_scores_tfidf = classifier_tfidf.decision_function(X_val_tfidf)"
      ],
      "execution_count": 0,
      "outputs": []
    },
    {
      "cell_type": "markdown",
      "metadata": {
        "id": "CCP8JJGqeHiU",
        "colab_type": "text"
      },
      "source": [
        "Now take a look at how classifier, which uses TF-IDF, works for a few examples:"
      ]
    },
    {
      "cell_type": "code",
      "metadata": {
        "id": "tfYwor3XeHiV",
        "colab_type": "code",
        "outputId": "dbb503c4-5848-4ee7-9d39-fa156d718014",
        "colab": {
          "base_uri": "https://localhost:8080/",
          "height": 272
        }
      },
      "source": [
        "y_val_pred_inversed = mlb.inverse_transform(y_val_predicted_labels_tfidf)\n",
        "y_val_inversed = mlb.inverse_transform(y_val)\n",
        "for i in range(3):\n",
        "    print('Title:\\t{}\\nTrue labels:\\t{}\\nPredicted labels:\\t{}\\n\\n'.format(\n",
        "        X_val[i],\n",
        "        ','.join(y_val_inversed[i]),\n",
        "        ','.join(y_val_pred_inversed[i])\n",
        "    ))"
      ],
      "execution_count": 0,
      "outputs": [
        {
          "output_type": "stream",
          "text": [
            "Title:\todbc_exec always fail\n",
            "True labels:\tphp,sql\n",
            "Predicted labels:\t\n",
            "\n",
            "\n",
            "Title:\taccess base classes variable within child class\n",
            "True labels:\tjavascript\n",
            "Predicted labels:\t\n",
            "\n",
            "\n",
            "Title:\tcontenttype application json required rails\n",
            "True labels:\truby,ruby-on-rails\n",
            "Predicted labels:\truby-on-rails\n",
            "\n",
            "\n"
          ],
          "name": "stdout"
        }
      ]
    },
    {
      "cell_type": "markdown",
      "metadata": {
        "id": "KxlGVl_TeHiZ",
        "colab_type": "text"
      },
      "source": [
        "Now, we would need to compare the results of different predictions, e.g. to see whether TF-IDF transformation helps or to try different regularization techniques in logistic regression. For all these experiments, we need to setup evaluation procedure. "
      ]
    },
    {
      "cell_type": "markdown",
      "metadata": {
        "id": "ZQG-ykXVeHiZ",
        "colab_type": "text"
      },
      "source": [
        "### Evaluation\n",
        "\n",
        "To evaluate the results we will use several classification metrics:\n",
        " - [Accuracy](http://scikit-learn.org/stable/modules/generated/sklearn.metrics.accuracy_score.html)\n",
        " - [F1-score](http://scikit-learn.org/stable/modules/generated/sklearn.metrics.f1_score.html)\n",
        " - [Area under ROC-curve](http://scikit-learn.org/stable/modules/generated/sklearn.metrics.roc_auc_score.html)\n",
        " - [Area under precision-recall curve](http://scikit-learn.org/stable/modules/generated/sklearn.metrics.average_precision_score.html#sklearn.metrics.average_precision_score) \n",
        " \n",
        "Make sure you are familiar with all of them. How would you expect the things work for the multi-label scenario? Read about micro/macro/weighted averaging following the sklearn links provided above."
      ]
    },
    {
      "cell_type": "code",
      "metadata": {
        "id": "VCjMkxP-eHiZ",
        "colab_type": "code",
        "colab": {}
      },
      "source": [
        "from sklearn.metrics import accuracy_score\n",
        "from sklearn.metrics import f1_score\n",
        "from sklearn.metrics import roc_auc_score \n",
        "from sklearn.metrics import average_precision_score\n",
        "from sklearn.metrics import recall_score"
      ],
      "execution_count": 0,
      "outputs": []
    },
    {
      "cell_type": "markdown",
      "metadata": {
        "id": "PdGhHjmBeHie",
        "colab_type": "text"
      },
      "source": [
        "Implement the function *print_evaluation_scores* which calculates and prints to stdout:\n",
        " - *accuracy*\n",
        " - *F1-score macro/micro/weighted*\n",
        " - *Precision macro/micro/weighted*"
      ]
    },
    {
      "cell_type": "code",
      "metadata": {
        "id": "8_6Cfk3OeHif",
        "colab_type": "code",
        "colab": {}
      },
      "source": [
        "def print_evaluation_scores(y_val, predicted):\n",
        "    \n",
        "    accuracy=accuracy_score(y_val, predicted)\n",
        "    f1_score_=f1_score(y_val, predicted, average='weighted')\n",
        "    precision_=average_precision_score(y_val, predicted, average='weighted')\n",
        "    print(accuracy,f1_score_,precision_)\n"
      ],
      "execution_count": 0,
      "outputs": []
    },
    {
      "cell_type": "code",
      "metadata": {
        "id": "3S4Z6HJieHii",
        "colab_type": "code",
        "outputId": "c407ce1b-183a-46e3-f19e-cf1eeae60f83",
        "colab": {
          "base_uri": "https://localhost:8080/",
          "height": 85
        }
      },
      "source": [
        "print('Bag-of-words')\n",
        "print_evaluation_scores(y_val, y_val_predicted_labels_mybag)\n",
        "print('Tfidf')\n",
        "print_evaluation_scores(y_val, y_val_predicted_labels_tfidf)"
      ],
      "execution_count": 0,
      "outputs": [
        {
          "output_type": "stream",
          "text": [
            "Bag-of-words\n",
            "0.3523 0.6538308766379545 0.5037287767366591\n",
            "Tfidf\n",
            "0.3633 0.6542905016400742 0.5105652208479566\n"
          ],
          "name": "stdout"
        }
      ]
    },
    {
      "cell_type": "markdown",
      "metadata": {
        "id": "nG8qe3eWeHio",
        "colab_type": "text"
      },
      "source": [
        "You might also want to plot some generalization of the [ROC curve](http://scikit-learn.org/stable/modules/model_evaluation.html#receiver-operating-characteristic-roc) for the case of multi-label classification. Provided function *roc_auc* can make it for you. The input parameters of this function are:\n",
        " - true labels\n",
        " - decision functions scores\n",
        " - number of classes"
      ]
    },
    {
      "cell_type": "code",
      "metadata": {
        "id": "xVzvUvFneHio",
        "colab_type": "code",
        "colab": {}
      },
      "source": [
        "from metrics import roc_auc\n",
        "%matplotlib inline"
      ],
      "execution_count": 0,
      "outputs": []
    },
    {
      "cell_type": "code",
      "metadata": {
        "id": "JdMHv1UieHir",
        "colab_type": "code",
        "outputId": "d9f6e28a-6282-45a5-d0ab-e2941f59f405",
        "colab": {
          "base_uri": "https://localhost:8080/",
          "height": 295
        }
      },
      "source": [
        "n_classes = len(tags_counts)\n",
        "roc_auc(y_val, y_val_predicted_scores_mybag, n_classes)"
      ],
      "execution_count": 0,
      "outputs": [
        {
          "output_type": "display_data",
          "data": {
            "image/png": "[encoded data removed]",
            "text/plain": [
              "<Figure size 432x288 with 1 Axes>"
            ]
          },
          "metadata": {
            "tags": []
          }
        }
      ]
    },
    {
      "cell_type": "code",
      "metadata": {
        "id": "-Q0e8rsaeHiu",
        "colab_type": "code",
        "outputId": "3df7dc46-964d-4e68-cb5b-441005071402",
        "colab": {
          "base_uri": "https://localhost:8080/",
          "height": 295
        }
      },
      "source": [
        "n_classes = len(tags_counts)\n",
        "roc_auc(y_val, y_val_predicted_scores_tfidf, n_classes)"
      ],
      "execution_count": 0,
      "outputs": [
        {
          "output_type": "display_data",
          "data": {
            "image/png": "[encoded data removed]",
            "text/plain": [
              "<Figure size 432x288 with 1 Axes>"
            ]
          },
          "metadata": {
            "tags": []
          }
        }
      ]
    },
    {
      "cell_type": "markdown",
      "metadata": {
        "id": "jn6Oobw6eHiy",
        "colab_type": "text"
      },
      "source": [
        "**Task 4 (MultilabelClassification).** Once we have the evaluation set up, we suggest that you experiment a bit with training your classifiers. We will use *F1-score weighted* as an evaluation metric. Our recommendation:\n",
        "- compare the quality of the bag-of-words and TF-IDF approaches and chose one of them.\n",
        "- for the chosen one, try *L1* and *L2*-regularization techniques in Logistic Regression with different coefficients (e.g. C equal to 0.1, 1, 10, 100).\n",
        "\n",
        "You also could try other improvements of the preprocessing / model, if you want. "
      ]
    },
    {
      "cell_type": "code",
      "metadata": {
        "id": "tfAZhDMjeHiy",
        "colab_type": "code",
        "colab": {}
      },
      "source": [
        "######################################\n",
        "######### YOUR CODE HERE #############\n",
        "######################################"
      ],
      "execution_count": 0,
      "outputs": []
    },
    {
      "cell_type": "markdown",
      "metadata": {
        "id": "-Xx1suuoeHi4",
        "colab_type": "text"
      },
      "source": [
        "When you are happy with the quality, create predictions for *test* set, which you will submit to Coursera."
      ]
    },
    {
      "cell_type": "code",
      "metadata": {
        "id": "-YPjQYR4eHi4",
        "colab_type": "code",
        "outputId": "1335469e-2653-4406-864f-0ec975005354",
        "colab": {
          "base_uri": "https://localhost:8080/",
          "height": 153
        }
      },
      "source": [
        "test_predictions = classifier_tfidf.predict(X_test_tfidf)\n",
        "test_pred_inversed = mlb.inverse_transform(test_predictions)\n",
        "\n",
        "test_predictions_for_submission = '\\n'.join('%i\\t%s' % (i, ','.join(row)) for i, row in enumerate(test_pred_inversed))\n",
        "grader.submit_tag('MultilabelClassification', test_predictions_for_submission)"
      ],
      "execution_count": 0,
      "outputs": [
        {
          "output_type": "stream",
          "text": [
            "Current answer for task MultilabelClassification is:\n",
            " 0\tmysql,php\n",
            "1\thtml,javascript,jquery\n",
            "2\tpython\n",
            "3\tjavascript,jquery\n",
            "4\tandroid,java\n",
            "5\tparsing,php,xml\n",
            "6...\n"
          ],
          "name": "stdout"
        }
      ]
    },
    {
      "cell_type": "markdown",
      "metadata": {
        "id": "NlGq9Ey5eHi7",
        "colab_type": "text"
      },
      "source": [
        "### Analysis of the most important features"
      ]
    },
    {
      "cell_type": "markdown",
      "metadata": {
        "id": "qpoEHOf5eHi8",
        "colab_type": "text"
      },
      "source": [
        "Finally, it is usually a good idea to look at the features (words or n-grams) that are used with the largest weigths in your logistic regression model."
      ]
    },
    {
      "cell_type": "markdown",
      "metadata": {
        "id": "wRZuMrMxeHi8",
        "colab_type": "text"
      },
      "source": [
        "Implement the function *print_words_for_tag* to find them. Get back to sklearn documentation on [OneVsRestClassifier](http://scikit-learn.org/stable/modules/generated/sklearn.multiclass.OneVsRestClassifier.html) and [LogisticRegression](http://scikit-learn.org/stable/modules/generated/sklearn.linear_model.LogisticRegression.html) if needed."
      ]
    },
    {
      "cell_type": "code",
      "metadata": {
        "id": "O8h8kPsqeHi9",
        "colab_type": "code",
        "colab": {}
      },
      "source": [
        "def print_words_for_tag(classifier, tag, tags_classes, index_to_words, all_words):\n",
        "    \"\"\"\n",
        "        classifier: trained classifier\n",
        "        tag: particular tag\n",
        "        tags_classes: a list of classes names from MultiLabelBinarizer\n",
        "        index_to_words: index_to_words transformation\n",
        "        all_words: all words in the dictionary\n",
        "        \n",
        "        return nothing, just print top 5 positive and top 5 negative words for current tag\n",
        "    \"\"\"\n",
        "    print('Tag:\\t{}'.format(tag))\n",
        "    \n",
        "    # Extract an estimator from the classifier for the given tag.\n",
        "    # Extract feature coefficients from the estimator. \n",
        "    \n",
        "    est = classifier.estimators_[tags_classes.index(tag)]\n",
        "\n",
        "    top_positive_words = [index_to_words[index] for index in est.coef_.argsort().tolist()[0][-5:]] # top-5 words sorted by the coefficiens.\n",
        "    top_negative_words = [index_to_words[index] for index in est.coef_.argsort().tolist()[0][:5]] # bottom-5 words  sorted by the coefficients.\n",
        "    print('Top positive words:\\t{}'.format(', '.join(top_positive_words)))\n",
        "    print('Top negative words:\\t{}\\n'.format(', '.join(top_negative_words)))"
      ],
      "execution_count": 0,
      "outputs": []
    },
    {
      "cell_type": "code",
      "metadata": {
        "id": "W43c2npueHi_",
        "colab_type": "code",
        "outputId": "1849d2ac-0d4c-43f3-f72e-e34d14694103",
        "colab": {
          "base_uri": "https://localhost:8080/",
          "height": 221
        }
      },
      "source": [
        "print_words_for_tag(classifier_tfidf, 'c', mlb.classes, tfidf_reversed_vocab, ALL_WORDS)\n",
        "print_words_for_tag(classifier_tfidf, 'c++', mlb.classes, tfidf_reversed_vocab, ALL_WORDS)\n",
        "print_words_for_tag(classifier_tfidf, 'linux', mlb.classes, tfidf_reversed_vocab, ALL_WORDS)"
      ],
      "execution_count": 0,
      "outputs": [
        {
          "output_type": "stream",
          "text": [
            "Tag:\tc\n",
            "Top positive words:\tprintf, fscanf, scanf, malloc, c\n",
            "Top negative words:\tphp, java, python, javascript, c#\n",
            "\n",
            "Tag:\tc++\n",
            "Top positive words:\tstdstring, mfc, boost, qt, c++\n",
            "Top negative words:\tjava, php, python, javascript, c#\n",
            "\n",
            "Tag:\tlinux\n",
            "Top positive words:\tdlopen, kernel space, system call, killed, linux\n",
            "Top negative words:\tjavascript, c#, aspnet, codeigniter, nokogiri\n",
            "\n"
          ],
          "name": "stdout"
        }
      ]
    },
    {
      "cell_type": "markdown",
      "metadata": {
        "id": "v3yw8cHgeHjB",
        "colab_type": "text"
      },
      "source": [
        "### Authorization & Submission\n",
        "To submit assignment parts to Cousera platform, please, enter your e-mail and token into variables below. You can generate token on this programming assignment page. <b>Note:</b> Token expires 30 minutes after generation."
      ]
    },
    {
      "cell_type": "code",
      "metadata": {
        "id": "1FNeUBWheHjC",
        "colab_type": "code",
        "outputId": "242726ed-b1d8-4e03-a239-0f8f9dee312d",
        "colab": {
          "base_uri": "https://localhost:8080/",
          "height": 340
        }
      },
      "source": [
        "grader.status()"
      ],
      "execution_count": 0,
      "outputs": [
        {
          "output_type": "stream",
          "text": [
            "You want to submit these parts:\n",
            "Task TextPrepare:\n",
            " sqlite php readonly\n",
            "creating multiple textboxes dynamically\n",
            "self one prefer javascript\n",
            "save php date...\n",
            "Task WordsTagsCount:\n",
            " javascript,c#,java\n",
            "using,php,java...\n",
            "Task BagOfWords:\n",
            " 7...\n",
            "Task MultilabelClassification:\n",
            " 0\tmysql,php\n",
            "1\thtml,javascript,jquery\n",
            "2\tpython\n",
            "3\tjavascript,jquery\n",
            "4\tandroid,java\n",
            "5\tparsing,php,xml\n",
            "6...\n"
          ],
          "name": "stdout"
        }
      ]
    },
    {
      "cell_type": "code",
      "metadata": {
        "id": "Ih_ajgpSeHjG",
        "colab_type": "code",
        "outputId": "0866cba2-2941-48c6-d595-97b3b3f88e02",
        "colab": {
          "base_uri": "https://localhost:8080/",
          "height": 340
        }
      },
      "source": [
        "STUDENT_EMAIL = \"nowshad21aug@gmail.com\" # EMAIL \n",
        "STUDENT_TOKEN = \"c4uQgfxxuhFUAqC0\" # TOKEN \n",
        "grader.status()"
      ],
      "execution_count": 0,
      "outputs": [
        {
          "output_type": "stream",
          "text": [
            "You want to submit these parts:\n",
            "Task TextPrepare:\n",
            " sqlite php readonly\n",
            "creating multiple textboxes dynamically\n",
            "self one prefer javascript\n",
            "save php date...\n",
            "Task WordsTagsCount:\n",
            " javascript,c#,java\n",
            "using,php,java...\n",
            "Task BagOfWords:\n",
            " 7...\n",
            "Task MultilabelClassification:\n",
            " 0\tmysql,php\n",
            "1\thtml,javascript,jquery\n",
            "2\tpython\n",
            "3\tjavascript,jquery\n",
            "4\tandroid,java\n",
            "5\tparsing,php,xml\n",
            "6...\n"
          ],
          "name": "stdout"
        }
      ]
    },
    {
      "cell_type": "markdown",
      "metadata": {
        "id": "ZODti6C0eHjK",
        "colab_type": "text"
      },
      "source": [
        "If you want to submit these answers, run cell below"
      ]
    },
    {
      "cell_type": "code",
      "metadata": {
        "id": "BjDP4G7seHjK",
        "colab_type": "code",
        "outputId": "b89e0319-c88f-41c7-8b6c-5140a4c11afb",
        "colab": {
          "base_uri": "https://localhost:8080/",
          "height": 34
        }
      },
      "source": [
        "grader.submit(STUDENT_EMAIL, STUDENT_TOKEN)"
      ],
      "execution_count": 0,
      "outputs": [
        {
          "output_type": "stream",
          "text": [
            "Submitted to Coursera platform. See results on assignment page!\n"
          ],
          "name": "stdout"
        }
      ]
    },
    {
      "cell_type": "code",
      "metadata": {
        "id": "L-AP_JbFDfdJ",
        "colab_type": "code",
        "colab": {}
      },
      "source": [
        ""
      ],
      "execution_count": 0,
      "outputs": []
    }
  ]
}